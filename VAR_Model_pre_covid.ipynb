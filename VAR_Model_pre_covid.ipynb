{
 "cells": [
  {
   "cell_type": "code",
   "execution_count": 2,
   "metadata": {},
   "outputs": [],
   "source": [
    "import pandas as pd\n",
    "import matplotlib.pyplot as plt\n",
    "import numpy as np\n",
    "\n",
    "\n",
    "import functions as main\n",
    "\n",
    "import warnings\n",
    "warnings.filterwarnings('ignore')"
   ]
  },
  {
   "cell_type": "markdown",
   "metadata": {},
   "source": [
    "# Load Full Clean Df"
   ]
  },
  {
   "cell_type": "code",
   "execution_count": 3,
   "metadata": {},
   "outputs": [],
   "source": [
    "opencsv = pd.read_csv(r\"D:\\OneDrive - Instituto Politecnico de Castelo Branco\\002_Learning\\001_Pos_Graduacao\\Ciclo 5 - Projeto Final\\ProjetoFinal-PosGraduacaoEngenhariaFinanceira\\data_df_pre_covid_transformed.csv\", sep=\",\")\n",
    "opencsv.set_index('Date', inplace=True)\n",
    "opencsv.index = pd.to_datetime(opencsv.index)\n",
    "opencsv = opencsv.astype(float)"
   ]
  },
  {
   "cell_type": "code",
   "execution_count": 7,
   "metadata": {},
   "outputs": [
    {
     "data": {
      "text/html": [
       "<div>\n",
       "<style scoped>\n",
       "    .dataframe tbody tr th:only-of-type {\n",
       "        vertical-align: middle;\n",
       "    }\n",
       "\n",
       "    .dataframe tbody tr th {\n",
       "        vertical-align: top;\n",
       "    }\n",
       "\n",
       "    .dataframe thead th {\n",
       "        text-align: right;\n",
       "    }\n",
       "</style>\n",
       "<table border=\"1\" class=\"dataframe\">\n",
       "  <thead>\n",
       "    <tr style=\"text-align: right;\">\n",
       "      <th></th>\n",
       "      <th>JPY_EUR</th>\n",
       "      <th>BTC_PageViews</th>\n",
       "      <th>Crypto_PageViews</th>\n",
       "      <th>BTC_Supply</th>\n",
       "      <th>BTC_USD</th>\n",
       "      <th>Mining_Difficulty</th>\n",
       "      <th>USD_OnChain_Volume</th>\n",
       "      <th>M2_Liquidity</th>\n",
       "      <th>EUR_USD</th>\n",
       "      <th>JPY_USD</th>\n",
       "      <th>...</th>\n",
       "      <th>QQQ</th>\n",
       "      <th>EXSA</th>\n",
       "      <th>JPXN</th>\n",
       "      <th>IWDA</th>\n",
       "      <th>GLD</th>\n",
       "      <th>SLV</th>\n",
       "      <th>TLT</th>\n",
       "      <th>BND</th>\n",
       "      <th>Nr_Transactions</th>\n",
       "      <th>Nr_Addresses</th>\n",
       "    </tr>\n",
       "    <tr>\n",
       "      <th>Date</th>\n",
       "      <th></th>\n",
       "      <th></th>\n",
       "      <th></th>\n",
       "      <th></th>\n",
       "      <th></th>\n",
       "      <th></th>\n",
       "      <th></th>\n",
       "      <th></th>\n",
       "      <th></th>\n",
       "      <th></th>\n",
       "      <th></th>\n",
       "      <th></th>\n",
       "      <th></th>\n",
       "      <th></th>\n",
       "      <th></th>\n",
       "      <th></th>\n",
       "      <th></th>\n",
       "      <th></th>\n",
       "      <th></th>\n",
       "      <th></th>\n",
       "      <th></th>\n",
       "    </tr>\n",
       "  </thead>\n",
       "  <tbody>\n",
       "    <tr>\n",
       "      <th>2010-09-24</th>\n",
       "      <td>0.00888</td>\n",
       "      <td>NaN</td>\n",
       "      <td>NaN</td>\n",
       "      <td>4091750.0</td>\n",
       "      <td>1.165714e-07</td>\n",
       "      <td>9.694689e-12</td>\n",
       "      <td>-1.168041e-06</td>\n",
       "      <td>-0.008558</td>\n",
       "      <td>0.215828</td>\n",
       "      <td>0.110011</td>\n",
       "      <td>...</td>\n",
       "      <td>0.012406</td>\n",
       "      <td>0.007912</td>\n",
       "      <td>0.045043</td>\n",
       "      <td>-0.010620</td>\n",
       "      <td>0.077941</td>\n",
       "      <td>0.115819</td>\n",
       "      <td>0.063193</td>\n",
       "      <td>0.027031</td>\n",
       "      <td>0.000956</td>\n",
       "      <td>0.000717</td>\n",
       "    </tr>\n",
       "    <tr>\n",
       "      <th>2010-10-01</th>\n",
       "      <td>0.00878</td>\n",
       "      <td>NaN</td>\n",
       "      <td>NaN</td>\n",
       "      <td>4157600.0</td>\n",
       "      <td>-1.276735e-08</td>\n",
       "      <td>1.896105e-11</td>\n",
       "      <td>3.943009e-07</td>\n",
       "      <td>-0.009960</td>\n",
       "      <td>0.268974</td>\n",
       "      <td>0.079394</td>\n",
       "      <td>...</td>\n",
       "      <td>-0.004829</td>\n",
       "      <td>-0.036393</td>\n",
       "      <td>0.000000</td>\n",
       "      <td>-0.020253</td>\n",
       "      <td>0.080478</td>\n",
       "      <td>0.102950</td>\n",
       "      <td>0.051803</td>\n",
       "      <td>0.034592</td>\n",
       "      <td>0.000567</td>\n",
       "      <td>0.000364</td>\n",
       "    </tr>\n",
       "    <tr>\n",
       "      <th>2010-10-08</th>\n",
       "      <td>0.00871</td>\n",
       "      <td>NaN</td>\n",
       "      <td>NaN</td>\n",
       "      <td>4206900.0</td>\n",
       "      <td>1.381094e-06</td>\n",
       "      <td>0.000000e+00</td>\n",
       "      <td>2.284634e-06</td>\n",
       "      <td>0.020903</td>\n",
       "      <td>0.271499</td>\n",
       "      <td>0.103109</td>\n",
       "      <td>...</td>\n",
       "      <td>0.005497</td>\n",
       "      <td>0.026899</td>\n",
       "      <td>0.090749</td>\n",
       "      <td>0.010867</td>\n",
       "      <td>0.099692</td>\n",
       "      <td>0.173729</td>\n",
       "      <td>-0.013517</td>\n",
       "      <td>0.047940</td>\n",
       "      <td>-0.001509</td>\n",
       "      <td>-0.000793</td>\n",
       "    </tr>\n",
       "    <tr>\n",
       "      <th>2010-10-15</th>\n",
       "      <td>0.00872</td>\n",
       "      <td>NaN</td>\n",
       "      <td>NaN</td>\n",
       "      <td>4267300.0</td>\n",
       "      <td>1.007510e-06</td>\n",
       "      <td>2.807865e-12</td>\n",
       "      <td>-1.447250e-06</td>\n",
       "      <td>0.005284</td>\n",
       "      <td>0.127880</td>\n",
       "      <td>0.080880</td>\n",
       "      <td>...</td>\n",
       "      <td>0.012926</td>\n",
       "      <td>0.025317</td>\n",
       "      <td>-0.009935</td>\n",
       "      <td>0.003705</td>\n",
       "      <td>0.073228</td>\n",
       "      <td>0.164077</td>\n",
       "      <td>-0.136911</td>\n",
       "      <td>-0.051067</td>\n",
       "      <td>-0.000239</td>\n",
       "      <td>-0.000186</td>\n",
       "    </tr>\n",
       "    <tr>\n",
       "      <th>2010-10-22</th>\n",
       "      <td>0.00884</td>\n",
       "      <td>NaN</td>\n",
       "      <td>NaN</td>\n",
       "      <td>4349150.0</td>\n",
       "      <td>2.220408e-07</td>\n",
       "      <td>3.647072e-11</td>\n",
       "      <td>-5.673744e-07</td>\n",
       "      <td>0.005401</td>\n",
       "      <td>-0.137688</td>\n",
       "      <td>0.015310</td>\n",
       "      <td>...</td>\n",
       "      <td>0.001114</td>\n",
       "      <td>0.016614</td>\n",
       "      <td>-0.003976</td>\n",
       "      <td>0.008892</td>\n",
       "      <td>-0.143193</td>\n",
       "      <td>-0.159251</td>\n",
       "      <td>0.038473</td>\n",
       "      <td>0.029185</td>\n",
       "      <td>0.001870</td>\n",
       "      <td>0.001313</td>\n",
       "    </tr>\n",
       "  </tbody>\n",
       "</table>\n",
       "<p>5 rows × 21 columns</p>\n",
       "</div>"
      ],
      "text/plain": [
       "            JPY_EUR  BTC_PageViews  Crypto_PageViews  BTC_Supply  \\\n",
       "Date                                                               \n",
       "2010-09-24  0.00888            NaN               NaN   4091750.0   \n",
       "2010-10-01  0.00878            NaN               NaN   4157600.0   \n",
       "2010-10-08  0.00871            NaN               NaN   4206900.0   \n",
       "2010-10-15  0.00872            NaN               NaN   4267300.0   \n",
       "2010-10-22  0.00884            NaN               NaN   4349150.0   \n",
       "\n",
       "                 BTC_USD  Mining_Difficulty  USD_OnChain_Volume  M2_Liquidity  \\\n",
       "Date                                                                            \n",
       "2010-09-24  1.165714e-07       9.694689e-12       -1.168041e-06     -0.008558   \n",
       "2010-10-01 -1.276735e-08       1.896105e-11        3.943009e-07     -0.009960   \n",
       "2010-10-08  1.381094e-06       0.000000e+00        2.284634e-06      0.020903   \n",
       "2010-10-15  1.007510e-06       2.807865e-12       -1.447250e-06      0.005284   \n",
       "2010-10-22  2.220408e-07       3.647072e-11       -5.673744e-07      0.005401   \n",
       "\n",
       "             EUR_USD   JPY_USD  ...       QQQ      EXSA      JPXN      IWDA  \\\n",
       "Date                            ...                                           \n",
       "2010-09-24  0.215828  0.110011  ...  0.012406  0.007912  0.045043 -0.010620   \n",
       "2010-10-01  0.268974  0.079394  ... -0.004829 -0.036393  0.000000 -0.020253   \n",
       "2010-10-08  0.271499  0.103109  ...  0.005497  0.026899  0.090749  0.010867   \n",
       "2010-10-15  0.127880  0.080880  ...  0.012926  0.025317 -0.009935  0.003705   \n",
       "2010-10-22 -0.137688  0.015310  ...  0.001114  0.016614 -0.003976  0.008892   \n",
       "\n",
       "                 GLD       SLV       TLT       BND  Nr_Transactions  \\\n",
       "Date                                                                  \n",
       "2010-09-24  0.077941  0.115819  0.063193  0.027031         0.000956   \n",
       "2010-10-01  0.080478  0.102950  0.051803  0.034592         0.000567   \n",
       "2010-10-08  0.099692  0.173729 -0.013517  0.047940        -0.001509   \n",
       "2010-10-15  0.073228  0.164077 -0.136911 -0.051067        -0.000239   \n",
       "2010-10-22 -0.143193 -0.159251  0.038473  0.029185         0.001870   \n",
       "\n",
       "            Nr_Addresses  \n",
       "Date                      \n",
       "2010-09-24      0.000717  \n",
       "2010-10-01      0.000364  \n",
       "2010-10-08     -0.000793  \n",
       "2010-10-15     -0.000186  \n",
       "2010-10-22      0.001313  \n",
       "\n",
       "[5 rows x 21 columns]"
      ]
     },
     "execution_count": 7,
     "metadata": {},
     "output_type": "execute_result"
    }
   ],
   "source": [
    "opencsv.head()"
   ]
  },
  {
   "cell_type": "code",
   "execution_count": 11,
   "metadata": {},
   "outputs": [],
   "source": [
    "pre_covid_df = opencsv.copy()\n",
    "pre_covid_df = pre_covid_df.drop(columns=[\"BTC_PageViews\", \"Crypto_PageViews\"]) # removi porque nao tem a informacao completa para estes anos todos"
   ]
  },
  {
   "cell_type": "code",
   "execution_count": 12,
   "metadata": {},
   "outputs": [
    {
     "name": "stdout",
     "output_type": "stream",
     "text": [
      "<class 'pandas.core.frame.DataFrame'>\n",
      "DatetimeIndex: 484 entries, 2010-09-24 to 2019-12-27\n",
      "Data columns (total 19 columns):\n",
      " #   Column              Non-Null Count  Dtype  \n",
      "---  ------              --------------  -----  \n",
      " 0   JPY_EUR             484 non-null    float64\n",
      " 1   BTC_Supply          484 non-null    float64\n",
      " 2   BTC_USD             484 non-null    float64\n",
      " 3   Mining_Difficulty   484 non-null    float64\n",
      " 4   USD_OnChain_Volume  484 non-null    float64\n",
      " 5   M2_Liquidity        484 non-null    float64\n",
      " 6   EUR_USD             484 non-null    float64\n",
      " 7   JPY_USD             484 non-null    float64\n",
      " 8   SPY                 484 non-null    float64\n",
      " 9   QQQ                 484 non-null    float64\n",
      " 10  EXSA                484 non-null    float64\n",
      " 11  JPXN                484 non-null    float64\n",
      " 12  IWDA                484 non-null    float64\n",
      " 13  GLD                 484 non-null    float64\n",
      " 14  SLV                 484 non-null    float64\n",
      " 15  TLT                 484 non-null    float64\n",
      " 16  BND                 484 non-null    float64\n",
      " 17  Nr_Transactions     484 non-null    float64\n",
      " 18  Nr_Addresses        484 non-null    float64\n",
      "dtypes: float64(19)\n",
      "memory usage: 91.8 KB\n"
     ]
    }
   ],
   "source": [
    "pre_covid_df.info()"
   ]
  },
  {
   "cell_type": "code",
   "execution_count": 13,
   "metadata": {},
   "outputs": [
    {
     "data": {
      "text/html": [
       "<div>\n",
       "<style scoped>\n",
       "    .dataframe tbody tr th:only-of-type {\n",
       "        vertical-align: middle;\n",
       "    }\n",
       "\n",
       "    .dataframe tbody tr th {\n",
       "        vertical-align: top;\n",
       "    }\n",
       "\n",
       "    .dataframe thead th {\n",
       "        text-align: right;\n",
       "    }\n",
       "</style>\n",
       "<table border=\"1\" class=\"dataframe\">\n",
       "  <thead>\n",
       "    <tr style=\"text-align: right;\">\n",
       "      <th></th>\n",
       "      <th>JPY_EUR</th>\n",
       "      <th>BTC_Supply</th>\n",
       "      <th>BTC_USD</th>\n",
       "      <th>Mining_Difficulty</th>\n",
       "      <th>USD_OnChain_Volume</th>\n",
       "      <th>M2_Liquidity</th>\n",
       "      <th>EUR_USD</th>\n",
       "      <th>JPY_USD</th>\n",
       "      <th>SPY</th>\n",
       "      <th>QQQ</th>\n",
       "      <th>EXSA</th>\n",
       "      <th>JPXN</th>\n",
       "      <th>IWDA</th>\n",
       "      <th>GLD</th>\n",
       "      <th>SLV</th>\n",
       "      <th>TLT</th>\n",
       "      <th>BND</th>\n",
       "      <th>Nr_Transactions</th>\n",
       "      <th>Nr_Addresses</th>\n",
       "    </tr>\n",
       "    <tr>\n",
       "      <th>Date</th>\n",
       "      <th></th>\n",
       "      <th></th>\n",
       "      <th></th>\n",
       "      <th></th>\n",
       "      <th></th>\n",
       "      <th></th>\n",
       "      <th></th>\n",
       "      <th></th>\n",
       "      <th></th>\n",
       "      <th></th>\n",
       "      <th></th>\n",
       "      <th></th>\n",
       "      <th></th>\n",
       "      <th></th>\n",
       "      <th></th>\n",
       "      <th></th>\n",
       "      <th></th>\n",
       "      <th></th>\n",
       "      <th></th>\n",
       "    </tr>\n",
       "  </thead>\n",
       "  <tbody>\n",
       "    <tr>\n",
       "      <th>2010-09-24</th>\n",
       "      <td>0.008880</td>\n",
       "      <td>4091750.0</td>\n",
       "      <td>1.165714e-07</td>\n",
       "      <td>9.694689e-12</td>\n",
       "      <td>-1.168041e-06</td>\n",
       "      <td>-0.008558</td>\n",
       "      <td>0.215828</td>\n",
       "      <td>0.110011</td>\n",
       "      <td>0.014741</td>\n",
       "      <td>0.012406</td>\n",
       "      <td>0.007912</td>\n",
       "      <td>0.045043</td>\n",
       "      <td>-0.010620</td>\n",
       "      <td>0.077941</td>\n",
       "      <td>0.115819</td>\n",
       "      <td>0.063193</td>\n",
       "      <td>0.027031</td>\n",
       "      <td>0.000956</td>\n",
       "      <td>0.000717</td>\n",
       "    </tr>\n",
       "    <tr>\n",
       "      <th>2010-10-01</th>\n",
       "      <td>0.008780</td>\n",
       "      <td>4157600.0</td>\n",
       "      <td>-1.276735e-08</td>\n",
       "      <td>1.896105e-11</td>\n",
       "      <td>3.943009e-07</td>\n",
       "      <td>-0.009960</td>\n",
       "      <td>0.268974</td>\n",
       "      <td>0.079394</td>\n",
       "      <td>-0.001329</td>\n",
       "      <td>-0.004829</td>\n",
       "      <td>-0.036393</td>\n",
       "      <td>0.000000</td>\n",
       "      <td>-0.020253</td>\n",
       "      <td>0.080478</td>\n",
       "      <td>0.102950</td>\n",
       "      <td>0.051803</td>\n",
       "      <td>0.034592</td>\n",
       "      <td>0.000567</td>\n",
       "      <td>0.000364</td>\n",
       "    </tr>\n",
       "    <tr>\n",
       "      <th>2010-10-08</th>\n",
       "      <td>0.008710</td>\n",
       "      <td>4206900.0</td>\n",
       "      <td>1.381094e-06</td>\n",
       "      <td>0.000000e+00</td>\n",
       "      <td>2.284634e-06</td>\n",
       "      <td>0.020903</td>\n",
       "      <td>0.271499</td>\n",
       "      <td>0.103109</td>\n",
       "      <td>0.012210</td>\n",
       "      <td>0.005497</td>\n",
       "      <td>0.026899</td>\n",
       "      <td>0.090749</td>\n",
       "      <td>0.010867</td>\n",
       "      <td>0.099692</td>\n",
       "      <td>0.173729</td>\n",
       "      <td>-0.013517</td>\n",
       "      <td>0.047940</td>\n",
       "      <td>-0.001509</td>\n",
       "      <td>-0.000793</td>\n",
       "    </tr>\n",
       "    <tr>\n",
       "      <th>2010-10-15</th>\n",
       "      <td>0.008720</td>\n",
       "      <td>4267300.0</td>\n",
       "      <td>1.007510e-06</td>\n",
       "      <td>2.807865e-12</td>\n",
       "      <td>-1.447250e-06</td>\n",
       "      <td>0.005284</td>\n",
       "      <td>0.127880</td>\n",
       "      <td>0.080880</td>\n",
       "      <td>0.007339</td>\n",
       "      <td>0.012926</td>\n",
       "      <td>0.025317</td>\n",
       "      <td>-0.009935</td>\n",
       "      <td>0.003705</td>\n",
       "      <td>0.073228</td>\n",
       "      <td>0.164077</td>\n",
       "      <td>-0.136911</td>\n",
       "      <td>-0.051067</td>\n",
       "      <td>-0.000239</td>\n",
       "      <td>-0.000186</td>\n",
       "    </tr>\n",
       "    <tr>\n",
       "      <th>2010-10-22</th>\n",
       "      <td>0.008840</td>\n",
       "      <td>4349150.0</td>\n",
       "      <td>2.220408e-07</td>\n",
       "      <td>3.647072e-11</td>\n",
       "      <td>-5.673744e-07</td>\n",
       "      <td>0.005401</td>\n",
       "      <td>-0.137688</td>\n",
       "      <td>0.015310</td>\n",
       "      <td>0.004112</td>\n",
       "      <td>0.001114</td>\n",
       "      <td>0.016614</td>\n",
       "      <td>-0.003976</td>\n",
       "      <td>0.008892</td>\n",
       "      <td>-0.143193</td>\n",
       "      <td>-0.159251</td>\n",
       "      <td>0.038473</td>\n",
       "      <td>0.029185</td>\n",
       "      <td>0.001870</td>\n",
       "      <td>0.001313</td>\n",
       "    </tr>\n",
       "    <tr>\n",
       "      <th>...</th>\n",
       "      <td>...</td>\n",
       "      <td>...</td>\n",
       "      <td>...</td>\n",
       "      <td>...</td>\n",
       "      <td>...</td>\n",
       "      <td>...</td>\n",
       "      <td>...</td>\n",
       "      <td>...</td>\n",
       "      <td>...</td>\n",
       "      <td>...</td>\n",
       "      <td>...</td>\n",
       "      <td>...</td>\n",
       "      <td>...</td>\n",
       "      <td>...</td>\n",
       "      <td>...</td>\n",
       "      <td>...</td>\n",
       "      <td>...</td>\n",
       "      <td>...</td>\n",
       "      <td>...</td>\n",
       "    </tr>\n",
       "    <tr>\n",
       "      <th>2019-11-29</th>\n",
       "      <td>0.008290</td>\n",
       "      <td>18074525.0</td>\n",
       "      <td>2.648836e-02</td>\n",
       "      <td>0.000000e+00</td>\n",
       "      <td>-2.300513e-01</td>\n",
       "      <td>-0.011784</td>\n",
       "      <td>-0.048027</td>\n",
       "      <td>-0.046501</td>\n",
       "      <td>0.025396</td>\n",
       "      <td>0.026718</td>\n",
       "      <td>0.035369</td>\n",
       "      <td>-0.012352</td>\n",
       "      <td>0.031120</td>\n",
       "      <td>0.004350</td>\n",
       "      <td>0.003217</td>\n",
       "      <td>0.023235</td>\n",
       "      <td>0.012175</td>\n",
       "      <td>0.005127</td>\n",
       "      <td>-0.230402</td>\n",
       "    </tr>\n",
       "    <tr>\n",
       "      <th>2019-12-06</th>\n",
       "      <td>0.008277</td>\n",
       "      <td>18087337.5</td>\n",
       "      <td>-1.170155e-02</td>\n",
       "      <td>-4.559768e-03</td>\n",
       "      <td>5.886431e-02</td>\n",
       "      <td>0.022282</td>\n",
       "      <td>0.083155</td>\n",
       "      <td>0.038772</td>\n",
       "      <td>0.004245</td>\n",
       "      <td>-0.000817</td>\n",
       "      <td>-0.001494</td>\n",
       "      <td>0.105755</td>\n",
       "      <td>0.001976</td>\n",
       "      <td>-0.008701</td>\n",
       "      <td>-0.070778</td>\n",
       "      <td>-0.081865</td>\n",
       "      <td>-0.018982</td>\n",
       "      <td>0.027961</td>\n",
       "      <td>-0.034663</td>\n",
       "    </tr>\n",
       "    <tr>\n",
       "      <th>2019-12-13</th>\n",
       "      <td>0.008167</td>\n",
       "      <td>18100037.5</td>\n",
       "      <td>-1.647876e-02</td>\n",
       "      <td>0.000000e+00</td>\n",
       "      <td>-1.215670e-01</td>\n",
       "      <td>0.002385</td>\n",
       "      <td>0.071570</td>\n",
       "      <td>-0.033844</td>\n",
       "      <td>0.018574</td>\n",
       "      <td>0.017894</td>\n",
       "      <td>0.044834</td>\n",
       "      <td>0.008491</td>\n",
       "      <td>-0.002223</td>\n",
       "      <td>0.051840</td>\n",
       "      <td>0.057910</td>\n",
       "      <td>0.030885</td>\n",
       "      <td>0.029828</td>\n",
       "      <td>0.051212</td>\n",
       "      <td>0.049311</td>\n",
       "    </tr>\n",
       "    <tr>\n",
       "      <th>2019-12-20</th>\n",
       "      <td>0.008214</td>\n",
       "      <td>18112787.5</td>\n",
       "      <td>-3.236800e-03</td>\n",
       "      <td>3.394089e-03</td>\n",
       "      <td>1.055155e-01</td>\n",
       "      <td>0.021277</td>\n",
       "      <td>-0.053362</td>\n",
       "      <td>0.001496</td>\n",
       "      <td>0.037805</td>\n",
       "      <td>0.036931</td>\n",
       "      <td>0.067571</td>\n",
       "      <td>-0.021797</td>\n",
       "      <td>0.056807</td>\n",
       "      <td>0.017038</td>\n",
       "      <td>0.032172</td>\n",
       "      <td>-0.097193</td>\n",
       "      <td>-0.033887</td>\n",
       "      <td>0.066687</td>\n",
       "      <td>-0.031564</td>\n",
       "    </tr>\n",
       "    <tr>\n",
       "      <th>2019-12-27</th>\n",
       "      <td>0.008221</td>\n",
       "      <td>18125950.0</td>\n",
       "      <td>2.798269e-03</td>\n",
       "      <td>0.000000e+00</td>\n",
       "      <td>-1.293676e-01</td>\n",
       "      <td>0.003063</td>\n",
       "      <td>-0.022039</td>\n",
       "      <td>-0.007915</td>\n",
       "      <td>0.016226</td>\n",
       "      <td>0.019308</td>\n",
       "      <td>0.022017</td>\n",
       "      <td>-0.016406</td>\n",
       "      <td>-0.005187</td>\n",
       "      <td>0.101867</td>\n",
       "      <td>0.086864</td>\n",
       "      <td>0.030038</td>\n",
       "      <td>0.030835</td>\n",
       "      <td>-0.071356</td>\n",
       "      <td>0.001266</td>\n",
       "    </tr>\n",
       "  </tbody>\n",
       "</table>\n",
       "<p>484 rows × 19 columns</p>\n",
       "</div>"
      ],
      "text/plain": [
       "             JPY_EUR  BTC_Supply       BTC_USD  Mining_Difficulty  \\\n",
       "Date                                                                \n",
       "2010-09-24  0.008880   4091750.0  1.165714e-07       9.694689e-12   \n",
       "2010-10-01  0.008780   4157600.0 -1.276735e-08       1.896105e-11   \n",
       "2010-10-08  0.008710   4206900.0  1.381094e-06       0.000000e+00   \n",
       "2010-10-15  0.008720   4267300.0  1.007510e-06       2.807865e-12   \n",
       "2010-10-22  0.008840   4349150.0  2.220408e-07       3.647072e-11   \n",
       "...              ...         ...           ...                ...   \n",
       "2019-11-29  0.008290  18074525.0  2.648836e-02       0.000000e+00   \n",
       "2019-12-06  0.008277  18087337.5 -1.170155e-02      -4.559768e-03   \n",
       "2019-12-13  0.008167  18100037.5 -1.647876e-02       0.000000e+00   \n",
       "2019-12-20  0.008214  18112787.5 -3.236800e-03       3.394089e-03   \n",
       "2019-12-27  0.008221  18125950.0  2.798269e-03       0.000000e+00   \n",
       "\n",
       "            USD_OnChain_Volume  M2_Liquidity   EUR_USD   JPY_USD       SPY  \\\n",
       "Date                                                                         \n",
       "2010-09-24       -1.168041e-06     -0.008558  0.215828  0.110011  0.014741   \n",
       "2010-10-01        3.943009e-07     -0.009960  0.268974  0.079394 -0.001329   \n",
       "2010-10-08        2.284634e-06      0.020903  0.271499  0.103109  0.012210   \n",
       "2010-10-15       -1.447250e-06      0.005284  0.127880  0.080880  0.007339   \n",
       "2010-10-22       -5.673744e-07      0.005401 -0.137688  0.015310  0.004112   \n",
       "...                        ...           ...       ...       ...       ...   \n",
       "2019-11-29       -2.300513e-01     -0.011784 -0.048027 -0.046501  0.025396   \n",
       "2019-12-06        5.886431e-02      0.022282  0.083155  0.038772  0.004245   \n",
       "2019-12-13       -1.215670e-01      0.002385  0.071570 -0.033844  0.018574   \n",
       "2019-12-20        1.055155e-01      0.021277 -0.053362  0.001496  0.037805   \n",
       "2019-12-27       -1.293676e-01      0.003063 -0.022039 -0.007915  0.016226   \n",
       "\n",
       "                 QQQ      EXSA      JPXN      IWDA       GLD       SLV  \\\n",
       "Date                                                                     \n",
       "2010-09-24  0.012406  0.007912  0.045043 -0.010620  0.077941  0.115819   \n",
       "2010-10-01 -0.004829 -0.036393  0.000000 -0.020253  0.080478  0.102950   \n",
       "2010-10-08  0.005497  0.026899  0.090749  0.010867  0.099692  0.173729   \n",
       "2010-10-15  0.012926  0.025317 -0.009935  0.003705  0.073228  0.164077   \n",
       "2010-10-22  0.001114  0.016614 -0.003976  0.008892 -0.143193 -0.159251   \n",
       "...              ...       ...       ...       ...       ...       ...   \n",
       "2019-11-29  0.026718  0.035369 -0.012352  0.031120  0.004350  0.003217   \n",
       "2019-12-06 -0.000817 -0.001494  0.105755  0.001976 -0.008701 -0.070778   \n",
       "2019-12-13  0.017894  0.044834  0.008491 -0.002223  0.051840  0.057910   \n",
       "2019-12-20  0.036931  0.067571 -0.021797  0.056807  0.017038  0.032172   \n",
       "2019-12-27  0.019308  0.022017 -0.016406 -0.005187  0.101867  0.086864   \n",
       "\n",
       "                 TLT       BND  Nr_Transactions  Nr_Addresses  \n",
       "Date                                                           \n",
       "2010-09-24  0.063193  0.027031         0.000956      0.000717  \n",
       "2010-10-01  0.051803  0.034592         0.000567      0.000364  \n",
       "2010-10-08 -0.013517  0.047940        -0.001509     -0.000793  \n",
       "2010-10-15 -0.136911 -0.051067        -0.000239     -0.000186  \n",
       "2010-10-22  0.038473  0.029185         0.001870      0.001313  \n",
       "...              ...       ...              ...           ...  \n",
       "2019-11-29  0.023235  0.012175         0.005127     -0.230402  \n",
       "2019-12-06 -0.081865 -0.018982         0.027961     -0.034663  \n",
       "2019-12-13  0.030885  0.029828         0.051212      0.049311  \n",
       "2019-12-20 -0.097193 -0.033887         0.066687     -0.031564  \n",
       "2019-12-27  0.030038  0.030835        -0.071356      0.001266  \n",
       "\n",
       "[484 rows x 19 columns]"
      ]
     },
     "execution_count": 13,
     "metadata": {},
     "output_type": "execute_result"
    }
   ],
   "source": [
    "pre_covid_df"
   ]
  },
  {
   "cell_type": "code",
   "execution_count": 14,
   "metadata": {},
   "outputs": [
    {
     "data": {
      "text/plain": [
       "JPY_EUR               0\n",
       "BTC_Supply            0\n",
       "BTC_USD               0\n",
       "Mining_Difficulty     0\n",
       "USD_OnChain_Volume    0\n",
       "M2_Liquidity          0\n",
       "EUR_USD               0\n",
       "JPY_USD               0\n",
       "SPY                   0\n",
       "QQQ                   0\n",
       "EXSA                  0\n",
       "JPXN                  0\n",
       "IWDA                  0\n",
       "GLD                   0\n",
       "SLV                   0\n",
       "TLT                   0\n",
       "BND                   0\n",
       "Nr_Transactions       0\n",
       "Nr_Addresses          0\n",
       "dtype: int64"
      ]
     },
     "execution_count": 14,
     "metadata": {},
     "output_type": "execute_result"
    }
   ],
   "source": [
    "pre_covid_df.isna().sum()"
   ]
  },
  {
   "cell_type": "markdown",
   "metadata": {},
   "source": [
    "# Granger causality test "
   ]
  },
  {
   "cell_type": "code",
   "execution_count": 15,
   "metadata": {},
   "outputs": [
    {
     "name": "stdout",
     "output_type": "stream",
     "text": [
      "Variables that Granger-cause BTC_USD: ['Mining_Difficulty', 'USD_OnChain_Volume', 'SPY', 'QQQ', 'JPXN', 'Nr_Transactions', 'Nr_Addresses']\n",
      "Variables that do NOT Granger-cause BTC_USD: ['JPY_EUR', 'BTC_Supply', 'M2_Liquidity', 'EUR_USD', 'JPY_USD', 'EXSA', 'IWDA', 'GLD', 'SLV', 'TLT', 'BND']\n"
     ]
    }
   ],
   "source": [
    "from statsmodels.tsa.stattools import grangercausalitytests\n",
    "\n",
    "# It is a statistical hypothesis test for determining whether one time series is useful in forecasting another\n",
    "\n",
    "# lists to store variables\n",
    "causality_true = []\n",
    "causality_false = []\n",
    "\n",
    "maxlag = 10\n",
    "dependent_variable = \"BTC_USD\"\n",
    "\n",
    "for column in pre_covid_df.columns:\n",
    "    if column != dependent_variable:  # Skip the target variable\n",
    "        # Perform Granger Causality Test\n",
    "        # The data for testing whether the time series in the second column Granger causes the time series in the first column. \n",
    "        result = grangercausalitytests(pre_covid_df[[dependent_variable, column]], maxlag=maxlag, verbose=False)\n",
    "        \n",
    "        # Check if any lag has a p-value < 0.05\n",
    "        min_p_value = min([result[lag][0]['ssr_chi2test'][1] for lag in range(1, maxlag+1)])\n",
    "\n",
    "        if min_p_value < 0.05:\n",
    "            causality_true.append(column)\n",
    "        else:\n",
    "            causality_false.append(column)\n",
    "\n",
    "# Output the results\n",
    "print(f\"Variables that Granger-cause {dependent_variable}:\", causality_true)\n",
    "print(f\"Variables that do NOT Granger-cause {dependent_variable}:\", causality_false)"
   ]
  },
  {
   "cell_type": "markdown",
   "metadata": {},
   "source": [
    "# PACF - BTC USD Price"
   ]
  },
  {
   "cell_type": "code",
   "execution_count": 16,
   "metadata": {},
   "outputs": [
    {
     "data": {
      "image/png": "[encoded data removed]",
      "text/plain": [
       "<Figure size 640x480 with 1 Axes>"
      ]
     },
     "metadata": {},
     "output_type": "display_data"
    }
   ],
   "source": [
    "from statsmodels.graphics.tsaplots import plot_pacf\n",
    "\n",
    "plot_pacf(pre_covid_df.BTC_USD)\n",
    "plt.show()"
   ]
  },
  {
   "cell_type": "markdown",
   "metadata": {},
   "source": [
    "**So consider an AR(3)**"
   ]
  },
  {
   "cell_type": "markdown",
   "metadata": {},
   "source": [
    "# Model Dfs"
   ]
  },
  {
   "cell_type": "code",
   "execution_count": 17,
   "metadata": {},
   "outputs": [
    {
     "data": {
      "text/plain": [
       "Index(['JPY_EUR', 'BTC_Supply', 'BTC_USD', 'Mining_Difficulty',\n",
       "       'USD_OnChain_Volume', 'M2_Liquidity', 'EUR_USD', 'JPY_USD', 'SPY',\n",
       "       'QQQ', 'EXSA', 'JPXN', 'IWDA', 'GLD', 'SLV', 'TLT', 'BND',\n",
       "       'Nr_Transactions', 'Nr_Addresses'],\n",
       "      dtype='object')"
      ]
     },
     "execution_count": 17,
     "metadata": {},
     "output_type": "execute_result"
    }
   ],
   "source": [
    "pre_covid_df.columns"
   ]
  },
  {
   "cell_type": "code",
   "execution_count": 77,
   "metadata": {},
   "outputs": [],
   "source": [
    "'''\n",
    "Distinguish between endogenous and exogenous variables based on their roles in the Bitcoin market:\n",
    "\n",
    "Endogenous Variables: These are the primary variables of interest that the model aims to predict. \n",
    "They include the equilibrium closing price of Bitcoin (MKPRU), the number of unique MyWallet users (MWNUS), \n",
    "and the total Bitcoin available in the market (TOTBC)1.\n",
    "\n",
    "Exogenous Variables: These are external factors that influence the endogenous variables. \n",
    "They include Miner’s Revenue (MIREV), Bitcoin Difficulty (DIFF), Number of Transactions per Block (NTRBL), \n",
    "Average Block Size (AVBLS), Change in the Number of Unique Addresses (NADDU), Total Output Volume (TRVOU), \n",
    "and Hash Rate (HRATE).\n",
    "\n",
    "These distinctions help in understanding and forecasting Bitcoin’s market behavior.\n",
    "'''\n",
    "\n",
    "df_model = pre_covid_df.copy()\n",
    "\n",
    "###         listas completas\n",
    "###         endog = ['BTC_USD', 'Nr_Transactions', 'Nr_Addresses', 'BTC_Supply', 'Mining_Difficulty', 'USD_OnChain_Volume', 'BTC_PageViews', 'Crypto_PageViews']\n",
    "###         exog = ['JPY_EUR',  'M2_Liquidity', 'EUR_USD', 'JPY_USD', 'SPY', 'QQQ', 'EXSA', 'JPXN', 'IWDA', 'GLD', 'SLV', 'TLT', 'BND']\n",
    "\n",
    "endog = ['BTC_USD', 'Nr_Transactions', 'Nr_Addresses', 'BTC_Supply', 'Mining_Difficulty', 'USD_OnChain_Volume']\n",
    "exog = ['JPY_EUR', 'EUR_USD', 'QQQ', 'IWDA', 'GLD', 'SLV', 'TLT']\n",
    "\n",
    "split = int(0.9*(len(pre_covid_df)))\n",
    "\n",
    "df_train = df_model[:split]\n",
    "df_test = df_model[split:]\n",
    "\n",
    "# Split the data into endogenous and exogenous variables for the training set\n",
    "df_endog_train = df_train[endog]\n",
    "df_exog_train = df_train[exog]\n",
    "\n",
    "# Split the data into endogenous and exogenous variables for the testing set\n",
    "df_endog_test = df_test[endog]\n",
    "df_exog_test = df_test[exog]"
   ]
  },
  {
   "cell_type": "code",
   "execution_count": null,
   "metadata": {},
   "outputs": [],
   "source": [
    "========================================================================================\n",
    "                           coefficient       std. error           t-stat            prob\n",
    "----------------------------------------------------------------------------------------\n",
    "const                         0.008138         0.018492            0.440           0.660\n",
    "JPY_EUR                       0.016774         0.031154            0.538           0.590\n",
    "EUR_USD                       0.005595         0.013639            0.410           0.682\n",
    "QQQ                          -0.071967         0.166753           -0.432           0.666\n",
    "IWDA                          0.029072         0.087955            0.331           0.741\n",
    "GLD                          -0.008351         0.019879           -0.420           0.674\n",
    "SLV                           0.003492         0.010846            0.322           0.747\n",
    "TLT                           0.026826         0.018104            1.482           0.138"
   ]
  },
  {
   "cell_type": "code",
   "execution_count": 19,
   "metadata": {},
   "outputs": [
    {
     "name": "stdout",
     "output_type": "stream",
     "text": [
      "Variables that Granger-cause BTC_USD: ['Mining_Difficulty', 'USD_OnChain_Volume', 'SPY', 'QQQ', 'JPXN', 'Nr_Transactions', 'Nr_Addresses']\n",
      "Variables that do NOT Granger-cause BTC_USD: ['JPY_EUR', 'BTC_Supply', 'M2_Liquidity', 'EUR_USD', 'JPY_USD', 'EXSA', 'IWDA', 'GLD', 'SLV', 'TLT', 'BND']\n"
     ]
    }
   ],
   "source": [
    "# Output the results\n",
    "print(f\"Variables that Granger-cause {dependent_variable}:\", causality_true)\n",
    "print(f\"Variables that do NOT Granger-cause {dependent_variable}:\", causality_false)"
   ]
  },
  {
   "cell_type": "code",
   "execution_count": 20,
   "metadata": {},
   "outputs": [
    {
     "data": {
      "text/plain": [
       "(435, 6)"
      ]
     },
     "execution_count": 20,
     "metadata": {},
     "output_type": "execute_result"
    }
   ],
   "source": [
    "df_endog_train.shape"
   ]
  },
  {
   "cell_type": "code",
   "execution_count": 21,
   "metadata": {},
   "outputs": [
    {
     "data": {
      "text/plain": [
       "(49, 6)"
      ]
     },
     "execution_count": 21,
     "metadata": {},
     "output_type": "execute_result"
    }
   ],
   "source": [
    "df_endog_test.shape"
   ]
  },
  {
   "cell_type": "markdown",
   "metadata": {},
   "source": [
    "# Determine max number lags"
   ]
  },
  {
   "cell_type": "markdown",
   "metadata": {},
   "source": [
    "We can test the performance of our model by using the following methods:\n",
    "\n",
    "**Akaike information criterion (AIC)**: It quantifies the quality of a model by balancing the fit of the model to the data with the complexity of the model. AIC provides a way to compare different models and choose the one that best fits the data with the least complexity.\n",
    "\n",
    "**Bayesian information criterion (BIC)**: This stats measure is used for model selection among a set of candidate models. Like the Akaike information criterion (AIC), BIC provides a trade-off between the goodness of fit and model complexity. However, BIC places a stronger penalty on the number of parameters than AIC does, which can help prevent overfitting."
   ]
  },
  {
   "cell_type": "code",
   "execution_count": 78,
   "metadata": {},
   "outputs": [
    {
     "name": "stderr",
     "output_type": "stream",
     "text": [
      "c:\\Users\\Rui Caseiro\\AppData\\Local\\Programs\\Python\\Python311\\Lib\\site-packages\\statsmodels\\tsa\\base\\tsa_model.py:473: ValueWarning: No frequency information was provided, so inferred frequency W-FRI will be used.\n",
      "  self._init_dates(dates, freq)\n"
     ]
    },
    {
     "data": {
      "text/html": [
       "<table class=\"simpletable\">\n",
       "<caption>VAR Order Selection (* highlights the minimums)</caption>\n",
       "<tr>\n",
       "   <td></td>      <th>AIC</th>         <th>BIC</th>         <th>FPE</th>        <th>HQIC</th>    \n",
       "</tr>\n",
       "<tr>\n",
       "  <th>0</th>  <td>    -2.146</td>  <td>    -1.688</td>  <td>    0.1170</td>  <td>    -1.965</td> \n",
       "</tr>\n",
       "<tr>\n",
       "  <th>1</th>  <td>    -15.45</td>  <td>    -14.65</td>  <td> 1.941e-07</td>  <td>    -15.14</td> \n",
       "</tr>\n",
       "<tr>\n",
       "  <th>2</th>  <td>    -16.92</td>  <td>    -15.77*</td> <td> 4.504e-08</td>  <td>    -16.46</td> \n",
       "</tr>\n",
       "<tr>\n",
       "  <th>3</th>  <td>    -17.12</td>  <td>    -15.63</td>  <td> 3.671e-08</td>  <td>    -16.53</td> \n",
       "</tr>\n",
       "<tr>\n",
       "  <th>4</th>  <td>    -17.34</td>  <td>    -15.51</td>  <td> 2.944e-08</td>  <td>    -16.62</td> \n",
       "</tr>\n",
       "<tr>\n",
       "  <th>5</th>  <td>    -17.57</td>  <td>    -15.39</td>  <td> 2.357e-08</td>  <td>    -16.71</td> \n",
       "</tr>\n",
       "<tr>\n",
       "  <th>6</th>  <td>    -17.63</td>  <td>    -15.12</td>  <td> 2.207e-08</td>  <td>    -16.64</td> \n",
       "</tr>\n",
       "<tr>\n",
       "  <th>7</th>  <td>    -17.72</td>  <td>    -14.86</td>  <td> 2.018e-08</td>  <td>    -16.59</td> \n",
       "</tr>\n",
       "<tr>\n",
       "  <th>8</th>  <td>    -17.98</td>  <td>    -14.78</td>  <td> 1.563e-08</td>  <td>    -16.72*</td>\n",
       "</tr>\n",
       "<tr>\n",
       "  <th>9</th>  <td>    -17.97</td>  <td>    -14.42</td>  <td> 1.588e-08</td>  <td>    -16.57</td> \n",
       "</tr>\n",
       "<tr>\n",
       "  <th>10</th> <td>    -18.11*</td> <td>    -14.22</td>  <td> 1.384e-08*</td> <td>    -16.58</td> \n",
       "</tr>\n",
       "</table>"
      ],
      "text/latex": [
       "\\begin{center}\n",
       "\\begin{tabular}{lcccc}\n",
       "\\toprule\n",
       "            & \\textbf{AIC} & \\textbf{BIC} & \\textbf{FPE} & \\textbf{HQIC}  \\\\\n",
       "\\midrule\n",
       "\\textbf{0}  &      -2.146  &      -1.688  &      0.1170  &       -1.965   \\\\\n",
       "\\textbf{1}  &      -15.45  &      -14.65  &   1.941e-07  &       -15.14   \\\\\n",
       "\\textbf{2}  &      -16.92  &     -15.77*  &   4.504e-08  &       -16.46   \\\\\n",
       "\\textbf{3}  &      -17.12  &      -15.63  &   3.671e-08  &       -16.53   \\\\\n",
       "\\textbf{4}  &      -17.34  &      -15.51  &   2.944e-08  &       -16.62   \\\\\n",
       "\\textbf{5}  &      -17.57  &      -15.39  &   2.357e-08  &       -16.71   \\\\\n",
       "\\textbf{6}  &      -17.63  &      -15.12  &   2.207e-08  &       -16.64   \\\\\n",
       "\\textbf{7}  &      -17.72  &      -14.86  &   2.018e-08  &       -16.59   \\\\\n",
       "\\textbf{8}  &      -17.98  &      -14.78  &   1.563e-08  &      -16.72*   \\\\\n",
       "\\textbf{9}  &      -17.97  &      -14.42  &   1.588e-08  &       -16.57   \\\\\n",
       "\\textbf{10} &     -18.11*  &      -14.22  &  1.384e-08*  &       -16.58   \\\\\n",
       "\\bottomrule\n",
       "\\end{tabular}\n",
       "%\\caption{VAR Order Selection (* highlights the minimums)}\n",
       "\\end{center}"
      ],
      "text/plain": [
       "<class 'statsmodels.iolib.table.SimpleTable'>"
      ]
     },
     "execution_count": 78,
     "metadata": {},
     "output_type": "execute_result"
    }
   ],
   "source": [
    "from statsmodels.tsa.api import VAR\n",
    "\n",
    "# Lower is better\n",
    "\n",
    "model = VAR(endog = df_endog_train, exog = df_exog_train)#\n",
    "model.select_order(10).summary()"
   ]
  },
  {
   "cell_type": "markdown",
   "metadata": {},
   "source": [
    "# Fit a VAR Model"
   ]
  },
  {
   "cell_type": "code",
   "execution_count": 79,
   "metadata": {},
   "outputs": [
    {
     "data": {
      "text/plain": [
       "  Summary of Regression Results   \n",
       "==================================\n",
       "Model:                         VAR\n",
       "Method:                        OLS\n",
       "Date:           Fri, 23, Aug, 2024\n",
       "Time:                     16:20:56\n",
       "--------------------------------------------------------------------\n",
       "No. of Equations:         6.00000    BIC:                   -15.6923\n",
       "Nobs:                     433.000    HQIC:                  -16.3751\n",
       "Log likelihood:           75.2296    FPE:                4.95603e-08\n",
       "AIC:                     -16.8205    Det(Omega_mle):     3.77983e-08\n",
       "--------------------------------------------------------------------\n",
       "Results for equation BTC_USD\n",
       "========================================================================================\n",
       "                           coefficient       std. error           t-stat            prob\n",
       "----------------------------------------------------------------------------------------\n",
       "const                         0.007633         0.018267            0.418           0.676\n",
       "JPY_EUR                       0.016368         0.031012            0.528           0.598\n",
       "EUR_USD                       0.005859         0.012159            0.482           0.630\n",
       "QQQ                          -0.058477         0.108704           -0.538           0.591\n",
       "IWDA                          0.026382         0.070338            0.375           0.708\n",
       "GLD                          -0.007406         0.019371           -0.382           0.702\n",
       "SLV                           0.003195         0.010719            0.298           0.766\n",
       "TLT                           0.026985         0.017449            1.547           0.122\n",
       "L1.BTC_USD                    0.223112         0.053998            4.132           0.000\n",
       "L1.Nr_Transactions            0.031989         0.018604            1.720           0.086\n",
       "L1.Nr_Addresses               0.003897         0.020870            0.187           0.852\n",
       "L1.BTC_Supply                -0.000000         0.000000           -0.512           0.609\n",
       "L1.Mining_Difficulty         -0.732958         0.290621           -2.522           0.012\n",
       "L1.USD_OnChain_Volume        -0.059746         0.020008           -2.986           0.003\n",
       "L2.BTC_USD                   -0.229219         0.056728           -4.041           0.000\n",
       "L2.Nr_Transactions            0.042560         0.018543            2.295           0.022\n",
       "L2.Nr_Addresses               0.038626         0.021040            1.836           0.066\n",
       "L2.BTC_Supply                 0.000000         0.000000            0.512           0.608\n",
       "L2.Mining_Difficulty          0.376623         0.288800            1.304           0.192\n",
       "L2.USD_OnChain_Volume        -0.068530         0.020837           -3.289           0.001\n",
       "========================================================================================\n",
       "\n",
       "Results for equation Nr_Transactions\n",
       "========================================================================================\n",
       "                           coefficient       std. error           t-stat            prob\n",
       "----------------------------------------------------------------------------------------\n",
       "const                         0.005817         0.086184            0.067           0.946\n",
       "JPY_EUR                      -0.060972         0.146312           -0.417           0.677\n",
       "EUR_USD                       0.022335         0.057367            0.389           0.697\n",
       "QQQ                          -0.228332         0.512856           -0.445           0.656\n",
       "IWDA                         -0.019388         0.331850           -0.058           0.953\n",
       "GLD                           0.073684         0.091389            0.806           0.420\n",
       "SLV                          -0.014294         0.050572           -0.283           0.777\n",
       "TLT                           0.041904         0.082321            0.509           0.611\n",
       "L1.BTC_USD                    0.838971         0.254758            3.293           0.001\n",
       "L1.Nr_Transactions           -0.527698         0.087771           -6.012           0.000\n",
       "L1.Nr_Addresses               0.170328         0.098465            1.730           0.084\n",
       "L1.BTC_Supply                -0.000000         0.000001           -0.132           0.895\n",
       "L1.Mining_Difficulty         -1.200146         1.371127           -0.875           0.381\n",
       "L1.USD_OnChain_Volume        -0.051947         0.094397           -0.550           0.582\n",
       "L2.BTC_USD                   -0.194846         0.267636           -0.728           0.467\n",
       "L2.Nr_Transactions           -0.143287         0.087487           -1.638           0.101\n",
       "L2.Nr_Addresses               0.064593         0.099265            0.651           0.515\n",
       "L2.BTC_Supply                 0.000000         0.000001            0.133           0.894\n",
       "L2.Mining_Difficulty         -0.715349         1.362534           -0.525           0.600\n",
       "L2.USD_OnChain_Volume         0.028280         0.098307            0.288           0.774\n",
       "========================================================================================\n",
       "\n",
       "Results for equation Nr_Addresses\n",
       "========================================================================================\n",
       "                           coefficient       std. error           t-stat            prob\n",
       "----------------------------------------------------------------------------------------\n",
       "const                         0.029436         0.081047            0.363           0.716\n",
       "JPY_EUR                      -0.025592         0.137590           -0.186           0.852\n",
       "EUR_USD                       0.015702         0.053948            0.291           0.771\n",
       "QQQ                          -0.419131         0.482285           -0.869           0.385\n",
       "IWDA                         -0.101631         0.312069           -0.326           0.745\n",
       "GLD                           0.002292         0.085942            0.027           0.979\n",
       "SLV                          -0.000048         0.047558           -0.001           0.999\n",
       "TLT                           0.018435         0.077414            0.238           0.812\n",
       "L1.BTC_USD                    1.149301         0.239573            4.797           0.000\n",
       "L1.Nr_Transactions           -0.026341         0.082539           -0.319           0.750\n",
       "L1.Nr_Addresses              -0.343753         0.092595           -3.712           0.000\n",
       "L1.BTC_Supply                -0.000000         0.000001           -0.370           0.711\n",
       "L1.Mining_Difficulty         -0.651858         1.289397           -0.506           0.613\n",
       "L1.USD_OnChain_Volume         0.031958         0.088770            0.360           0.719\n",
       "L2.BTC_USD                   -0.138839         0.251683           -0.552           0.581\n",
       "L2.Nr_Transactions            0.099316         0.082272            1.207           0.227\n",
       "L2.Nr_Addresses              -0.163218         0.093348           -1.748           0.080\n",
       "L2.BTC_Supply                 0.000000         0.000001            0.371           0.711\n",
       "L2.Mining_Difficulty         -0.999730         1.281316           -0.780           0.435\n",
       "L2.USD_OnChain_Volume         0.076244         0.092447            0.825           0.410\n",
       "========================================================================================\n",
       "\n",
       "Results for equation BTC_Supply\n",
       "========================================================================================\n",
       "                           coefficient       std. error           t-stat            prob\n",
       "----------------------------------------------------------------------------------------\n",
       "const                     18409.083181      2663.900015            6.911           0.000\n",
       "JPY_EUR                    -438.897008      4522.417573           -0.097           0.923\n",
       "EUR_USD                   -4914.603698      1773.194709           -2.772           0.006\n",
       "QQQ                       11944.454136     15852.116896            0.753           0.451\n",
       "IWDA                      -9260.378061     10257.323374           -0.903           0.367\n",
       "GLD                        1962.124405      2824.791270            0.695           0.487\n",
       "SLV                         852.455402      1563.166949            0.545           0.586\n",
       "TLT                        -553.645203      2544.504110           -0.218           0.828\n",
       "L1.BTC_USD                  689.034836      7874.453422            0.088           0.930\n",
       "L1.Nr_Transactions         -665.691576      2712.960762           -0.245           0.806\n",
       "L1.Nr_Addresses            1321.843537      3043.491769            0.434           0.664\n",
       "L1.BTC_Supply                 1.780452         0.030110           59.131           0.000\n",
       "L1.Mining_Difficulty      -8588.598510     42380.850995           -0.203           0.839\n",
       "L1.USD_OnChain_Volume      -539.093077      2917.771824           -0.185           0.853\n",
       "L2.BTC_USD                -3912.733630      8272.498233           -0.473           0.636\n",
       "L2.Nr_Transactions          381.418837      2704.169415            0.141           0.888\n",
       "L2.Nr_Addresses            1007.828286      3068.234657            0.328           0.743\n",
       "L2.BTC_Supply                -0.781377         0.029981          -26.063           0.000\n",
       "L2.Mining_Difficulty      -3089.427662     42115.256742           -0.073           0.942\n",
       "L2.USD_OnChain_Volume      -731.584213      3038.611959           -0.241           0.810\n",
       "========================================================================================\n",
       "\n",
       "Results for equation Mining_Difficulty\n",
       "========================================================================================\n",
       "                           coefficient       std. error           t-stat            prob\n",
       "----------------------------------------------------------------------------------------\n",
       "const                        -0.003530         0.002768           -1.275           0.202\n",
       "JPY_EUR                      -0.001649         0.004699           -0.351           0.726\n",
       "EUR_USD                      -0.002268         0.001842           -1.231           0.218\n",
       "QQQ                           0.066895         0.016471            4.061           0.000\n",
       "IWDA                         -0.023798         0.010658           -2.233           0.026\n",
       "GLD                           0.000167         0.002935            0.057           0.955\n",
       "SLV                           0.000052         0.001624            0.032           0.974\n",
       "TLT                          -0.002482         0.002644           -0.939           0.348\n",
       "L1.BTC_USD                    0.021365         0.008182            2.611           0.009\n",
       "L1.Nr_Transactions            0.003501         0.002819            1.242           0.214\n",
       "L1.Nr_Addresses               0.001774         0.003162            0.561           0.575\n",
       "L1.BTC_Supply                 0.000000         0.000000            0.968           0.333\n",
       "L1.Mining_Difficulty          0.048294         0.044036            1.097           0.273\n",
       "L1.USD_OnChain_Volume        -0.018936         0.003032           -6.246           0.000\n",
       "L2.BTC_USD                    0.029598         0.008596            3.443           0.001\n",
       "L2.Nr_Transactions            0.002485         0.002810            0.884           0.377\n",
       "L2.Nr_Addresses              -0.000230         0.003188           -0.072           0.942\n",
       "L2.BTC_Supply                -0.000000         0.000000           -0.965           0.335\n",
       "L2.Mining_Difficulty          0.396902         0.043760            9.070           0.000\n",
       "L2.USD_OnChain_Volume        -0.006422         0.003157           -2.034           0.042\n",
       "========================================================================================\n",
       "\n",
       "Results for equation USD_OnChain_Volume\n",
       "========================================================================================\n",
       "                           coefficient       std. error           t-stat            prob\n",
       "----------------------------------------------------------------------------------------\n",
       "const                         0.020912         0.051111            0.409           0.682\n",
       "JPY_EUR                       0.016321         0.086770            0.188           0.851\n",
       "EUR_USD                       0.041383         0.034022            1.216           0.224\n",
       "QQQ                           0.218320         0.304148            0.718           0.473\n",
       "IWDA                          0.014590         0.196803            0.074           0.941\n",
       "GLD                          -0.036068         0.054198           -0.665           0.506\n",
       "SLV                           0.004076         0.029992            0.136           0.892\n",
       "TLT                           0.043052         0.048820            0.882           0.378\n",
       "L1.BTC_USD                    1.266977         0.151084            8.386           0.000\n",
       "L1.Nr_Transactions            0.157142         0.052052            3.019           0.003\n",
       "L1.Nr_Addresses              -0.060176         0.058394           -1.031           0.303\n",
       "L1.BTC_Supply                -0.000000         0.000001           -0.388           0.698\n",
       "L1.Mining_Difficulty         -0.248269         0.813143           -0.305           0.760\n",
       "L1.USD_OnChain_Volume        -0.601881         0.055982          -10.751           0.000\n",
       "L2.BTC_USD                   -0.084629         0.158721           -0.533           0.594\n",
       "L2.Nr_Transactions            0.116680         0.051884            2.249           0.025\n",
       "L2.Nr_Addresses              -0.041147         0.058869           -0.699           0.485\n",
       "L2.BTC_Supply                 0.000000         0.000001            0.387           0.698\n",
       "L2.Mining_Difficulty          1.168631         0.808047            1.446           0.148\n",
       "L2.USD_OnChain_Volume        -0.215104         0.058301           -3.690           0.000\n",
       "========================================================================================\n",
       "\n",
       "Correlation matrix of residuals\n",
       "                       BTC_USD  Nr_Transactions  Nr_Addresses  BTC_Supply  Mining_Difficulty  USD_OnChain_Volume\n",
       "BTC_USD               1.000000         0.256468      0.409154   -0.008981          -0.046627            0.413534\n",
       "Nr_Transactions       0.256468         1.000000      0.830786    0.021988          -0.128982            0.282444\n",
       "Nr_Addresses          0.409154         0.830786      1.000000    0.013296          -0.108868            0.401184\n",
       "BTC_Supply           -0.008981         0.021988      0.013296    1.000000          -0.012083           -0.005171\n",
       "Mining_Difficulty    -0.046627        -0.128982     -0.108868   -0.012083           1.000000           -0.104082\n",
       "USD_OnChain_Volume    0.413534         0.282444      0.401184   -0.005171          -0.104082            1.000000\n",
       "\n"
      ]
     },
     "execution_count": 79,
     "metadata": {},
     "output_type": "execute_result"
    }
   ],
   "source": [
    "from statsmodels.tsa.api import VAR\n",
    "\n",
    "# Escolhi 4 lags porque é o que tem o AIC mais baixo e o BIC mais baixo é o lag 1, então também inclui esse\n",
    "\n",
    "maxlags = 2\n",
    "\n",
    "model_fit = model.fit(maxlags=maxlags)\n",
    "model_fit.summary()"
   ]
  },
  {
   "cell_type": "markdown",
   "metadata": {},
   "source": [
    "prob = p-value"
   ]
  },
  {
   "cell_type": "code",
   "execution_count": 80,
   "metadata": {},
   "outputs": [
    {
     "data": {
      "text/html": [
       "<div>\n",
       "<style scoped>\n",
       "    .dataframe tbody tr th:only-of-type {\n",
       "        vertical-align: middle;\n",
       "    }\n",
       "\n",
       "    .dataframe tbody tr th {\n",
       "        vertical-align: top;\n",
       "    }\n",
       "\n",
       "    .dataframe thead th {\n",
       "        text-align: right;\n",
       "    }\n",
       "</style>\n",
       "<table border=\"1\" class=\"dataframe\">\n",
       "  <thead>\n",
       "    <tr style=\"text-align: right;\">\n",
       "      <th></th>\n",
       "      <th>coeff</th>\n",
       "      <th>pval</th>\n",
       "    </tr>\n",
       "  </thead>\n",
       "  <tbody>\n",
       "    <tr>\n",
       "      <th>L1.BTC_USD</th>\n",
       "      <td>0.223112</td>\n",
       "      <td>0.000036</td>\n",
       "    </tr>\n",
       "    <tr>\n",
       "      <th>L1.Mining_Difficulty</th>\n",
       "      <td>-0.732958</td>\n",
       "      <td>0.011668</td>\n",
       "    </tr>\n",
       "    <tr>\n",
       "      <th>L1.USD_OnChain_Volume</th>\n",
       "      <td>-0.059746</td>\n",
       "      <td>0.002826</td>\n",
       "    </tr>\n",
       "    <tr>\n",
       "      <th>L2.BTC_USD</th>\n",
       "      <td>-0.229219</td>\n",
       "      <td>0.000053</td>\n",
       "    </tr>\n",
       "    <tr>\n",
       "      <th>L2.Nr_Transactions</th>\n",
       "      <td>0.042560</td>\n",
       "      <td>0.021723</td>\n",
       "    </tr>\n",
       "    <tr>\n",
       "      <th>L2.USD_OnChain_Volume</th>\n",
       "      <td>-0.068530</td>\n",
       "      <td>0.001006</td>\n",
       "    </tr>\n",
       "  </tbody>\n",
       "</table>\n",
       "</div>"
      ],
      "text/plain": [
       "                          coeff      pval\n",
       "L1.BTC_USD             0.223112  0.000036\n",
       "L1.Mining_Difficulty  -0.732958  0.011668\n",
       "L1.USD_OnChain_Volume -0.059746  0.002826\n",
       "L2.BTC_USD            -0.229219  0.000053\n",
       "L2.Nr_Transactions     0.042560  0.021723\n",
       "L2.USD_OnChain_Volume -0.068530  0.001006"
      ]
     },
     "execution_count": 80,
     "metadata": {},
     "output_type": "execute_result"
    }
   ],
   "source": [
    "df_coeff=pd.DataFrame([model_fit.params[\"BTC_USD\"], model_fit.pvalues[\"BTC_USD\"]]).T\n",
    "df_coeff.columns = [\"coeff\", \"pval\"]\n",
    "df_coeff = df_coeff.query(\"pval < 0.05\")\n",
    "df_coeff"
   ]
  },
  {
   "cell_type": "markdown",
   "metadata": {},
   "source": [
    "# So our final model is:\n",
    "\n",
    "Só considera prob / p-value < 0.05"
   ]
  },
  {
   "cell_type": "markdown",
   "metadata": {},
   "source": [
    "\n",
    "BTC_USD = 0.35L1.SPY - 0.12L2.USD_OnChain_Volume + 0.14L2.SLV\n"
   ]
  },
  {
   "cell_type": "markdown",
   "metadata": {},
   "source": [
    "### test different lags"
   ]
  },
  {
   "cell_type": "code",
   "execution_count": 39,
   "metadata": {},
   "outputs": [
    {
     "name": "stdout",
     "output_type": "stream",
     "text": [
      "          MAE      RMSE      MAPE\n",
      "Lag                              \n",
      "1    0.199310  0.256318  1.533880\n",
      "2    0.192893  0.252851  1.394389\n",
      "3    0.188236  0.243385  1.234596\n",
      "4    0.182138  0.235894  0.983458\n",
      "5    0.186747  0.240176  1.087025\n",
      "6    0.195541  0.248535  1.498355\n",
      "7    0.182716  0.244326  1.380519\n",
      "8    0.189090  0.254404  1.386306\n",
      "9    0.207010  0.274642  1.762635\n",
      "10   0.228899  0.295568  2.679169\n",
      "11   0.260235  0.336088  2.504930\n"
     ]
    },
    {
     "name": "stderr",
     "output_type": "stream",
     "text": [
      "c:\\Users\\Rui Caseiro\\AppData\\Local\\Programs\\Python\\Python311\\Lib\\site-packages\\statsmodels\\tsa\\base\\tsa_model.py:473: ValueWarning: No frequency information was provided, so inferred frequency W-FRI will be used.\n",
      "  self._init_dates(dates, freq)\n",
      "c:\\Users\\Rui Caseiro\\AppData\\Local\\Programs\\Python\\Python311\\Lib\\site-packages\\statsmodels\\tsa\\base\\tsa_model.py:473: ValueWarning: No frequency information was provided, so inferred frequency W-FRI will be used.\n",
      "  self._init_dates(dates, freq)\n",
      "c:\\Users\\Rui Caseiro\\AppData\\Local\\Programs\\Python\\Python311\\Lib\\site-packages\\statsmodels\\tsa\\base\\tsa_model.py:473: ValueWarning: No frequency information was provided, so inferred frequency W-FRI will be used.\n",
      "  self._init_dates(dates, freq)\n",
      "c:\\Users\\Rui Caseiro\\AppData\\Local\\Programs\\Python\\Python311\\Lib\\site-packages\\statsmodels\\tsa\\base\\tsa_model.py:473: ValueWarning: No frequency information was provided, so inferred frequency W-FRI will be used.\n",
      "  self._init_dates(dates, freq)\n",
      "c:\\Users\\Rui Caseiro\\AppData\\Local\\Programs\\Python\\Python311\\Lib\\site-packages\\statsmodels\\tsa\\base\\tsa_model.py:473: ValueWarning: No frequency information was provided, so inferred frequency W-FRI will be used.\n",
      "  self._init_dates(dates, freq)\n",
      "c:\\Users\\Rui Caseiro\\AppData\\Local\\Programs\\Python\\Python311\\Lib\\site-packages\\statsmodels\\tsa\\base\\tsa_model.py:473: ValueWarning: No frequency information was provided, so inferred frequency W-FRI will be used.\n",
      "  self._init_dates(dates, freq)\n",
      "c:\\Users\\Rui Caseiro\\AppData\\Local\\Programs\\Python\\Python311\\Lib\\site-packages\\statsmodels\\tsa\\base\\tsa_model.py:473: ValueWarning: No frequency information was provided, so inferred frequency W-FRI will be used.\n",
      "  self._init_dates(dates, freq)\n",
      "c:\\Users\\Rui Caseiro\\AppData\\Local\\Programs\\Python\\Python311\\Lib\\site-packages\\statsmodels\\tsa\\base\\tsa_model.py:473: ValueWarning: No frequency information was provided, so inferred frequency W-FRI will be used.\n",
      "  self._init_dates(dates, freq)\n",
      "c:\\Users\\Rui Caseiro\\AppData\\Local\\Programs\\Python\\Python311\\Lib\\site-packages\\statsmodels\\tsa\\base\\tsa_model.py:473: ValueWarning: No frequency information was provided, so inferred frequency W-FRI will be used.\n",
      "  self._init_dates(dates, freq)\n",
      "c:\\Users\\Rui Caseiro\\AppData\\Local\\Programs\\Python\\Python311\\Lib\\site-packages\\statsmodels\\tsa\\base\\tsa_model.py:473: ValueWarning: No frequency information was provided, so inferred frequency W-FRI will be used.\n",
      "  self._init_dates(dates, freq)\n",
      "c:\\Users\\Rui Caseiro\\AppData\\Local\\Programs\\Python\\Python311\\Lib\\site-packages\\statsmodels\\tsa\\base\\tsa_model.py:473: ValueWarning: No frequency information was provided, so inferred frequency W-FRI will be used.\n",
      "  self._init_dates(dates, freq)\n"
     ]
    }
   ],
   "source": [
    "from sklearn.metrics import mean_absolute_error, mean_squared_error, mean_absolute_percentage_error\n",
    "\n",
    "# Step 1: Make predictions on the test set\n",
    "# We start predicting after the last lag in the training set\n",
    "\n",
    "# Initialize an empty DataFrame to store results for each lag\n",
    "results_df = pd.DataFrame(columns=[\"Lag\", \"MAE\", \"RMSE\", \"MAPE\"])\n",
    "\n",
    "# Iterate over different lag values\n",
    "for lag in range(1, 12):  # Start at 1 to avoid using a zero-lag, which doesn't make sense\n",
    "    # Re-fit the model for the current lag\n",
    "    model = VAR(endog = df_endog_train, exog = df_exog_train)\n",
    "    model_fit = model.fit(maxlags=lag)\n",
    "    \n",
    "    # Make predictions on the test set\n",
    "    n_forecast = len(df_test)\n",
    "    forecast = model_fit.forecast(y=df_endog_train.values[-lag:], steps=n_forecast, exog_future=df_exog_test.values)\n",
    "\n",
    "    # Convert the forecast to a DataFrame with the same column names as df_train\n",
    "    forecast_df = pd.DataFrame(forecast, index=df_endog_test.index, columns=df_endog_test.columns)\n",
    "\n",
    "    # Calculate MAE, RMSE, and MAPE for the specific column ('BTC_USD')\n",
    "    mae = mean_absolute_error(df_test.BTC_USD, forecast_df.BTC_USD)\n",
    "    rmse = np.sqrt(mean_squared_error(df_test.BTC_USD, forecast_df.BTC_USD))\n",
    "    mape = mean_absolute_percentage_error(df_test.BTC_USD, forecast_df.BTC_USD)\n",
    "\n",
    "    # Save the results into the DataFrame using pd.concat\n",
    "    result_row = pd.DataFrame({\"Lag\": [lag], \"MAE\": [mae], \"RMSE\": [rmse], \"MAPE\": [mape]})\n",
    "    results_df = pd.concat([results_df, result_row], ignore_index=True)\n",
    "    \n",
    "# Set the 'Lag' column as the index\n",
    "results_df.set_index(\"Lag\", inplace=True)\n",
    "\n",
    "# Display the results DataFrame\n",
    "print(results_df)"
   ]
  },
  {
   "cell_type": "markdown",
   "metadata": {},
   "source": [
    "# Check for Serial Correlation of Residuals (Errors) using Durbin Watson Statistic"
   ]
  },
  {
   "cell_type": "code",
   "execution_count": 81,
   "metadata": {},
   "outputs": [
    {
     "name": "stdout",
     "output_type": "stream",
     "text": [
      "BTC_USD : 1.82\n",
      "Nr_Transactions : 2.04\n",
      "Nr_Addresses : 2.02\n",
      "BTC_Supply : 1.99\n",
      "Mining_Difficulty : 2.13\n",
      "USD_OnChain_Volume : 1.93\n"
     ]
    }
   ],
   "source": [
    "# https://www.machinelearningplus.com/time-series/vector-autoregression-examples-python/\n",
    "\n",
    "from statsmodels.stats.stattools import durbin_watson\n",
    "\n",
    "out = durbin_watson(model_fit.resid)\n",
    "\n",
    "for col, val in zip(df_endog_train.columns, out):\n",
    "    print(col, ':', round(val, 2))\n",
    "\n",
    "#   The value of this statistic can vary between 0 and 4. The closer it is to the value 2, \n",
    "#   then there is no significant serial correlation. The closer to 0, there is a positive serial correlation, \n",
    "#   and the closer it is to 4 implies negative serial correlation."
   ]
  },
  {
   "cell_type": "markdown",
   "metadata": {},
   "source": [
    "# Forecast"
   ]
  },
  {
   "cell_type": "code",
   "execution_count": 82,
   "metadata": {},
   "outputs": [],
   "source": [
    "# Make predictions on the test set\n",
    "\n",
    "n_forecast = len(df_endog_test)\n",
    "forecast = model_fit.forecast(y=df_endog_train.values[-maxlags:], steps=n_forecast, exog_future=df_exog_test.values)\n",
    "\n",
    "# Convert the forecast to a DataFrame with the same column names as df_train\n",
    "forecast_df = pd.DataFrame(forecast, index=df_endog_test.index, columns=df_endog_test.columns)\n",
    "yhat = forecast_df.BTC_USD"
   ]
  },
  {
   "cell_type": "markdown",
   "metadata": {},
   "source": [
    "# Validate model - MAE, RMSE and MAPE"
   ]
  },
  {
   "cell_type": "code",
   "execution_count": null,
   "metadata": {},
   "outputs": [],
   "source": [
    "from sklearn.metrics import mean_absolute_error, mean_squared_error, mean_absolute_percentage_error\n",
    "\n",
    "'''\n",
    "# Calculate MAE, RMSE, and MAPE for the specific column ('BTC_USD')\n",
    "mae = mean_absolute_error(df_endog_test.BTC_USD, forecast_df.BTC_USD)\n",
    "rmse = np.sqrt(mean_squared_error(df_endog_test.BTC_USD, forecast_df.BTC_USD))\n",
    "mape = mean_absolute_percentage_error(df_endog_test.BTC_USD, forecast_df.BTC_USD)\n",
    "\n",
    "# Print the results\n",
    "print(\"Mean Absolute Error (MAE):\", mae)\n",
    "print(\"Root Mean Squared Error (RMSE):\", rmse)\n",
    "print(\"Mean Absolute Percentage Error (MAPE):\", mape)\n",
    "'''"
   ]
  },
  {
   "cell_type": "code",
   "execution_count": 30,
   "metadata": {},
   "outputs": [],
   "source": [
    "def forecast_accuracy(forecast, actual):\n",
    "    forecast = forecast.values\n",
    "    actual = actual.values\n",
    "    mape = np.mean(np.abs(forecast - actual)/np.abs(actual))    # MAPE Mean Absolute Percentage Error\n",
    "    me = np.mean(forecast - actual)                             # ME Mean Error\n",
    "    mae = np.mean(np.abs(forecast - actual))    # MAE Mean Absolute Error \n",
    "    mpe = np.mean((forecast - actual)/actual)   # MPE Mean Percentage Error\n",
    "    rmse = np.mean((forecast - actual)**2)**.5  # RMSE Root Mean Squared Error\n",
    "    corr = np.corrcoef(forecast, actual)[0,1]   # corr Correlation\n",
    "    mins = np.amin(np.hstack([forecast[:,None], actual[:,None]]), axis=1)\n",
    "    maxs = np.amax(np.hstack([forecast[:,None], actual[:,None]]), axis=1)\n",
    "    minmax = 1 - np.mean(mins/maxs)             # minmax\n",
    "    return({'mape':mape, 'me':me, 'mae': mae, 'mpe': mpe, 'rmse':rmse, 'corr':corr, 'minmax':minmax})"
   ]
  },
  {
   "cell_type": "markdown",
   "metadata": {},
   "source": [
    "**MAPE (Mean absolute percentage error)** It considers actual values fed into model and fitted values from the model and calculates absolute difference between the two as a percentage of actual value and finally calculates mean of that."
   ]
  },
  {
   "cell_type": "code",
   "execution_count": 83,
   "metadata": {},
   "outputs": [
    {
     "data": {
      "text/plain": [
       "{'mape': 1.2160985815670697,\n",
       " 'me': -0.003262253119425895,\n",
       " 'mae': 0.03151828828463954,\n",
       " 'mpe': -1.1820933471595054,\n",
       " 'rmse': 0.043457818752199395,\n",
       " 'corr': -0.17855326886332906,\n",
       " 'minmax': 11.12301564884078}"
      ]
     },
     "execution_count": 83,
     "metadata": {},
     "output_type": "execute_result"
    }
   ],
   "source": [
    "forecast_accuracy(yhat, df_endog_test.BTC_USD)"
   ]
  },
  {
   "cell_type": "code",
   "execution_count": 84,
   "metadata": {},
   "outputs": [
    {
     "data": {
      "text/plain": [
       "<matplotlib.legend.Legend at 0x1c381d77810>"
      ]
     },
     "execution_count": 84,
     "metadata": {},
     "output_type": "execute_result"
    },
    {
     "data": {
      "image/png": "[encoded data removed]",
      "text/plain": [
       "<Figure size 1200x600 with 1 Axes>"
      ]
     },
     "metadata": {},
     "output_type": "display_data"
    }
   ],
   "source": [
    "plt.figure(figsize=(12, 6))\n",
    "plt.plot(df_endog_test.BTC_USD, color='blue', label='Real Data')\n",
    "plt.plot(yhat, color='red', linestyle='dashed', label='Forecasted Data')\n",
    "plt.legend()"
   ]
  },
  {
   "cell_type": "markdown",
   "metadata": {},
   "source": [
    "## Undo Data Transformations"
   ]
  },
  {
   "cell_type": "code",
   "execution_count": 46,
   "metadata": {},
   "outputs": [],
   "source": [
    "opencsv_real_btc_price = pd.read_csv(r\"D:\\OneDrive - Instituto Politecnico de Castelo Branco\\002_Learning\\001_Pos_Graduacao\\Ciclo 5 - Projeto Final\\ProjetoFinal-PosGraduacaoEngenhariaFinanceira\\df_weekly.csv\", sep=\",\")\n",
    "opencsv_real_btc_price = opencsv_real_btc_price[[\"Date\", \"BTC_USD\"]]\n",
    "opencsv_real_btc_price.set_index('Date', inplace=True)\n",
    "opencsv_real_btc_price.index = pd.to_datetime(opencsv_real_btc_price.index)\n",
    "opencsv_real_btc_price = opencsv_real_btc_price.astype(float)"
   ]
  },
  {
   "cell_type": "code",
   "execution_count": 65,
   "metadata": {},
   "outputs": [],
   "source": [
    "# Assuming these are available from your original data processing steps\n",
    "\n",
    "start_forecast = df_endog_test.index[0]\n",
    "finnish_forecast = df_endog_test.index[-1]\n",
    "\n",
    "ts = opencsv_real_btc_price.BTC_USD\n",
    "ts = ts.loc[start_forecast:finnish_forecast]\n",
    "\n",
    "mu = ts.mean()\n",
    "sigma = ts.std()\n",
    "\n",
    "normalized_ts = (ts - mu) / sigma\n",
    "\n",
    "differenced_ts = normalized_ts.diff()\n",
    "\n",
    "def revert_transformations(transformed_ts, original_ts):\n",
    "    # Get the mean and standard deviation of the original series\n",
    "    mu = original_ts.mean()\n",
    "    sigma = original_ts.std()\n",
    "    \n",
    "    # Step 1: Undo the differencing\n",
    "    undifferenced = transformed_ts.cumsum()\n",
    "    \n",
    "    # Add back the first value of the normalized series\n",
    "    normalized_start = (original_ts.iloc[0] - mu) / sigma\n",
    "    undifferenced = normalized_start + undifferenced\n",
    "    \n",
    "    # Step 2: Undo the normalization\n",
    "    reverted = (undifferenced * sigma) + mu\n",
    "    \n",
    "    # Ensure the index matches the original series\n",
    "    return reverted.reindex(original_ts.index)"
   ]
  },
  {
   "cell_type": "markdown",
   "metadata": {},
   "source": [
    "#### Exemplo"
   ]
  },
  {
   "cell_type": "code",
   "execution_count": 25,
   "metadata": {},
   "outputs": [
    {
     "data": {
      "application/vnd.plotly.v1+json": {
       "config": {
        "plotlyServerURL": "https://plot.ly"
       },
       "data": [
        {
         "hovertemplate": "x=%{x}<br>y=%{y}<extra></extra>",
         "legendgroup": "",
         "marker": {
          "color": "#636efa",
          "symbol": "circle"
         },
         "mode": "markers",
         "name": "",
         "orientation": "v",
         "showlegend": false,
         "type": "scatter",
         "x": [
          27441.41,
          27493.01,
          28474.62,
          27927.8,
          30491.71,
          27261.17,
          29339.99,
          29548.51,
          26807.09,
          26888.42,
          26719.7,
          27251.14,
          26483.81,
          26330.59,
          30705.39,
          30471.06,
          30349.69,
          30331.09,
          29911.46,
          29316.82,
          29078.51,
          29403.56,
          26049.69,
          26051.29,
          25798.79,
          25907.13,
          26605.49,
          26583.16,
          26909.4,
          27946.61,
          26862.9,
          29684.37,
          33907.7,
          34732.28,
          37321.51,
          36626.32,
          37737.05,
          38699.84,
          44186.18,
          41939.16,
          44008.04,
          42073.59,
          44178.89,
          42776.42,
          41625.47,
          41816.55,
          43181.71,
          47154.23,
          52163.28,
          50744.07,
          62431.25,
          68269.39,
          69497.39,
          63816.99,
          69903.72,
          67860.53,
          67158.3,
          63848.26,
          63750.63,
          62917.45,
          60790.82,
          67051.35,
          68548.33,
          67482.25,
          69330.51,
          66006.13,
          64119.34,
          60324.3,
          56646.24,
          57913.68,
          66708.49,
          67925.17
         ],
         "xaxis": "x",
         "y": [
          27441.41,
          27493.01,
          28474.62,
          27927.8,
          30491.71,
          27261.17,
          29339.99,
          29548.51,
          26807.09,
          26888.42,
          26719.7,
          27251.14,
          26483.81,
          26330.59,
          30705.39,
          30471.06,
          30349.69,
          30331.09,
          29911.46,
          29316.82,
          29078.51,
          29403.56,
          26049.69,
          26051.29,
          25798.79,
          25907.13,
          26605.49,
          26583.16,
          26909.4,
          27946.61,
          26862.9,
          29684.37,
          33907.7,
          34732.28,
          37321.51,
          36626.31999999999,
          37737.05,
          38699.83999999999,
          44186.17999999999,
          41939.16,
          44008.04,
          42073.59,
          44178.88999999999,
          42776.41999999999,
          41625.469999999994,
          41816.549999999996,
          43181.70999999999,
          47154.229999999996,
          52163.27999999999,
          50744.06999999999,
          62431.249999999985,
          68269.38999999998,
          69497.38999999998,
          63816.98999999999,
          69903.72,
          67860.53,
          67158.3,
          63848.26,
          63750.63,
          62917.45,
          60790.82,
          67051.35,
          68548.33,
          67482.25,
          69330.51,
          66006.13,
          64119.34,
          60324.3,
          56646.24,
          57913.68000000001,
          66708.49,
          67925.17
         ],
         "yaxis": "y"
        },
        {
         "hovertemplate": "<b>OLS trendline</b><br>y = 1 * x + 6.82121e-12<br>R<sup>2</sup>=1.000000<br><br>x=%{x}<br>y=%{y} <b>(trend)</b><extra></extra>",
         "legendgroup": "",
         "line": {
          "color": "black"
         },
         "marker": {
          "color": "#636efa",
          "symbol": "circle"
         },
         "mode": "lines",
         "name": "",
         "showlegend": false,
         "type": "scatter",
         "x": [
          25798.79,
          25907.13,
          26049.69,
          26051.29,
          26330.59,
          26483.81,
          26583.16,
          26605.49,
          26719.7,
          26807.09,
          26862.9,
          26888.42,
          26909.4,
          27251.14,
          27261.17,
          27441.41,
          27493.01,
          27927.8,
          27946.61,
          28474.62,
          29078.51,
          29316.82,
          29339.99,
          29403.56,
          29548.51,
          29684.37,
          29911.46,
          30331.09,
          30349.69,
          30471.06,
          30491.71,
          30705.39,
          33907.7,
          34732.28,
          36626.32,
          37321.51,
          37737.05,
          38699.84,
          41625.47,
          41816.55,
          41939.16,
          42073.59,
          42776.42,
          43181.71,
          44008.04,
          44178.89,
          44186.18,
          47154.23,
          50744.07,
          52163.28,
          56646.24,
          57913.68,
          60324.3,
          60790.82,
          62431.25,
          62917.45,
          63750.63,
          63816.99,
          63848.26,
          64119.34,
          66006.13,
          66708.49,
          67051.35,
          67158.3,
          67482.25,
          67860.53,
          67925.17,
          68269.39,
          68548.33,
          69330.51,
          69497.39,
          69903.72
         ],
         "xaxis": "x",
         "y": [
          25798.79,
          25907.13,
          26049.69,
          26051.29,
          26330.59,
          26483.81,
          26583.16,
          26605.49,
          26719.7,
          26807.09,
          26862.9,
          26888.42,
          26909.4,
          27251.14,
          27261.17,
          27441.41,
          27493.01,
          27927.8,
          27946.61,
          28474.62,
          29078.51,
          29316.82,
          29339.99,
          29403.56,
          29548.51,
          29684.37,
          29911.46,
          30331.09,
          30349.69,
          30471.06,
          30491.71,
          30705.39,
          33907.7,
          34732.28,
          36626.32,
          37321.51,
          37737.05,
          38699.84,
          41625.47,
          41816.55,
          41939.16,
          42073.59,
          42776.42,
          43181.71,
          44008.04,
          44178.89,
          44186.18,
          47154.23,
          50744.06999999999,
          52163.27999999999,
          56646.23999999999,
          57913.67999999999,
          60324.299999999996,
          60790.81999999999,
          62431.24999999999,
          62917.44999999999,
          63750.62999999999,
          63816.98999999999,
          63848.259999999995,
          64119.33999999999,
          66006.12999999999,
          66708.48999999999,
          67051.34999999999,
          67158.29999999999,
          67482.24999999999,
          67860.52999999998,
          67925.16999999998,
          68269.38999999998,
          68548.32999999999,
          69330.50999999998,
          69497.38999999998,
          69903.71999999999
         ],
         "yaxis": "y"
        }
       ],
       "layout": {
        "height": 500,
        "legend": {
         "tracegroupgap": 0
        },
        "template": {
         "data": {
          "bar": [
           {
            "error_x": {
             "color": "rgb(36,36,36)"
            },
            "error_y": {
             "color": "rgb(36,36,36)"
            },
            "marker": {
             "line": {
              "color": "rgb(234,234,242)",
              "width": 0.5
             },
             "pattern": {
              "fillmode": "overlay",
              "size": 10,
              "solidity": 0.2
             }
            },
            "type": "bar"
           }
          ],
          "barpolar": [
           {
            "marker": {
             "line": {
              "color": "rgb(234,234,242)",
              "width": 0.5
             },
             "pattern": {
              "fillmode": "overlay",
              "size": 10,
              "solidity": 0.2
             }
            },
            "type": "barpolar"
           }
          ],
          "carpet": [
           {
            "aaxis": {
             "endlinecolor": "rgb(36,36,36)",
             "gridcolor": "white",
             "linecolor": "white",
             "minorgridcolor": "white",
             "startlinecolor": "rgb(36,36,36)"
            },
            "baxis": {
             "endlinecolor": "rgb(36,36,36)",
             "gridcolor": "white",
             "linecolor": "white",
             "minorgridcolor": "white",
             "startlinecolor": "rgb(36,36,36)"
            },
            "type": "carpet"
           }
          ],
          "choropleth": [
           {
            "colorbar": {
             "outlinewidth": 0,
             "tickcolor": "rgb(36,36,36)",
             "ticklen": 8,
             "ticks": "outside",
             "tickwidth": 2
            },
            "type": "choropleth"
           }
          ],
          "contour": [
           {
            "colorbar": {
             "outlinewidth": 0,
             "tickcolor": "rgb(36,36,36)",
             "ticklen": 8,
             "ticks": "outside",
             "tickwidth": 2
            },
            "colorscale": [
             [
              0,
              "rgb(2,4,25)"
             ],
             [
              0.06274509803921569,
              "rgb(24,15,41)"
             ],
             [
              0.12549019607843137,
              "rgb(47,23,57)"
             ],
             [
              0.18823529411764706,
              "rgb(71,28,72)"
             ],
             [
              0.25098039215686274,
              "rgb(97,30,82)"
             ],
             [
              0.3137254901960784,
              "rgb(123,30,89)"
             ],
             [
              0.3764705882352941,
              "rgb(150,27,91)"
             ],
             [
              0.4392156862745098,
              "rgb(177,22,88)"
             ],
             [
              0.5019607843137255,
              "rgb(203,26,79)"
             ],
             [
              0.5647058823529412,
              "rgb(223,47,67)"
             ],
             [
              0.6274509803921569,
              "rgb(236,76,61)"
             ],
             [
              0.6901960784313725,
              "rgb(242,107,73)"
             ],
             [
              0.7529411764705882,
              "rgb(244,135,95)"
             ],
             [
              0.8156862745098039,
              "rgb(245,162,122)"
             ],
             [
              0.8784313725490196,
              "rgb(246,188,153)"
             ],
             [
              0.9411764705882353,
              "rgb(247,212,187)"
             ],
             [
              1,
              "rgb(250,234,220)"
             ]
            ],
            "type": "contour"
           }
          ],
          "contourcarpet": [
           {
            "colorbar": {
             "outlinewidth": 0,
             "tickcolor": "rgb(36,36,36)",
             "ticklen": 8,
             "ticks": "outside",
             "tickwidth": 2
            },
            "type": "contourcarpet"
           }
          ],
          "heatmap": [
           {
            "colorbar": {
             "outlinewidth": 0,
             "tickcolor": "rgb(36,36,36)",
             "ticklen": 8,
             "ticks": "outside",
             "tickwidth": 2
            },
            "colorscale": [
             [
              0,
              "rgb(2,4,25)"
             ],
             [
              0.06274509803921569,
              "rgb(24,15,41)"
             ],
             [
              0.12549019607843137,
              "rgb(47,23,57)"
             ],
             [
              0.18823529411764706,
              "rgb(71,28,72)"
             ],
             [
              0.25098039215686274,
              "rgb(97,30,82)"
             ],
             [
              0.3137254901960784,
              "rgb(123,30,89)"
             ],
             [
              0.3764705882352941,
              "rgb(150,27,91)"
             ],
             [
              0.4392156862745098,
              "rgb(177,22,88)"
             ],
             [
              0.5019607843137255,
              "rgb(203,26,79)"
             ],
             [
              0.5647058823529412,
              "rgb(223,47,67)"
             ],
             [
              0.6274509803921569,
              "rgb(236,76,61)"
             ],
             [
              0.6901960784313725,
              "rgb(242,107,73)"
             ],
             [
              0.7529411764705882,
              "rgb(244,135,95)"
             ],
             [
              0.8156862745098039,
              "rgb(245,162,122)"
             ],
             [
              0.8784313725490196,
              "rgb(246,188,153)"
             ],
             [
              0.9411764705882353,
              "rgb(247,212,187)"
             ],
             [
              1,
              "rgb(250,234,220)"
             ]
            ],
            "type": "heatmap"
           }
          ],
          "heatmapgl": [
           {
            "colorbar": {
             "outlinewidth": 0,
             "tickcolor": "rgb(36,36,36)",
             "ticklen": 8,
             "ticks": "outside",
             "tickwidth": 2
            },
            "colorscale": [
             [
              0,
              "rgb(2,4,25)"
             ],
             [
              0.06274509803921569,
              "rgb(24,15,41)"
             ],
             [
              0.12549019607843137,
              "rgb(47,23,57)"
             ],
             [
              0.18823529411764706,
              "rgb(71,28,72)"
             ],
             [
              0.25098039215686274,
              "rgb(97,30,82)"
             ],
             [
              0.3137254901960784,
              "rgb(123,30,89)"
             ],
             [
              0.3764705882352941,
              "rgb(150,27,91)"
             ],
             [
              0.4392156862745098,
              "rgb(177,22,88)"
             ],
             [
              0.5019607843137255,
              "rgb(203,26,79)"
             ],
             [
              0.5647058823529412,
              "rgb(223,47,67)"
             ],
             [
              0.6274509803921569,
              "rgb(236,76,61)"
             ],
             [
              0.6901960784313725,
              "rgb(242,107,73)"
             ],
             [
              0.7529411764705882,
              "rgb(244,135,95)"
             ],
             [
              0.8156862745098039,
              "rgb(245,162,122)"
             ],
             [
              0.8784313725490196,
              "rgb(246,188,153)"
             ],
             [
              0.9411764705882353,
              "rgb(247,212,187)"
             ],
             [
              1,
              "rgb(250,234,220)"
             ]
            ],
            "type": "heatmapgl"
           }
          ],
          "histogram": [
           {
            "marker": {
             "pattern": {
              "fillmode": "overlay",
              "size": 10,
              "solidity": 0.2
             }
            },
            "type": "histogram"
           }
          ],
          "histogram2d": [
           {
            "colorbar": {
             "outlinewidth": 0,
             "tickcolor": "rgb(36,36,36)",
             "ticklen": 8,
             "ticks": "outside",
             "tickwidth": 2
            },
            "colorscale": [
             [
              0,
              "rgb(2,4,25)"
             ],
             [
              0.06274509803921569,
              "rgb(24,15,41)"
             ],
             [
              0.12549019607843137,
              "rgb(47,23,57)"
             ],
             [
              0.18823529411764706,
              "rgb(71,28,72)"
             ],
             [
              0.25098039215686274,
              "rgb(97,30,82)"
             ],
             [
              0.3137254901960784,
              "rgb(123,30,89)"
             ],
             [
              0.3764705882352941,
              "rgb(150,27,91)"
             ],
             [
              0.4392156862745098,
              "rgb(177,22,88)"
             ],
             [
              0.5019607843137255,
              "rgb(203,26,79)"
             ],
             [
              0.5647058823529412,
              "rgb(223,47,67)"
             ],
             [
              0.6274509803921569,
              "rgb(236,76,61)"
             ],
             [
              0.6901960784313725,
              "rgb(242,107,73)"
             ],
             [
              0.7529411764705882,
              "rgb(244,135,95)"
             ],
             [
              0.8156862745098039,
              "rgb(245,162,122)"
             ],
             [
              0.8784313725490196,
              "rgb(246,188,153)"
             ],
             [
              0.9411764705882353,
              "rgb(247,212,187)"
             ],
             [
              1,
              "rgb(250,234,220)"
             ]
            ],
            "type": "histogram2d"
           }
          ],
          "histogram2dcontour": [
           {
            "colorbar": {
             "outlinewidth": 0,
             "tickcolor": "rgb(36,36,36)",
             "ticklen": 8,
             "ticks": "outside",
             "tickwidth": 2
            },
            "colorscale": [
             [
              0,
              "rgb(2,4,25)"
             ],
             [
              0.06274509803921569,
              "rgb(24,15,41)"
             ],
             [
              0.12549019607843137,
              "rgb(47,23,57)"
             ],
             [
              0.18823529411764706,
              "rgb(71,28,72)"
             ],
             [
              0.25098039215686274,
              "rgb(97,30,82)"
             ],
             [
              0.3137254901960784,
              "rgb(123,30,89)"
             ],
             [
              0.3764705882352941,
              "rgb(150,27,91)"
             ],
             [
              0.4392156862745098,
              "rgb(177,22,88)"
             ],
             [
              0.5019607843137255,
              "rgb(203,26,79)"
             ],
             [
              0.5647058823529412,
              "rgb(223,47,67)"
             ],
             [
              0.6274509803921569,
              "rgb(236,76,61)"
             ],
             [
              0.6901960784313725,
              "rgb(242,107,73)"
             ],
             [
              0.7529411764705882,
              "rgb(244,135,95)"
             ],
             [
              0.8156862745098039,
              "rgb(245,162,122)"
             ],
             [
              0.8784313725490196,
              "rgb(246,188,153)"
             ],
             [
              0.9411764705882353,
              "rgb(247,212,187)"
             ],
             [
              1,
              "rgb(250,234,220)"
             ]
            ],
            "type": "histogram2dcontour"
           }
          ],
          "mesh3d": [
           {
            "colorbar": {
             "outlinewidth": 0,
             "tickcolor": "rgb(36,36,36)",
             "ticklen": 8,
             "ticks": "outside",
             "tickwidth": 2
            },
            "type": "mesh3d"
           }
          ],
          "parcoords": [
           {
            "line": {
             "colorbar": {
              "outlinewidth": 0,
              "tickcolor": "rgb(36,36,36)",
              "ticklen": 8,
              "ticks": "outside",
              "tickwidth": 2
             }
            },
            "type": "parcoords"
           }
          ],
          "pie": [
           {
            "automargin": true,
            "type": "pie"
           }
          ],
          "scatter": [
           {
            "fillpattern": {
             "fillmode": "overlay",
             "size": 10,
             "solidity": 0.2
            },
            "type": "scatter"
           }
          ],
          "scatter3d": [
           {
            "line": {
             "colorbar": {
              "outlinewidth": 0,
              "tickcolor": "rgb(36,36,36)",
              "ticklen": 8,
              "ticks": "outside",
              "tickwidth": 2
             }
            },
            "marker": {
             "colorbar": {
              "outlinewidth": 0,
              "tickcolor": "rgb(36,36,36)",
              "ticklen": 8,
              "ticks": "outside",
              "tickwidth": 2
             }
            },
            "type": "scatter3d"
           }
          ],
          "scattercarpet": [
           {
            "marker": {
             "colorbar": {
              "outlinewidth": 0,
              "tickcolor": "rgb(36,36,36)",
              "ticklen": 8,
              "ticks": "outside",
              "tickwidth": 2
             }
            },
            "type": "scattercarpet"
           }
          ],
          "scattergeo": [
           {
            "marker": {
             "colorbar": {
              "outlinewidth": 0,
              "tickcolor": "rgb(36,36,36)",
              "ticklen": 8,
              "ticks": "outside",
              "tickwidth": 2
             }
            },
            "type": "scattergeo"
           }
          ],
          "scattergl": [
           {
            "marker": {
             "colorbar": {
              "outlinewidth": 0,
              "tickcolor": "rgb(36,36,36)",
              "ticklen": 8,
              "ticks": "outside",
              "tickwidth": 2
             }
            },
            "type": "scattergl"
           }
          ],
          "scattermapbox": [
           {
            "marker": {
             "colorbar": {
              "outlinewidth": 0,
              "tickcolor": "rgb(36,36,36)",
              "ticklen": 8,
              "ticks": "outside",
              "tickwidth": 2
             }
            },
            "type": "scattermapbox"
           }
          ],
          "scatterpolar": [
           {
            "marker": {
             "colorbar": {
              "outlinewidth": 0,
              "tickcolor": "rgb(36,36,36)",
              "ticklen": 8,
              "ticks": "outside",
              "tickwidth": 2
             }
            },
            "type": "scatterpolar"
           }
          ],
          "scatterpolargl": [
           {
            "marker": {
             "colorbar": {
              "outlinewidth": 0,
              "tickcolor": "rgb(36,36,36)",
              "ticklen": 8,
              "ticks": "outside",
              "tickwidth": 2
             }
            },
            "type": "scatterpolargl"
           }
          ],
          "scatterternary": [
           {
            "marker": {
             "colorbar": {
              "outlinewidth": 0,
              "tickcolor": "rgb(36,36,36)",
              "ticklen": 8,
              "ticks": "outside",
              "tickwidth": 2
             }
            },
            "type": "scatterternary"
           }
          ],
          "surface": [
           {
            "colorbar": {
             "outlinewidth": 0,
             "tickcolor": "rgb(36,36,36)",
             "ticklen": 8,
             "ticks": "outside",
             "tickwidth": 2
            },
            "colorscale": [
             [
              0,
              "rgb(2,4,25)"
             ],
             [
              0.06274509803921569,
              "rgb(24,15,41)"
             ],
             [
              0.12549019607843137,
              "rgb(47,23,57)"
             ],
             [
              0.18823529411764706,
              "rgb(71,28,72)"
             ],
             [
              0.25098039215686274,
              "rgb(97,30,82)"
             ],
             [
              0.3137254901960784,
              "rgb(123,30,89)"
             ],
             [
              0.3764705882352941,
              "rgb(150,27,91)"
             ],
             [
              0.4392156862745098,
              "rgb(177,22,88)"
             ],
             [
              0.5019607843137255,
              "rgb(203,26,79)"
             ],
             [
              0.5647058823529412,
              "rgb(223,47,67)"
             ],
             [
              0.6274509803921569,
              "rgb(236,76,61)"
             ],
             [
              0.6901960784313725,
              "rgb(242,107,73)"
             ],
             [
              0.7529411764705882,
              "rgb(244,135,95)"
             ],
             [
              0.8156862745098039,
              "rgb(245,162,122)"
             ],
             [
              0.8784313725490196,
              "rgb(246,188,153)"
             ],
             [
              0.9411764705882353,
              "rgb(247,212,187)"
             ],
             [
              1,
              "rgb(250,234,220)"
             ]
            ],
            "type": "surface"
           }
          ],
          "table": [
           {
            "cells": {
             "fill": {
              "color": "rgb(231,231,240)"
             },
             "line": {
              "color": "white"
             }
            },
            "header": {
             "fill": {
              "color": "rgb(183,183,191)"
             },
             "line": {
              "color": "white"
             }
            },
            "type": "table"
           }
          ]
         },
         "layout": {
          "annotationdefaults": {
           "arrowcolor": "rgb(67,103,167)"
          },
          "autotypenumbers": "strict",
          "coloraxis": {
           "colorbar": {
            "outlinewidth": 0,
            "tickcolor": "rgb(36,36,36)",
            "ticklen": 8,
            "ticks": "outside",
            "tickwidth": 2
           }
          },
          "colorscale": {
           "sequential": [
            [
             0,
             "rgb(2,4,25)"
            ],
            [
             0.06274509803921569,
             "rgb(24,15,41)"
            ],
            [
             0.12549019607843137,
             "rgb(47,23,57)"
            ],
            [
             0.18823529411764706,
             "rgb(71,28,72)"
            ],
            [
             0.25098039215686274,
             "rgb(97,30,82)"
            ],
            [
             0.3137254901960784,
             "rgb(123,30,89)"
            ],
            [
             0.3764705882352941,
             "rgb(150,27,91)"
            ],
            [
             0.4392156862745098,
             "rgb(177,22,88)"
            ],
            [
             0.5019607843137255,
             "rgb(203,26,79)"
            ],
            [
             0.5647058823529412,
             "rgb(223,47,67)"
            ],
            [
             0.6274509803921569,
             "rgb(236,76,61)"
            ],
            [
             0.6901960784313725,
             "rgb(242,107,73)"
            ],
            [
             0.7529411764705882,
             "rgb(244,135,95)"
            ],
            [
             0.8156862745098039,
             "rgb(245,162,122)"
            ],
            [
             0.8784313725490196,
             "rgb(246,188,153)"
            ],
            [
             0.9411764705882353,
             "rgb(247,212,187)"
            ],
            [
             1,
             "rgb(250,234,220)"
            ]
           ],
           "sequentialminus": [
            [
             0,
             "rgb(2,4,25)"
            ],
            [
             0.06274509803921569,
             "rgb(24,15,41)"
            ],
            [
             0.12549019607843137,
             "rgb(47,23,57)"
            ],
            [
             0.18823529411764706,
             "rgb(71,28,72)"
            ],
            [
             0.25098039215686274,
             "rgb(97,30,82)"
            ],
            [
             0.3137254901960784,
             "rgb(123,30,89)"
            ],
            [
             0.3764705882352941,
             "rgb(150,27,91)"
            ],
            [
             0.4392156862745098,
             "rgb(177,22,88)"
            ],
            [
             0.5019607843137255,
             "rgb(203,26,79)"
            ],
            [
             0.5647058823529412,
             "rgb(223,47,67)"
            ],
            [
             0.6274509803921569,
             "rgb(236,76,61)"
            ],
            [
             0.6901960784313725,
             "rgb(242,107,73)"
            ],
            [
             0.7529411764705882,
             "rgb(244,135,95)"
            ],
            [
             0.8156862745098039,
             "rgb(245,162,122)"
            ],
            [
             0.8784313725490196,
             "rgb(246,188,153)"
            ],
            [
             0.9411764705882353,
             "rgb(247,212,187)"
            ],
            [
             1,
             "rgb(250,234,220)"
            ]
           ]
          },
          "colorway": [
           "rgb(76,114,176)",
           "rgb(221,132,82)",
           "rgb(85,168,104)",
           "rgb(196,78,82)",
           "rgb(129,114,179)",
           "rgb(147,120,96)",
           "rgb(218,139,195)",
           "rgb(140,140,140)",
           "rgb(204,185,116)",
           "rgb(100,181,205)"
          ],
          "font": {
           "color": "rgb(36,36,36)"
          },
          "geo": {
           "bgcolor": "white",
           "lakecolor": "white",
           "landcolor": "rgb(234,234,242)",
           "showlakes": true,
           "showland": true,
           "subunitcolor": "white"
          },
          "hoverlabel": {
           "align": "left"
          },
          "hovermode": "closest",
          "paper_bgcolor": "white",
          "plot_bgcolor": "rgb(234,234,242)",
          "polar": {
           "angularaxis": {
            "gridcolor": "white",
            "linecolor": "white",
            "showgrid": true,
            "ticks": ""
           },
           "bgcolor": "rgb(234,234,242)",
           "radialaxis": {
            "gridcolor": "white",
            "linecolor": "white",
            "showgrid": true,
            "ticks": ""
           }
          },
          "scene": {
           "xaxis": {
            "backgroundcolor": "rgb(234,234,242)",
            "gridcolor": "white",
            "gridwidth": 2,
            "linecolor": "white",
            "showbackground": true,
            "showgrid": true,
            "ticks": "",
            "zerolinecolor": "white"
           },
           "yaxis": {
            "backgroundcolor": "rgb(234,234,242)",
            "gridcolor": "white",
            "gridwidth": 2,
            "linecolor": "white",
            "showbackground": true,
            "showgrid": true,
            "ticks": "",
            "zerolinecolor": "white"
           },
           "zaxis": {
            "backgroundcolor": "rgb(234,234,242)",
            "gridcolor": "white",
            "gridwidth": 2,
            "linecolor": "white",
            "showbackground": true,
            "showgrid": true,
            "ticks": "",
            "zerolinecolor": "white"
           }
          },
          "shapedefaults": {
           "fillcolor": "rgb(67,103,167)",
           "line": {
            "width": 0
           },
           "opacity": 0.5
          },
          "ternary": {
           "aaxis": {
            "gridcolor": "white",
            "linecolor": "white",
            "showgrid": true,
            "ticks": ""
           },
           "baxis": {
            "gridcolor": "white",
            "linecolor": "white",
            "showgrid": true,
            "ticks": ""
           },
           "bgcolor": "rgb(234,234,242)",
           "caxis": {
            "gridcolor": "white",
            "linecolor": "white",
            "showgrid": true,
            "ticks": ""
           }
          },
          "xaxis": {
           "automargin": true,
           "gridcolor": "white",
           "linecolor": "white",
           "showgrid": true,
           "ticks": "",
           "title": {
            "standoff": 15
           },
           "zerolinecolor": "white"
          },
          "yaxis": {
           "automargin": true,
           "gridcolor": "white",
           "linecolor": "white",
           "showgrid": true,
           "ticks": "",
           "title": {
            "standoff": 15
           },
           "zerolinecolor": "white"
          }
         }
        },
        "title": {
         "text": "regressão linear OLS"
        },
        "width": 900,
        "xaxis": {
         "anchor": "y",
         "domain": [
          0,
          1
         ],
         "title": {
          "text": "x"
         }
        },
        "yaxis": {
         "anchor": "x",
         "domain": [
          0,
          1
         ],
         "title": {
          "text": "y"
         }
        }
       }
      }
     },
     "metadata": {},
     "output_type": "display_data"
    }
   ],
   "source": [
    "# Usage example:\n",
    "reverted_ts = revert_transformations(differenced_ts, ts)\n",
    "\n",
    "compare_df = pd.DataFrame()\n",
    "\n",
    "compare_df[\"x_axis\"] = ts\n",
    "compare_df[\"y_axis\"] = reverted_ts\n",
    "compare_df = compare_df.dropna()\n",
    "\n",
    "main.dispersion_map(compare_df,compare_df[\"x_axis\"], compare_df[\"y_axis\"])\n",
    "\n",
    "# a destransformaçao funciona impecavel"
   ]
  },
  {
   "cell_type": "markdown",
   "metadata": {},
   "source": [
    "#### real"
   ]
  },
  {
   "cell_type": "code",
   "execution_count": 85,
   "metadata": {},
   "outputs": [
    {
     "data": {
      "text/plain": [
       "Date\n",
       "2019-01-25    3598.046182\n",
       "2019-02-01    3633.150508\n",
       "2019-02-08    3615.105977\n",
       "2019-02-15    3601.275070\n",
       "2019-02-22    3602.903938\n",
       "Name: BTC_USD, dtype: float64"
      ]
     },
     "execution_count": 85,
     "metadata": {},
     "output_type": "execute_result"
    }
   ],
   "source": [
    "# Un Transform forecast data\n",
    "\n",
    "reverted_yhat = revert_transformations(yhat, ts)\n",
    "reverted_yhat.head()"
   ]
  },
  {
   "cell_type": "code",
   "execution_count": 86,
   "metadata": {},
   "outputs": [
    {
     "data": {
      "image/png": "[encoded data removed]",
      "text/plain": [
       "<Figure size 1200x600 with 1 Axes>"
      ]
     },
     "metadata": {},
     "output_type": "display_data"
    }
   ],
   "source": [
    "# Plot the real data\n",
    "plt.figure(figsize=(12, 6))\n",
    "\n",
    "# Plot trained data\n",
    "trained_data = opencsv_real_btc_price.loc[df_endog_train.index[0]:start_forecast]\n",
    "plt.plot(trained_data.index, trained_data, color='black', label='Trained Data')\n",
    "\n",
    "# Plot the real data\n",
    "plt.plot(ts.index, ts, color='blue', label='Real Data')\n",
    "\n",
    "# Plot the forecasted data\n",
    "plt.plot(reverted_yhat.index, reverted_yhat, color='red', linestyle='dashed', label='Forecasted Data')\n",
    "\n",
    "# Add title and labels\n",
    "plt.title('Real vs Forecasted Data')\n",
    "plt.xlabel('Date')\n",
    "plt.ylabel('Value')\n",
    "\n",
    "# Add a legend\n",
    "plt.legend()\n",
    "\n",
    "# Show the plot\n",
    "plt.show()"
   ]
  }
 ],
 "metadata": {
  "kernelspec": {
   "display_name": "Python 3",
   "language": "python",
   "name": "python3"
  },
  "language_info": {
   "codemirror_mode": {
    "name": "ipython",
    "version": 3
   },
   "file_extension": ".py",
   "mimetype": "text/x-python",
   "name": "python",
   "nbconvert_exporter": "python",
   "pygments_lexer": "ipython3",
   "version": "3.11.6"
  }
 },
 "nbformat": 4,
 "nbformat_minor": 2
}
