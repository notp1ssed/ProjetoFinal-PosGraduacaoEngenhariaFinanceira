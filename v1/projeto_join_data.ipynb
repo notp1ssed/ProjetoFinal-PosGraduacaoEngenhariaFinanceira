{
 "cells": [
  {
   "cell_type": "markdown",
   "metadata": {},
   "source": [
    "### Merge de todos os dados num só CSV"
   ]
  },
  {
   "cell_type": "code",
   "execution_count": 1,
   "metadata": {},
   "outputs": [],
   "source": [
    "# Merge \"outer\" apanha todas as datas. Quando um não tem cotação ele coloca NaN (Not a Number)\n",
    "\n",
    "from pathlib import Path\n",
    "import glob\n",
    "import pandas as pd\n",
    "import numpy as np\n",
    "  \n",
    "import warnings\n",
    "warnings.filterwarnings('ignore')"
   ]
  },
  {
   "cell_type": "code",
   "execution_count": 2,
   "metadata": {},
   "outputs": [],
   "source": [
    "path = r\"D:\\OneDrive - Instituto Politecnico de Castelo Branco\\002_Learning\\001_Pos_Graduacao\\Ciclo 5 - Projeto Final\\ProjetoFinal-PosGraduacaoEngenhariaFinanceira\\economic_data\"\n",
    "files = Path(path).glob('*.csv')  # .rglob to get subdirectories\n",
    "\n",
    "dfs = []\n",
    "for file in files:\n",
    "    # Leitura do CSV\n",
    "    data = pd.read_csv(file)\n",
    "    \n",
    "    # Ajuste do nome da coluna de datas para um nome consistente\n",
    "    if 'DATE' in data.columns:\n",
    "        data.rename(columns={'DATE': 'Date'}, inplace=True)\n",
    "    \n",
    "    if 'date' in data.columns:\n",
    "        data.rename(columns={'date': 'Date'}, inplace=True)\n",
    "\n",
    "    data[\"Date\"] = pd.to_datetime(data.Date)\n",
    "\n",
    "    # Definir a coluna de datas como índice\n",
    "    data.set_index('Date', inplace=True)\n",
    "    \n",
    "    # Adicionar o DataFrame à lista\n",
    "    dfs.append(data)\n",
    "\n",
    "# Juntar todos os DataFrames usando o método \"outer\"\n",
    "df = pd.concat(dfs, axis=1, join='outer')"
   ]
  },
  {
   "cell_type": "code",
   "execution_count": 3,
   "metadata": {},
   "outputs": [
    {
     "name": "stdout",
     "output_type": "stream",
     "text": [
      "<class 'pandas.core.frame.DataFrame'>\n",
      "DatetimeIndex: 14469 entries, 1947-01-01 to 2024-08-05\n",
      "Data columns (total 24 columns):\n",
      " #   Column                   Non-Null Count  Dtype  \n",
      "---  ------                   --------------  -----  \n",
      " 0   10yr-2y_euro-area        5076 non-null   float64\n",
      " 1   10yr-2y_usa              12554 non-null  object \n",
      " 2   BalanceSheet_euro-area   1333 non-null   float64\n",
      " 3   BalanceSheet_global      2688 non-null   float64\n",
      " 4   BalanceSheet_japan       315 non-null    float64\n",
      " 5   BalanceSheet_usa         1126 non-null   float64\n",
      " 6   BTC_price                4602 non-null   float64\n",
      " 7   GDP_japan                121 non-null    float64\n",
      " 8   GDP_usa                  309 non-null    float64\n",
      " 9   GDP_euro-area            117 non-null    float64\n",
      " 10  Breakeven_inflation_usa  5618 non-null   object \n",
      " 11  CPI_euro-area            402 non-null    float64\n",
      " 12  CPI_japan                797 non-null    float64\n",
      " 13  CPI_usa                  830 non-null    float64\n",
      " 14  PMI_euro-area            205 non-null    float64\n",
      " 15  PMI_japan                198 non-null    float64\n",
      " 16  PMI_usa                  145 non-null    float64\n",
      " 17  EURUSD                   175 non-null    float64\n",
      " 18  JPYUSD                   175 non-null    float64\n",
      " 19  JPYEUR                   175 non-null    float64\n",
      " 20  SPY                      175 non-null    float64\n",
      " 21  QQQ                      175 non-null    float64\n",
      " 22  EXSA                     175 non-null    float64\n",
      " 23  JPXN                     175 non-null    float64\n",
      "dtypes: float64(22), object(2)\n",
      "memory usage: 2.8+ MB\n"
     ]
    }
   ],
   "source": [
    "df.info()"
   ]
  },
  {
   "cell_type": "code",
   "execution_count": 4,
   "metadata": {},
   "outputs": [],
   "source": [
    "df = df.loc[\"2010-01-01\":\"2024-06-30\"]"
   ]
  },
  {
   "cell_type": "code",
   "execution_count": 5,
   "metadata": {},
   "outputs": [
    {
     "name": "stdout",
     "output_type": "stream",
     "text": [
      "<class 'pandas.core.frame.DataFrame'>\n",
      "DatetimeIndex: 174 entries, 2010-01-31 to 2024-06-30\n",
      "Freq: ME\n",
      "Data columns (total 24 columns):\n",
      " #   Column                   Non-Null Count  Dtype  \n",
      "---  ------                   --------------  -----  \n",
      " 0   10yr-2y_euro-area        174 non-null    float64\n",
      " 1   10yr-2y_usa              174 non-null    object \n",
      " 2   BalanceSheet_euro-area   174 non-null    float64\n",
      " 3   BalanceSheet_global      174 non-null    float64\n",
      " 4   BalanceSheet_japan       174 non-null    float64\n",
      " 5   BalanceSheet_usa         174 non-null    float64\n",
      " 6   BTC_price                151 non-null    float64\n",
      " 7   GDP_japan                57 non-null     float64\n",
      " 8   GDP_usa                  57 non-null     float64\n",
      " 9   GDP_euro-area            57 non-null     float64\n",
      " 10  Breakeven_inflation_usa  174 non-null    object \n",
      " 11  CPI_euro-area            174 non-null    float64\n",
      " 12  CPI_japan                173 non-null    float64\n",
      " 13  CPI_usa                  171 non-null    float64\n",
      " 14  PMI_euro-area            174 non-null    float64\n",
      " 15  PMI_japan                174 non-null    float64\n",
      " 16  PMI_usa                  145 non-null    float64\n",
      " 17  EURUSD                   174 non-null    float64\n",
      " 18  JPYUSD                   174 non-null    float64\n",
      " 19  JPYEUR                   174 non-null    float64\n",
      " 20  SPY                      174 non-null    float64\n",
      " 21  QQQ                      174 non-null    float64\n",
      " 22  EXSA                     174 non-null    float64\n",
      " 23  JPXN                     174 non-null    float64\n",
      "dtypes: float64(22), object(2)\n",
      "memory usage: 34.0+ KB\n"
     ]
    }
   ],
   "source": [
    "df_mensal = df.resample(\"M\").last()\n",
    "df_mensal = df_mensal.dropna(how=\"all\")\n",
    "df_mensal.info()"
   ]
  },
  {
   "cell_type": "code",
   "execution_count": 15,
   "metadata": {},
   "outputs": [],
   "source": [
    "#df_mensal.to_csv(f\"df_mensal.csv\", date_format='%Y-%m-%d')"
   ]
  },
  {
   "cell_type": "code",
   "execution_count": 2,
   "metadata": {},
   "outputs": [
    {
     "name": "stdout",
     "output_type": "stream",
     "text": [
      "<class 'pandas.core.frame.DataFrame'>\n",
      "Index: 174 entries, 2010-01-31 to 2024-06-30\n",
      "Data columns (total 24 columns):\n",
      " #   Column                   Non-Null Count  Dtype  \n",
      "---  ------                   --------------  -----  \n",
      " 0   10yr-2y_euro-area        174 non-null    float64\n",
      " 1   10yr-2y_usa              169 non-null    float64\n",
      " 2   BalanceSheet_euro-area   174 non-null    float64\n",
      " 3   BalanceSheet_global      174 non-null    float64\n",
      " 4   BalanceSheet_japan       174 non-null    float64\n",
      " 5   BalanceSheet_usa         174 non-null    float64\n",
      " 6   BTC_price                151 non-null    float64\n",
      " 7   GDP_japan                57 non-null     float64\n",
      " 8   GDP_usa                  57 non-null     float64\n",
      " 9   GDP_euro-area            57 non-null     float64\n",
      " 10  Breakeven_inflation_usa  169 non-null    float64\n",
      " 11  CPI_euro-area            174 non-null    float64\n",
      " 12  CPI_japan                173 non-null    float64\n",
      " 13  CPI_usa                  171 non-null    float64\n",
      " 14  PMI_euro-area            174 non-null    float64\n",
      " 15  PMI_japan                174 non-null    float64\n",
      " 16  PMI_usa                  145 non-null    float64\n",
      " 17  EURUSD                   174 non-null    float64\n",
      " 18  JPYUSD                   174 non-null    float64\n",
      " 19  JPYEUR                   174 non-null    float64\n",
      " 20  SPY                      174 non-null    float64\n",
      " 21  QQQ                      174 non-null    float64\n",
      " 22  EXSA                     174 non-null    float64\n",
      " 23  JPXN                     174 non-null    float64\n",
      "dtypes: float64(24)\n",
      "memory usage: 34.0+ KB\n"
     ]
    }
   ],
   "source": [
    "opencsv = pd.read_csv(r'D:\\OneDrive - Instituto Politecnico de Castelo Branco\\002_Learning\\001_Pos_Graduacao\\Ciclo 5 - Projeto Final\\ProjetoFinal-PosGraduacaoEngenhariaFinanceira\\df_mensal.csv', delimiter=',')\n",
    "opencsv.set_index('Date', inplace=True)\n",
    "opencsv.replace(\".\", np.nan, inplace=True)\n",
    "opencsv = opencsv.astype(float)\n",
    "opencsv.info()"
   ]
  },
  {
   "cell_type": "code",
   "execution_count": 7,
   "metadata": {},
   "outputs": [
    {
     "data": {
      "text/html": [
       "<div>\n",
       "<style scoped>\n",
       "    .dataframe tbody tr th:only-of-type {\n",
       "        vertical-align: middle;\n",
       "    }\n",
       "\n",
       "    .dataframe tbody tr th {\n",
       "        vertical-align: top;\n",
       "    }\n",
       "\n",
       "    .dataframe thead th {\n",
       "        text-align: right;\n",
       "    }\n",
       "</style>\n",
       "<table border=\"1\" class=\"dataframe\">\n",
       "  <thead>\n",
       "    <tr style=\"text-align: right;\">\n",
       "      <th></th>\n",
       "      <th>10yr-2y_euro-area</th>\n",
       "      <th>10yr-2y_usa</th>\n",
       "      <th>BalanceSheet_euro-area</th>\n",
       "      <th>BalanceSheet_global</th>\n",
       "      <th>BalanceSheet_japan</th>\n",
       "      <th>BalanceSheet_usa</th>\n",
       "      <th>BTC_price</th>\n",
       "      <th>GDP_japan</th>\n",
       "      <th>GDP_usa</th>\n",
       "      <th>GDP_euro-area</th>\n",
       "      <th>...</th>\n",
       "      <th>PMI_euro-area</th>\n",
       "      <th>PMI_japan</th>\n",
       "      <th>PMI_usa</th>\n",
       "      <th>EURUSD</th>\n",
       "      <th>JPYUSD</th>\n",
       "      <th>JPYEUR</th>\n",
       "      <th>SPY</th>\n",
       "      <th>QQQ</th>\n",
       "      <th>EXSA</th>\n",
       "      <th>JPXN</th>\n",
       "    </tr>\n",
       "    <tr>\n",
       "      <th>Date</th>\n",
       "      <th></th>\n",
       "      <th></th>\n",
       "      <th></th>\n",
       "      <th></th>\n",
       "      <th></th>\n",
       "      <th></th>\n",
       "      <th></th>\n",
       "      <th></th>\n",
       "      <th></th>\n",
       "      <th></th>\n",
       "      <th></th>\n",
       "      <th></th>\n",
       "      <th></th>\n",
       "      <th></th>\n",
       "      <th></th>\n",
       "      <th></th>\n",
       "      <th></th>\n",
       "      <th></th>\n",
       "      <th></th>\n",
       "      <th></th>\n",
       "      <th></th>\n",
       "    </tr>\n",
       "  </thead>\n",
       "  <tbody>\n",
       "    <tr>\n",
       "      <th>2010-01-31</th>\n",
       "      <td>2.415</td>\n",
       "      <td>2.81</td>\n",
       "      <td>1877655.0</td>\n",
       "      <td>11695.0566</td>\n",
       "      <td>1224342.0</td>\n",
       "      <td>2246886.0</td>\n",
       "      <td>NaN</td>\n",
       "      <td>501471.4</td>\n",
       "      <td>14764.610</td>\n",
       "      <td>2695667.0</td>\n",
       "      <td>...</td>\n",
       "      <td>52.4</td>\n",
       "      <td>53.8</td>\n",
       "      <td>NaN</td>\n",
       "      <td>1.387694</td>\n",
       "      <td>0.011083</td>\n",
       "      <td>0.007980</td>\n",
       "      <td>82.042763</td>\n",
       "      <td>37.488388</td>\n",
       "      <td>17.536154</td>\n",
       "      <td>33.224644</td>\n",
       "    </tr>\n",
       "    <tr>\n",
       "      <th>2010-02-28</th>\n",
       "      <td>2.463</td>\n",
       "      <td>2.80</td>\n",
       "      <td>1889017.0</td>\n",
       "      <td>11704.4023</td>\n",
       "      <td>1267675.0</td>\n",
       "      <td>2286127.0</td>\n",
       "      <td>NaN</td>\n",
       "      <td>NaN</td>\n",
       "      <td>NaN</td>\n",
       "      <td>NaN</td>\n",
       "      <td>...</td>\n",
       "      <td>54.2</td>\n",
       "      <td>52.5</td>\n",
       "      <td>NaN</td>\n",
       "      <td>1.363791</td>\n",
       "      <td>0.011250</td>\n",
       "      <td>0.008250</td>\n",
       "      <td>84.602051</td>\n",
       "      <td>39.214317</td>\n",
       "      <td>17.486795</td>\n",
       "      <td>33.479210</td>\n",
       "    </tr>\n",
       "    <tr>\n",
       "      <th>2010-03-31</th>\n",
       "      <td>2.410</td>\n",
       "      <td>2.82</td>\n",
       "      <td>1894898.0</td>\n",
       "      <td>11815.4072</td>\n",
       "      <td>1218241.0</td>\n",
       "      <td>2307150.0</td>\n",
       "      <td>NaN</td>\n",
       "      <td>NaN</td>\n",
       "      <td>NaN</td>\n",
       "      <td>NaN</td>\n",
       "      <td>...</td>\n",
       "      <td>56.6</td>\n",
       "      <td>53.8</td>\n",
       "      <td>NaN</td>\n",
       "      <td>1.350804</td>\n",
       "      <td>0.010693</td>\n",
       "      <td>0.007910</td>\n",
       "      <td>89.384529</td>\n",
       "      <td>42.193047</td>\n",
       "      <td>18.826513</td>\n",
       "      <td>35.207157</td>\n",
       "    </tr>\n",
       "    <tr>\n",
       "      <th>2010-04-30</th>\n",
       "      <td>2.385</td>\n",
       "      <td>2.72</td>\n",
       "      <td>1956819.0</td>\n",
       "      <td>11828.0071</td>\n",
       "      <td>1142013.0</td>\n",
       "      <td>2330472.0</td>\n",
       "      <td>NaN</td>\n",
       "      <td>504976.6</td>\n",
       "      <td>14980.193</td>\n",
       "      <td>2729884.8</td>\n",
       "      <td>...</td>\n",
       "      <td>57.6</td>\n",
       "      <td>53.5</td>\n",
       "      <td>NaN</td>\n",
       "      <td>1.329805</td>\n",
       "      <td>0.010658</td>\n",
       "      <td>0.008010</td>\n",
       "      <td>91.141090</td>\n",
       "      <td>43.185291</td>\n",
       "      <td>18.579716</td>\n",
       "      <td>34.628601</td>\n",
       "    </tr>\n",
       "    <tr>\n",
       "      <th>2010-05-31</th>\n",
       "      <td>2.429</td>\n",
       "      <td>NaN</td>\n",
       "      <td>2088450.0</td>\n",
       "      <td>11777.3199</td>\n",
       "      <td>1209586.0</td>\n",
       "      <td>2334041.0</td>\n",
       "      <td>NaN</td>\n",
       "      <td>NaN</td>\n",
       "      <td>NaN</td>\n",
       "      <td>NaN</td>\n",
       "      <td>...</td>\n",
       "      <td>55.8</td>\n",
       "      <td>54.7</td>\n",
       "      <td>NaN</td>\n",
       "      <td>1.228788</td>\n",
       "      <td>0.010966</td>\n",
       "      <td>0.008920</td>\n",
       "      <td>83.899483</td>\n",
       "      <td>39.992886</td>\n",
       "      <td>17.733585</td>\n",
       "      <td>31.974955</td>\n",
       "    </tr>\n",
       "    <tr>\n",
       "      <th>...</th>\n",
       "      <td>...</td>\n",
       "      <td>...</td>\n",
       "      <td>...</td>\n",
       "      <td>...</td>\n",
       "      <td>...</td>\n",
       "      <td>...</td>\n",
       "      <td>...</td>\n",
       "      <td>...</td>\n",
       "      <td>...</td>\n",
       "      <td>...</td>\n",
       "      <td>...</td>\n",
       "      <td>...</td>\n",
       "      <td>...</td>\n",
       "      <td>...</td>\n",
       "      <td>...</td>\n",
       "      <td>...</td>\n",
       "      <td>...</td>\n",
       "      <td>...</td>\n",
       "      <td>...</td>\n",
       "      <td>...</td>\n",
       "      <td>...</td>\n",
       "    </tr>\n",
       "    <tr>\n",
       "      <th>2024-02-29</th>\n",
       "      <td>-0.421</td>\n",
       "      <td>-0.39</td>\n",
       "      <td>6830940.0</td>\n",
       "      <td>23314.4918</td>\n",
       "      <td>7604307.0</td>\n",
       "      <td>7567807.0</td>\n",
       "      <td>61198.382812</td>\n",
       "      <td>NaN</td>\n",
       "      <td>NaN</td>\n",
       "      <td>NaN</td>\n",
       "      <td>...</td>\n",
       "      <td>46.5</td>\n",
       "      <td>47.2</td>\n",
       "      <td>52.2</td>\n",
       "      <td>1.083882</td>\n",
       "      <td>0.006638</td>\n",
       "      <td>0.006122</td>\n",
       "      <td>504.877472</td>\n",
       "      <td>437.724548</td>\n",
       "      <td>48.200256</td>\n",
       "      <td>72.026001</td>\n",
       "    </tr>\n",
       "    <tr>\n",
       "      <th>2024-03-31</th>\n",
       "      <td>-0.438</td>\n",
       "      <td>NaN</td>\n",
       "      <td>6619689.0</td>\n",
       "      <td>23270.8911</td>\n",
       "      <td>7564231.0</td>\n",
       "      <td>7484739.0</td>\n",
       "      <td>71333.648438</td>\n",
       "      <td>NaN</td>\n",
       "      <td>NaN</td>\n",
       "      <td>NaN</td>\n",
       "      <td>...</td>\n",
       "      <td>46.1</td>\n",
       "      <td>48.2</td>\n",
       "      <td>51.9</td>\n",
       "      <td>1.080147</td>\n",
       "      <td>0.006608</td>\n",
       "      <td>0.006117</td>\n",
       "      <td>519.773010</td>\n",
       "      <td>442.720001</td>\n",
       "      <td>50.102638</td>\n",
       "      <td>74.376938</td>\n",
       "    </tr>\n",
       "    <tr>\n",
       "      <th>2024-04-30</th>\n",
       "      <td>-0.360</td>\n",
       "      <td>-0.35</td>\n",
       "      <td>6598860.0</td>\n",
       "      <td>23246.3192</td>\n",
       "      <td>7583199.0</td>\n",
       "      <td>7402434.0</td>\n",
       "      <td>60636.855469</td>\n",
       "      <td>NaN</td>\n",
       "      <td>NaN</td>\n",
       "      <td>NaN</td>\n",
       "      <td>...</td>\n",
       "      <td>45.7</td>\n",
       "      <td>49.6</td>\n",
       "      <td>50.0</td>\n",
       "      <td>1.071570</td>\n",
       "      <td>0.006397</td>\n",
       "      <td>0.005967</td>\n",
       "      <td>500.365784</td>\n",
       "      <td>423.916199</td>\n",
       "      <td>49.778606</td>\n",
       "      <td>70.667015</td>\n",
       "    </tr>\n",
       "    <tr>\n",
       "      <th>2024-05-31</th>\n",
       "      <td>-0.318</td>\n",
       "      <td>-0.38</td>\n",
       "      <td>6560665.0</td>\n",
       "      <td>23330.1480</td>\n",
       "      <td>7610851.0</td>\n",
       "      <td>7284319.0</td>\n",
       "      <td>67491.414062</td>\n",
       "      <td>NaN</td>\n",
       "      <td>NaN</td>\n",
       "      <td>NaN</td>\n",
       "      <td>...</td>\n",
       "      <td>47.3</td>\n",
       "      <td>50.4</td>\n",
       "      <td>51.3</td>\n",
       "      <td>1.083541</td>\n",
       "      <td>0.006371</td>\n",
       "      <td>0.005882</td>\n",
       "      <td>525.674133</td>\n",
       "      <td>449.994751</td>\n",
       "      <td>51.478413</td>\n",
       "      <td>72.462463</td>\n",
       "    </tr>\n",
       "    <tr>\n",
       "      <th>2024-06-30</th>\n",
       "      <td>-0.297</td>\n",
       "      <td>-0.35</td>\n",
       "      <td>6522003.0</td>\n",
       "      <td>23510.8797</td>\n",
       "      <td>7536709.0</td>\n",
       "      <td>7231163.0</td>\n",
       "      <td>62678.292969</td>\n",
       "      <td>NaN</td>\n",
       "      <td>NaN</td>\n",
       "      <td>NaN</td>\n",
       "      <td>...</td>\n",
       "      <td>45.8</td>\n",
       "      <td>50.0</td>\n",
       "      <td>51.6</td>\n",
       "      <td>1.072156</td>\n",
       "      <td>0.006216</td>\n",
       "      <td>0.005797</td>\n",
       "      <td>542.469910</td>\n",
       "      <td>478.349670</td>\n",
       "      <td>50.272736</td>\n",
       "      <td>71.728409</td>\n",
       "    </tr>\n",
       "  </tbody>\n",
       "</table>\n",
       "<p>174 rows × 24 columns</p>\n",
       "</div>"
      ],
      "text/plain": [
       "            10yr-2y_euro-area  10yr-2y_usa  BalanceSheet_euro-area  \\\n",
       "Date                                                                 \n",
       "2010-01-31              2.415         2.81               1877655.0   \n",
       "2010-02-28              2.463         2.80               1889017.0   \n",
       "2010-03-31              2.410         2.82               1894898.0   \n",
       "2010-04-30              2.385         2.72               1956819.0   \n",
       "2010-05-31              2.429          NaN               2088450.0   \n",
       "...                       ...          ...                     ...   \n",
       "2024-02-29             -0.421        -0.39               6830940.0   \n",
       "2024-03-31             -0.438          NaN               6619689.0   \n",
       "2024-04-30             -0.360        -0.35               6598860.0   \n",
       "2024-05-31             -0.318        -0.38               6560665.0   \n",
       "2024-06-30             -0.297        -0.35               6522003.0   \n",
       "\n",
       "            BalanceSheet_global  BalanceSheet_japan  BalanceSheet_usa  \\\n",
       "Date                                                                    \n",
       "2010-01-31           11695.0566           1224342.0         2246886.0   \n",
       "2010-02-28           11704.4023           1267675.0         2286127.0   \n",
       "2010-03-31           11815.4072           1218241.0         2307150.0   \n",
       "2010-04-30           11828.0071           1142013.0         2330472.0   \n",
       "2010-05-31           11777.3199           1209586.0         2334041.0   \n",
       "...                         ...                 ...               ...   \n",
       "2024-02-29           23314.4918           7604307.0         7567807.0   \n",
       "2024-03-31           23270.8911           7564231.0         7484739.0   \n",
       "2024-04-30           23246.3192           7583199.0         7402434.0   \n",
       "2024-05-31           23330.1480           7610851.0         7284319.0   \n",
       "2024-06-30           23510.8797           7536709.0         7231163.0   \n",
       "\n",
       "               BTC_price  GDP_japan    GDP_usa  GDP_euro-area  ...  \\\n",
       "Date                                                           ...   \n",
       "2010-01-31           NaN   501471.4  14764.610      2695667.0  ...   \n",
       "2010-02-28           NaN        NaN        NaN            NaN  ...   \n",
       "2010-03-31           NaN        NaN        NaN            NaN  ...   \n",
       "2010-04-30           NaN   504976.6  14980.193      2729884.8  ...   \n",
       "2010-05-31           NaN        NaN        NaN            NaN  ...   \n",
       "...                  ...        ...        ...            ...  ...   \n",
       "2024-02-29  61198.382812        NaN        NaN            NaN  ...   \n",
       "2024-03-31  71333.648438        NaN        NaN            NaN  ...   \n",
       "2024-04-30  60636.855469        NaN        NaN            NaN  ...   \n",
       "2024-05-31  67491.414062        NaN        NaN            NaN  ...   \n",
       "2024-06-30  62678.292969        NaN        NaN            NaN  ...   \n",
       "\n",
       "            PMI_euro-area  PMI_japan  PMI_usa    EURUSD    JPYUSD    JPYEUR  \\\n",
       "Date                                                                          \n",
       "2010-01-31           52.4       53.8      NaN  1.387694  0.011083  0.007980   \n",
       "2010-02-28           54.2       52.5      NaN  1.363791  0.011250  0.008250   \n",
       "2010-03-31           56.6       53.8      NaN  1.350804  0.010693  0.007910   \n",
       "2010-04-30           57.6       53.5      NaN  1.329805  0.010658  0.008010   \n",
       "2010-05-31           55.8       54.7      NaN  1.228788  0.010966  0.008920   \n",
       "...                   ...        ...      ...       ...       ...       ...   \n",
       "2024-02-29           46.5       47.2     52.2  1.083882  0.006638  0.006122   \n",
       "2024-03-31           46.1       48.2     51.9  1.080147  0.006608  0.006117   \n",
       "2024-04-30           45.7       49.6     50.0  1.071570  0.006397  0.005967   \n",
       "2024-05-31           47.3       50.4     51.3  1.083541  0.006371  0.005882   \n",
       "2024-06-30           45.8       50.0     51.6  1.072156  0.006216  0.005797   \n",
       "\n",
       "                   SPY         QQQ       EXSA       JPXN  \n",
       "Date                                                      \n",
       "2010-01-31   82.042763   37.488388  17.536154  33.224644  \n",
       "2010-02-28   84.602051   39.214317  17.486795  33.479210  \n",
       "2010-03-31   89.384529   42.193047  18.826513  35.207157  \n",
       "2010-04-30   91.141090   43.185291  18.579716  34.628601  \n",
       "2010-05-31   83.899483   39.992886  17.733585  31.974955  \n",
       "...                ...         ...        ...        ...  \n",
       "2024-02-29  504.877472  437.724548  48.200256  72.026001  \n",
       "2024-03-31  519.773010  442.720001  50.102638  74.376938  \n",
       "2024-04-30  500.365784  423.916199  49.778606  70.667015  \n",
       "2024-05-31  525.674133  449.994751  51.478413  72.462463  \n",
       "2024-06-30  542.469910  478.349670  50.272736  71.728409  \n",
       "\n",
       "[174 rows x 24 columns]"
      ]
     },
     "execution_count": 7,
     "metadata": {},
     "output_type": "execute_result"
    }
   ],
   "source": [
    "opencsv"
   ]
  },
  {
   "cell_type": "code",
   "execution_count": 3,
   "metadata": {},
   "outputs": [
    {
     "data": {
      "text/html": [
       "<div>\n",
       "<style scoped>\n",
       "    .dataframe tbody tr th:only-of-type {\n",
       "        vertical-align: middle;\n",
       "    }\n",
       "\n",
       "    .dataframe tbody tr th {\n",
       "        vertical-align: top;\n",
       "    }\n",
       "\n",
       "    .dataframe thead th {\n",
       "        text-align: right;\n",
       "    }\n",
       "</style>\n",
       "<table border=\"1\" class=\"dataframe\">\n",
       "  <thead>\n",
       "    <tr style=\"text-align: right;\">\n",
       "      <th></th>\n",
       "      <th>10yr-2y_euro-area</th>\n",
       "      <th>10yr-2y_usa</th>\n",
       "      <th>BalanceSheet_euro-area</th>\n",
       "      <th>BalanceSheet_global</th>\n",
       "      <th>BalanceSheet_japan</th>\n",
       "      <th>BalanceSheet_usa</th>\n",
       "      <th>BTC_price</th>\n",
       "      <th>GDP_japan</th>\n",
       "      <th>GDP_usa</th>\n",
       "      <th>GDP_euro-area</th>\n",
       "      <th>...</th>\n",
       "      <th>PMI_euro-area</th>\n",
       "      <th>PMI_japan</th>\n",
       "      <th>PMI_usa</th>\n",
       "      <th>EURUSD</th>\n",
       "      <th>JPYUSD</th>\n",
       "      <th>JPYEUR</th>\n",
       "      <th>SPY</th>\n",
       "      <th>QQQ</th>\n",
       "      <th>EXSA</th>\n",
       "      <th>JPXN</th>\n",
       "    </tr>\n",
       "    <tr>\n",
       "      <th>Date</th>\n",
       "      <th></th>\n",
       "      <th></th>\n",
       "      <th></th>\n",
       "      <th></th>\n",
       "      <th></th>\n",
       "      <th></th>\n",
       "      <th></th>\n",
       "      <th></th>\n",
       "      <th></th>\n",
       "      <th></th>\n",
       "      <th></th>\n",
       "      <th></th>\n",
       "      <th></th>\n",
       "      <th></th>\n",
       "      <th></th>\n",
       "      <th></th>\n",
       "      <th></th>\n",
       "      <th></th>\n",
       "      <th></th>\n",
       "      <th></th>\n",
       "      <th></th>\n",
       "    </tr>\n",
       "  </thead>\n",
       "  <tbody>\n",
       "    <tr>\n",
       "      <th>2010-01-31</th>\n",
       "      <td>2.415</td>\n",
       "      <td>2.81</td>\n",
       "      <td>1877655.0</td>\n",
       "      <td>11695.0566</td>\n",
       "      <td>1224342.0</td>\n",
       "      <td>2246886.0</td>\n",
       "      <td>NaN</td>\n",
       "      <td>501471.400000</td>\n",
       "      <td>14764.610000</td>\n",
       "      <td>2.695667e+06</td>\n",
       "      <td>...</td>\n",
       "      <td>52.4</td>\n",
       "      <td>53.8</td>\n",
       "      <td>NaN</td>\n",
       "      <td>1.387694</td>\n",
       "      <td>0.011083</td>\n",
       "      <td>0.00798</td>\n",
       "      <td>82.042763</td>\n",
       "      <td>37.488388</td>\n",
       "      <td>17.536154</td>\n",
       "      <td>33.224644</td>\n",
       "    </tr>\n",
       "    <tr>\n",
       "      <th>2010-02-28</th>\n",
       "      <td>2.463</td>\n",
       "      <td>2.80</td>\n",
       "      <td>1889017.0</td>\n",
       "      <td>11704.4023</td>\n",
       "      <td>1267675.0</td>\n",
       "      <td>2286127.0</td>\n",
       "      <td>NaN</td>\n",
       "      <td>502639.800000</td>\n",
       "      <td>14836.471000</td>\n",
       "      <td>2.707073e+06</td>\n",
       "      <td>...</td>\n",
       "      <td>54.2</td>\n",
       "      <td>52.5</td>\n",
       "      <td>NaN</td>\n",
       "      <td>1.363791</td>\n",
       "      <td>0.011250</td>\n",
       "      <td>0.00825</td>\n",
       "      <td>84.602051</td>\n",
       "      <td>39.214317</td>\n",
       "      <td>17.486795</td>\n",
       "      <td>33.479210</td>\n",
       "    </tr>\n",
       "    <tr>\n",
       "      <th>2010-03-31</th>\n",
       "      <td>2.410</td>\n",
       "      <td>2.82</td>\n",
       "      <td>1894898.0</td>\n",
       "      <td>11815.4072</td>\n",
       "      <td>1218241.0</td>\n",
       "      <td>2307150.0</td>\n",
       "      <td>NaN</td>\n",
       "      <td>503808.200000</td>\n",
       "      <td>14908.332000</td>\n",
       "      <td>2.718479e+06</td>\n",
       "      <td>...</td>\n",
       "      <td>56.6</td>\n",
       "      <td>53.8</td>\n",
       "      <td>NaN</td>\n",
       "      <td>1.350804</td>\n",
       "      <td>0.010693</td>\n",
       "      <td>0.00791</td>\n",
       "      <td>89.384529</td>\n",
       "      <td>42.193047</td>\n",
       "      <td>18.826513</td>\n",
       "      <td>35.207157</td>\n",
       "    </tr>\n",
       "    <tr>\n",
       "      <th>2010-04-30</th>\n",
       "      <td>2.385</td>\n",
       "      <td>2.72</td>\n",
       "      <td>1956819.0</td>\n",
       "      <td>11828.0071</td>\n",
       "      <td>1142013.0</td>\n",
       "      <td>2330472.0</td>\n",
       "      <td>NaN</td>\n",
       "      <td>504976.600000</td>\n",
       "      <td>14980.193000</td>\n",
       "      <td>2.729885e+06</td>\n",
       "      <td>...</td>\n",
       "      <td>57.6</td>\n",
       "      <td>53.5</td>\n",
       "      <td>NaN</td>\n",
       "      <td>1.329805</td>\n",
       "      <td>0.010658</td>\n",
       "      <td>0.00801</td>\n",
       "      <td>91.141090</td>\n",
       "      <td>43.185291</td>\n",
       "      <td>18.579716</td>\n",
       "      <td>34.628601</td>\n",
       "    </tr>\n",
       "    <tr>\n",
       "      <th>2010-05-31</th>\n",
       "      <td>2.429</td>\n",
       "      <td>2.54</td>\n",
       "      <td>2088450.0</td>\n",
       "      <td>11777.3199</td>\n",
       "      <td>1209586.0</td>\n",
       "      <td>2334041.0</td>\n",
       "      <td>NaN</td>\n",
       "      <td>506956.966667</td>\n",
       "      <td>15033.997667</td>\n",
       "      <td>2.739450e+06</td>\n",
       "      <td>...</td>\n",
       "      <td>55.8</td>\n",
       "      <td>54.7</td>\n",
       "      <td>NaN</td>\n",
       "      <td>1.228788</td>\n",
       "      <td>0.010966</td>\n",
       "      <td>0.00892</td>\n",
       "      <td>83.899483</td>\n",
       "      <td>39.992886</td>\n",
       "      <td>17.733585</td>\n",
       "      <td>31.974955</td>\n",
       "    </tr>\n",
       "    <tr>\n",
       "      <th>2010-06-30</th>\n",
       "      <td>2.332</td>\n",
       "      <td>2.36</td>\n",
       "      <td>2154245.0</td>\n",
       "      <td>11674.2079</td>\n",
       "      <td>1132336.0</td>\n",
       "      <td>2330851.0</td>\n",
       "      <td>NaN</td>\n",
       "      <td>508937.333333</td>\n",
       "      <td>15087.802333</td>\n",
       "      <td>2.749016e+06</td>\n",
       "      <td>...</td>\n",
       "      <td>55.6</td>\n",
       "      <td>53.9</td>\n",
       "      <td>NaN</td>\n",
       "      <td>1.223002</td>\n",
       "      <td>0.011308</td>\n",
       "      <td>0.00924</td>\n",
       "      <td>79.181763</td>\n",
       "      <td>37.458244</td>\n",
       "      <td>17.373978</td>\n",
       "      <td>30.702133</td>\n",
       "    </tr>\n",
       "    <tr>\n",
       "      <th>2010-07-31</th>\n",
       "      <td>2.137</td>\n",
       "      <td>2.39</td>\n",
       "      <td>2001660.0</td>\n",
       "      <td>11806.8971</td>\n",
       "      <td>1173742.0</td>\n",
       "      <td>2325298.0</td>\n",
       "      <td>NaN</td>\n",
       "      <td>510917.700000</td>\n",
       "      <td>15141.607000</td>\n",
       "      <td>2.758581e+06</td>\n",
       "      <td>...</td>\n",
       "      <td>56.7</td>\n",
       "      <td>52.8</td>\n",
       "      <td>NaN</td>\n",
       "      <td>1.304002</td>\n",
       "      <td>0.011567</td>\n",
       "      <td>0.00887</td>\n",
       "      <td>84.992378</td>\n",
       "      <td>40.332344</td>\n",
       "      <td>18.262415</td>\n",
       "      <td>32.519955</td>\n",
       "    </tr>\n",
       "    <tr>\n",
       "      <th>2010-08-31</th>\n",
       "      <td>1.854</td>\n",
       "      <td>2.00</td>\n",
       "      <td>1957926.0</td>\n",
       "      <td>11845.5284</td>\n",
       "      <td>1230414.0</td>\n",
       "      <td>2301015.0</td>\n",
       "      <td>NaN</td>\n",
       "      <td>509061.833333</td>\n",
       "      <td>15197.562667</td>\n",
       "      <td>2.766645e+06</td>\n",
       "      <td>...</td>\n",
       "      <td>55.1</td>\n",
       "      <td>50.1</td>\n",
       "      <td>NaN</td>\n",
       "      <td>1.266592</td>\n",
       "      <td>0.011830</td>\n",
       "      <td>0.00934</td>\n",
       "      <td>81.169357</td>\n",
       "      <td>38.263348</td>\n",
       "      <td>17.938072</td>\n",
       "      <td>31.705011</td>\n",
       "    </tr>\n",
       "    <tr>\n",
       "      <th>2010-09-30</th>\n",
       "      <td>1.773</td>\n",
       "      <td>2.11</td>\n",
       "      <td>1971356.0</td>\n",
       "      <td>11778.9015</td>\n",
       "      <td>1203317.0</td>\n",
       "      <td>2298691.0</td>\n",
       "      <td>NaN</td>\n",
       "      <td>507205.966667</td>\n",
       "      <td>15253.518333</td>\n",
       "      <td>2.774710e+06</td>\n",
       "      <td>...</td>\n",
       "      <td>53.7</td>\n",
       "      <td>49.5</td>\n",
       "      <td>NaN</td>\n",
       "      <td>1.362806</td>\n",
       "      <td>0.011938</td>\n",
       "      <td>0.00876</td>\n",
       "      <td>87.967499</td>\n",
       "      <td>43.202549</td>\n",
       "      <td>18.565624</td>\n",
       "      <td>33.443554</td>\n",
       "    </tr>\n",
       "    <tr>\n",
       "      <th>2010-10-31</th>\n",
       "      <td>1.795</td>\n",
       "      <td>2.29</td>\n",
       "      <td>1895679.0</td>\n",
       "      <td>11877.3304</td>\n",
       "      <td>1214171.0</td>\n",
       "      <td>2295392.0</td>\n",
       "      <td>NaN</td>\n",
       "      <td>505350.100000</td>\n",
       "      <td>15309.474000</td>\n",
       "      <td>2.782775e+06</td>\n",
       "      <td>...</td>\n",
       "      <td>54.6</td>\n",
       "      <td>47.2</td>\n",
       "      <td>NaN</td>\n",
       "      <td>1.377809</td>\n",
       "      <td>0.012243</td>\n",
       "      <td>0.00889</td>\n",
       "      <td>91.817009</td>\n",
       "      <td>46.048260</td>\n",
       "      <td>19.023937</td>\n",
       "      <td>33.800560</td>\n",
       "    </tr>\n",
       "  </tbody>\n",
       "</table>\n",
       "<p>10 rows × 24 columns</p>\n",
       "</div>"
      ],
      "text/plain": [
       "            10yr-2y_euro-area  10yr-2y_usa  BalanceSheet_euro-area  \\\n",
       "Date                                                                 \n",
       "2010-01-31              2.415         2.81               1877655.0   \n",
       "2010-02-28              2.463         2.80               1889017.0   \n",
       "2010-03-31              2.410         2.82               1894898.0   \n",
       "2010-04-30              2.385         2.72               1956819.0   \n",
       "2010-05-31              2.429         2.54               2088450.0   \n",
       "2010-06-30              2.332         2.36               2154245.0   \n",
       "2010-07-31              2.137         2.39               2001660.0   \n",
       "2010-08-31              1.854         2.00               1957926.0   \n",
       "2010-09-30              1.773         2.11               1971356.0   \n",
       "2010-10-31              1.795         2.29               1895679.0   \n",
       "\n",
       "            BalanceSheet_global  BalanceSheet_japan  BalanceSheet_usa  \\\n",
       "Date                                                                    \n",
       "2010-01-31           11695.0566           1224342.0         2246886.0   \n",
       "2010-02-28           11704.4023           1267675.0         2286127.0   \n",
       "2010-03-31           11815.4072           1218241.0         2307150.0   \n",
       "2010-04-30           11828.0071           1142013.0         2330472.0   \n",
       "2010-05-31           11777.3199           1209586.0         2334041.0   \n",
       "2010-06-30           11674.2079           1132336.0         2330851.0   \n",
       "2010-07-31           11806.8971           1173742.0         2325298.0   \n",
       "2010-08-31           11845.5284           1230414.0         2301015.0   \n",
       "2010-09-30           11778.9015           1203317.0         2298691.0   \n",
       "2010-10-31           11877.3304           1214171.0         2295392.0   \n",
       "\n",
       "            BTC_price      GDP_japan       GDP_usa  GDP_euro-area  ...  \\\n",
       "Date                                                               ...   \n",
       "2010-01-31        NaN  501471.400000  14764.610000   2.695667e+06  ...   \n",
       "2010-02-28        NaN  502639.800000  14836.471000   2.707073e+06  ...   \n",
       "2010-03-31        NaN  503808.200000  14908.332000   2.718479e+06  ...   \n",
       "2010-04-30        NaN  504976.600000  14980.193000   2.729885e+06  ...   \n",
       "2010-05-31        NaN  506956.966667  15033.997667   2.739450e+06  ...   \n",
       "2010-06-30        NaN  508937.333333  15087.802333   2.749016e+06  ...   \n",
       "2010-07-31        NaN  510917.700000  15141.607000   2.758581e+06  ...   \n",
       "2010-08-31        NaN  509061.833333  15197.562667   2.766645e+06  ...   \n",
       "2010-09-30        NaN  507205.966667  15253.518333   2.774710e+06  ...   \n",
       "2010-10-31        NaN  505350.100000  15309.474000   2.782775e+06  ...   \n",
       "\n",
       "            PMI_euro-area  PMI_japan  PMI_usa    EURUSD    JPYUSD   JPYEUR  \\\n",
       "Date                                                                         \n",
       "2010-01-31           52.4       53.8      NaN  1.387694  0.011083  0.00798   \n",
       "2010-02-28           54.2       52.5      NaN  1.363791  0.011250  0.00825   \n",
       "2010-03-31           56.6       53.8      NaN  1.350804  0.010693  0.00791   \n",
       "2010-04-30           57.6       53.5      NaN  1.329805  0.010658  0.00801   \n",
       "2010-05-31           55.8       54.7      NaN  1.228788  0.010966  0.00892   \n",
       "2010-06-30           55.6       53.9      NaN  1.223002  0.011308  0.00924   \n",
       "2010-07-31           56.7       52.8      NaN  1.304002  0.011567  0.00887   \n",
       "2010-08-31           55.1       50.1      NaN  1.266592  0.011830  0.00934   \n",
       "2010-09-30           53.7       49.5      NaN  1.362806  0.011938  0.00876   \n",
       "2010-10-31           54.6       47.2      NaN  1.377809  0.012243  0.00889   \n",
       "\n",
       "                  SPY        QQQ       EXSA       JPXN  \n",
       "Date                                                    \n",
       "2010-01-31  82.042763  37.488388  17.536154  33.224644  \n",
       "2010-02-28  84.602051  39.214317  17.486795  33.479210  \n",
       "2010-03-31  89.384529  42.193047  18.826513  35.207157  \n",
       "2010-04-30  91.141090  43.185291  18.579716  34.628601  \n",
       "2010-05-31  83.899483  39.992886  17.733585  31.974955  \n",
       "2010-06-30  79.181763  37.458244  17.373978  30.702133  \n",
       "2010-07-31  84.992378  40.332344  18.262415  32.519955  \n",
       "2010-08-31  81.169357  38.263348  17.938072  31.705011  \n",
       "2010-09-30  87.967499  43.202549  18.565624  33.443554  \n",
       "2010-10-31  91.817009  46.048260  19.023937  33.800560  \n",
       "\n",
       "[10 rows x 24 columns]"
      ]
     },
     "execution_count": 3,
     "metadata": {},
     "output_type": "execute_result"
    }
   ],
   "source": [
    "# Interpolation\n",
    "# https://pandas.pydata.org/docs/reference/api/pandas.DataFrame.interpolate.html\n",
    "# Ignore the index and treat the values as equally spaced. This is the only method supported on MultiIndexes.\n",
    "\n",
    "dados = opencsv.interpolate(method=\"linear\")\n",
    "\n",
    "dados.head(10)"
   ]
  },
  {
   "cell_type": "code",
   "execution_count": 9,
   "metadata": {},
   "outputs": [
    {
     "name": "stdout",
     "output_type": "stream",
     "text": [
      "<class 'pandas.core.frame.DataFrame'>\n",
      "Index: 174 entries, 2010-01-31 to 2024-06-30\n",
      "Data columns (total 24 columns):\n",
      " #   Column                   Non-Null Count  Dtype  \n",
      "---  ------                   --------------  -----  \n",
      " 0   10yr-2y_euro-area        174 non-null    float64\n",
      " 1   10yr-2y_usa              174 non-null    float64\n",
      " 2   BalanceSheet_euro-area   174 non-null    float64\n",
      " 3   BalanceSheet_global      174 non-null    float64\n",
      " 4   BalanceSheet_japan       174 non-null    float64\n",
      " 5   BalanceSheet_usa         174 non-null    float64\n",
      " 6   BTC_price                151 non-null    float64\n",
      " 7   GDP_japan                174 non-null    float64\n",
      " 8   GDP_usa                  174 non-null    float64\n",
      " 9   GDP_euro-area            174 non-null    float64\n",
      " 10  Breakeven_inflation_usa  174 non-null    float64\n",
      " 11  CPI_euro-area            174 non-null    float64\n",
      " 12  CPI_japan                174 non-null    float64\n",
      " 13  CPI_usa                  174 non-null    float64\n",
      " 14  PMI_euro-area            174 non-null    float64\n",
      " 15  PMI_japan                174 non-null    float64\n",
      " 16  PMI_usa                  145 non-null    float64\n",
      " 17  EURUSD                   174 non-null    float64\n",
      " 18  JPYUSD                   174 non-null    float64\n",
      " 19  JPYEUR                   174 non-null    float64\n",
      " 20  SPY                      174 non-null    float64\n",
      " 21  QQQ                      174 non-null    float64\n",
      " 22  EXSA                     174 non-null    float64\n",
      " 23  JPXN                     174 non-null    float64\n",
      "dtypes: float64(24)\n",
      "memory usage: 34.0+ KB\n"
     ]
    }
   ],
   "source": [
    "dados.info()"
   ]
  },
  {
   "cell_type": "code",
   "execution_count": 4,
   "metadata": {},
   "outputs": [
    {
     "data": {
      "text/plain": [
       "10yr-2y_euro-area           0\n",
       "10yr-2y_usa                 0\n",
       "BalanceSheet_euro-area      0\n",
       "BalanceSheet_global         0\n",
       "BalanceSheet_japan          0\n",
       "BalanceSheet_usa            0\n",
       "BTC_price                  23\n",
       "GDP_japan                   0\n",
       "GDP_usa                     0\n",
       "GDP_euro-area               0\n",
       "Breakeven_inflation_usa     0\n",
       "CPI_euro-area               0\n",
       "CPI_japan                   0\n",
       "CPI_usa                     0\n",
       "PMI_euro-area               0\n",
       "PMI_japan                   0\n",
       "PMI_usa                    29\n",
       "EURUSD                      0\n",
       "JPYUSD                      0\n",
       "JPYEUR                      0\n",
       "SPY                         0\n",
       "QQQ                         0\n",
       "EXSA                        0\n",
       "JPXN                        0\n",
       "dtype: int64"
      ]
     },
     "execution_count": 4,
     "metadata": {},
     "output_type": "execute_result"
    }
   ],
   "source": [
    "dados.isna().sum()"
   ]
  },
  {
   "cell_type": "code",
   "execution_count": 5,
   "metadata": {},
   "outputs": [
    {
     "data": {
      "text/plain": [
       "10yr-2y_euro-area          0\n",
       "10yr-2y_usa                0\n",
       "BalanceSheet_euro-area     0\n",
       "BalanceSheet_global        0\n",
       "BalanceSheet_japan         0\n",
       "BalanceSheet_usa           0\n",
       "BTC_price                  0\n",
       "GDP_japan                  0\n",
       "GDP_usa                    0\n",
       "GDP_euro-area              0\n",
       "Breakeven_inflation_usa    0\n",
       "CPI_euro-area              0\n",
       "CPI_japan                  0\n",
       "CPI_usa                    0\n",
       "PMI_euro-area              0\n",
       "PMI_japan                  0\n",
       "PMI_usa                    0\n",
       "EURUSD                     0\n",
       "JPYUSD                     0\n",
       "JPYEUR                     0\n",
       "SPY                        0\n",
       "QQQ                        0\n",
       "EXSA                       0\n",
       "JPXN                       0\n",
       "dtype: int64"
      ]
     },
     "execution_count": 5,
     "metadata": {},
     "output_type": "execute_result"
    }
   ],
   "source": [
    "np.isinf(dados).sum()"
   ]
  },
  {
   "cell_type": "markdown",
   "metadata": {},
   "source": [
    "À excessão do \"PMI_usa\" que realmente não tem dados nos primeiros anos, todos os outros indicadores estão formatados como float e com as células todas cheias."
   ]
  },
  {
   "cell_type": "code",
   "execution_count": 12,
   "metadata": {},
   "outputs": [],
   "source": [
    "dados.to_csv(f\"df_mensal_clean.csv\", date_format='%Y-%m-%d')"
   ]
  },
  {
   "cell_type": "markdown",
   "metadata": {},
   "source": [
    "## Check da interpolation no GDP"
   ]
  },
  {
   "cell_type": "code",
   "execution_count": 20,
   "metadata": {},
   "outputs": [
    {
     "data": {
      "application/vnd.plotly.v1+json": {
       "config": {
        "plotlyServerURL": "https://plot.ly"
       },
       "data": [
        {
         "name": "GDP_usa_original",
         "type": "scatter",
         "x": [
          "2010-01-31",
          "2010-04-30",
          "2010-07-31",
          "2010-10-31",
          "2011-01-31",
          "2011-04-30",
          "2011-07-31",
          "2011-10-31",
          "2012-01-31",
          "2012-04-30",
          "2012-07-31",
          "2012-10-31",
          "2013-01-31",
          "2013-04-30",
          "2013-07-31",
          "2013-10-31",
          "2014-01-31",
          "2014-04-30",
          "2014-07-31",
          "2014-10-31",
          "2015-01-31",
          "2015-04-30",
          "2015-07-31",
          "2015-10-31",
          "2016-01-31",
          "2016-04-30",
          "2016-07-31",
          "2016-10-31",
          "2017-01-31",
          "2017-04-30",
          "2017-07-31",
          "2017-10-31",
          "2018-01-31",
          "2018-04-30",
          "2018-07-31",
          "2018-10-31",
          "2019-01-31",
          "2019-04-30",
          "2019-07-31",
          "2019-10-31",
          "2020-01-31",
          "2020-04-30",
          "2020-07-31",
          "2020-10-31",
          "2021-01-31",
          "2021-04-30",
          "2021-07-31",
          "2021-10-31",
          "2022-01-31",
          "2022-04-30",
          "2022-07-31",
          "2022-10-31",
          "2023-01-31",
          "2023-04-30",
          "2023-07-31",
          "2023-10-31",
          "2024-01-31"
         ],
         "y": [
          100,
          101.46013338652358,
          102.55338271718657,
          103.69033790936571,
          103.97462581131502,
          105.37047033413005,
          105.9809910319338,
          107.29886532729276,
          108.83325059043212,
          109.77001762999497,
          110.53147357092399,
          111.21471545811235,
          112.7573908149284,
          113.3025999332187,
          114.82753692782946,
          116.44072549156394,
          116.47946000605502,
          118.65201993144419,
          120.58718787695713,
          121.31765756088377,
          122.34342119432885,
          123.80810600483181,
          124.63333606509077,
          124.86030447129994,
          125.4752614528931,
          126.73346603804639,
          127.95894371744325,
          129.2914543628311,
          130.58309024078522,
          131.65700279248824,
          133.37700758773852,
          135.71024226173262,
          137.68432081849772,
          139.39353630065406,
          140.86880723568044,
          141.67571645983196,
          142.93728720230334,
          144.83806209578174,
          146.93433825885003,
          148.3438438265555,
          147.01717823904593,
          134.87076868268107,
          146.61843421532976,
          149.17090258394904,
          153.06997611179708,
          157.7580579507349,
          161.39249868435402,
          166.9844513332895,
          169.52101003683808,
          173.01014385073498,
          176.0604513089069,
          178.86286871105975,
          181.60724191157095,
          183.29649073019877,
          187.00208132825722,
          189.35141530998786,
          191.46576848287899
         ]
        },
        {
         "name": "GDP_usa_interpolated",
         "type": "scatter",
         "x": [
          "2010-01-31",
          "2010-04-30",
          "2010-07-31",
          "2010-10-31",
          "2011-01-31",
          "2011-04-30",
          "2011-07-31",
          "2011-10-31",
          "2012-01-31",
          "2012-04-30",
          "2012-07-31",
          "2012-10-31",
          "2013-01-31",
          "2013-04-30",
          "2013-07-31",
          "2013-10-31",
          "2014-01-31",
          "2014-04-30",
          "2014-07-31",
          "2014-10-31",
          "2015-01-31",
          "2015-04-30",
          "2015-07-31",
          "2015-10-31",
          "2016-01-31",
          "2016-04-30",
          "2016-07-31",
          "2016-10-31",
          "2017-01-31",
          "2017-04-30",
          "2017-07-31",
          "2017-10-31",
          "2018-01-31",
          "2018-04-30",
          "2018-07-31",
          "2018-10-31",
          "2019-01-31",
          "2019-04-30",
          "2019-07-31",
          "2019-10-31",
          "2020-01-31",
          "2020-04-30",
          "2020-07-31",
          "2020-10-31",
          "2021-01-31",
          "2021-04-30",
          "2021-07-31",
          "2021-10-31",
          "2022-01-31",
          "2022-04-30",
          "2022-07-31",
          "2022-10-31",
          "2023-01-31",
          "2023-04-30",
          "2023-07-31",
          "2023-10-31",
          "2024-01-31"
         ],
         "y": [
          100,
          101.46013338652358,
          102.55338271718657,
          103.69033790936571,
          103.97462581131502,
          105.37047033413005,
          105.9809910319338,
          107.29886532729276,
          108.83325059043212,
          109.77001762999497,
          110.53147357092399,
          111.21471545811235,
          112.7573908149284,
          113.3025999332187,
          114.82753692782946,
          116.44072549156394,
          116.47946000605502,
          118.65201993144419,
          120.58718787695713,
          121.31765756088377,
          122.34342119432885,
          123.80810600483181,
          124.63333606509077,
          124.86030447129994,
          125.4752614528931,
          126.73346603804639,
          127.95894371744325,
          129.2914543628311,
          130.58309024078522,
          131.65700279248824,
          133.37700758773852,
          135.71024226173262,
          137.68432081849772,
          139.39353630065406,
          140.86880723568044,
          141.67571645983196,
          142.93728720230334,
          144.83806209578174,
          146.93433825885003,
          148.3438438265555,
          147.01717823904593,
          134.87076868268107,
          146.61843421532976,
          149.17090258394904,
          153.06997611179708,
          157.7580579507349,
          161.39249868435402,
          166.9844513332895,
          169.52101003683808,
          173.01014385073498,
          176.0604513089069,
          178.86286871105975,
          181.60724191157095,
          183.29649073019877,
          187.00208132825722,
          189.35141530998786,
          191.46576848287899
         ]
        }
       ],
       "layout": {
        "height": 700,
        "hovermode": "x unified",
        "legend": {
         "orientation": "h",
         "x": 0.5,
         "xanchor": "center",
         "y": 1,
         "yanchor": "bottom"
        },
        "showlegend": true,
        "template": {
         "data": {
          "bar": [
           {
            "error_x": {
             "color": "rgb(36,36,36)"
            },
            "error_y": {
             "color": "rgb(36,36,36)"
            },
            "marker": {
             "line": {
              "color": "white",
              "width": 0.5
             },
             "pattern": {
              "fillmode": "overlay",
              "size": 10,
              "solidity": 0.2
             }
            },
            "type": "bar"
           }
          ],
          "barpolar": [
           {
            "marker": {
             "line": {
              "color": "white",
              "width": 0.5
             },
             "pattern": {
              "fillmode": "overlay",
              "size": 10,
              "solidity": 0.2
             }
            },
            "type": "barpolar"
           }
          ],
          "carpet": [
           {
            "aaxis": {
             "endlinecolor": "rgb(36,36,36)",
             "gridcolor": "white",
             "linecolor": "white",
             "minorgridcolor": "white",
             "startlinecolor": "rgb(36,36,36)"
            },
            "baxis": {
             "endlinecolor": "rgb(36,36,36)",
             "gridcolor": "white",
             "linecolor": "white",
             "minorgridcolor": "white",
             "startlinecolor": "rgb(36,36,36)"
            },
            "type": "carpet"
           }
          ],
          "choropleth": [
           {
            "colorbar": {
             "outlinewidth": 1,
             "tickcolor": "rgb(36,36,36)",
             "ticks": "outside"
            },
            "type": "choropleth"
           }
          ],
          "contour": [
           {
            "colorbar": {
             "outlinewidth": 1,
             "tickcolor": "rgb(36,36,36)",
             "ticks": "outside"
            },
            "colorscale": [
             [
              0,
              "#440154"
             ],
             [
              0.1111111111111111,
              "#482878"
             ],
             [
              0.2222222222222222,
              "#3e4989"
             ],
             [
              0.3333333333333333,
              "#31688e"
             ],
             [
              0.4444444444444444,
              "#26828e"
             ],
             [
              0.5555555555555556,
              "#1f9e89"
             ],
             [
              0.6666666666666666,
              "#35b779"
             ],
             [
              0.7777777777777778,
              "#6ece58"
             ],
             [
              0.8888888888888888,
              "#b5de2b"
             ],
             [
              1,
              "#fde725"
             ]
            ],
            "type": "contour"
           }
          ],
          "contourcarpet": [
           {
            "colorbar": {
             "outlinewidth": 1,
             "tickcolor": "rgb(36,36,36)",
             "ticks": "outside"
            },
            "type": "contourcarpet"
           }
          ],
          "heatmap": [
           {
            "colorbar": {
             "outlinewidth": 1,
             "tickcolor": "rgb(36,36,36)",
             "ticks": "outside"
            },
            "colorscale": [
             [
              0,
              "#440154"
             ],
             [
              0.1111111111111111,
              "#482878"
             ],
             [
              0.2222222222222222,
              "#3e4989"
             ],
             [
              0.3333333333333333,
              "#31688e"
             ],
             [
              0.4444444444444444,
              "#26828e"
             ],
             [
              0.5555555555555556,
              "#1f9e89"
             ],
             [
              0.6666666666666666,
              "#35b779"
             ],
             [
              0.7777777777777778,
              "#6ece58"
             ],
             [
              0.8888888888888888,
              "#b5de2b"
             ],
             [
              1,
              "#fde725"
             ]
            ],
            "type": "heatmap"
           }
          ],
          "heatmapgl": [
           {
            "colorbar": {
             "outlinewidth": 1,
             "tickcolor": "rgb(36,36,36)",
             "ticks": "outside"
            },
            "colorscale": [
             [
              0,
              "#440154"
             ],
             [
              0.1111111111111111,
              "#482878"
             ],
             [
              0.2222222222222222,
              "#3e4989"
             ],
             [
              0.3333333333333333,
              "#31688e"
             ],
             [
              0.4444444444444444,
              "#26828e"
             ],
             [
              0.5555555555555556,
              "#1f9e89"
             ],
             [
              0.6666666666666666,
              "#35b779"
             ],
             [
              0.7777777777777778,
              "#6ece58"
             ],
             [
              0.8888888888888888,
              "#b5de2b"
             ],
             [
              1,
              "#fde725"
             ]
            ],
            "type": "heatmapgl"
           }
          ],
          "histogram": [
           {
            "marker": {
             "line": {
              "color": "white",
              "width": 0.6
             }
            },
            "type": "histogram"
           }
          ],
          "histogram2d": [
           {
            "colorbar": {
             "outlinewidth": 1,
             "tickcolor": "rgb(36,36,36)",
             "ticks": "outside"
            },
            "colorscale": [
             [
              0,
              "#440154"
             ],
             [
              0.1111111111111111,
              "#482878"
             ],
             [
              0.2222222222222222,
              "#3e4989"
             ],
             [
              0.3333333333333333,
              "#31688e"
             ],
             [
              0.4444444444444444,
              "#26828e"
             ],
             [
              0.5555555555555556,
              "#1f9e89"
             ],
             [
              0.6666666666666666,
              "#35b779"
             ],
             [
              0.7777777777777778,
              "#6ece58"
             ],
             [
              0.8888888888888888,
              "#b5de2b"
             ],
             [
              1,
              "#fde725"
             ]
            ],
            "type": "histogram2d"
           }
          ],
          "histogram2dcontour": [
           {
            "colorbar": {
             "outlinewidth": 1,
             "tickcolor": "rgb(36,36,36)",
             "ticks": "outside"
            },
            "colorscale": [
             [
              0,
              "#440154"
             ],
             [
              0.1111111111111111,
              "#482878"
             ],
             [
              0.2222222222222222,
              "#3e4989"
             ],
             [
              0.3333333333333333,
              "#31688e"
             ],
             [
              0.4444444444444444,
              "#26828e"
             ],
             [
              0.5555555555555556,
              "#1f9e89"
             ],
             [
              0.6666666666666666,
              "#35b779"
             ],
             [
              0.7777777777777778,
              "#6ece58"
             ],
             [
              0.8888888888888888,
              "#b5de2b"
             ],
             [
              1,
              "#fde725"
             ]
            ],
            "type": "histogram2dcontour"
           }
          ],
          "mesh3d": [
           {
            "colorbar": {
             "outlinewidth": 1,
             "tickcolor": "rgb(36,36,36)",
             "ticks": "outside"
            },
            "type": "mesh3d"
           }
          ],
          "parcoords": [
           {
            "line": {
             "colorbar": {
              "outlinewidth": 1,
              "tickcolor": "rgb(36,36,36)",
              "ticks": "outside"
             }
            },
            "type": "parcoords"
           }
          ],
          "pie": [
           {
            "automargin": true,
            "type": "pie"
           }
          ],
          "scatter": [
           {
            "fillpattern": {
             "fillmode": "overlay",
             "size": 10,
             "solidity": 0.2
            },
            "type": "scatter"
           }
          ],
          "scatter3d": [
           {
            "line": {
             "colorbar": {
              "outlinewidth": 1,
              "tickcolor": "rgb(36,36,36)",
              "ticks": "outside"
             }
            },
            "marker": {
             "colorbar": {
              "outlinewidth": 1,
              "tickcolor": "rgb(36,36,36)",
              "ticks": "outside"
             }
            },
            "type": "scatter3d"
           }
          ],
          "scattercarpet": [
           {
            "marker": {
             "colorbar": {
              "outlinewidth": 1,
              "tickcolor": "rgb(36,36,36)",
              "ticks": "outside"
             }
            },
            "type": "scattercarpet"
           }
          ],
          "scattergeo": [
           {
            "marker": {
             "colorbar": {
              "outlinewidth": 1,
              "tickcolor": "rgb(36,36,36)",
              "ticks": "outside"
             }
            },
            "type": "scattergeo"
           }
          ],
          "scattergl": [
           {
            "marker": {
             "colorbar": {
              "outlinewidth": 1,
              "tickcolor": "rgb(36,36,36)",
              "ticks": "outside"
             }
            },
            "type": "scattergl"
           }
          ],
          "scattermapbox": [
           {
            "marker": {
             "colorbar": {
              "outlinewidth": 1,
              "tickcolor": "rgb(36,36,36)",
              "ticks": "outside"
             }
            },
            "type": "scattermapbox"
           }
          ],
          "scatterpolar": [
           {
            "marker": {
             "colorbar": {
              "outlinewidth": 1,
              "tickcolor": "rgb(36,36,36)",
              "ticks": "outside"
             }
            },
            "type": "scatterpolar"
           }
          ],
          "scatterpolargl": [
           {
            "marker": {
             "colorbar": {
              "outlinewidth": 1,
              "tickcolor": "rgb(36,36,36)",
              "ticks": "outside"
             }
            },
            "type": "scatterpolargl"
           }
          ],
          "scatterternary": [
           {
            "marker": {
             "colorbar": {
              "outlinewidth": 1,
              "tickcolor": "rgb(36,36,36)",
              "ticks": "outside"
             }
            },
            "type": "scatterternary"
           }
          ],
          "surface": [
           {
            "colorbar": {
             "outlinewidth": 1,
             "tickcolor": "rgb(36,36,36)",
             "ticks": "outside"
            },
            "colorscale": [
             [
              0,
              "#440154"
             ],
             [
              0.1111111111111111,
              "#482878"
             ],
             [
              0.2222222222222222,
              "#3e4989"
             ],
             [
              0.3333333333333333,
              "#31688e"
             ],
             [
              0.4444444444444444,
              "#26828e"
             ],
             [
              0.5555555555555556,
              "#1f9e89"
             ],
             [
              0.6666666666666666,
              "#35b779"
             ],
             [
              0.7777777777777778,
              "#6ece58"
             ],
             [
              0.8888888888888888,
              "#b5de2b"
             ],
             [
              1,
              "#fde725"
             ]
            ],
            "type": "surface"
           }
          ],
          "table": [
           {
            "cells": {
             "fill": {
              "color": "rgb(237,237,237)"
             },
             "line": {
              "color": "white"
             }
            },
            "header": {
             "fill": {
              "color": "rgb(217,217,217)"
             },
             "line": {
              "color": "white"
             }
            },
            "type": "table"
           }
          ]
         },
         "layout": {
          "annotationdefaults": {
           "arrowhead": 0,
           "arrowwidth": 1
          },
          "autotypenumbers": "strict",
          "coloraxis": {
           "colorbar": {
            "outlinewidth": 1,
            "tickcolor": "rgb(36,36,36)",
            "ticks": "outside"
           }
          },
          "colorscale": {
           "diverging": [
            [
             0,
             "rgb(103,0,31)"
            ],
            [
             0.1,
             "rgb(178,24,43)"
            ],
            [
             0.2,
             "rgb(214,96,77)"
            ],
            [
             0.3,
             "rgb(244,165,130)"
            ],
            [
             0.4,
             "rgb(253,219,199)"
            ],
            [
             0.5,
             "rgb(247,247,247)"
            ],
            [
             0.6,
             "rgb(209,229,240)"
            ],
            [
             0.7,
             "rgb(146,197,222)"
            ],
            [
             0.8,
             "rgb(67,147,195)"
            ],
            [
             0.9,
             "rgb(33,102,172)"
            ],
            [
             1,
             "rgb(5,48,97)"
            ]
           ],
           "sequential": [
            [
             0,
             "#440154"
            ],
            [
             0.1111111111111111,
             "#482878"
            ],
            [
             0.2222222222222222,
             "#3e4989"
            ],
            [
             0.3333333333333333,
             "#31688e"
            ],
            [
             0.4444444444444444,
             "#26828e"
            ],
            [
             0.5555555555555556,
             "#1f9e89"
            ],
            [
             0.6666666666666666,
             "#35b779"
            ],
            [
             0.7777777777777778,
             "#6ece58"
            ],
            [
             0.8888888888888888,
             "#b5de2b"
            ],
            [
             1,
             "#fde725"
            ]
           ],
           "sequentialminus": [
            [
             0,
             "#440154"
            ],
            [
             0.1111111111111111,
             "#482878"
            ],
            [
             0.2222222222222222,
             "#3e4989"
            ],
            [
             0.3333333333333333,
             "#31688e"
            ],
            [
             0.4444444444444444,
             "#26828e"
            ],
            [
             0.5555555555555556,
             "#1f9e89"
            ],
            [
             0.6666666666666666,
             "#35b779"
            ],
            [
             0.7777777777777778,
             "#6ece58"
            ],
            [
             0.8888888888888888,
             "#b5de2b"
            ],
            [
             1,
             "#fde725"
            ]
           ]
          },
          "colorway": [
           "#1F77B4",
           "#FF7F0E",
           "#2CA02C",
           "#D62728",
           "#9467BD",
           "#8C564B",
           "#E377C2",
           "#7F7F7F",
           "#BCBD22",
           "#17BECF"
          ],
          "font": {
           "color": "rgb(36,36,36)"
          },
          "geo": {
           "bgcolor": "white",
           "lakecolor": "white",
           "landcolor": "white",
           "showlakes": true,
           "showland": true,
           "subunitcolor": "white"
          },
          "hoverlabel": {
           "align": "left"
          },
          "hovermode": "closest",
          "mapbox": {
           "style": "light"
          },
          "paper_bgcolor": "white",
          "plot_bgcolor": "white",
          "polar": {
           "angularaxis": {
            "gridcolor": "rgb(232,232,232)",
            "linecolor": "rgb(36,36,36)",
            "showgrid": false,
            "showline": true,
            "ticks": "outside"
           },
           "bgcolor": "white",
           "radialaxis": {
            "gridcolor": "rgb(232,232,232)",
            "linecolor": "rgb(36,36,36)",
            "showgrid": false,
            "showline": true,
            "ticks": "outside"
           }
          },
          "scene": {
           "xaxis": {
            "backgroundcolor": "white",
            "gridcolor": "rgb(232,232,232)",
            "gridwidth": 2,
            "linecolor": "rgb(36,36,36)",
            "showbackground": true,
            "showgrid": false,
            "showline": true,
            "ticks": "outside",
            "zeroline": false,
            "zerolinecolor": "rgb(36,36,36)"
           },
           "yaxis": {
            "backgroundcolor": "white",
            "gridcolor": "rgb(232,232,232)",
            "gridwidth": 2,
            "linecolor": "rgb(36,36,36)",
            "showbackground": true,
            "showgrid": false,
            "showline": true,
            "ticks": "outside",
            "zeroline": false,
            "zerolinecolor": "rgb(36,36,36)"
           },
           "zaxis": {
            "backgroundcolor": "white",
            "gridcolor": "rgb(232,232,232)",
            "gridwidth": 2,
            "linecolor": "rgb(36,36,36)",
            "showbackground": true,
            "showgrid": false,
            "showline": true,
            "ticks": "outside",
            "zeroline": false,
            "zerolinecolor": "rgb(36,36,36)"
           }
          },
          "shapedefaults": {
           "fillcolor": "black",
           "line": {
            "width": 0
           },
           "opacity": 0.3
          },
          "ternary": {
           "aaxis": {
            "gridcolor": "rgb(232,232,232)",
            "linecolor": "rgb(36,36,36)",
            "showgrid": false,
            "showline": true,
            "ticks": "outside"
           },
           "baxis": {
            "gridcolor": "rgb(232,232,232)",
            "linecolor": "rgb(36,36,36)",
            "showgrid": false,
            "showline": true,
            "ticks": "outside"
           },
           "bgcolor": "white",
           "caxis": {
            "gridcolor": "rgb(232,232,232)",
            "linecolor": "rgb(36,36,36)",
            "showgrid": false,
            "showline": true,
            "ticks": "outside"
           }
          },
          "title": {
           "x": 0.05
          },
          "xaxis": {
           "automargin": true,
           "gridcolor": "rgb(232,232,232)",
           "linecolor": "rgb(36,36,36)",
           "showgrid": false,
           "showline": true,
           "ticks": "outside",
           "title": {
            "standoff": 15
           },
           "zeroline": false,
           "zerolinecolor": "rgb(36,36,36)"
          },
          "yaxis": {
           "automargin": true,
           "gridcolor": "rgb(232,232,232)",
           "linecolor": "rgb(36,36,36)",
           "showgrid": false,
           "showline": true,
           "ticks": "outside",
           "title": {
            "standoff": 15
           },
           "zeroline": false,
           "zerolinecolor": "rgb(36,36,36)"
          }
         }
        },
        "title": {
         "text": "Análise performance classes de ativos"
        },
        "width": 1200,
        "xaxis": {
         "mirror": true,
         "showgrid": false,
         "showline": false,
         "zeroline": false
        },
        "yaxis": {
         "mirror": true,
         "showgrid": false,
         "showline": false,
         "ticksuffix": " %",
         "title": {
          "text": "Valorização (%)"
         },
         "type": "log",
         "zeroline": true
        }
       }
      }
     },
     "metadata": {},
     "output_type": "display_data"
    }
   ],
   "source": [
    "from functions import *\n",
    "compare_df = pd.DataFrame()\n",
    "\n",
    "compare_df[\"GDP_usa_original\"] = opencsv[\"GDP_usa\"]\n",
    "compare_df[\"GDP_usa_interpolated\"] = dados[\"GDP_usa\"]\n",
    "\n",
    "comparative_graph(compare_df)"
   ]
  },
  {
   "cell_type": "markdown",
   "metadata": {},
   "source": [
    "A interpolation é flawless."
   ]
  }
 ],
 "metadata": {
  "kernelspec": {
   "display_name": "Python 3",
   "language": "python",
   "name": "python3"
  },
  "language_info": {
   "codemirror_mode": {
    "name": "ipython",
    "version": 3
   },
   "file_extension": ".py",
   "mimetype": "text/x-python",
   "name": "python",
   "nbconvert_exporter": "python",
   "pygments_lexer": "ipython3",
   "version": "3.11.6"
  }
 },
 "nbformat": 4,
 "nbformat_minor": 2
}
