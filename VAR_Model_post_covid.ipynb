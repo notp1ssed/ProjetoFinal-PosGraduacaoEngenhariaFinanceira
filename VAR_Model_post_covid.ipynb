{
 "cells": [
  {
   "cell_type": "code",
   "execution_count": 25,
   "metadata": {},
   "outputs": [],
   "source": [
    "import pandas as pd\n",
    "import matplotlib.pyplot as plt\n",
    "import numpy as np\n",
    "\n",
    "\n",
    "import functions as main\n",
    "\n",
    "import warnings\n",
    "warnings.filterwarnings('ignore')"
   ]
  },
  {
   "cell_type": "markdown",
   "metadata": {},
   "source": [
    "# Load Post Covid Df"
   ]
  },
  {
   "cell_type": "code",
   "execution_count": 26,
   "metadata": {},
   "outputs": [],
   "source": [
    "opencsv = pd.read_csv(r\"D:\\OneDrive - Instituto Politecnico de Castelo Branco\\002_Learning\\001_Pos_Graduacao\\Ciclo 5 - Projeto Final\\ProjetoFinal-PosGraduacaoEngenhariaFinanceira\\data_df_post_covid_transformed.csv\", sep=\",\")\n",
    "opencsv.set_index('Date', inplace=True)\n",
    "opencsv.index = pd.to_datetime(opencsv.index)\n",
    "opencsv = opencsv.astype(float)\n",
    "opencsv = opencsv.asfreq(pd.infer_freq(opencsv.index))"
   ]
  },
  {
   "cell_type": "code",
   "execution_count": 27,
   "metadata": {},
   "outputs": [
    {
     "data": {
      "text/html": [
       "<div>\n",
       "<style scoped>\n",
       "    .dataframe tbody tr th:only-of-type {\n",
       "        vertical-align: middle;\n",
       "    }\n",
       "\n",
       "    .dataframe tbody tr th {\n",
       "        vertical-align: top;\n",
       "    }\n",
       "\n",
       "    .dataframe thead th {\n",
       "        text-align: right;\n",
       "    }\n",
       "</style>\n",
       "<table border=\"1\" class=\"dataframe\">\n",
       "  <thead>\n",
       "    <tr style=\"text-align: right;\">\n",
       "      <th></th>\n",
       "      <th>JPY_EUR</th>\n",
       "      <th>BTC_PageViews</th>\n",
       "      <th>Crypto_PageViews</th>\n",
       "      <th>BTC_Supply</th>\n",
       "      <th>BTC_USD</th>\n",
       "      <th>Mining_Difficulty</th>\n",
       "      <th>USD_OnChain_Volume</th>\n",
       "      <th>M2_Liquidity</th>\n",
       "      <th>EUR_USD</th>\n",
       "      <th>JPY_USD</th>\n",
       "      <th>...</th>\n",
       "      <th>QQQ</th>\n",
       "      <th>EXSA</th>\n",
       "      <th>JPXN</th>\n",
       "      <th>IWDA</th>\n",
       "      <th>GLD</th>\n",
       "      <th>SLV</th>\n",
       "      <th>TLT</th>\n",
       "      <th>BND</th>\n",
       "      <th>Nr_Transactions</th>\n",
       "      <th>Nr_Addresses</th>\n",
       "    </tr>\n",
       "    <tr>\n",
       "      <th>Date</th>\n",
       "      <th></th>\n",
       "      <th></th>\n",
       "      <th></th>\n",
       "      <th></th>\n",
       "      <th></th>\n",
       "      <th></th>\n",
       "      <th></th>\n",
       "      <th></th>\n",
       "      <th></th>\n",
       "      <th></th>\n",
       "      <th></th>\n",
       "      <th></th>\n",
       "      <th></th>\n",
       "      <th></th>\n",
       "      <th></th>\n",
       "      <th></th>\n",
       "      <th></th>\n",
       "      <th></th>\n",
       "      <th></th>\n",
       "      <th></th>\n",
       "      <th></th>\n",
       "    </tr>\n",
       "  </thead>\n",
       "  <tbody>\n",
       "    <tr>\n",
       "      <th>2020-01-03</th>\n",
       "      <td>0.008243</td>\n",
       "      <td>14060.0</td>\n",
       "      <td>17.0</td>\n",
       "      <td>18139687.5</td>\n",
       "      <td>0.004767</td>\n",
       "      <td>0.040217</td>\n",
       "      <td>0.327650</td>\n",
       "      <td>0.002689</td>\n",
       "      <td>0.062422</td>\n",
       "      <td>0.050119</td>\n",
       "      <td>...</td>\n",
       "      <td>0.004667</td>\n",
       "      <td>-0.015513</td>\n",
       "      <td>-0.026563</td>\n",
       "      <td>-0.004693</td>\n",
       "      <td>0.127968</td>\n",
       "      <td>0.041824</td>\n",
       "      <td>0.080698</td>\n",
       "      <td>0.039395</td>\n",
       "      <td>-0.038822</td>\n",
       "      <td>-0.059755</td>\n",
       "    </tr>\n",
       "    <tr>\n",
       "      <th>2020-01-10</th>\n",
       "      <td>0.008217</td>\n",
       "      <td>12238.0</td>\n",
       "      <td>19.0</td>\n",
       "      <td>18153312.5</td>\n",
       "      <td>0.047218</td>\n",
       "      <td>0.000000</td>\n",
       "      <td>-0.165147</td>\n",
       "      <td>0.007599</td>\n",
       "      <td>-0.053552</td>\n",
       "      <td>-0.048379</td>\n",
       "      <td>...</td>\n",
       "      <td>0.034800</td>\n",
       "      <td>0.001002</td>\n",
       "      <td>0.024219</td>\n",
       "      <td>0.036307</td>\n",
       "      <td>0.038064</td>\n",
       "      <td>0.008043</td>\n",
       "      <td>-0.030486</td>\n",
       "      <td>-0.008148</td>\n",
       "      <td>0.097051</td>\n",
       "      <td>0.245182</td>\n",
       "    </tr>\n",
       "    <tr>\n",
       "      <th>2020-01-17</th>\n",
       "      <td>0.008146</td>\n",
       "      <td>5454.0</td>\n",
       "      <td>16.0</td>\n",
       "      <td>18166700.0</td>\n",
       "      <td>0.039108</td>\n",
       "      <td>0.046243</td>\n",
       "      <td>0.098017</td>\n",
       "      <td>-0.007505</td>\n",
       "      <td>0.025271</td>\n",
       "      <td>-0.033027</td>\n",
       "      <td>...</td>\n",
       "      <td>0.040532</td>\n",
       "      <td>0.059550</td>\n",
       "      <td>0.016406</td>\n",
       "      <td>0.043470</td>\n",
       "      <td>-0.011963</td>\n",
       "      <td>-0.011260</td>\n",
       "      <td>-0.018831</td>\n",
       "      <td>0.019017</td>\n",
       "      <td>-0.046024</td>\n",
       "      <td>-0.103599</td>\n",
       "    </tr>\n",
       "    <tr>\n",
       "      <th>2020-01-24</th>\n",
       "      <td>0.008252</td>\n",
       "      <td>5298.0</td>\n",
       "      <td>19.0</td>\n",
       "      <td>18179875.0</td>\n",
       "      <td>-0.025704</td>\n",
       "      <td>0.000000</td>\n",
       "      <td>-0.209400</td>\n",
       "      <td>-0.010779</td>\n",
       "      <td>-0.074886</td>\n",
       "      <td>0.030790</td>\n",
       "      <td>...</td>\n",
       "      <td>-0.005568</td>\n",
       "      <td>-0.010509</td>\n",
       "      <td>-0.017187</td>\n",
       "      <td>0.008398</td>\n",
       "      <td>0.050752</td>\n",
       "      <td>0.014477</td>\n",
       "      <td>0.182013</td>\n",
       "      <td>0.076075</td>\n",
       "      <td>-0.068981</td>\n",
       "      <td>-0.100944</td>\n",
       "    </tr>\n",
       "    <tr>\n",
       "      <th>2020-01-31</th>\n",
       "      <td>0.008325</td>\n",
       "      <td>4956.0</td>\n",
       "      <td>26.0</td>\n",
       "      <td>18192850.0</td>\n",
       "      <td>0.050539</td>\n",
       "      <td>0.032627</td>\n",
       "      <td>0.461766</td>\n",
       "      <td>-0.026351</td>\n",
       "      <td>-0.023163</td>\n",
       "      <td>0.033757</td>\n",
       "      <td>...</td>\n",
       "      <td>-0.029724</td>\n",
       "      <td>-0.124606</td>\n",
       "      <td>-0.161721</td>\n",
       "      <td>-0.087927</td>\n",
       "      <td>0.048940</td>\n",
       "      <td>-0.014477</td>\n",
       "      <td>0.171259</td>\n",
       "      <td>0.082876</td>\n",
       "      <td>0.140262</td>\n",
       "      <td>0.139990</td>\n",
       "    </tr>\n",
       "  </tbody>\n",
       "</table>\n",
       "<p>5 rows × 21 columns</p>\n",
       "</div>"
      ],
      "text/plain": [
       "             JPY_EUR  BTC_PageViews  Crypto_PageViews  BTC_Supply   BTC_USD  \\\n",
       "Date                                                                          \n",
       "2020-01-03  0.008243        14060.0              17.0  18139687.5  0.004767   \n",
       "2020-01-10  0.008217        12238.0              19.0  18153312.5  0.047218   \n",
       "2020-01-17  0.008146         5454.0              16.0  18166700.0  0.039108   \n",
       "2020-01-24  0.008252         5298.0              19.0  18179875.0 -0.025704   \n",
       "2020-01-31  0.008325         4956.0              26.0  18192850.0  0.050539   \n",
       "\n",
       "            Mining_Difficulty  USD_OnChain_Volume  M2_Liquidity   EUR_USD  \\\n",
       "Date                                                                        \n",
       "2020-01-03           0.040217            0.327650      0.002689  0.062422   \n",
       "2020-01-10           0.000000           -0.165147      0.007599 -0.053552   \n",
       "2020-01-17           0.046243            0.098017     -0.007505  0.025271   \n",
       "2020-01-24           0.000000           -0.209400     -0.010779 -0.074886   \n",
       "2020-01-31           0.032627            0.461766     -0.026351 -0.023163   \n",
       "\n",
       "             JPY_USD  ...       QQQ      EXSA      JPXN      IWDA       GLD  \\\n",
       "Date                  ...                                                     \n",
       "2020-01-03  0.050119  ...  0.004667 -0.015513 -0.026563 -0.004693  0.127968   \n",
       "2020-01-10 -0.048379  ...  0.034800  0.001002  0.024219  0.036307  0.038064   \n",
       "2020-01-17 -0.033027  ...  0.040532  0.059550  0.016406  0.043470 -0.011963   \n",
       "2020-01-24  0.030790  ... -0.005568 -0.010509 -0.017187  0.008398  0.050752   \n",
       "2020-01-31  0.033757  ... -0.029724 -0.124606 -0.161721 -0.087927  0.048940   \n",
       "\n",
       "                 SLV       TLT       BND  Nr_Transactions  Nr_Addresses  \n",
       "Date                                                                     \n",
       "2020-01-03  0.041824  0.080698  0.039395        -0.038822     -0.059755  \n",
       "2020-01-10  0.008043 -0.030486 -0.008148         0.097051      0.245182  \n",
       "2020-01-17 -0.011260 -0.018831  0.019017        -0.046024     -0.103599  \n",
       "2020-01-24  0.014477  0.182013  0.076075        -0.068981     -0.100944  \n",
       "2020-01-31 -0.014477  0.171259  0.082876         0.140262      0.139990  \n",
       "\n",
       "[5 rows x 21 columns]"
      ]
     },
     "execution_count": 27,
     "metadata": {},
     "output_type": "execute_result"
    }
   ],
   "source": [
    "opencsv.head()"
   ]
  },
  {
   "cell_type": "code",
   "execution_count": 28,
   "metadata": {},
   "outputs": [],
   "source": [
    "post_covid_df = opencsv.copy()"
   ]
  },
  {
   "cell_type": "code",
   "execution_count": 29,
   "metadata": {},
   "outputs": [
    {
     "name": "stdout",
     "output_type": "stream",
     "text": [
      "<class 'pandas.core.frame.DataFrame'>\n",
      "DatetimeIndex: 239 entries, 2020-01-03 to 2024-07-26\n",
      "Freq: W-FRI\n",
      "Data columns (total 21 columns):\n",
      " #   Column              Non-Null Count  Dtype  \n",
      "---  ------              --------------  -----  \n",
      " 0   JPY_EUR             239 non-null    float64\n",
      " 1   BTC_PageViews       239 non-null    float64\n",
      " 2   Crypto_PageViews    239 non-null    float64\n",
      " 3   BTC_Supply          239 non-null    float64\n",
      " 4   BTC_USD             239 non-null    float64\n",
      " 5   Mining_Difficulty   239 non-null    float64\n",
      " 6   USD_OnChain_Volume  239 non-null    float64\n",
      " 7   M2_Liquidity        239 non-null    float64\n",
      " 8   EUR_USD             239 non-null    float64\n",
      " 9   JPY_USD             239 non-null    float64\n",
      " 10  SPY                 239 non-null    float64\n",
      " 11  QQQ                 239 non-null    float64\n",
      " 12  EXSA                239 non-null    float64\n",
      " 13  JPXN                239 non-null    float64\n",
      " 14  IWDA                239 non-null    float64\n",
      " 15  GLD                 239 non-null    float64\n",
      " 16  SLV                 239 non-null    float64\n",
      " 17  TLT                 239 non-null    float64\n",
      " 18  BND                 239 non-null    float64\n",
      " 19  Nr_Transactions     239 non-null    float64\n",
      " 20  Nr_Addresses        239 non-null    float64\n",
      "dtypes: float64(21)\n",
      "memory usage: 41.1 KB\n"
     ]
    }
   ],
   "source": [
    "post_covid_df.info()"
   ]
  },
  {
   "cell_type": "code",
   "execution_count": 30,
   "metadata": {},
   "outputs": [
    {
     "data": {
      "text/html": [
       "<div>\n",
       "<style scoped>\n",
       "    .dataframe tbody tr th:only-of-type {\n",
       "        vertical-align: middle;\n",
       "    }\n",
       "\n",
       "    .dataframe tbody tr th {\n",
       "        vertical-align: top;\n",
       "    }\n",
       "\n",
       "    .dataframe thead th {\n",
       "        text-align: right;\n",
       "    }\n",
       "</style>\n",
       "<table border=\"1\" class=\"dataframe\">\n",
       "  <thead>\n",
       "    <tr style=\"text-align: right;\">\n",
       "      <th></th>\n",
       "      <th>JPY_EUR</th>\n",
       "      <th>BTC_PageViews</th>\n",
       "      <th>Crypto_PageViews</th>\n",
       "      <th>BTC_Supply</th>\n",
       "      <th>BTC_USD</th>\n",
       "      <th>Mining_Difficulty</th>\n",
       "      <th>USD_OnChain_Volume</th>\n",
       "      <th>M2_Liquidity</th>\n",
       "      <th>EUR_USD</th>\n",
       "      <th>JPY_USD</th>\n",
       "      <th>...</th>\n",
       "      <th>QQQ</th>\n",
       "      <th>EXSA</th>\n",
       "      <th>JPXN</th>\n",
       "      <th>IWDA</th>\n",
       "      <th>GLD</th>\n",
       "      <th>SLV</th>\n",
       "      <th>TLT</th>\n",
       "      <th>BND</th>\n",
       "      <th>Nr_Transactions</th>\n",
       "      <th>Nr_Addresses</th>\n",
       "    </tr>\n",
       "    <tr>\n",
       "      <th>Date</th>\n",
       "      <th></th>\n",
       "      <th></th>\n",
       "      <th></th>\n",
       "      <th></th>\n",
       "      <th></th>\n",
       "      <th></th>\n",
       "      <th></th>\n",
       "      <th></th>\n",
       "      <th></th>\n",
       "      <th></th>\n",
       "      <th></th>\n",
       "      <th></th>\n",
       "      <th></th>\n",
       "      <th></th>\n",
       "      <th></th>\n",
       "      <th></th>\n",
       "      <th></th>\n",
       "      <th></th>\n",
       "      <th></th>\n",
       "      <th></th>\n",
       "      <th></th>\n",
       "    </tr>\n",
       "  </thead>\n",
       "  <tbody>\n",
       "    <tr>\n",
       "      <th>2020-01-03</th>\n",
       "      <td>0.008243</td>\n",
       "      <td>14060.0</td>\n",
       "      <td>17.0</td>\n",
       "      <td>1.813969e+07</td>\n",
       "      <td>0.004767</td>\n",
       "      <td>4.021698e-02</td>\n",
       "      <td>0.327650</td>\n",
       "      <td>0.002689</td>\n",
       "      <td>0.062422</td>\n",
       "      <td>0.050119</td>\n",
       "      <td>...</td>\n",
       "      <td>0.004667</td>\n",
       "      <td>-0.015513</td>\n",
       "      <td>-0.026563</td>\n",
       "      <td>-0.004693</td>\n",
       "      <td>0.127968</td>\n",
       "      <td>0.041824</td>\n",
       "      <td>0.080698</td>\n",
       "      <td>0.039395</td>\n",
       "      <td>-0.038822</td>\n",
       "      <td>-0.059755</td>\n",
       "    </tr>\n",
       "    <tr>\n",
       "      <th>2020-01-10</th>\n",
       "      <td>0.008217</td>\n",
       "      <td>12238.0</td>\n",
       "      <td>19.0</td>\n",
       "      <td>1.815331e+07</td>\n",
       "      <td>0.047218</td>\n",
       "      <td>0.000000e+00</td>\n",
       "      <td>-0.165147</td>\n",
       "      <td>0.007599</td>\n",
       "      <td>-0.053552</td>\n",
       "      <td>-0.048379</td>\n",
       "      <td>...</td>\n",
       "      <td>0.034800</td>\n",
       "      <td>0.001002</td>\n",
       "      <td>0.024219</td>\n",
       "      <td>0.036307</td>\n",
       "      <td>0.038064</td>\n",
       "      <td>0.008043</td>\n",
       "      <td>-0.030486</td>\n",
       "      <td>-0.008148</td>\n",
       "      <td>0.097051</td>\n",
       "      <td>0.245182</td>\n",
       "    </tr>\n",
       "    <tr>\n",
       "      <th>2020-01-17</th>\n",
       "      <td>0.008146</td>\n",
       "      <td>5454.0</td>\n",
       "      <td>16.0</td>\n",
       "      <td>1.816670e+07</td>\n",
       "      <td>0.039108</td>\n",
       "      <td>4.624313e-02</td>\n",
       "      <td>0.098017</td>\n",
       "      <td>-0.007505</td>\n",
       "      <td>0.025271</td>\n",
       "      <td>-0.033027</td>\n",
       "      <td>...</td>\n",
       "      <td>0.040532</td>\n",
       "      <td>0.059550</td>\n",
       "      <td>0.016406</td>\n",
       "      <td>0.043470</td>\n",
       "      <td>-0.011963</td>\n",
       "      <td>-0.011260</td>\n",
       "      <td>-0.018831</td>\n",
       "      <td>0.019017</td>\n",
       "      <td>-0.046024</td>\n",
       "      <td>-0.103599</td>\n",
       "    </tr>\n",
       "    <tr>\n",
       "      <th>2020-01-24</th>\n",
       "      <td>0.008252</td>\n",
       "      <td>5298.0</td>\n",
       "      <td>19.0</td>\n",
       "      <td>1.817988e+07</td>\n",
       "      <td>-0.025704</td>\n",
       "      <td>0.000000e+00</td>\n",
       "      <td>-0.209400</td>\n",
       "      <td>-0.010779</td>\n",
       "      <td>-0.074886</td>\n",
       "      <td>0.030790</td>\n",
       "      <td>...</td>\n",
       "      <td>-0.005568</td>\n",
       "      <td>-0.010509</td>\n",
       "      <td>-0.017187</td>\n",
       "      <td>0.008398</td>\n",
       "      <td>0.050752</td>\n",
       "      <td>0.014477</td>\n",
       "      <td>0.182013</td>\n",
       "      <td>0.076075</td>\n",
       "      <td>-0.068981</td>\n",
       "      <td>-0.100944</td>\n",
       "    </tr>\n",
       "    <tr>\n",
       "      <th>2020-01-31</th>\n",
       "      <td>0.008325</td>\n",
       "      <td>4956.0</td>\n",
       "      <td>26.0</td>\n",
       "      <td>1.819285e+07</td>\n",
       "      <td>0.050539</td>\n",
       "      <td>3.262671e-02</td>\n",
       "      <td>0.461766</td>\n",
       "      <td>-0.026351</td>\n",
       "      <td>-0.023163</td>\n",
       "      <td>0.033757</td>\n",
       "      <td>...</td>\n",
       "      <td>-0.029724</td>\n",
       "      <td>-0.124606</td>\n",
       "      <td>-0.161721</td>\n",
       "      <td>-0.087927</td>\n",
       "      <td>0.048940</td>\n",
       "      <td>-0.014477</td>\n",
       "      <td>0.171259</td>\n",
       "      <td>0.082876</td>\n",
       "      <td>0.140262</td>\n",
       "      <td>0.139990</td>\n",
       "    </tr>\n",
       "    <tr>\n",
       "      <th>...</th>\n",
       "      <td>...</td>\n",
       "      <td>...</td>\n",
       "      <td>...</td>\n",
       "      <td>...</td>\n",
       "      <td>...</td>\n",
       "      <td>...</td>\n",
       "      <td>...</td>\n",
       "      <td>...</td>\n",
       "      <td>...</td>\n",
       "      <td>...</td>\n",
       "      <td>...</td>\n",
       "      <td>...</td>\n",
       "      <td>...</td>\n",
       "      <td>...</td>\n",
       "      <td>...</td>\n",
       "      <td>...</td>\n",
       "      <td>...</td>\n",
       "      <td>...</td>\n",
       "      <td>...</td>\n",
       "      <td>...</td>\n",
       "      <td>...</td>\n",
       "    </tr>\n",
       "    <tr>\n",
       "      <th>2024-06-28</th>\n",
       "      <td>0.005808</td>\n",
       "      <td>3687.0</td>\n",
       "      <td>17.0</td>\n",
       "      <td>1.971838e+07</td>\n",
       "      <td>-0.210663</td>\n",
       "      <td>0.000000e+00</td>\n",
       "      <td>0.945798</td>\n",
       "      <td>-0.021441</td>\n",
       "      <td>0.001832</td>\n",
       "      <td>-0.041016</td>\n",
       "      <td>...</td>\n",
       "      <td>-0.002593</td>\n",
       "      <td>-0.033660</td>\n",
       "      <td>0.180935</td>\n",
       "      <td>0.021735</td>\n",
       "      <td>0.008338</td>\n",
       "      <td>-0.065953</td>\n",
       "      <td>-0.108446</td>\n",
       "      <td>-0.071696</td>\n",
       "      <td>0.007789</td>\n",
       "      <td>0.174027</td>\n",
       "    </tr>\n",
       "    <tr>\n",
       "      <th>2024-07-05</th>\n",
       "      <td>0.005730</td>\n",
       "      <td>4547.0</td>\n",
       "      <td>28.0</td>\n",
       "      <td>1.972142e+07</td>\n",
       "      <td>-0.204170</td>\n",
       "      <td>-1.699513e-01</td>\n",
       "      <td>3.264935</td>\n",
       "      <td>0.009820</td>\n",
       "      <td>0.075309</td>\n",
       "      <td>-0.021453</td>\n",
       "      <td>...</td>\n",
       "      <td>0.143522</td>\n",
       "      <td>0.060589</td>\n",
       "      <td>0.151064</td>\n",
       "      <td>0.007162</td>\n",
       "      <td>0.214609</td>\n",
       "      <td>0.307242</td>\n",
       "      <td>0.053447</td>\n",
       "      <td>0.087372</td>\n",
       "      <td>-0.706171</td>\n",
       "      <td>-0.188464</td>\n",
       "    </tr>\n",
       "    <tr>\n",
       "      <th>2024-07-12</th>\n",
       "      <td>0.005814</td>\n",
       "      <td>4441.0</td>\n",
       "      <td>29.0</td>\n",
       "      <td>1.972469e+07</td>\n",
       "      <td>0.070356</td>\n",
       "      <td>-2.778050e-02</td>\n",
       "      <td>-3.639985</td>\n",
       "      <td>0.000000</td>\n",
       "      <td>0.070527</td>\n",
       "      <td>0.079788</td>\n",
       "      <td>...</td>\n",
       "      <td>-0.011280</td>\n",
       "      <td>0.084151</td>\n",
       "      <td>0.132287</td>\n",
       "      <td>0.049644</td>\n",
       "      <td>0.079029</td>\n",
       "      <td>-0.057909</td>\n",
       "      <td>0.068868</td>\n",
       "      <td>0.088750</td>\n",
       "      <td>1.145594</td>\n",
       "      <td>-0.089711</td>\n",
       "    </tr>\n",
       "    <tr>\n",
       "      <th>2024-07-19</th>\n",
       "      <td>0.005837</td>\n",
       "      <td>4161.0</td>\n",
       "      <td>27.0</td>\n",
       "      <td>1.972799e+07</td>\n",
       "      <td>0.488202</td>\n",
       "      <td>1.207437e-01</td>\n",
       "      <td>0.437076</td>\n",
       "      <td>0.000000</td>\n",
       "      <td>0.025569</td>\n",
       "      <td>0.025217</td>\n",
       "      <td>...</td>\n",
       "      <td>-0.164819</td>\n",
       "      <td>-0.160448</td>\n",
       "      <td>-0.092174</td>\n",
       "      <td>-0.097313</td>\n",
       "      <td>-0.050027</td>\n",
       "      <td>-0.230030</td>\n",
       "      <td>-0.050902</td>\n",
       "      <td>-0.039784</td>\n",
       "      <td>-1.026794</td>\n",
       "      <td>0.088710</td>\n",
       "    </tr>\n",
       "    <tr>\n",
       "      <th>2024-07-26</th>\n",
       "      <td>0.005995</td>\n",
       "      <td>4953.0</td>\n",
       "      <td>48.0</td>\n",
       "      <td>1.973157e+07</td>\n",
       "      <td>0.067538</td>\n",
       "      <td>-3.108624e-15</td>\n",
       "      <td>-0.448385</td>\n",
       "      <td>0.000000</td>\n",
       "      <td>-0.044631</td>\n",
       "      <td>0.085278</td>\n",
       "      <td>...</td>\n",
       "      <td>-0.103285</td>\n",
       "      <td>0.035904</td>\n",
       "      <td>-0.110098</td>\n",
       "      <td>-0.030873</td>\n",
       "      <td>-0.039876</td>\n",
       "      <td>-0.194641</td>\n",
       "      <td>0.003493</td>\n",
       "      <td>0.033664</td>\n",
       "      <td>-0.333627</td>\n",
       "      <td>0.068678</td>\n",
       "    </tr>\n",
       "  </tbody>\n",
       "</table>\n",
       "<p>239 rows × 21 columns</p>\n",
       "</div>"
      ],
      "text/plain": [
       "             JPY_EUR  BTC_PageViews  Crypto_PageViews    BTC_Supply   BTC_USD  \\\n",
       "Date                                                                            \n",
       "2020-01-03  0.008243        14060.0              17.0  1.813969e+07  0.004767   \n",
       "2020-01-10  0.008217        12238.0              19.0  1.815331e+07  0.047218   \n",
       "2020-01-17  0.008146         5454.0              16.0  1.816670e+07  0.039108   \n",
       "2020-01-24  0.008252         5298.0              19.0  1.817988e+07 -0.025704   \n",
       "2020-01-31  0.008325         4956.0              26.0  1.819285e+07  0.050539   \n",
       "...              ...            ...               ...           ...       ...   \n",
       "2024-06-28  0.005808         3687.0              17.0  1.971838e+07 -0.210663   \n",
       "2024-07-05  0.005730         4547.0              28.0  1.972142e+07 -0.204170   \n",
       "2024-07-12  0.005814         4441.0              29.0  1.972469e+07  0.070356   \n",
       "2024-07-19  0.005837         4161.0              27.0  1.972799e+07  0.488202   \n",
       "2024-07-26  0.005995         4953.0              48.0  1.973157e+07  0.067538   \n",
       "\n",
       "            Mining_Difficulty  USD_OnChain_Volume  M2_Liquidity   EUR_USD  \\\n",
       "Date                                                                        \n",
       "2020-01-03       4.021698e-02            0.327650      0.002689  0.062422   \n",
       "2020-01-10       0.000000e+00           -0.165147      0.007599 -0.053552   \n",
       "2020-01-17       4.624313e-02            0.098017     -0.007505  0.025271   \n",
       "2020-01-24       0.000000e+00           -0.209400     -0.010779 -0.074886   \n",
       "2020-01-31       3.262671e-02            0.461766     -0.026351 -0.023163   \n",
       "...                       ...                 ...           ...       ...   \n",
       "2024-06-28       0.000000e+00            0.945798     -0.021441  0.001832   \n",
       "2024-07-05      -1.699513e-01            3.264935      0.009820  0.075309   \n",
       "2024-07-12      -2.778050e-02           -3.639985      0.000000  0.070527   \n",
       "2024-07-19       1.207437e-01            0.437076      0.000000  0.025569   \n",
       "2024-07-26      -3.108624e-15           -0.448385      0.000000 -0.044631   \n",
       "\n",
       "             JPY_USD  ...       QQQ      EXSA      JPXN      IWDA       GLD  \\\n",
       "Date                  ...                                                     \n",
       "2020-01-03  0.050119  ...  0.004667 -0.015513 -0.026563 -0.004693  0.127968   \n",
       "2020-01-10 -0.048379  ...  0.034800  0.001002  0.024219  0.036307  0.038064   \n",
       "2020-01-17 -0.033027  ...  0.040532  0.059550  0.016406  0.043470 -0.011963   \n",
       "2020-01-24  0.030790  ... -0.005568 -0.010509 -0.017187  0.008398  0.050752   \n",
       "2020-01-31  0.033757  ... -0.029724 -0.124606 -0.161721 -0.087927  0.048940   \n",
       "...              ...  ...       ...       ...       ...       ...       ...   \n",
       "2024-06-28 -0.041016  ... -0.002593 -0.033660  0.180935  0.021735  0.008338   \n",
       "2024-07-05 -0.021453  ...  0.143522  0.060589  0.151064  0.007162  0.214609   \n",
       "2024-07-12  0.079788  ... -0.011280  0.084151  0.132287  0.049644  0.079029   \n",
       "2024-07-19  0.025217  ... -0.164819 -0.160448 -0.092174 -0.097313 -0.050027   \n",
       "2024-07-26  0.085278  ... -0.103285  0.035904 -0.110098 -0.030873 -0.039876   \n",
       "\n",
       "                 SLV       TLT       BND  Nr_Transactions  Nr_Addresses  \n",
       "Date                                                                     \n",
       "2020-01-03  0.041824  0.080698  0.039395        -0.038822     -0.059755  \n",
       "2020-01-10  0.008043 -0.030486 -0.008148         0.097051      0.245182  \n",
       "2020-01-17 -0.011260 -0.018831  0.019017        -0.046024     -0.103599  \n",
       "2020-01-24  0.014477  0.182013  0.076075        -0.068981     -0.100944  \n",
       "2020-01-31 -0.014477  0.171259  0.082876         0.140262      0.139990  \n",
       "...              ...       ...       ...              ...           ...  \n",
       "2024-06-28 -0.065953 -0.108446 -0.071696         0.007789      0.174027  \n",
       "2024-07-05  0.307242  0.053447  0.087372        -0.706171     -0.188464  \n",
       "2024-07-12 -0.057909  0.068868  0.088750         1.145594     -0.089711  \n",
       "2024-07-19 -0.230030 -0.050902 -0.039784        -1.026794      0.088710  \n",
       "2024-07-26 -0.194641  0.003493  0.033664        -0.333627      0.068678  \n",
       "\n",
       "[239 rows x 21 columns]"
      ]
     },
     "execution_count": 30,
     "metadata": {},
     "output_type": "execute_result"
    }
   ],
   "source": [
    "post_covid_df"
   ]
  },
  {
   "cell_type": "code",
   "execution_count": 31,
   "metadata": {},
   "outputs": [
    {
     "data": {
      "text/plain": [
       "JPY_EUR               0\n",
       "BTC_PageViews         0\n",
       "Crypto_PageViews      0\n",
       "BTC_Supply            0\n",
       "BTC_USD               0\n",
       "Mining_Difficulty     0\n",
       "USD_OnChain_Volume    0\n",
       "M2_Liquidity          0\n",
       "EUR_USD               0\n",
       "JPY_USD               0\n",
       "SPY                   0\n",
       "QQQ                   0\n",
       "EXSA                  0\n",
       "JPXN                  0\n",
       "IWDA                  0\n",
       "GLD                   0\n",
       "SLV                   0\n",
       "TLT                   0\n",
       "BND                   0\n",
       "Nr_Transactions       0\n",
       "Nr_Addresses          0\n",
       "dtype: int64"
      ]
     },
     "execution_count": 31,
     "metadata": {},
     "output_type": "execute_result"
    }
   ],
   "source": [
    "post_covid_df.isna().sum()"
   ]
  },
  {
   "cell_type": "markdown",
   "metadata": {},
   "source": [
    "# Granger causality test "
   ]
  },
  {
   "cell_type": "code",
   "execution_count": 32,
   "metadata": {},
   "outputs": [
    {
     "name": "stdout",
     "output_type": "stream",
     "text": [
      "Variables that Granger-cause BTC_USD: ['BTC_PageViews', 'Crypto_PageViews']\n",
      "Variables that do NOT Granger-cause BTC_USD: ['JPY_EUR', 'BTC_Supply', 'Mining_Difficulty', 'USD_OnChain_Volume', 'M2_Liquidity', 'EUR_USD', 'JPY_USD', 'SPY', 'QQQ', 'EXSA', 'JPXN', 'IWDA', 'GLD', 'SLV', 'TLT', 'BND', 'Nr_Transactions', 'Nr_Addresses']\n"
     ]
    }
   ],
   "source": [
    "from statsmodels.tsa.stattools import grangercausalitytests\n",
    "\n",
    "# It is a statistical hypothesis test for determining whether one time series is useful in forecasting another\n",
    "\n",
    "# lists to store variables\n",
    "causality_true = []\n",
    "causality_false = []\n",
    "\n",
    "maxlag = 10\n",
    "dependent_variable = \"BTC_USD\"\n",
    "\n",
    "for column in post_covid_df.columns:\n",
    "    if column != dependent_variable:  # Skip the target variable\n",
    "        # Perform Granger Causality Test\n",
    "        # The data for testing whether the time series in the second column Granger causes the time series in the first column. \n",
    "        result = grangercausalitytests(post_covid_df[[dependent_variable, column]], maxlag=maxlag, verbose=False)\n",
    "        \n",
    "        # Check if any lag has a p-value < 0.05\n",
    "        min_p_value = min([result[lag][0]['ssr_chi2test'][1] for lag in range(1, maxlag+1)])\n",
    "\n",
    "        if min_p_value < 0.05:\n",
    "            causality_true.append(column)\n",
    "        else:\n",
    "            causality_false.append(column)\n",
    "\n",
    "# Output the results\n",
    "print(f\"Variables that Granger-cause {dependent_variable}:\", causality_true)\n",
    "print(f\"Variables that do NOT Granger-cause {dependent_variable}:\", causality_false)"
   ]
  },
  {
   "cell_type": "markdown",
   "metadata": {},
   "source": [
    "# PACF - BTC USD Price"
   ]
  },
  {
   "cell_type": "code",
   "execution_count": 33,
   "metadata": {},
   "outputs": [
    {
     "data": {
      "image/png": "[encoded data removed]",
      "text/plain": [
       "<Figure size 640x480 with 1 Axes>"
      ]
     },
     "metadata": {},
     "output_type": "display_data"
    }
   ],
   "source": [
    "from statsmodels.graphics.tsaplots import plot_pacf\n",
    "\n",
    "plot_pacf(post_covid_df.BTC_USD)\n",
    "plt.show()"
   ]
  },
  {
   "cell_type": "markdown",
   "metadata": {},
   "source": [
    "**So consider an AR(4)**"
   ]
  },
  {
   "cell_type": "markdown",
   "metadata": {},
   "source": [
    "# Model Dfs"
   ]
  },
  {
   "cell_type": "code",
   "execution_count": 34,
   "metadata": {},
   "outputs": [
    {
     "data": {
      "text/plain": [
       "Index(['JPY_EUR', 'BTC_PageViews', 'Crypto_PageViews', 'BTC_Supply', 'BTC_USD',\n",
       "       'Mining_Difficulty', 'USD_OnChain_Volume', 'M2_Liquidity', 'EUR_USD',\n",
       "       'JPY_USD', 'SPY', 'QQQ', 'EXSA', 'JPXN', 'IWDA', 'GLD', 'SLV', 'TLT',\n",
       "       'BND', 'Nr_Transactions', 'Nr_Addresses'],\n",
       "      dtype='object')"
      ]
     },
     "execution_count": 34,
     "metadata": {},
     "output_type": "execute_result"
    }
   ],
   "source": [
    "post_covid_df.columns"
   ]
  },
  {
   "cell_type": "code",
   "execution_count": 67,
   "metadata": {},
   "outputs": [],
   "source": [
    "'''\n",
    "Distinguish between endogenous and exogenous variables based on their roles in the Bitcoin market:\n",
    "\n",
    "Endogenous Variables: These are the primary variables of interest that the model aims to predict. \n",
    "They include the equilibrium closing price of Bitcoin (MKPRU), the number of unique MyWallet users (MWNUS), \n",
    "and the total Bitcoin available in the market (TOTBC)1.\n",
    "\n",
    "Exogenous Variables: These are external factors that influence the endogenous variables. \n",
    "They include Miner’s Revenue (MIREV), Bitcoin Difficulty (DIFF), Number of Transactions per Block (NTRBL), \n",
    "Average Block Size (AVBLS), Change in the Number of Unique Addresses (NADDU), Total Output Volume (TRVOU), \n",
    "and Hash Rate (HRATE).\n",
    "\n",
    "These distinctions help in understanding and forecasting Bitcoin’s market behavior.\n",
    "'''\n",
    "\n",
    "df_model = post_covid_df.copy()\n",
    "\n",
    "###         listas completas\n",
    "###         endog = ['BTC_USD', 'Nr_Transactions', 'Nr_Addresses', 'BTC_Supply', 'Mining_Difficulty', 'USD_OnChain_Volume', 'BTC_PageViews', 'Crypto_PageViews']\n",
    "###         exog = ['JPY_EUR',  , 'EUR_USD', 'JPY_USD', 'SPY', 'QQQ', 'EXSA', 'JPXN', 'IWDA', 'GLD', 'SLV', 'TLT', 'BND']\n",
    "\n",
    "\n",
    "endog = ['BTC_USD', 'Nr_Addresses', 'BTC_Supply']\n",
    "exog =  ['BTC_PageViews', 'Crypto_PageViews']\n",
    "\n",
    "split = int(0.9*(len(post_covid_df)))\n",
    "\n",
    "df_train = df_model[:split]\n",
    "df_test = df_model[split:]\n",
    "\n",
    "# Split the data into endogenous and exogenous variables for the training set\n",
    "df_endog_train = df_train[endog]\n",
    "df_exog_train = df_train[exog]\n",
    "\n",
    "# Split the data into endogenous and exogenous variables for the testing set\n",
    "df_endog_test = df_test[endog]\n",
    "df_exog_test = df_test[exog]"
   ]
  },
  {
   "cell_type": "code",
   "execution_count": 68,
   "metadata": {},
   "outputs": [
    {
     "data": {
      "text/plain": [
       "(215, 3)"
      ]
     },
     "execution_count": 68,
     "metadata": {},
     "output_type": "execute_result"
    }
   ],
   "source": [
    "df_endog_train.shape"
   ]
  },
  {
   "cell_type": "code",
   "execution_count": 69,
   "metadata": {},
   "outputs": [
    {
     "data": {
      "text/plain": [
       "(24, 3)"
      ]
     },
     "execution_count": 69,
     "metadata": {},
     "output_type": "execute_result"
    }
   ],
   "source": [
    "df_endog_test.shape"
   ]
  },
  {
   "cell_type": "markdown",
   "metadata": {},
   "source": [
    "# Determine max number lags"
   ]
  },
  {
   "cell_type": "markdown",
   "metadata": {},
   "source": [
    "We can test the performance of our model by using the following methods:\n",
    "\n",
    "**Akaike information criterion (AIC)**: It quantifies the quality of a model by balancing the fit of the model to the data with the complexity of the model. AIC provides a way to compare different models and choose the one that best fits the data with the least complexity.\n",
    "\n",
    "**Bayesian information criterion (BIC)**: This stats measure is used for model selection among a set of candidate models. Like the Akaike information criterion (AIC), BIC provides a trade-off between the goodness of fit and model complexity. However, BIC places a stronger penalty on the number of parameters than AIC does, which can help prevent overfitting."
   ]
  },
  {
   "cell_type": "code",
   "execution_count": 70,
   "metadata": {},
   "outputs": [
    {
     "data": {
      "text/html": [
       "<table class=\"simpletable\">\n",
       "<caption>VAR Order Selection (* highlights the minimums)</caption>\n",
       "<tr>\n",
       "  <td></td>      <th>AIC</th>         <th>BIC</th>         <th>FPE</th>        <th>HQIC</th>    \n",
       "</tr>\n",
       "<tr>\n",
       "  <th>0</th> <td>     19.14</td>  <td>     19.28</td>  <td> 2.050e+08</td>  <td>     19.20</td> \n",
       "</tr>\n",
       "<tr>\n",
       "  <th>1</th> <td>     7.895</td>  <td>     8.181</td>  <td>     2684.</td>  <td>     8.011</td> \n",
       "</tr>\n",
       "<tr>\n",
       "  <th>2</th> <td>     6.215</td>  <td>     6.644*</td> <td>     500.1</td>  <td>     6.388*</td>\n",
       "</tr>\n",
       "<tr>\n",
       "  <th>3</th> <td>     6.209</td>  <td>     6.781</td>  <td>     497.6</td>  <td>     6.441</td> \n",
       "</tr>\n",
       "<tr>\n",
       "  <th>4</th> <td>     6.172*</td> <td>     6.887</td>  <td>     479.5*</td> <td>     6.461</td> \n",
       "</tr>\n",
       "</table>"
      ],
      "text/latex": [
       "\\begin{center}\n",
       "\\begin{tabular}{lcccc}\n",
       "\\toprule\n",
       "           & \\textbf{AIC} & \\textbf{BIC} & \\textbf{FPE} & \\textbf{HQIC}  \\\\\n",
       "\\midrule\n",
       "\\textbf{0} &       19.14  &       19.28  &   2.050e+08  &        19.20   \\\\\n",
       "\\textbf{1} &       7.895  &       8.181  &       2684.  &        8.011   \\\\\n",
       "\\textbf{2} &       6.215  &      6.644*  &       500.1  &       6.388*   \\\\\n",
       "\\textbf{3} &       6.209  &       6.781  &       497.6  &        6.441   \\\\\n",
       "\\textbf{4} &      6.172*  &       6.887  &      479.5*  &        6.461   \\\\\n",
       "\\bottomrule\n",
       "\\end{tabular}\n",
       "%\\caption{VAR Order Selection (* highlights the minimums)}\n",
       "\\end{center}"
      ],
      "text/plain": [
       "<class 'statsmodels.iolib.table.SimpleTable'>"
      ]
     },
     "execution_count": 70,
     "metadata": {},
     "output_type": "execute_result"
    }
   ],
   "source": [
    "from statsmodels.tsa.api import VAR\n",
    "\n",
    "# Lower is better\n",
    "\n",
    "model = VAR(endog = df_endog_train, exog = df_exog_train)\n",
    "model.select_order(4).summary()"
   ]
  },
  {
   "cell_type": "markdown",
   "metadata": {},
   "source": [
    "# Fit a VAR Model"
   ]
  },
  {
   "cell_type": "code",
   "execution_count": 76,
   "metadata": {},
   "outputs": [
    {
     "data": {
      "text/plain": [
       "  Summary of Regression Results   \n",
       "==================================\n",
       "Model:                         VAR\n",
       "Method:                        OLS\n",
       "Date:           Fri, 23, Aug, 2024\n",
       "Time:                     22:41:19\n",
       "--------------------------------------------------------------------\n",
       "No. of Equations:         3.00000    BIC:                    6.77514\n",
       "Nobs:                     211.000    HQIC:                   6.40603\n",
       "Log likelihood:          -1508.60    FPE:                    471.571\n",
       "AIC:                      6.15560    Det(Omega_mle):         394.140\n",
       "--------------------------------------------------------------------\n",
       "Results for equation BTC_USD\n",
       "==================================================================================\n",
       "                     coefficient       std. error           t-stat            prob\n",
       "----------------------------------------------------------------------------------\n",
       "const                   0.218368         0.687246            0.318           0.751\n",
       "L1.BTC_USD              0.045187         0.072348            0.625           0.532\n",
       "L1.Nr_Addresses        -0.030407         0.065761           -0.462           0.644\n",
       "L1.BTC_Supply          -0.000013         0.000020           -0.655           0.512\n",
       "L2.BTC_USD             -0.009867         0.072783           -0.136           0.892\n",
       "L2.Nr_Addresses         0.020795         0.074711            0.278           0.781\n",
       "L2.BTC_Supply           0.000026         0.000044            0.586           0.558\n",
       "L3.BTC_USD             -0.024242         0.072698           -0.333           0.739\n",
       "L3.Nr_Addresses         0.062267         0.074375            0.837           0.402\n",
       "L3.BTC_Supply          -0.000018         0.000044           -0.400           0.689\n",
       "L4.BTC_USD              0.132783         0.072772            1.825           0.068\n",
       "L4.Nr_Addresses         0.059320         0.065057            0.912           0.362\n",
       "L4.BTC_Supply           0.000005         0.000019            0.245           0.807\n",
       "==================================================================================\n",
       "\n",
       "Results for equation Nr_Addresses\n",
       "==================================================================================\n",
       "                     coefficient       std. error           t-stat            prob\n",
       "----------------------------------------------------------------------------------\n",
       "const                   0.319711         0.753780            0.424           0.671\n",
       "L1.BTC_USD              0.150970         0.079352            1.903           0.057\n",
       "L1.Nr_Addresses        -0.608662         0.072127           -8.439           0.000\n",
       "L1.BTC_Supply           0.000056         0.000022            2.583           0.010\n",
       "L2.BTC_USD             -0.001183         0.079829           -0.015           0.988\n",
       "L2.Nr_Addresses        -0.348897         0.081944           -4.258           0.000\n",
       "L2.BTC_Supply          -0.000104         0.000048           -2.151           0.032\n",
       "L3.BTC_USD              0.128375         0.079736            1.610           0.107\n",
       "L3.Nr_Addresses        -0.197273         0.081576           -2.418           0.016\n",
       "L3.BTC_Supply           0.000050         0.000048            1.022           0.307\n",
       "L4.BTC_USD              0.072879         0.079817            0.913           0.361\n",
       "L4.Nr_Addresses        -0.079179         0.071356           -1.110           0.267\n",
       "L4.BTC_Supply          -0.000001         0.000021           -0.061           0.951\n",
       "==================================================================================\n",
       "\n",
       "Results for equation BTC_Supply\n",
       "==================================================================================\n",
       "                     coefficient       std. error           t-stat            prob\n",
       "----------------------------------------------------------------------------------\n",
       "const                1580.691795      2410.287617            0.656           0.512\n",
       "L1.BTC_USD            315.746686       253.736119            1.244           0.213\n",
       "L1.Nr_Addresses      -279.471172       230.634150           -1.212           0.226\n",
       "L1.BTC_Supply           2.026479         0.069085           29.333           0.000\n",
       "L2.BTC_USD           -279.519421       255.262977           -1.095           0.274\n",
       "L2.Nr_Addresses      -389.673849       262.023204           -1.487           0.137\n",
       "L2.BTC_Supply          -1.414526         0.154682           -9.145           0.000\n",
       "L3.BTC_USD             68.343374       254.965316            0.268           0.789\n",
       "L3.Nr_Addresses      -503.659553       260.847294           -1.931           0.054\n",
       "L3.BTC_Supply           0.657984         0.154922            4.247           0.000\n",
       "L4.BTC_USD            183.596449       255.224612            0.719           0.472\n",
       "L4.Nr_Addresses      -344.338134       228.166922           -1.509           0.131\n",
       "L4.BTC_Supply          -0.269990         0.068246           -3.956           0.000\n",
       "==================================================================================\n",
       "\n",
       "Correlation matrix of residuals\n",
       "                 BTC_USD  Nr_Addresses  BTC_Supply\n",
       "BTC_USD         1.000000      0.167067    0.178242\n",
       "Nr_Addresses    0.167067      1.000000    0.103568\n",
       "BTC_Supply      0.178242      0.103568    1.000000\n",
       "\n"
      ]
     },
     "execution_count": 76,
     "metadata": {},
     "output_type": "execute_result"
    }
   ],
   "source": [
    "from statsmodels.tsa.api import VAR\n",
    "\n",
    "# Escolhi 4 lags porque é o que tem o AIC mais baixo e o BIC mais baixo é o lag 1, então também inclui esse\n",
    "\n",
    "maxlags = 4\n",
    "\n",
    "model_fit = model.fit(maxlags=maxlags)\n",
    "model_fit.summary()"
   ]
  },
  {
   "cell_type": "markdown",
   "metadata": {},
   "source": [
    "prob = p-value"
   ]
  },
  {
   "cell_type": "code",
   "execution_count": 77,
   "metadata": {},
   "outputs": [
    {
     "data": {
      "text/html": [
       "<div>\n",
       "<style scoped>\n",
       "    .dataframe tbody tr th:only-of-type {\n",
       "        vertical-align: middle;\n",
       "    }\n",
       "\n",
       "    .dataframe tbody tr th {\n",
       "        vertical-align: top;\n",
       "    }\n",
       "\n",
       "    .dataframe thead th {\n",
       "        text-align: right;\n",
       "    }\n",
       "</style>\n",
       "<table border=\"1\" class=\"dataframe\">\n",
       "  <thead>\n",
       "    <tr style=\"text-align: right;\">\n",
       "      <th></th>\n",
       "      <th>coeff</th>\n",
       "      <th>pval</th>\n",
       "    </tr>\n",
       "  </thead>\n",
       "  <tbody>\n",
       "  </tbody>\n",
       "</table>\n",
       "</div>"
      ],
      "text/plain": [
       "Empty DataFrame\n",
       "Columns: [coeff, pval]\n",
       "Index: []"
      ]
     },
     "execution_count": 77,
     "metadata": {},
     "output_type": "execute_result"
    }
   ],
   "source": [
    "df_coeff=pd.DataFrame([model_fit.params[\"BTC_USD\"], model_fit.pvalues[\"BTC_USD\"]]).T\n",
    "df_coeff.columns = [\"coeff\", \"pval\"]\n",
    "df_coeff = df_coeff.query(\"pval < 0.05\")\n",
    "df_coeff"
   ]
  },
  {
   "cell_type": "markdown",
   "metadata": {},
   "source": [
    "### test different lags"
   ]
  },
  {
   "cell_type": "code",
   "execution_count": 73,
   "metadata": {},
   "outputs": [
    {
     "name": "stdout",
     "output_type": "stream",
     "text": [
      "          MAE      RMSE      MAPE\n",
      "Lag                              \n",
      "1    0.186229  0.240129  1.066015\n",
      "2    0.186055  0.241515  1.022440\n",
      "3    0.186287  0.241844  1.045765\n",
      "4    0.185264  0.240792  1.027100\n",
      "5    0.186414  0.240524  1.037838\n",
      "6    0.183927  0.236340  1.034514\n",
      "7    0.180503  0.231310  1.052568\n",
      "8    0.181155  0.228870  1.156206\n",
      "9    0.180962  0.228571  1.120603\n"
     ]
    }
   ],
   "source": [
    "from sklearn.metrics import mean_absolute_error, mean_squared_error, mean_absolute_percentage_error\n",
    "\n",
    "# Step 1: Make predictions on the test set\n",
    "# We start predicting after the last lag in the training set\n",
    "\n",
    "# Initialize an empty DataFrame to store results for each lag\n",
    "results_df = pd.DataFrame(columns=[\"Lag\", \"MAE\", \"RMSE\", \"MAPE\"])\n",
    "\n",
    "# Iterate over different lag values\n",
    "for lag in range(1, 10):  # Start at 1 to avoid using a zero-lag, which doesn't make sense\n",
    "    # Re-fit the model for the current lag\n",
    "    model = VAR(endog = df_endog_train)#, exog = df_exog_train\n",
    "    model_fit = model.fit(maxlags=lag)\n",
    "    \n",
    "    # Make predictions on the test set\n",
    "    n_forecast = len(df_test)\n",
    "    #forecast = model_fit.forecast(y=df_endog_train.values[-lag:], steps=n_forecast)#, exog_future=df_exog_test.values\n",
    "\n",
    "    # Convert the forecast to a DataFrame with the same column names as df_train\n",
    "    forecast_df = pd.DataFrame(forecast, index=df_endog_test.index, columns=df_endog_test.columns)\n",
    "\n",
    "    # Calculate MAE, RMSE, and MAPE for the specific column ('BTC_USD')\n",
    "    mae = mean_absolute_error(df_test.BTC_USD, forecast_df.BTC_USD)\n",
    "    rmse = np.sqrt(mean_squared_error(df_test.BTC_USD, forecast_df.BTC_USD))\n",
    "    mape = mean_absolute_percentage_error(df_test.BTC_USD, forecast_df.BTC_USD)\n",
    "\n",
    "    # Save the results into the DataFrame using pd.concat\n",
    "    result_row = pd.DataFrame({\"Lag\": [lag], \"MAE\": [mae], \"RMSE\": [rmse], \"MAPE\": [mape]})\n",
    "    results_df = pd.concat([results_df, result_row], ignore_index=True)\n",
    "    \n",
    "# Set the 'Lag' column as the index\n",
    "results_df.set_index(\"Lag\", inplace=True)\n",
    "\n",
    "# Display the results DataFrame\n",
    "print(results_df)"
   ]
  },
  {
   "cell_type": "markdown",
   "metadata": {},
   "source": [
    "# Check for Serial Correlation of Residuals (Errors) using Durbin Watson Statistic"
   ]
  },
  {
   "cell_type": "code",
   "execution_count": 74,
   "metadata": {},
   "outputs": [
    {
     "name": "stdout",
     "output_type": "stream",
     "text": [
      "BTC_USD : 1.98\n",
      "Nr_Addresses : 2.0\n",
      "BTC_Supply : 1.98\n"
     ]
    }
   ],
   "source": [
    "# https://www.machinelearningplus.com/time-series/vector-autoregression-examples-python/\n",
    "\n",
    "from statsmodels.stats.stattools import durbin_watson\n",
    "\n",
    "out = durbin_watson(model_fit.resid)\n",
    "\n",
    "for col, val in zip(df_endog_train.columns, out):\n",
    "    print(col, ':', round(val, 2))\n",
    "\n",
    "#   The value of this statistic can vary between 0 and 4. The closer it is to the value 2, \n",
    "#   then there is no significant serial correlation. The closer to 0, there is a positive serial correlation, \n",
    "#   and the closer it is to 4 implies negative serial correlation."
   ]
  },
  {
   "cell_type": "markdown",
   "metadata": {},
   "source": [
    "# Forecast"
   ]
  },
  {
   "cell_type": "code",
   "execution_count": 75,
   "metadata": {},
   "outputs": [
    {
     "ename": "ValueError",
     "evalue": "y must by have at least order (9) observations. Got 4.",
     "output_type": "error",
     "traceback": [
      "\u001b[1;31m---------------------------------------------------------------------------\u001b[0m",
      "\u001b[1;31mValueError\u001b[0m                                Traceback (most recent call last)",
      "Cell \u001b[1;32mIn[75], line 4\u001b[0m\n\u001b[0;32m      1\u001b[0m \u001b[38;5;66;03m# Make predictions on the test set\u001b[39;00m\n\u001b[0;32m      3\u001b[0m n_forecast \u001b[38;5;241m=\u001b[39m \u001b[38;5;28mlen\u001b[39m(df_endog_test)\n\u001b[1;32m----> 4\u001b[0m forecast \u001b[38;5;241m=\u001b[39m \u001b[43mmodel_fit\u001b[49m\u001b[38;5;241;43m.\u001b[39;49m\u001b[43mforecast\u001b[49m\u001b[43m(\u001b[49m\u001b[43my\u001b[49m\u001b[38;5;241;43m=\u001b[39;49m\u001b[43mdf_endog_train\u001b[49m\u001b[38;5;241;43m.\u001b[39;49m\u001b[43mvalues\u001b[49m\u001b[43m[\u001b[49m\u001b[38;5;241;43m-\u001b[39;49m\u001b[43mmaxlags\u001b[49m\u001b[43m:\u001b[49m\u001b[43m]\u001b[49m\u001b[43m,\u001b[49m\u001b[43m \u001b[49m\u001b[43msteps\u001b[49m\u001b[38;5;241;43m=\u001b[39;49m\u001b[43mn_forecast\u001b[49m\u001b[43m)\u001b[49m\u001b[38;5;66;03m#, exog_future=df_exog_test.values\u001b[39;00m\n\u001b[0;32m      6\u001b[0m \u001b[38;5;66;03m# Convert the forecast to a DataFrame with the same column names as df_train\u001b[39;00m\n\u001b[0;32m      7\u001b[0m forecast_df \u001b[38;5;241m=\u001b[39m pd\u001b[38;5;241m.\u001b[39mDataFrame(forecast, index\u001b[38;5;241m=\u001b[39mdf_endog_test\u001b[38;5;241m.\u001b[39mindex, columns\u001b[38;5;241m=\u001b[39mdf_endog_test\u001b[38;5;241m.\u001b[39mcolumns)\n",
      "File \u001b[1;32mc:\\Users\\Rui Caseiro\\AppData\\Local\\Programs\\Python\\Python311\\Lib\\site-packages\\statsmodels\\tsa\\vector_ar\\var_model.py:1177\u001b[0m, in \u001b[0;36mVARProcess.forecast\u001b[1;34m(self, y, steps, exog_future)\u001b[0m\n\u001b[0;32m   1175\u001b[0m \u001b[38;5;28;01melse\u001b[39;00m:\n\u001b[0;32m   1176\u001b[0m     exog_future \u001b[38;5;241m=\u001b[39m np\u001b[38;5;241m.\u001b[39mcolumn_stack(exogs)\n\u001b[1;32m-> 1177\u001b[0m \u001b[38;5;28;01mreturn\u001b[39;00m \u001b[43mforecast\u001b[49m\u001b[43m(\u001b[49m\u001b[43my\u001b[49m\u001b[43m,\u001b[49m\u001b[43m \u001b[49m\u001b[38;5;28;43mself\u001b[39;49m\u001b[38;5;241;43m.\u001b[39;49m\u001b[43mcoefs\u001b[49m\u001b[43m,\u001b[49m\u001b[43m \u001b[49m\u001b[43mtrend_coefs\u001b[49m\u001b[43m,\u001b[49m\u001b[43m \u001b[49m\u001b[43msteps\u001b[49m\u001b[43m,\u001b[49m\u001b[43m \u001b[49m\u001b[43mexog_future\u001b[49m\u001b[43m)\u001b[49m\n",
      "File \u001b[1;32mc:\\Users\\Rui Caseiro\\AppData\\Local\\Programs\\Python\\Python311\\Lib\\site-packages\\statsmodels\\tsa\\vector_ar\\var_model.py:233\u001b[0m, in \u001b[0;36mforecast\u001b[1;34m(y, coefs, trend_coefs, steps, exog)\u001b[0m\n\u001b[0;32m    231\u001b[0m k \u001b[38;5;241m=\u001b[39m \u001b[38;5;28mlen\u001b[39m(coefs[\u001b[38;5;241m0\u001b[39m])\n\u001b[0;32m    232\u001b[0m \u001b[38;5;28;01mif\u001b[39;00m y\u001b[38;5;241m.\u001b[39mshape[\u001b[38;5;241m0\u001b[39m] \u001b[38;5;241m<\u001b[39m p:\n\u001b[1;32m--> 233\u001b[0m     \u001b[38;5;28;01mraise\u001b[39;00m \u001b[38;5;167;01mValueError\u001b[39;00m(\n\u001b[0;32m    234\u001b[0m         \u001b[38;5;124mf\u001b[39m\u001b[38;5;124m\"\u001b[39m\u001b[38;5;124my must by have at least order (\u001b[39m\u001b[38;5;132;01m{\u001b[39;00mp\u001b[38;5;132;01m}\u001b[39;00m\u001b[38;5;124m) observations. \u001b[39m\u001b[38;5;124m\"\u001b[39m\n\u001b[0;32m    235\u001b[0m         \u001b[38;5;124mf\u001b[39m\u001b[38;5;124m\"\u001b[39m\u001b[38;5;124mGot \u001b[39m\u001b[38;5;132;01m{\u001b[39;00my\u001b[38;5;241m.\u001b[39mshape[\u001b[38;5;241m0\u001b[39m]\u001b[38;5;132;01m}\u001b[39;00m\u001b[38;5;124m.\u001b[39m\u001b[38;5;124m\"\u001b[39m\n\u001b[0;32m    236\u001b[0m     )\n\u001b[0;32m    237\u001b[0m \u001b[38;5;66;03m# initial value\u001b[39;00m\n\u001b[0;32m    238\u001b[0m forcs \u001b[38;5;241m=\u001b[39m np\u001b[38;5;241m.\u001b[39mzeros((steps, k))\n",
      "\u001b[1;31mValueError\u001b[0m: y must by have at least order (9) observations. Got 4."
     ]
    }
   ],
   "source": [
    "# Make predictions on the test set\n",
    "\n",
    "n_forecast = len(df_endog_test)\n",
    "forecast = model_fit.forecast(y=df_endog_train.values[-maxlags:], steps=n_forecast)#, exog_future=df_exog_test.values\n",
    "\n",
    "# Convert the forecast to a DataFrame with the same column names as df_train\n",
    "forecast_df = pd.DataFrame(forecast, index=df_endog_test.index, columns=df_endog_test.columns)\n",
    "yhat = forecast_df.BTC_USD"
   ]
  },
  {
   "cell_type": "markdown",
   "metadata": {},
   "source": [
    "# Validate model - MAE, RMSE and MAPE"
   ]
  },
  {
   "cell_type": "code",
   "execution_count": null,
   "metadata": {},
   "outputs": [],
   "source": [
    "from sklearn.metrics import mean_absolute_error, mean_squared_error, mean_absolute_percentage_error\n",
    "\n",
    "'''\n",
    "# Calculate MAE, RMSE, and MAPE for the specific column ('BTC_USD')\n",
    "mae = mean_absolute_error(df_endog_test.BTC_USD, forecast_df.BTC_USD)\n",
    "rmse = np.sqrt(mean_squared_error(df_endog_test.BTC_USD, forecast_df.BTC_USD))\n",
    "mape = mean_absolute_percentage_error(df_endog_test.BTC_USD, forecast_df.BTC_USD)\n",
    "\n",
    "# Print the results\n",
    "print(\"Mean Absolute Error (MAE):\", mae)\n",
    "print(\"Root Mean Squared Error (RMSE):\", rmse)\n",
    "print(\"Mean Absolute Percentage Error (MAPE):\", mape)\n",
    "'''"
   ]
  },
  {
   "cell_type": "code",
   "execution_count": null,
   "metadata": {},
   "outputs": [],
   "source": [
    "def forecast_accuracy(forecast, actual):\n",
    "    forecast = forecast.values\n",
    "    actual = actual.values\n",
    "    mape = np.mean(np.abs(forecast - actual)/np.abs(actual))    # MAPE Mean Absolute Percentage Error\n",
    "    me = np.mean(forecast - actual)                             # ME Mean Error\n",
    "    mae = np.mean(np.abs(forecast - actual))    # MAE Mean Absolute Error \n",
    "    mpe = np.mean((forecast - actual)/actual)   # MPE Mean Percentage Error\n",
    "    rmse = np.mean((forecast - actual)**2)**.5  # RMSE Root Mean Squared Error\n",
    "    corr = np.corrcoef(forecast, actual)[0,1]   # corr Correlation\n",
    "    mins = np.amin(np.hstack([forecast[:,None], actual[:,None]]), axis=1)\n",
    "    maxs = np.amax(np.hstack([forecast[:,None], actual[:,None]]), axis=1)\n",
    "    minmax = 1 - np.mean(mins/maxs)             # minmax\n",
    "    return({'mape':mape, 'me':me, 'mae': mae, 'mpe': mpe, 'rmse':rmse, 'corr':corr, 'minmax':minmax})"
   ]
  },
  {
   "cell_type": "markdown",
   "metadata": {},
   "source": [
    "**MAPE (Mean absolute percentage error)** It considers actual values fed into model and fitted values from the model and calculates absolute difference between the two as a percentage of actual value and finally calculates mean of that."
   ]
  },
  {
   "cell_type": "code",
   "execution_count": null,
   "metadata": {},
   "outputs": [
    {
     "data": {
      "text/plain": [
       "{'mape': 1.0271003467126927,\n",
       " 'me': -0.0421401525404926,\n",
       " 'mae': 0.1852640584260747,\n",
       " 'mpe': -1.0271003467126927,\n",
       " 'rmse': 0.2407921880693323,\n",
       " 'corr': 0.11684703621897681,\n",
       " 'minmax': 18.324631685859483}"
      ]
     },
     "execution_count": 65,
     "metadata": {},
     "output_type": "execute_result"
    }
   ],
   "source": [
    "forecast_accuracy(yhat, df_endog_test.BTC_USD)"
   ]
  },
  {
   "cell_type": "code",
   "execution_count": null,
   "metadata": {},
   "outputs": [
    {
     "data": {
      "text/plain": [
       "<matplotlib.legend.Legend at 0x1a5954d3e50>"
      ]
     },
     "execution_count": 66,
     "metadata": {},
     "output_type": "execute_result"
    },
    {
     "data": {
      "image/png": "[encoded data removed]",
      "text/plain": [
       "<Figure size 1200x600 with 1 Axes>"
      ]
     },
     "metadata": {},
     "output_type": "display_data"
    }
   ],
   "source": [
    "plt.figure(figsize=(12, 6))\n",
    "plt.plot(df_endog_test.BTC_USD, color='blue', label='Real Data')\n",
    "plt.plot(yhat, color='red', linestyle='dashed', label='Forecasted Data')\n",
    "plt.legend()"
   ]
  },
  {
   "cell_type": "markdown",
   "metadata": {},
   "source": [
    "## Undo Data Transformations"
   ]
  },
  {
   "cell_type": "code",
   "execution_count": null,
   "metadata": {},
   "outputs": [],
   "source": [
    "opencsv_real_btc_price = pd.read_csv(r\"D:\\OneDrive - Instituto Politecnico de Castelo Branco\\002_Learning\\001_Pos_Graduacao\\Ciclo 5 - Projeto Final\\ProjetoFinal-PosGraduacaoEngenhariaFinanceira\\df_weekly.csv\", sep=\",\")\n",
    "opencsv_real_btc_price = opencsv_real_btc_price[[\"Date\", \"BTC_USD\"]]\n",
    "opencsv_real_btc_price.set_index('Date', inplace=True)\n",
    "opencsv_real_btc_price.index = pd.to_datetime(opencsv_real_btc_price.index)\n",
    "opencsv_real_btc_price = opencsv_real_btc_price.astype(float)"
   ]
  },
  {
   "cell_type": "code",
   "execution_count": null,
   "metadata": {},
   "outputs": [],
   "source": [
    "# Assuming these are available from your original data processing steps\n",
    "\n",
    "start_forecast = df_endog_test.index[0]\n",
    "finnish_forecast = df_endog_test.index[-1]\n",
    "\n",
    "ts = opencsv_real_btc_price.BTC_USD\n",
    "ts = ts.loc[start_forecast:finnish_forecast]\n",
    "\n",
    "mu = ts.mean()\n",
    "sigma = ts.std()\n",
    "\n",
    "normalized_ts = (ts - mu) / sigma\n",
    "\n",
    "differenced_ts = normalized_ts.diff()\n",
    "\n",
    "def revert_transformations(transformed_ts, original_ts):\n",
    "    # Get the mean and standard deviation of the original series\n",
    "    mu = original_ts.mean()\n",
    "    sigma = original_ts.std()\n",
    "    \n",
    "    # Step 1: Undo the differencing\n",
    "    undifferenced = transformed_ts.cumsum()\n",
    "    \n",
    "    # Add back the first value of the normalized series\n",
    "    normalized_start = (original_ts.iloc[0] - mu) / sigma\n",
    "    undifferenced = normalized_start + undifferenced\n",
    "    \n",
    "    # Step 2: Undo the normalization\n",
    "    reverted = (undifferenced * sigma) + mu\n",
    "    \n",
    "    # Ensure the index matches the original series\n",
    "    return reverted.reindex(original_ts.index)"
   ]
  },
  {
   "cell_type": "markdown",
   "metadata": {},
   "source": [
    "#### Exemplo"
   ]
  },
  {
   "cell_type": "code",
   "execution_count": null,
   "metadata": {},
   "outputs": [
    {
     "data": {
      "application/vnd.plotly.v1+json": {
       "config": {
        "plotlyServerURL": "https://plot.ly"
       },
       "data": [
        {
         "hovertemplate": "x=%{x}<br>y=%{y}<extra></extra>",
         "legendgroup": "",
         "marker": {
          "color": "#636efa",
          "symbol": "circle"
         },
         "mode": "markers",
         "name": "",
         "orientation": "v",
         "showlegend": false,
         "type": "scatter",
         "x": [
          27441.41,
          27493.01,
          28474.62,
          27927.8,
          30491.71,
          27261.17,
          29339.99,
          29548.51,
          26807.09,
          26888.42,
          26719.7,
          27251.14,
          26483.81,
          26330.59,
          30705.39,
          30471.06,
          30349.69,
          30331.09,
          29911.46,
          29316.82,
          29078.51,
          29403.56,
          26049.69,
          26051.29,
          25798.79,
          25907.13,
          26605.49,
          26583.16,
          26909.4,
          27946.61,
          26862.9,
          29684.37,
          33907.7,
          34732.28,
          37321.51,
          36626.32,
          37737.05,
          38699.84,
          44186.18,
          41939.16,
          44008.04,
          42073.59,
          44178.89,
          42776.42,
          41625.47,
          41816.55,
          43181.71,
          47154.23,
          52163.28,
          50744.07,
          62431.25,
          68269.39,
          69497.39,
          63816.99,
          69903.72,
          67860.53,
          67158.3,
          63848.26,
          63750.63,
          62917.45,
          60790.82,
          67051.35,
          68548.33,
          67482.25,
          69330.51,
          66006.13,
          64119.34,
          60324.3,
          56646.24,
          57913.68,
          66708.49,
          67925.17
         ],
         "xaxis": "x",
         "y": [
          27441.41,
          27493.01,
          28474.62,
          27927.8,
          30491.71,
          27261.17,
          29339.99,
          29548.51,
          26807.09,
          26888.42,
          26719.7,
          27251.14,
          26483.81,
          26330.59,
          30705.39,
          30471.06,
          30349.69,
          30331.09,
          29911.46,
          29316.82,
          29078.51,
          29403.56,
          26049.69,
          26051.29,
          25798.79,
          25907.13,
          26605.49,
          26583.16,
          26909.4,
          27946.61,
          26862.9,
          29684.37,
          33907.7,
          34732.28,
          37321.51,
          36626.31999999999,
          37737.05,
          38699.83999999999,
          44186.17999999999,
          41939.16,
          44008.04,
          42073.59,
          44178.88999999999,
          42776.41999999999,
          41625.469999999994,
          41816.549999999996,
          43181.70999999999,
          47154.229999999996,
          52163.27999999999,
          50744.06999999999,
          62431.249999999985,
          68269.38999999998,
          69497.38999999998,
          63816.98999999999,
          69903.72,
          67860.53,
          67158.3,
          63848.26,
          63750.63,
          62917.45,
          60790.82,
          67051.35,
          68548.33,
          67482.25,
          69330.51,
          66006.13,
          64119.34,
          60324.3,
          56646.24,
          57913.68000000001,
          66708.49,
          67925.17
         ],
         "yaxis": "y"
        },
        {
         "hovertemplate": "<b>OLS trendline</b><br>y = 1 * x + 6.82121e-12<br>R<sup>2</sup>=1.000000<br><br>x=%{x}<br>y=%{y} <b>(trend)</b><extra></extra>",
         "legendgroup": "",
         "line": {
          "color": "black"
         },
         "marker": {
          "color": "#636efa",
          "symbol": "circle"
         },
         "mode": "lines",
         "name": "",
         "showlegend": false,
         "type": "scatter",
         "x": [
          25798.79,
          25907.13,
          26049.69,
          26051.29,
          26330.59,
          26483.81,
          26583.16,
          26605.49,
          26719.7,
          26807.09,
          26862.9,
          26888.42,
          26909.4,
          27251.14,
          27261.17,
          27441.41,
          27493.01,
          27927.8,
          27946.61,
          28474.62,
          29078.51,
          29316.82,
          29339.99,
          29403.56,
          29548.51,
          29684.37,
          29911.46,
          30331.09,
          30349.69,
          30471.06,
          30491.71,
          30705.39,
          33907.7,
          34732.28,
          36626.32,
          37321.51,
          37737.05,
          38699.84,
          41625.47,
          41816.55,
          41939.16,
          42073.59,
          42776.42,
          43181.71,
          44008.04,
          44178.89,
          44186.18,
          47154.23,
          50744.07,
          52163.28,
          56646.24,
          57913.68,
          60324.3,
          60790.82,
          62431.25,
          62917.45,
          63750.63,
          63816.99,
          63848.26,
          64119.34,
          66006.13,
          66708.49,
          67051.35,
          67158.3,
          67482.25,
          67860.53,
          67925.17,
          68269.39,
          68548.33,
          69330.51,
          69497.39,
          69903.72
         ],
         "xaxis": "x",
         "y": [
          25798.79,
          25907.13,
          26049.69,
          26051.29,
          26330.59,
          26483.81,
          26583.16,
          26605.49,
          26719.7,
          26807.09,
          26862.9,
          26888.42,
          26909.4,
          27251.14,
          27261.17,
          27441.41,
          27493.01,
          27927.8,
          27946.61,
          28474.62,
          29078.51,
          29316.82,
          29339.99,
          29403.56,
          29548.51,
          29684.37,
          29911.46,
          30331.09,
          30349.69,
          30471.06,
          30491.71,
          30705.39,
          33907.7,
          34732.28,
          36626.32,
          37321.51,
          37737.05,
          38699.84,
          41625.47,
          41816.55,
          41939.16,
          42073.59,
          42776.42,
          43181.71,
          44008.04,
          44178.89,
          44186.18,
          47154.23,
          50744.06999999999,
          52163.27999999999,
          56646.23999999999,
          57913.67999999999,
          60324.299999999996,
          60790.81999999999,
          62431.24999999999,
          62917.44999999999,
          63750.62999999999,
          63816.98999999999,
          63848.259999999995,
          64119.33999999999,
          66006.12999999999,
          66708.48999999999,
          67051.34999999999,
          67158.29999999999,
          67482.24999999999,
          67860.52999999998,
          67925.16999999998,
          68269.38999999998,
          68548.32999999999,
          69330.50999999998,
          69497.38999999998,
          69903.71999999999
         ],
         "yaxis": "y"
        }
       ],
       "layout": {
        "height": 500,
        "legend": {
         "tracegroupgap": 0
        },
        "template": {
         "data": {
          "bar": [
           {
            "error_x": {
             "color": "rgb(36,36,36)"
            },
            "error_y": {
             "color": "rgb(36,36,36)"
            },
            "marker": {
             "line": {
              "color": "rgb(234,234,242)",
              "width": 0.5
             },
             "pattern": {
              "fillmode": "overlay",
              "size": 10,
              "solidity": 0.2
             }
            },
            "type": "bar"
           }
          ],
          "barpolar": [
           {
            "marker": {
             "line": {
              "color": "rgb(234,234,242)",
              "width": 0.5
             },
             "pattern": {
              "fillmode": "overlay",
              "size": 10,
              "solidity": 0.2
             }
            },
            "type": "barpolar"
           }
          ],
          "carpet": [
           {
            "aaxis": {
             "endlinecolor": "rgb(36,36,36)",
             "gridcolor": "white",
             "linecolor": "white",
             "minorgridcolor": "white",
             "startlinecolor": "rgb(36,36,36)"
            },
            "baxis": {
             "endlinecolor": "rgb(36,36,36)",
             "gridcolor": "white",
             "linecolor": "white",
             "minorgridcolor": "white",
             "startlinecolor": "rgb(36,36,36)"
            },
            "type": "carpet"
           }
          ],
          "choropleth": [
           {
            "colorbar": {
             "outlinewidth": 0,
             "tickcolor": "rgb(36,36,36)",
             "ticklen": 8,
             "ticks": "outside",
             "tickwidth": 2
            },
            "type": "choropleth"
           }
          ],
          "contour": [
           {
            "colorbar": {
             "outlinewidth": 0,
             "tickcolor": "rgb(36,36,36)",
             "ticklen": 8,
             "ticks": "outside",
             "tickwidth": 2
            },
            "colorscale": [
             [
              0,
              "rgb(2,4,25)"
             ],
             [
              0.06274509803921569,
              "rgb(24,15,41)"
             ],
             [
              0.12549019607843137,
              "rgb(47,23,57)"
             ],
             [
              0.18823529411764706,
              "rgb(71,28,72)"
             ],
             [
              0.25098039215686274,
              "rgb(97,30,82)"
             ],
             [
              0.3137254901960784,
              "rgb(123,30,89)"
             ],
             [
              0.3764705882352941,
              "rgb(150,27,91)"
             ],
             [
              0.4392156862745098,
              "rgb(177,22,88)"
             ],
             [
              0.5019607843137255,
              "rgb(203,26,79)"
             ],
             [
              0.5647058823529412,
              "rgb(223,47,67)"
             ],
             [
              0.6274509803921569,
              "rgb(236,76,61)"
             ],
             [
              0.6901960784313725,
              "rgb(242,107,73)"
             ],
             [
              0.7529411764705882,
              "rgb(244,135,95)"
             ],
             [
              0.8156862745098039,
              "rgb(245,162,122)"
             ],
             [
              0.8784313725490196,
              "rgb(246,188,153)"
             ],
             [
              0.9411764705882353,
              "rgb(247,212,187)"
             ],
             [
              1,
              "rgb(250,234,220)"
             ]
            ],
            "type": "contour"
           }
          ],
          "contourcarpet": [
           {
            "colorbar": {
             "outlinewidth": 0,
             "tickcolor": "rgb(36,36,36)",
             "ticklen": 8,
             "ticks": "outside",
             "tickwidth": 2
            },
            "type": "contourcarpet"
           }
          ],
          "heatmap": [
           {
            "colorbar": {
             "outlinewidth": 0,
             "tickcolor": "rgb(36,36,36)",
             "ticklen": 8,
             "ticks": "outside",
             "tickwidth": 2
            },
            "colorscale": [
             [
              0,
              "rgb(2,4,25)"
             ],
             [
              0.06274509803921569,
              "rgb(24,15,41)"
             ],
             [
              0.12549019607843137,
              "rgb(47,23,57)"
             ],
             [
              0.18823529411764706,
              "rgb(71,28,72)"
             ],
             [
              0.25098039215686274,
              "rgb(97,30,82)"
             ],
             [
              0.3137254901960784,
              "rgb(123,30,89)"
             ],
             [
              0.3764705882352941,
              "rgb(150,27,91)"
             ],
             [
              0.4392156862745098,
              "rgb(177,22,88)"
             ],
             [
              0.5019607843137255,
              "rgb(203,26,79)"
             ],
             [
              0.5647058823529412,
              "rgb(223,47,67)"
             ],
             [
              0.6274509803921569,
              "rgb(236,76,61)"
             ],
             [
              0.6901960784313725,
              "rgb(242,107,73)"
             ],
             [
              0.7529411764705882,
              "rgb(244,135,95)"
             ],
             [
              0.8156862745098039,
              "rgb(245,162,122)"
             ],
             [
              0.8784313725490196,
              "rgb(246,188,153)"
             ],
             [
              0.9411764705882353,
              "rgb(247,212,187)"
             ],
             [
              1,
              "rgb(250,234,220)"
             ]
            ],
            "type": "heatmap"
           }
          ],
          "heatmapgl": [
           {
            "colorbar": {
             "outlinewidth": 0,
             "tickcolor": "rgb(36,36,36)",
             "ticklen": 8,
             "ticks": "outside",
             "tickwidth": 2
            },
            "colorscale": [
             [
              0,
              "rgb(2,4,25)"
             ],
             [
              0.06274509803921569,
              "rgb(24,15,41)"
             ],
             [
              0.12549019607843137,
              "rgb(47,23,57)"
             ],
             [
              0.18823529411764706,
              "rgb(71,28,72)"
             ],
             [
              0.25098039215686274,
              "rgb(97,30,82)"
             ],
             [
              0.3137254901960784,
              "rgb(123,30,89)"
             ],
             [
              0.3764705882352941,
              "rgb(150,27,91)"
             ],
             [
              0.4392156862745098,
              "rgb(177,22,88)"
             ],
             [
              0.5019607843137255,
              "rgb(203,26,79)"
             ],
             [
              0.5647058823529412,
              "rgb(223,47,67)"
             ],
             [
              0.6274509803921569,
              "rgb(236,76,61)"
             ],
             [
              0.6901960784313725,
              "rgb(242,107,73)"
             ],
             [
              0.7529411764705882,
              "rgb(244,135,95)"
             ],
             [
              0.8156862745098039,
              "rgb(245,162,122)"
             ],
             [
              0.8784313725490196,
              "rgb(246,188,153)"
             ],
             [
              0.9411764705882353,
              "rgb(247,212,187)"
             ],
             [
              1,
              "rgb(250,234,220)"
             ]
            ],
            "type": "heatmapgl"
           }
          ],
          "histogram": [
           {
            "marker": {
             "pattern": {
              "fillmode": "overlay",
              "size": 10,
              "solidity": 0.2
             }
            },
            "type": "histogram"
           }
          ],
          "histogram2d": [
           {
            "colorbar": {
             "outlinewidth": 0,
             "tickcolor": "rgb(36,36,36)",
             "ticklen": 8,
             "ticks": "outside",
             "tickwidth": 2
            },
            "colorscale": [
             [
              0,
              "rgb(2,4,25)"
             ],
             [
              0.06274509803921569,
              "rgb(24,15,41)"
             ],
             [
              0.12549019607843137,
              "rgb(47,23,57)"
             ],
             [
              0.18823529411764706,
              "rgb(71,28,72)"
             ],
             [
              0.25098039215686274,
              "rgb(97,30,82)"
             ],
             [
              0.3137254901960784,
              "rgb(123,30,89)"
             ],
             [
              0.3764705882352941,
              "rgb(150,27,91)"
             ],
             [
              0.4392156862745098,
              "rgb(177,22,88)"
             ],
             [
              0.5019607843137255,
              "rgb(203,26,79)"
             ],
             [
              0.5647058823529412,
              "rgb(223,47,67)"
             ],
             [
              0.6274509803921569,
              "rgb(236,76,61)"
             ],
             [
              0.6901960784313725,
              "rgb(242,107,73)"
             ],
             [
              0.7529411764705882,
              "rgb(244,135,95)"
             ],
             [
              0.8156862745098039,
              "rgb(245,162,122)"
             ],
             [
              0.8784313725490196,
              "rgb(246,188,153)"
             ],
             [
              0.9411764705882353,
              "rgb(247,212,187)"
             ],
             [
              1,
              "rgb(250,234,220)"
             ]
            ],
            "type": "histogram2d"
           }
          ],
          "histogram2dcontour": [
           {
            "colorbar": {
             "outlinewidth": 0,
             "tickcolor": "rgb(36,36,36)",
             "ticklen": 8,
             "ticks": "outside",
             "tickwidth": 2
            },
            "colorscale": [
             [
              0,
              "rgb(2,4,25)"
             ],
             [
              0.06274509803921569,
              "rgb(24,15,41)"
             ],
             [
              0.12549019607843137,
              "rgb(47,23,57)"
             ],
             [
              0.18823529411764706,
              "rgb(71,28,72)"
             ],
             [
              0.25098039215686274,
              "rgb(97,30,82)"
             ],
             [
              0.3137254901960784,
              "rgb(123,30,89)"
             ],
             [
              0.3764705882352941,
              "rgb(150,27,91)"
             ],
             [
              0.4392156862745098,
              "rgb(177,22,88)"
             ],
             [
              0.5019607843137255,
              "rgb(203,26,79)"
             ],
             [
              0.5647058823529412,
              "rgb(223,47,67)"
             ],
             [
              0.6274509803921569,
              "rgb(236,76,61)"
             ],
             [
              0.6901960784313725,
              "rgb(242,107,73)"
             ],
             [
              0.7529411764705882,
              "rgb(244,135,95)"
             ],
             [
              0.8156862745098039,
              "rgb(245,162,122)"
             ],
             [
              0.8784313725490196,
              "rgb(246,188,153)"
             ],
             [
              0.9411764705882353,
              "rgb(247,212,187)"
             ],
             [
              1,
              "rgb(250,234,220)"
             ]
            ],
            "type": "histogram2dcontour"
           }
          ],
          "mesh3d": [
           {
            "colorbar": {
             "outlinewidth": 0,
             "tickcolor": "rgb(36,36,36)",
             "ticklen": 8,
             "ticks": "outside",
             "tickwidth": 2
            },
            "type": "mesh3d"
           }
          ],
          "parcoords": [
           {
            "line": {
             "colorbar": {
              "outlinewidth": 0,
              "tickcolor": "rgb(36,36,36)",
              "ticklen": 8,
              "ticks": "outside",
              "tickwidth": 2
             }
            },
            "type": "parcoords"
           }
          ],
          "pie": [
           {
            "automargin": true,
            "type": "pie"
           }
          ],
          "scatter": [
           {
            "fillpattern": {
             "fillmode": "overlay",
             "size": 10,
             "solidity": 0.2
            },
            "type": "scatter"
           }
          ],
          "scatter3d": [
           {
            "line": {
             "colorbar": {
              "outlinewidth": 0,
              "tickcolor": "rgb(36,36,36)",
              "ticklen": 8,
              "ticks": "outside",
              "tickwidth": 2
             }
            },
            "marker": {
             "colorbar": {
              "outlinewidth": 0,
              "tickcolor": "rgb(36,36,36)",
              "ticklen": 8,
              "ticks": "outside",
              "tickwidth": 2
             }
            },
            "type": "scatter3d"
           }
          ],
          "scattercarpet": [
           {
            "marker": {
             "colorbar": {
              "outlinewidth": 0,
              "tickcolor": "rgb(36,36,36)",
              "ticklen": 8,
              "ticks": "outside",
              "tickwidth": 2
             }
            },
            "type": "scattercarpet"
           }
          ],
          "scattergeo": [
           {
            "marker": {
             "colorbar": {
              "outlinewidth": 0,
              "tickcolor": "rgb(36,36,36)",
              "ticklen": 8,
              "ticks": "outside",
              "tickwidth": 2
             }
            },
            "type": "scattergeo"
           }
          ],
          "scattergl": [
           {
            "marker": {
             "colorbar": {
              "outlinewidth": 0,
              "tickcolor": "rgb(36,36,36)",
              "ticklen": 8,
              "ticks": "outside",
              "tickwidth": 2
             }
            },
            "type": "scattergl"
           }
          ],
          "scattermapbox": [
           {
            "marker": {
             "colorbar": {
              "outlinewidth": 0,
              "tickcolor": "rgb(36,36,36)",
              "ticklen": 8,
              "ticks": "outside",
              "tickwidth": 2
             }
            },
            "type": "scattermapbox"
           }
          ],
          "scatterpolar": [
           {
            "marker": {
             "colorbar": {
              "outlinewidth": 0,
              "tickcolor": "rgb(36,36,36)",
              "ticklen": 8,
              "ticks": "outside",
              "tickwidth": 2
             }
            },
            "type": "scatterpolar"
           }
          ],
          "scatterpolargl": [
           {
            "marker": {
             "colorbar": {
              "outlinewidth": 0,
              "tickcolor": "rgb(36,36,36)",
              "ticklen": 8,
              "ticks": "outside",
              "tickwidth": 2
             }
            },
            "type": "scatterpolargl"
           }
          ],
          "scatterternary": [
           {
            "marker": {
             "colorbar": {
              "outlinewidth": 0,
              "tickcolor": "rgb(36,36,36)",
              "ticklen": 8,
              "ticks": "outside",
              "tickwidth": 2
             }
            },
            "type": "scatterternary"
           }
          ],
          "surface": [
           {
            "colorbar": {
             "outlinewidth": 0,
             "tickcolor": "rgb(36,36,36)",
             "ticklen": 8,
             "ticks": "outside",
             "tickwidth": 2
            },
            "colorscale": [
             [
              0,
              "rgb(2,4,25)"
             ],
             [
              0.06274509803921569,
              "rgb(24,15,41)"
             ],
             [
              0.12549019607843137,
              "rgb(47,23,57)"
             ],
             [
              0.18823529411764706,
              "rgb(71,28,72)"
             ],
             [
              0.25098039215686274,
              "rgb(97,30,82)"
             ],
             [
              0.3137254901960784,
              "rgb(123,30,89)"
             ],
             [
              0.3764705882352941,
              "rgb(150,27,91)"
             ],
             [
              0.4392156862745098,
              "rgb(177,22,88)"
             ],
             [
              0.5019607843137255,
              "rgb(203,26,79)"
             ],
             [
              0.5647058823529412,
              "rgb(223,47,67)"
             ],
             [
              0.6274509803921569,
              "rgb(236,76,61)"
             ],
             [
              0.6901960784313725,
              "rgb(242,107,73)"
             ],
             [
              0.7529411764705882,
              "rgb(244,135,95)"
             ],
             [
              0.8156862745098039,
              "rgb(245,162,122)"
             ],
             [
              0.8784313725490196,
              "rgb(246,188,153)"
             ],
             [
              0.9411764705882353,
              "rgb(247,212,187)"
             ],
             [
              1,
              "rgb(250,234,220)"
             ]
            ],
            "type": "surface"
           }
          ],
          "table": [
           {
            "cells": {
             "fill": {
              "color": "rgb(231,231,240)"
             },
             "line": {
              "color": "white"
             }
            },
            "header": {
             "fill": {
              "color": "rgb(183,183,191)"
             },
             "line": {
              "color": "white"
             }
            },
            "type": "table"
           }
          ]
         },
         "layout": {
          "annotationdefaults": {
           "arrowcolor": "rgb(67,103,167)"
          },
          "autotypenumbers": "strict",
          "coloraxis": {
           "colorbar": {
            "outlinewidth": 0,
            "tickcolor": "rgb(36,36,36)",
            "ticklen": 8,
            "ticks": "outside",
            "tickwidth": 2
           }
          },
          "colorscale": {
           "sequential": [
            [
             0,
             "rgb(2,4,25)"
            ],
            [
             0.06274509803921569,
             "rgb(24,15,41)"
            ],
            [
             0.12549019607843137,
             "rgb(47,23,57)"
            ],
            [
             0.18823529411764706,
             "rgb(71,28,72)"
            ],
            [
             0.25098039215686274,
             "rgb(97,30,82)"
            ],
            [
             0.3137254901960784,
             "rgb(123,30,89)"
            ],
            [
             0.3764705882352941,
             "rgb(150,27,91)"
            ],
            [
             0.4392156862745098,
             "rgb(177,22,88)"
            ],
            [
             0.5019607843137255,
             "rgb(203,26,79)"
            ],
            [
             0.5647058823529412,
             "rgb(223,47,67)"
            ],
            [
             0.6274509803921569,
             "rgb(236,76,61)"
            ],
            [
             0.6901960784313725,
             "rgb(242,107,73)"
            ],
            [
             0.7529411764705882,
             "rgb(244,135,95)"
            ],
            [
             0.8156862745098039,
             "rgb(245,162,122)"
            ],
            [
             0.8784313725490196,
             "rgb(246,188,153)"
            ],
            [
             0.9411764705882353,
             "rgb(247,212,187)"
            ],
            [
             1,
             "rgb(250,234,220)"
            ]
           ],
           "sequentialminus": [
            [
             0,
             "rgb(2,4,25)"
            ],
            [
             0.06274509803921569,
             "rgb(24,15,41)"
            ],
            [
             0.12549019607843137,
             "rgb(47,23,57)"
            ],
            [
             0.18823529411764706,
             "rgb(71,28,72)"
            ],
            [
             0.25098039215686274,
             "rgb(97,30,82)"
            ],
            [
             0.3137254901960784,
             "rgb(123,30,89)"
            ],
            [
             0.3764705882352941,
             "rgb(150,27,91)"
            ],
            [
             0.4392156862745098,
             "rgb(177,22,88)"
            ],
            [
             0.5019607843137255,
             "rgb(203,26,79)"
            ],
            [
             0.5647058823529412,
             "rgb(223,47,67)"
            ],
            [
             0.6274509803921569,
             "rgb(236,76,61)"
            ],
            [
             0.6901960784313725,
             "rgb(242,107,73)"
            ],
            [
             0.7529411764705882,
             "rgb(244,135,95)"
            ],
            [
             0.8156862745098039,
             "rgb(245,162,122)"
            ],
            [
             0.8784313725490196,
             "rgb(246,188,153)"
            ],
            [
             0.9411764705882353,
             "rgb(247,212,187)"
            ],
            [
             1,
             "rgb(250,234,220)"
            ]
           ]
          },
          "colorway": [
           "rgb(76,114,176)",
           "rgb(221,132,82)",
           "rgb(85,168,104)",
           "rgb(196,78,82)",
           "rgb(129,114,179)",
           "rgb(147,120,96)",
           "rgb(218,139,195)",
           "rgb(140,140,140)",
           "rgb(204,185,116)",
           "rgb(100,181,205)"
          ],
          "font": {
           "color": "rgb(36,36,36)"
          },
          "geo": {
           "bgcolor": "white",
           "lakecolor": "white",
           "landcolor": "rgb(234,234,242)",
           "showlakes": true,
           "showland": true,
           "subunitcolor": "white"
          },
          "hoverlabel": {
           "align": "left"
          },
          "hovermode": "closest",
          "paper_bgcolor": "white",
          "plot_bgcolor": "rgb(234,234,242)",
          "polar": {
           "angularaxis": {
            "gridcolor": "white",
            "linecolor": "white",
            "showgrid": true,
            "ticks": ""
           },
           "bgcolor": "rgb(234,234,242)",
           "radialaxis": {
            "gridcolor": "white",
            "linecolor": "white",
            "showgrid": true,
            "ticks": ""
           }
          },
          "scene": {
           "xaxis": {
            "backgroundcolor": "rgb(234,234,242)",
            "gridcolor": "white",
            "gridwidth": 2,
            "linecolor": "white",
            "showbackground": true,
            "showgrid": true,
            "ticks": "",
            "zerolinecolor": "white"
           },
           "yaxis": {
            "backgroundcolor": "rgb(234,234,242)",
            "gridcolor": "white",
            "gridwidth": 2,
            "linecolor": "white",
            "showbackground": true,
            "showgrid": true,
            "ticks": "",
            "zerolinecolor": "white"
           },
           "zaxis": {
            "backgroundcolor": "rgb(234,234,242)",
            "gridcolor": "white",
            "gridwidth": 2,
            "linecolor": "white",
            "showbackground": true,
            "showgrid": true,
            "ticks": "",
            "zerolinecolor": "white"
           }
          },
          "shapedefaults": {
           "fillcolor": "rgb(67,103,167)",
           "line": {
            "width": 0
           },
           "opacity": 0.5
          },
          "ternary": {
           "aaxis": {
            "gridcolor": "white",
            "linecolor": "white",
            "showgrid": true,
            "ticks": ""
           },
           "baxis": {
            "gridcolor": "white",
            "linecolor": "white",
            "showgrid": true,
            "ticks": ""
           },
           "bgcolor": "rgb(234,234,242)",
           "caxis": {
            "gridcolor": "white",
            "linecolor": "white",
            "showgrid": true,
            "ticks": ""
           }
          },
          "xaxis": {
           "automargin": true,
           "gridcolor": "white",
           "linecolor": "white",
           "showgrid": true,
           "ticks": "",
           "title": {
            "standoff": 15
           },
           "zerolinecolor": "white"
          },
          "yaxis": {
           "automargin": true,
           "gridcolor": "white",
           "linecolor": "white",
           "showgrid": true,
           "ticks": "",
           "title": {
            "standoff": 15
           },
           "zerolinecolor": "white"
          }
         }
        },
        "title": {
         "text": "regressão linear OLS"
        },
        "width": 900,
        "xaxis": {
         "anchor": "y",
         "domain": [
          0,
          1
         ],
         "title": {
          "text": "x"
         }
        },
        "yaxis": {
         "anchor": "x",
         "domain": [
          0,
          1
         ],
         "title": {
          "text": "y"
         }
        }
       }
      }
     },
     "metadata": {},
     "output_type": "display_data"
    }
   ],
   "source": [
    "# Usage example:\n",
    "reverted_ts = revert_transformations(differenced_ts, ts)\n",
    "\n",
    "compare_df = pd.DataFrame()\n",
    "\n",
    "compare_df[\"x_axis\"] = ts\n",
    "compare_df[\"y_axis\"] = reverted_ts\n",
    "compare_df = compare_df.dropna()\n",
    "\n",
    "main.dispersion_map(compare_df,compare_df[\"x_axis\"], compare_df[\"y_axis\"])\n",
    "\n",
    "# a destransformaçao funciona impecavel"
   ]
  },
  {
   "cell_type": "markdown",
   "metadata": {},
   "source": [
    "#### real"
   ]
  },
  {
   "cell_type": "code",
   "execution_count": null,
   "metadata": {},
   "outputs": [
    {
     "data": {
      "text/plain": [
       "Date\n",
       "2024-02-16    51839.140850\n",
       "2024-02-23    52160.830823\n",
       "Name: BTC_USD, dtype: float64"
      ]
     },
     "execution_count": 135,
     "metadata": {},
     "output_type": "execute_result"
    }
   ],
   "source": [
    "# Detransform forecast data\n",
    "\n",
    "reverted_yhat = revert_transformations(yhat, ts)\n",
    "reverted_yhat.head(2)"
   ]
  },
  {
   "cell_type": "code",
   "execution_count": null,
   "metadata": {},
   "outputs": [
    {
     "data": {
      "image/png": "[encoded data removed]",
      "text/plain": [
       "<Figure size 1200x600 with 1 Axes>"
      ]
     },
     "metadata": {},
     "output_type": "display_data"
    }
   ],
   "source": [
    "# Plot the real data\n",
    "plt.figure(figsize=(12, 6))\n",
    "\n",
    "# Plot trained data\n",
    "trained_data = opencsv_real_btc_price.loc[df_endog_train.index[0]:start_forecast]\n",
    "plt.plot(trained_data.index, trained_data, color='black', label='Trained Data')\n",
    "\n",
    "# Plot the real data\n",
    "plt.plot(ts.index, ts, color='blue', label='Real Data')\n",
    "\n",
    "# Plot the forecasted data\n",
    "plt.plot(reverted_yhat.index, reverted_yhat, color='red', linestyle='dashed', label='Forecasted Data')\n",
    "\n",
    "# Add title and labels\n",
    "plt.title('Real vs Forecasted Data')\n",
    "plt.xlabel('Date')\n",
    "plt.ylabel('Value')\n",
    "\n",
    "# Add a legend\n",
    "plt.legend()\n",
    "\n",
    "# Show the plot\n",
    "plt.show()"
   ]
  }
 ],
 "metadata": {
  "kernelspec": {
   "display_name": "Python 3",
   "language": "python",
   "name": "python3"
  },
  "language_info": {
   "codemirror_mode": {
    "name": "ipython",
    "version": 3
   },
   "file_extension": ".py",
   "mimetype": "text/x-python",
   "name": "python",
   "nbconvert_exporter": "python",
   "pygments_lexer": "ipython3",
   "version": "3.11.6"
  }
 },
 "nbformat": 4,
 "nbformat_minor": 2
}
