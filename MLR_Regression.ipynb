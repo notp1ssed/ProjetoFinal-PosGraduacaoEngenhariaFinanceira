{
 "cells": [
  {
   "cell_type": "code",
   "execution_count": 1,
   "metadata": {},
   "outputs": [],
   "source": [
    "# Importacao das libraries\n",
    "import pandas as pd\n",
    "import functions as main\n",
    "import numpy as np\n",
    "from scipy import stats\n",
    "import statsmodels.api as sm\n",
    "\n",
    "import warnings\n",
    "warnings.filterwarnings('ignore')"
   ]
  },
  {
   "cell_type": "markdown",
   "metadata": {},
   "source": [
    "# Load Data"
   ]
  },
  {
   "cell_type": "code",
   "execution_count": 2,
   "metadata": {},
   "outputs": [],
   "source": [
    "ciclo = 4\n",
    "\n",
    "opencsv = pd.read_csv(rf\"D:\\OneDrive - Instituto Politecnico de Castelo Branco\\002_Learning\\001_Pos_Graduacao\\Ciclo 5 - Projeto Final\\ProjetoFinal-PosGraduacaoEngenhariaFinanceira\\ciclo{ciclo}_df.csv\", sep=\",\")\n",
    "opencsv.set_index('Date', inplace=True)\n",
    "opencsv.index = pd.to_datetime(opencsv.index)\n",
    "opencsv = opencsv.asfreq(pd.infer_freq(opencsv.index))\n",
    "opencsv = opencsv.astype(float)"
   ]
  },
  {
   "cell_type": "code",
   "execution_count": 4,
   "metadata": {},
   "outputs": [],
   "source": [
    "df_model = opencsv.copy()\n",
    "#df_model.drop(columns=[\"BTC_USD\"])"
   ]
  },
  {
   "cell_type": "code",
   "execution_count": 5,
   "metadata": {},
   "outputs": [
    {
     "data": {
      "text/plain": [
       "BalanceSheet_global    0\n",
       "BTC_USD                0\n",
       "Mining_Difficulty      0\n",
       "USD_OnChain_Volume     0\n",
       "GDP_usa                0\n",
       "                      ..\n",
       "L2.BTC_PageViews       0\n",
       "L1.Crypto_PageViews    0\n",
       "L2.Crypto_PageViews    0\n",
       "L1.BTC_Supply          0\n",
       "L2.BTC_Supply          0\n",
       "Length: 63, dtype: int64"
      ]
     },
     "execution_count": 5,
     "metadata": {},
     "output_type": "execute_result"
    }
   ],
   "source": [
    "df_model.isnull().sum()"
   ]
  },
  {
   "cell_type": "markdown",
   "metadata": {},
   "source": [
    "### DOLS"
   ]
  },
  {
   "cell_type": "code",
   "execution_count": 4,
   "metadata": {},
   "outputs": [
    {
     "ename": "ValueError",
     "evalue": "all the input array dimensions except for the concatenation axis must match exactly, but along dimension 0, the array at index 0 has size 206 and the array at index 1 has size 205",
     "output_type": "error",
     "traceback": [
      "\u001b[1;31m---------------------------------------------------------------------------\u001b[0m",
      "\u001b[1;31mValueError\u001b[0m                                Traceback (most recent call last)",
      "Cell \u001b[1;32mIn[4], line 12\u001b[0m\n\u001b[0;32m      9\u001b[0m     model \u001b[38;5;241m=\u001b[39m sm\u001b[38;5;241m.\u001b[39mOLS(y[max_lag:\u001b[38;5;241m-\u001b[39mmax_lead], x_dols[max_lag:\u001b[38;5;241m-\u001b[39mmax_lead])\n\u001b[0;32m     10\u001b[0m     \u001b[38;5;28;01mreturn\u001b[39;00m model\u001b[38;5;241m.\u001b[39mfit()\n\u001b[1;32m---> 12\u001b[0m result \u001b[38;5;241m=\u001b[39m \u001b[43mdols\u001b[49m\u001b[43m(\u001b[49m\u001b[43mopencsv\u001b[49m\u001b[43m[\u001b[49m\u001b[38;5;124;43m'\u001b[39;49m\u001b[38;5;124;43mBTC_USD\u001b[39;49m\u001b[38;5;124;43m'\u001b[39;49m\u001b[43m]\u001b[49m\u001b[43m,\u001b[49m\u001b[43m \u001b[49m\u001b[43mdf_model\u001b[49m\u001b[43m)\u001b[49m\n\u001b[0;32m     13\u001b[0m \u001b[38;5;28mprint\u001b[39m(result\u001b[38;5;241m.\u001b[39msummary())\n",
      "Cell \u001b[1;32mIn[4], line 8\u001b[0m, in \u001b[0;36mdols\u001b[1;34m(y, x, trend, max_lag, max_lead)\u001b[0m\n\u001b[0;32m      6\u001b[0m x_lags \u001b[38;5;241m=\u001b[39m sm\u001b[38;5;241m.\u001b[39mtsa\u001b[38;5;241m.\u001b[39mlagmat(x, max_lag, trim\u001b[38;5;241m=\u001b[39m\u001b[38;5;124m'\u001b[39m\u001b[38;5;124mboth\u001b[39m\u001b[38;5;124m'\u001b[39m)\n\u001b[0;32m      7\u001b[0m x_leads \u001b[38;5;241m=\u001b[39m sm\u001b[38;5;241m.\u001b[39mtsa\u001b[38;5;241m.\u001b[39mlagmat(x[::\u001b[38;5;241m-\u001b[39m\u001b[38;5;241m1\u001b[39m], max_lead, trim\u001b[38;5;241m=\u001b[39m\u001b[38;5;124m'\u001b[39m\u001b[38;5;124mboth\u001b[39m\u001b[38;5;124m'\u001b[39m)[::\u001b[38;5;241m-\u001b[39m\u001b[38;5;241m1\u001b[39m]\n\u001b[1;32m----> 8\u001b[0m x_dols \u001b[38;5;241m=\u001b[39m \u001b[43mnp\u001b[49m\u001b[38;5;241;43m.\u001b[39;49m\u001b[43mhstack\u001b[49m\u001b[43m(\u001b[49m\u001b[43m[\u001b[49m\u001b[43mx\u001b[49m\u001b[43m,\u001b[49m\u001b[43m \u001b[49m\u001b[43mx_lags\u001b[49m\u001b[43m,\u001b[49m\u001b[43m \u001b[49m\u001b[43mx_leads\u001b[49m\u001b[43m]\u001b[49m\u001b[43m)\u001b[49m\n\u001b[0;32m      9\u001b[0m model \u001b[38;5;241m=\u001b[39m sm\u001b[38;5;241m.\u001b[39mOLS(y[max_lag:\u001b[38;5;241m-\u001b[39mmax_lead], x_dols[max_lag:\u001b[38;5;241m-\u001b[39mmax_lead])\n\u001b[0;32m     10\u001b[0m \u001b[38;5;28;01mreturn\u001b[39;00m model\u001b[38;5;241m.\u001b[39mfit()\n",
      "File \u001b[1;32mc:\\Users\\Rui Caseiro\\AppData\\Local\\Programs\\Python\\Python311\\Lib\\site-packages\\numpy\\core\\shape_base.py:359\u001b[0m, in \u001b[0;36mhstack\u001b[1;34m(tup, dtype, casting)\u001b[0m\n\u001b[0;32m    357\u001b[0m     \u001b[38;5;28;01mreturn\u001b[39;00m _nx\u001b[38;5;241m.\u001b[39mconcatenate(arrs, \u001b[38;5;241m0\u001b[39m, dtype\u001b[38;5;241m=\u001b[39mdtype, casting\u001b[38;5;241m=\u001b[39mcasting)\n\u001b[0;32m    358\u001b[0m \u001b[38;5;28;01melse\u001b[39;00m:\n\u001b[1;32m--> 359\u001b[0m     \u001b[38;5;28;01mreturn\u001b[39;00m \u001b[43m_nx\u001b[49m\u001b[38;5;241;43m.\u001b[39;49m\u001b[43mconcatenate\u001b[49m\u001b[43m(\u001b[49m\u001b[43marrs\u001b[49m\u001b[43m,\u001b[49m\u001b[43m \u001b[49m\u001b[38;5;241;43m1\u001b[39;49m\u001b[43m,\u001b[49m\u001b[43m \u001b[49m\u001b[43mdtype\u001b[49m\u001b[38;5;241;43m=\u001b[39;49m\u001b[43mdtype\u001b[49m\u001b[43m,\u001b[49m\u001b[43m \u001b[49m\u001b[43mcasting\u001b[49m\u001b[38;5;241;43m=\u001b[39;49m\u001b[43mcasting\u001b[49m\u001b[43m)\u001b[49m\n",
      "\u001b[1;31mValueError\u001b[0m: all the input array dimensions except for the concatenation axis must match exactly, but along dimension 0, the array at index 0 has size 206 and the array at index 1 has size 205"
     ]
    }
   ],
   "source": [
    "from statsmodels.tsa.api import add_trend\n",
    "\n",
    "def dols(y, x, trend='c', max_lag=1, max_lead=1):\n",
    "    y = add_trend(y, trend=trend)\n",
    "    x = add_trend(x, trend=trend)\n",
    "    x_lags = sm.tsa.lagmat(x, max_lag, trim='both')\n",
    "    x_leads = sm.tsa.lagmat(x[::-1], max_lead, trim='both')[::-1]\n",
    "    x_dols = np.hstack([x, x_lags, x_leads])\n",
    "    model = sm.OLS(y[max_lag:-max_lead], x_dols[max_lag:-max_lead])\n",
    "    return model.fit()\n",
    "\n",
    "result = dols(opencsv['BTC_USD'], df_model)\n",
    "print(result.summary())\n"
   ]
  },
  {
   "cell_type": "markdown",
   "metadata": {},
   "source": [
    "## Matriz de Correlacoes\n"
   ]
  },
  {
   "cell_type": "code",
   "execution_count": null,
   "metadata": {},
   "outputs": [],
   "source": [
    "test_corr = df_model.copy()\n",
    "test_corr = test_corr.iloc[:, :18] # apenas as variaveis originais\n",
    "test_corr.shape"
   ]
  },
  {
   "cell_type": "code",
   "execution_count": null,
   "metadata": {},
   "outputs": [],
   "source": [
    "main.correlation_map(df=test_corr, threshold=0.3)"
   ]
  },
  {
   "cell_type": "markdown",
   "metadata": {},
   "source": [
    "## Seleção de Variáveis\n",
    "\n",
    "Considerar técnicas como regressão lasso, ridge ou elastic net, que fazem seleção de variáveis automaticamente, pode ser útil se você suspeitar que nem todas as 20 variáveis são relevantes."
   ]
  },
  {
   "cell_type": "code",
   "execution_count": 4,
   "metadata": {},
   "outputs": [
    {
     "data": {
      "text/plain": [
       "Index(['BalanceSheet_global', 'BTC_USD', 'Mining_Difficulty',\n",
       "       'USD_OnChain_Volume', 'GDP_usa', 'HashRate', 'M2_Liquidity',\n",
       "       'Dollar_Index', 'QQQ', 'GLD', 'TLT', '10YR_USA', 'VIX', 'OIL_USD',\n",
       "       'Miners_Revenue_USD', 'Nr_Tx_Block', 'Nr_Transactions', 'Nr_Addresses',\n",
       "       'BTC_PageViews', 'Crypto_PageViews', 'BTC_Supply',\n",
       "       'L1.BalanceSheet_global', 'L2.BalanceSheet_global', 'L1.BTC_USD',\n",
       "       'L2.BTC_USD', 'L1.Mining_Difficulty', 'L2.Mining_Difficulty',\n",
       "       'L1.USD_OnChain_Volume', 'L2.USD_OnChain_Volume', 'L1.GDP_usa',\n",
       "       'L2.GDP_usa', 'L1.HashRate', 'L2.HashRate', 'L1.M2_Liquidity',\n",
       "       'L2.M2_Liquidity', 'L1.Dollar_Index', 'L2.Dollar_Index', 'L1.QQQ',\n",
       "       'L2.QQQ', 'L1.GLD', 'L2.GLD', 'L1.TLT', 'L2.TLT', 'L1.10YR_USA',\n",
       "       'L2.10YR_USA', 'L1.VIX', 'L2.VIX', 'L1.OIL_USD', 'L2.OIL_USD',\n",
       "       'L1.Miners_Revenue_USD', 'L2.Miners_Revenue_USD', 'L1.Nr_Tx_Block',\n",
       "       'L2.Nr_Tx_Block', 'L1.Nr_Transactions', 'L2.Nr_Transactions',\n",
       "       'L1.Nr_Addresses', 'L2.Nr_Addresses', 'L1.BTC_PageViews',\n",
       "       'L2.BTC_PageViews', 'L1.Crypto_PageViews', 'L2.Crypto_PageViews',\n",
       "       'L1.BTC_Supply', 'L2.BTC_Supply'],\n",
       "      dtype='object')"
      ]
     },
     "execution_count": 4,
     "metadata": {},
     "output_type": "execute_result"
    }
   ],
   "source": [
    "df_model.columns"
   ]
  },
  {
   "cell_type": "markdown",
   "metadata": {},
   "source": [
    "<div class=\"alert alert-block alert-info\"><b>Hipoteses a testar</b>\n",
    "\n",
    "H1: Ceteris paribus, Bitcoin é um ativo de especulação.\n",
    "\n",
    "H2: Ceteris paribus, a performance de Bitcoin é influenciada por fatores macroeconómicos.\n",
    "\n",
    "H3: Ceteris paribus, quanto mais liquidez há no mercado, maior é a apreciação de preço de Bitcoin.\n",
    "\n",
    "H4: Ceteris paribus, os fatores endógenos de Bitcoin são os maiores explicadores da performance de Bitcoin.\n",
    "</div>"
   ]
  },
  {
   "cell_type": "markdown",
   "metadata": {},
   "source": [
    "## Regressao Linear Multipla"
   ]
  },
  {
   "cell_type": "code",
   "execution_count": 9,
   "metadata": {},
   "outputs": [
    {
     "name": "stdout",
     "output_type": "stream",
     "text": [
      "                            OLS Regression Results                            \n",
      "==============================================================================\n",
      "Dep. Variable:                BTC_USD   R-squared:                       0.716\n",
      "Model:                            OLS   Adj. R-squared:                  0.710\n",
      "Method:                 Least Squares   F-statistic:                     126.6\n",
      "Date:                Tue, 27 Aug 2024   Prob (F-statistic):           8.69e-54\n",
      "Time:                        19:12:43   Log-Likelihood:                 139.27\n",
      "No. Observations:                 206   AIC:                            -268.5\n",
      "Df Residuals:                     201   BIC:                            -251.9\n",
      "Df Model:                           4                                         \n",
      "Covariance Type:            nonrobust                                         \n",
      "=========================================================================================\n",
      "                            coef    std err          t      P>|t|      [0.025      0.975]\n",
      "-----------------------------------------------------------------------------------------\n",
      "const                  -175.2441     24.865     -7.048      0.000    -224.273    -126.215\n",
      "Nr_Transactions           0.1602      0.116      1.376      0.170      -0.069       0.390\n",
      "L1.USD_OnChain_Volume     0.7566      0.038     19.959      0.000       0.682       0.831\n",
      "L1.BTC_Supply            25.2527      3.659      6.902      0.000      18.038      32.468\n",
      "L1.Mining_Difficulty     -0.9090      0.161     -5.638      0.000      -1.227      -0.591\n",
      "==============================================================================\n",
      "Omnibus:                        6.270   Durbin-Watson:                   1.036\n",
      "Prob(Omnibus):                  0.043   Jarque-Bera (JB):                6.278\n",
      "Skew:                          -0.323   Prob(JB):                       0.0433\n",
      "Kurtosis:                       3.560   Cond. No.                     5.48e+04\n",
      "==============================================================================\n",
      "\n",
      "Notes:\n",
      "[1] Standard Errors assume that the covariance matrix of the errors is correctly specified.\n",
      "[2] The condition number is large, 5.48e+04. This might indicate that there are\n",
      "strong multicollinearity or other numerical problems.\n"
     ]
    }
   ],
   "source": [
    "# Yt = b0 + b1X1t + b2X2t + εt\n",
    "\n",
    "#   L1.\n",
    "#   L2.\n",
    "\n",
    "\n",
    "# Modelos endogenos Bitcoin\n",
    "#   'Mining_Difficulty', 'USD_OnChain_Volume', 'HashRate', 'Miners_Revenue_USD', \n",
    "#   'Nr_Tx_Block', 'Nr_Transactions', 'Nr_Addresses', 'BTC_Supply'\n",
    "model1a = ['Mining_Difficulty', 'USD_OnChain_Volume', 'BTC_Supply', 'Nr_Transactions']\n",
    "model1b = ['Nr_Transactions', 'L1.USD_OnChain_Volume', 'L1.BTC_Supply', 'L1.Mining_Difficulty']\n",
    "model1c = ['Nr_Tx_Block', 'L2.USD_OnChain_Volume']\n",
    "\n",
    "\n",
    "# Modelos Macro Economicos\n",
    "#   'GDP_usa', 'Dollar_Index', 'QQQ', 'GLD', 'TLT', '10YR_USA', 'VIX'\n",
    "#   'BalanceSheet_global', 'M2_Liquidity', 'OIL_USD'\n",
    "model2a = [ 'QQQ', 'OIL_USD', 'GLD', 'BalanceSheet_global']\n",
    "model2b = [ 'GLD', 'VIX', 'M2_Liquidity', 'TLT']\n",
    "model2c = [ 'TLT', 'GDP_usa', 'BalanceSheet_global', 'L1.GLD']\n",
    "model2d = [ '10YR_USA', 'L1.VIX', 'L1.OIL_USD', 'Dollar_Index' ]\n",
    "\n",
    "\n",
    "# Modelos Gerais\n",
    "#   'BTC_PageViews', 'Crypto_PageViews', 'L1.BTC_USD'\n",
    "model3a = [  'VIX', '10YR_USA', 'HashRate', 'BTC_Supply'] #'BTC_PageViews',\n",
    "model3b = [  'Nr_Transactions', 'L1.QQQ', 'M2_Liquidity'] # 'L1.BTC_PageViews', 'Crypto_PageViews',\n",
    "model3c = [  'L2.GLD', 'BalanceSheet_global', 'OIL_USD', 'Miners_Revenue_USD', 'USD_OnChain_Volume'] #'L2.BTC_PageViews',\n",
    "\n",
    "\n",
    "X = df_model[model1b]\n",
    "y = df_model[\"BTC_USD\"]\n",
    "\n",
    "X = sm.add_constant(X) # Add a constant term to the predictors\n",
    "\n",
    "model = sm.OLS(y, X)\n",
    "results = model.fit() # Fit the OLS model\n",
    "\n",
    "print(results.summary()) # Print the summary of the regression results"
   ]
  },
  {
   "cell_type": "markdown",
   "metadata": {},
   "source": [
    "### Auto run Regressions"
   ]
  },
  {
   "cell_type": "code",
   "execution_count": 41,
   "metadata": {},
   "outputs": [],
   "source": [
    "models_list = [model1a, model1b, model1c, model2a, model2b, \n",
    "               model2c, model2d, model3a, model3b, model3c]\n",
    "\n",
    "models_columns = ['model_1a', 'model_1b', 'model_1c', 'model_2a', 'model_2b', \n",
    "               'model_2c', 'model_2d', 'model_3a', 'model_3b', 'model_3c']\n",
    "\n",
    "def run_models_stats(df, models_list, y):\n",
    "        count = 0\n",
    "        for model_columns in models_list:\n",
    "            X = df[model_columns]\n",
    "\n",
    "            X = sm.add_constant(X)  # Add a constant term to the predictors\n",
    "\n",
    "            model = sm.OLS(y, X)\n",
    "            results = model.fit()  # Fit the OLS model\n",
    "            \n",
    "            print(\"\\n####################################################################################################### \\n\\n\")\n",
    "            print(\"\\nModel:\", models_columns[count]) # columns name\n",
    "            #print(\"Variable:\", results.params.index) # set as index\n",
    "            print(f\"\\nCoeff: {results.params}\") # coefficients\n",
    "            print(\"\\nP-Value:\", results.pvalues) # p-values\n",
    "            print(\"\\nR-Squared:\", results.rsquared_adj)\n",
    "            print(\"No. Obs.:\", results.nobs)\n",
    "            print(\"Cond. no.:\", results.condition_number)\n",
    "            count += 1\n",
    "            print(\"\\n####################################################################################################### \\n\\n\")\n",
    "\n",
    "\n",
    "def run_models(df, models_list, y):\n",
    "    f = open(f\"MLR_Results_Ciclo{ciclo}.txt\", \"w\")\n",
    "    count = 0\n",
    "    for model_columns in models_list:\n",
    "        X = df[model_columns]\n",
    "\n",
    "        X = sm.add_constant(X)  # Add a constant term to the predictors\n",
    "\n",
    "        model = sm.OLS(y, X)\n",
    "        results = model.fit()  # Fit the OLS model\n",
    "        \n",
    "        f.write(\"\\n####################################################################################################### \\n\\n\")\n",
    "        f.write(models_columns[count])\n",
    "        f.write(\" \\n\")\n",
    "        f.write(f\"{results.summary()}\")\n",
    "        count += 1\n",
    "        f.write(\"\\n####################################################################################################### \\n\\n\")\n",
    "    \n",
    "    f.close()"
   ]
  },
  {
   "cell_type": "code",
   "execution_count": 43,
   "metadata": {},
   "outputs": [
    {
     "name": "stdout",
     "output_type": "stream",
     "text": [
      "\n",
      "####################################################################################################### \n",
      "\n",
      "\n",
      "\n",
      "Model: model_1a\n",
      "\n",
      "Coeff: const                -164.370812\n",
      "Mining_Difficulty      -0.811650\n",
      "USD_OnChain_Volume      0.761784\n",
      "BTC_Supply             23.680239\n",
      "Nr_Transactions         0.016231\n",
      "dtype: float64\n",
      "\n",
      "P-Value: const                 1.190030e-10\n",
      "Mining_Difficulty     4.592658e-07\n",
      "USD_OnChain_Volume    3.977090e-53\n",
      "BTC_Supply            2.615170e-10\n",
      "Nr_Transactions       8.845836e-01\n",
      "dtype: float64\n",
      "\n",
      "R-Squared: 0.7325439114332171\n",
      "No. Obs.: 206.0\n",
      "Cond. no.: 55485.67309048347\n",
      "\n",
      "####################################################################################################### \n",
      "\n",
      "\n",
      "\n",
      "####################################################################################################### \n",
      "\n",
      "\n",
      "\n",
      "Model: model_1b\n",
      "\n",
      "Coeff: const                   -175.244090\n",
      "Nr_Transactions            0.160223\n",
      "L1.USD_OnChain_Volume      0.756563\n",
      "L1.BTC_Supply             25.252734\n",
      "L1.Mining_Difficulty      -0.909021\n",
      "dtype: float64\n",
      "\n",
      "P-Value: const                    2.844344e-11\n",
      "Nr_Transactions          1.702713e-01\n",
      "L1.USD_OnChain_Volume    1.414999e-49\n",
      "L1.BTC_Supply            6.570599e-11\n",
      "L1.Mining_Difficulty     5.769646e-08\n",
      "dtype: float64\n",
      "\n",
      "R-Squared: 0.7102326700977202\n",
      "No. Obs.: 206.0\n",
      "Cond. no.: 54797.41412039235\n",
      "\n",
      "####################################################################################################### \n",
      "\n",
      "\n",
      "\n",
      "####################################################################################################### \n",
      "\n",
      "\n",
      "\n",
      "Model: model_1c\n",
      "\n",
      "Coeff: const                   -2.916959\n",
      "Nr_Tx_Block              0.062083\n",
      "L2.USD_OnChain_Volume    0.747506\n",
      "dtype: float64\n",
      "\n",
      "P-Value: const                    8.908802e-08\n",
      "Nr_Tx_Block              5.632722e-01\n",
      "L2.USD_OnChain_Volume    1.780274e-44\n",
      "dtype: float64\n",
      "\n",
      "R-Squared: 0.6166463816025134\n",
      "No. Obs.: 206.0\n",
      "Cond. no.: 543.4073170327675\n",
      "\n",
      "####################################################################################################### \n",
      "\n",
      "\n",
      "\n",
      "####################################################################################################### \n",
      "\n",
      "\n",
      "\n",
      "Model: model_2a\n",
      "\n",
      "Coeff: const                  18.611460\n",
      "QQQ                     3.157937\n",
      "OIL_USD                 0.904097\n",
      "GLD                    -1.289846\n",
      "BalanceSheet_global    -4.801947\n",
      "dtype: float64\n",
      "\n",
      "P-Value: const                  5.423648e-10\n",
      "QQQ                    3.741730e-52\n",
      "OIL_USD                2.781262e-12\n",
      "GLD                    2.053745e-04\n",
      "BalanceSheet_global    6.500813e-10\n",
      "dtype: float64\n",
      "\n",
      "R-Squared: 0.7817922848863873\n",
      "No. Obs.: 206.0\n",
      "Cond. no.: 2300.0942679419354\n",
      "\n",
      "####################################################################################################### \n",
      "\n",
      "\n",
      "\n",
      "####################################################################################################### \n",
      "\n",
      "\n",
      "\n",
      "Model: model_2b\n",
      "\n",
      "Coeff: const          -30.926859\n",
      "GLD              1.402514\n",
      "VIX             -0.969239\n",
      "M2_Liquidity     7.090546\n",
      "TLT              1.425152\n",
      "dtype: float64\n",
      "\n",
      "P-Value: const           4.238978e-19\n",
      "GLD             2.189511e-03\n",
      "VIX             8.463830e-17\n",
      "M2_Liquidity    3.894965e-27\n",
      "TLT             1.188866e-13\n",
      "dtype: float64\n",
      "\n",
      "R-Squared: 0.5863521922797275\n",
      "No. Obs.: 206.0\n",
      "Cond. no.: 1694.086715005558\n",
      "\n",
      "####################################################################################################### \n",
      "\n",
      "\n",
      "\n",
      "####################################################################################################### \n",
      "\n",
      "\n",
      "\n",
      "Model: model_2c\n",
      "\n",
      "Coeff: const                 -46.419503\n",
      "TLT                     2.974238\n",
      "GDP_usa                 5.762628\n",
      "BalanceSheet_global     3.976603\n",
      "L1.GLD                  0.943197\n",
      "dtype: float64\n",
      "\n",
      "P-Value: const                  7.331589e-16\n",
      "TLT                    5.824642e-07\n",
      "GDP_usa                3.117264e-02\n",
      "BalanceSheet_global    1.844402e-01\n",
      "L1.GLD                 1.813167e-01\n",
      "dtype: float64\n",
      "\n",
      "R-Squared: 0.36072649767520815\n",
      "No. Obs.: 206.0\n",
      "Cond. no.: 2997.1956041346625\n",
      "\n",
      "####################################################################################################### \n",
      "\n",
      "\n",
      "\n",
      "####################################################################################################### \n",
      "\n",
      "\n",
      "\n",
      "Model: model_2d\n",
      "\n",
      "Coeff: const           18.907905\n",
      "10YR_USA         0.468807\n",
      "L1.VIX          -0.434616\n",
      "L1.OIL_USD       0.942661\n",
      "Dollar_Index    -7.902315\n",
      "dtype: float64\n",
      "\n",
      "P-Value: const           8.120966e-30\n",
      "10YR_USA        5.320514e-06\n",
      "L1.VIX          7.330481e-05\n",
      "L1.OIL_USD      5.029647e-14\n",
      "Dollar_Index    1.952381e-22\n",
      "dtype: float64\n",
      "\n",
      "R-Squared: 0.7028345469309166\n",
      "No. Obs.: 206.0\n",
      "Cond. no.: 574.580830233481\n",
      "\n",
      "####################################################################################################### \n",
      "\n",
      "\n",
      "\n",
      "####################################################################################################### \n",
      "\n",
      "\n",
      "\n",
      "Model: model_3a\n",
      "\n",
      "Coeff: const         45.144981\n",
      "VIX           -1.086554\n",
      "10YR_USA       0.438632\n",
      "HashRate      -0.289761\n",
      "BTC_Supply    -5.082033\n",
      "dtype: float64\n",
      "\n",
      "P-Value: const         4.666274e-01\n",
      "VIX           6.695197e-12\n",
      "10YR_USA      1.515743e-02\n",
      "HashRate      1.134228e-01\n",
      "BTC_Supply    5.576364e-01\n",
      "dtype: float64\n",
      "\n",
      "R-Squared: 0.3078018743402464\n",
      "No. Obs.: 206.0\n",
      "Cond. no.: 52171.86618945139\n",
      "\n",
      "####################################################################################################### \n",
      "\n",
      "\n",
      "\n",
      "####################################################################################################### \n",
      "\n",
      "\n",
      "\n",
      "Model: model_3b\n",
      "\n",
      "Coeff: const             -4.738750\n",
      "Nr_Transactions   -0.431166\n",
      "L1.QQQ             2.797793\n",
      "M2_Liquidity       1.055058\n",
      "dtype: float64\n",
      "\n",
      "P-Value: const              1.269842e-02\n",
      "Nr_Transactions    4.415935e-06\n",
      "L1.QQQ             1.299568e-44\n",
      "M2_Liquidity       1.555511e-02\n",
      "dtype: float64\n",
      "\n",
      "R-Squared: 0.7370445704049743\n",
      "No. Obs.: 206.0\n",
      "Cond. no.: 1751.6900185356478\n",
      "\n",
      "####################################################################################################### \n",
      "\n",
      "\n",
      "\n",
      "####################################################################################################### \n",
      "\n",
      "\n",
      "\n",
      "Model: model_3c\n",
      "\n",
      "Coeff: const                 -0.778608\n",
      "L2.GLD                -0.223302\n",
      "BalanceSheet_global   -0.420859\n",
      "OIL_USD                0.264994\n",
      "Miners_Revenue_USD     0.860709\n",
      "USD_OnChain_Volume     0.069743\n",
      "dtype: float64\n",
      "\n",
      "P-Value: const                  5.256591e-01\n",
      "L2.GLD                 1.210794e-01\n",
      "BalanceSheet_global    1.812652e-01\n",
      "OIL_USD                2.201165e-06\n",
      "Miners_Revenue_USD     2.884371e-84\n",
      "USD_OnChain_Volume     3.052674e-03\n",
      "dtype: float64\n",
      "\n",
      "R-Squared: 0.9586357228789918\n",
      "No. Obs.: 206.0\n",
      "Cond. no.: 5108.4753038851995\n",
      "\n",
      "####################################################################################################### \n",
      "\n",
      "\n"
     ]
    }
   ],
   "source": [
    "y = opencsv[\"BTC_USD\"]\n",
    "run_models_stats(df_model, models_list, y)"
   ]
  },
  {
   "cell_type": "code",
   "execution_count": null,
   "metadata": {},
   "outputs": [],
   "source": [
    "#run_models_stats(df_model, models_list, y)"
   ]
  },
  {
   "cell_type": "markdown",
   "metadata": {},
   "source": [
    "### Exemplo Data Frame"
   ]
  },
  {
   "cell_type": "code",
   "execution_count": null,
   "metadata": {},
   "outputs": [],
   "source": [
    "data_store = pd.DataFrame()\n",
    "data_store.index = df_model.columns\n",
    "\n",
    "\n",
    "models_columns = ['model1a', 'model1b', 'model1c', 'model1d', 'model2a', 'model2b', \n",
    "               'model2c', 'model2d', 'model2e', 'model3a', 'model3b', 'model3c']\n",
    "\n",
    "# Add new columns with a default value (e.g., None or 0)\n",
    "for model in models_columns:\n",
    "    data_store[model] = None  # or some other default value\n",
    "\n",
    "data_store"
   ]
  },
  {
   "cell_type": "code",
   "execution_count": null,
   "metadata": {},
   "outputs": [],
   "source": [
    "# list of all params \n",
    "dir(results)"
   ]
  },
  {
   "cell_type": "markdown",
   "metadata": {},
   "source": [
    "https://www.statsmodels.org/dev/examples/notebooks/generated/ols.html"
   ]
  },
  {
   "cell_type": "markdown",
   "metadata": {},
   "source": [
    "# Testes"
   ]
  },
  {
   "cell_type": "markdown",
   "metadata": {},
   "source": [
    "### Homocesdasticity"
   ]
  },
  {
   "cell_type": "code",
   "execution_count": null,
   "metadata": {},
   "outputs": [],
   "source": [
    "import statsmodels.formula.api as smf\n",
    "\n",
    "# https://www.geeksforgeeks.org/how-to-perform-a-breusch-pagan-test-in-python/"
   ]
  },
  {
   "cell_type": "markdown",
   "metadata": {},
   "source": [
    "### Normality of Residuals"
   ]
  },
  {
   "cell_type": "markdown",
   "metadata": {},
   "source": [
    "Assumption: The residuals should be approximately normally distributed.\n",
    "\n",
    "Test:\n",
    "Q-Q Plot: Compare the quantiles of residuals to a normal distribution. If residuals are normal, the points will lie approximately on the 45-degree line.\n",
    "\n",
    "Shapiro-Wilk Test or Kolmogorov-Smirnov Test: Statistical tests for normality of residuals.\n",
    "\n",
    "Transformation: If residuals are not normally distributed, consider transforming the dependent variable or using robust regression methods."
   ]
  },
  {
   "cell_type": "markdown",
   "metadata": {},
   "source": [
    "### Independence of Errors"
   ]
  },
  {
   "cell_type": "markdown",
   "metadata": {},
   "source": [
    "\n",
    "Assumption: The residuals (errors) should be independent of each other.\n",
    "\n",
    "Test:\n",
    "\n",
    "Durbin-Watson Test: Detects the presence of autocorrelation in residuals, especially in time series data.\n",
    "\n",
    "Plot Residuals vs. Time: For time series data, plot residuals against time to detect patterns or autocorrelation.\n",
    "\n",
    "Transformation:\n",
    "Add Lagged Variables: For time series, include lagged values of the dependent variable as predictors."
   ]
  },
  {
   "cell_type": "markdown",
   "metadata": {},
   "source": [
    "### No Omitted Variable Bias"
   ]
  },
  {
   "cell_type": "markdown",
   "metadata": {},
   "source": [
    "Assumption: All relevant independent variables are included in the model.\n",
    "\n",
    "Test:\n",
    "\n",
    "Ramsey RESET Test: Checks for omitted variables by testing for non-linearity in the model.\n",
    "\n",
    "Remedies:\n",
    "\n",
    "Include Relevant Variables: Ensure all theoretically important variables are included in the model.\n",
    "Use Model Selection Criteria: Such as AIC or BIC to guide variable selection."
   ]
  },
  {
   "cell_type": "markdown",
   "metadata": {},
   "source": [
    "## Teste de Multicolinearidade\n",
    "\n",
    "\n",
    "Como você tem muitas variáveis, é importante verificar a multicolinearidade, especialmente porque as variáveis acumuladas podem estar altamente correlacionadas entre si. Testes como o VIF (Variance Inflation Factor) podem ajudar a identificar problemas.\n",
    "\n",
    "Multicollinearity describes the state where the independent variables used in a study exhibit a strong relationship with each other. This can pose a problem in many cases as you would normally want your independent variables to be… independent."
   ]
  },
  {
   "cell_type": "code",
   "execution_count": 11,
   "metadata": {},
   "outputs": [
    {
     "ename": "PatsyError",
     "evalue": "Error evaluating factor: NameError: name 'L1' is not defined\n    BTC_USD ~ Nr_Transactions + L1.USD_OnChain_Volume + L1.BTC_Supply + L1.Mining_Difficulty\n                                                        ^^^^^^^^^^^^^",
     "output_type": "error",
     "traceback": [
      "\u001b[1;31m---------------------------------------------------------------------------\u001b[0m",
      "\u001b[1;31mNameError\u001b[0m                                 Traceback (most recent call last)",
      "File \u001b[1;32mc:\\Users\\Rui Caseiro\\AppData\\Local\\Programs\\Python\\Python311\\Lib\\site-packages\\patsy\\compat.py:36\u001b[0m, in \u001b[0;36mcall_and_wrap_exc\u001b[1;34m(msg, origin, f, *args, **kwargs)\u001b[0m\n\u001b[0;32m     35\u001b[0m \u001b[38;5;28;01mtry\u001b[39;00m:\n\u001b[1;32m---> 36\u001b[0m     \u001b[38;5;28;01mreturn\u001b[39;00m \u001b[43mf\u001b[49m\u001b[43m(\u001b[49m\u001b[38;5;241;43m*\u001b[39;49m\u001b[43margs\u001b[49m\u001b[43m,\u001b[49m\u001b[43m \u001b[49m\u001b[38;5;241;43m*\u001b[39;49m\u001b[38;5;241;43m*\u001b[39;49m\u001b[43mkwargs\u001b[49m\u001b[43m)\u001b[49m\n\u001b[0;32m     37\u001b[0m \u001b[38;5;28;01mexcept\u001b[39;00m \u001b[38;5;167;01mException\u001b[39;00m \u001b[38;5;28;01mas\u001b[39;00m e:\n",
      "File \u001b[1;32mc:\\Users\\Rui Caseiro\\AppData\\Local\\Programs\\Python\\Python311\\Lib\\site-packages\\patsy\\eval.py:169\u001b[0m, in \u001b[0;36mEvalEnvironment.eval\u001b[1;34m(self, expr, source_name, inner_namespace)\u001b[0m\n\u001b[0;32m    168\u001b[0m code \u001b[38;5;241m=\u001b[39m \u001b[38;5;28mcompile\u001b[39m(expr, source_name, \u001b[38;5;124m\"\u001b[39m\u001b[38;5;124meval\u001b[39m\u001b[38;5;124m\"\u001b[39m, \u001b[38;5;28mself\u001b[39m\u001b[38;5;241m.\u001b[39mflags, \u001b[38;5;28;01mFalse\u001b[39;00m)\n\u001b[1;32m--> 169\u001b[0m \u001b[38;5;28;01mreturn\u001b[39;00m \u001b[38;5;28;43meval\u001b[39;49m\u001b[43m(\u001b[49m\u001b[43mcode\u001b[49m\u001b[43m,\u001b[49m\u001b[43m \u001b[49m\u001b[43m{\u001b[49m\u001b[43m}\u001b[49m\u001b[43m,\u001b[49m\u001b[43m \u001b[49m\u001b[43mVarLookupDict\u001b[49m\u001b[43m(\u001b[49m\u001b[43m[\u001b[49m\u001b[43minner_namespace\u001b[49m\u001b[43m]\u001b[49m\n\u001b[0;32m    170\u001b[0m \u001b[43m                                    \u001b[49m\u001b[38;5;241;43m+\u001b[39;49m\u001b[43m \u001b[49m\u001b[38;5;28;43mself\u001b[39;49m\u001b[38;5;241;43m.\u001b[39;49m\u001b[43m_namespaces\u001b[49m\u001b[43m)\u001b[49m\u001b[43m)\u001b[49m\n",
      "File \u001b[1;32m<string>:1\u001b[0m\n",
      "\u001b[1;31mNameError\u001b[0m: name 'L1' is not defined",
      "\nThe above exception was the direct cause of the following exception:\n",
      "\u001b[1;31mPatsyError\u001b[0m                                Traceback (most recent call last)",
      "Cell \u001b[1;32mIn[11], line 5\u001b[0m\n\u001b[0;32m      2\u001b[0m \u001b[38;5;28;01mfrom\u001b[39;00m \u001b[38;5;21;01mpatsy\u001b[39;00m \u001b[38;5;28;01mimport\u001b[39;00m dmatrices\n\u001b[0;32m      4\u001b[0m \u001b[38;5;66;03m#find design matrix for linear regression model using 'rating' as response variable \u001b[39;00m\n\u001b[1;32m----> 5\u001b[0m y, X \u001b[38;5;241m=\u001b[39m \u001b[43mdmatrices\u001b[49m\u001b[43m(\u001b[49m\u001b[38;5;124;43m'\u001b[39;49m\u001b[38;5;124;43mBTC_USD ~ Nr_Transactions + L1.USD_OnChain_Volume + L1.BTC_Supply + L1.Mining_Difficulty\u001b[39;49m\u001b[38;5;124;43m'\u001b[39;49m\u001b[43m,\u001b[49m\u001b[43m \u001b[49m\u001b[43mdata\u001b[49m\u001b[38;5;241;43m=\u001b[39;49m\u001b[43mdf_model\u001b[49m\u001b[43m,\u001b[49m\u001b[43m \u001b[49m\u001b[43mreturn_type\u001b[49m\u001b[38;5;241;43m=\u001b[39;49m\u001b[38;5;124;43m'\u001b[39;49m\u001b[38;5;124;43mdataframe\u001b[39;49m\u001b[38;5;124;43m'\u001b[39;49m\u001b[43m)\u001b[49m\n\u001b[0;32m      7\u001b[0m \u001b[38;5;66;03m#calculate VIF for each explanatory variable\u001b[39;00m\n\u001b[0;32m      8\u001b[0m vif \u001b[38;5;241m=\u001b[39m pd\u001b[38;5;241m.\u001b[39mDataFrame()\n",
      "File \u001b[1;32mc:\\Users\\Rui Caseiro\\AppData\\Local\\Programs\\Python\\Python311\\Lib\\site-packages\\patsy\\highlevel.py:309\u001b[0m, in \u001b[0;36mdmatrices\u001b[1;34m(formula_like, data, eval_env, NA_action, return_type)\u001b[0m\n\u001b[0;32m    299\u001b[0m \u001b[38;5;250m\u001b[39m\u001b[38;5;124;03m\"\"\"Construct two design matrices given a formula_like and data.\u001b[39;00m\n\u001b[0;32m    300\u001b[0m \n\u001b[0;32m    301\u001b[0m \u001b[38;5;124;03mThis function is identical to :func:`dmatrix`, except that it requires\u001b[39;00m\n\u001b[1;32m   (...)\u001b[0m\n\u001b[0;32m    306\u001b[0m \u001b[38;5;124;03mSee :func:`dmatrix` for details.\u001b[39;00m\n\u001b[0;32m    307\u001b[0m \u001b[38;5;124;03m\"\"\"\u001b[39;00m\n\u001b[0;32m    308\u001b[0m eval_env \u001b[38;5;241m=\u001b[39m EvalEnvironment\u001b[38;5;241m.\u001b[39mcapture(eval_env, reference\u001b[38;5;241m=\u001b[39m\u001b[38;5;241m1\u001b[39m)\n\u001b[1;32m--> 309\u001b[0m (lhs, rhs) \u001b[38;5;241m=\u001b[39m \u001b[43m_do_highlevel_design\u001b[49m\u001b[43m(\u001b[49m\u001b[43mformula_like\u001b[49m\u001b[43m,\u001b[49m\u001b[43m \u001b[49m\u001b[43mdata\u001b[49m\u001b[43m,\u001b[49m\u001b[43m \u001b[49m\u001b[43meval_env\u001b[49m\u001b[43m,\u001b[49m\n\u001b[0;32m    310\u001b[0m \u001b[43m                                  \u001b[49m\u001b[43mNA_action\u001b[49m\u001b[43m,\u001b[49m\u001b[43m \u001b[49m\u001b[43mreturn_type\u001b[49m\u001b[43m)\u001b[49m\n\u001b[0;32m    311\u001b[0m \u001b[38;5;28;01mif\u001b[39;00m lhs\u001b[38;5;241m.\u001b[39mshape[\u001b[38;5;241m1\u001b[39m] \u001b[38;5;241m==\u001b[39m \u001b[38;5;241m0\u001b[39m:\n\u001b[0;32m    312\u001b[0m     \u001b[38;5;28;01mraise\u001b[39;00m PatsyError(\u001b[38;5;124m\"\u001b[39m\u001b[38;5;124mmodel is missing required outcome variables\u001b[39m\u001b[38;5;124m\"\u001b[39m)\n",
      "File \u001b[1;32mc:\\Users\\Rui Caseiro\\AppData\\Local\\Programs\\Python\\Python311\\Lib\\site-packages\\patsy\\highlevel.py:164\u001b[0m, in \u001b[0;36m_do_highlevel_design\u001b[1;34m(formula_like, data, eval_env, NA_action, return_type)\u001b[0m\n\u001b[0;32m    162\u001b[0m \u001b[38;5;28;01mdef\u001b[39;00m \u001b[38;5;21mdata_iter_maker\u001b[39m():\n\u001b[0;32m    163\u001b[0m     \u001b[38;5;28;01mreturn\u001b[39;00m \u001b[38;5;28miter\u001b[39m([data])\n\u001b[1;32m--> 164\u001b[0m design_infos \u001b[38;5;241m=\u001b[39m \u001b[43m_try_incr_builders\u001b[49m\u001b[43m(\u001b[49m\u001b[43mformula_like\u001b[49m\u001b[43m,\u001b[49m\u001b[43m \u001b[49m\u001b[43mdata_iter_maker\u001b[49m\u001b[43m,\u001b[49m\u001b[43m \u001b[49m\u001b[43meval_env\u001b[49m\u001b[43m,\u001b[49m\n\u001b[0;32m    165\u001b[0m \u001b[43m                                  \u001b[49m\u001b[43mNA_action\u001b[49m\u001b[43m)\u001b[49m\n\u001b[0;32m    166\u001b[0m \u001b[38;5;28;01mif\u001b[39;00m design_infos \u001b[38;5;129;01mis\u001b[39;00m \u001b[38;5;129;01mnot\u001b[39;00m \u001b[38;5;28;01mNone\u001b[39;00m:\n\u001b[0;32m    167\u001b[0m     \u001b[38;5;28;01mreturn\u001b[39;00m build_design_matrices(design_infos, data,\n\u001b[0;32m    168\u001b[0m                                  NA_action\u001b[38;5;241m=\u001b[39mNA_action,\n\u001b[0;32m    169\u001b[0m                                  return_type\u001b[38;5;241m=\u001b[39mreturn_type)\n",
      "File \u001b[1;32mc:\\Users\\Rui Caseiro\\AppData\\Local\\Programs\\Python\\Python311\\Lib\\site-packages\\patsy\\highlevel.py:66\u001b[0m, in \u001b[0;36m_try_incr_builders\u001b[1;34m(formula_like, data_iter_maker, eval_env, NA_action)\u001b[0m\n\u001b[0;32m     64\u001b[0m \u001b[38;5;28;01mif\u001b[39;00m \u001b[38;5;28misinstance\u001b[39m(formula_like, ModelDesc):\n\u001b[0;32m     65\u001b[0m     \u001b[38;5;28;01massert\u001b[39;00m \u001b[38;5;28misinstance\u001b[39m(eval_env, EvalEnvironment)\n\u001b[1;32m---> 66\u001b[0m     \u001b[38;5;28;01mreturn\u001b[39;00m \u001b[43mdesign_matrix_builders\u001b[49m\u001b[43m(\u001b[49m\u001b[43m[\u001b[49m\u001b[43mformula_like\u001b[49m\u001b[38;5;241;43m.\u001b[39;49m\u001b[43mlhs_termlist\u001b[49m\u001b[43m,\u001b[49m\n\u001b[0;32m     67\u001b[0m \u001b[43m                                   \u001b[49m\u001b[43mformula_like\u001b[49m\u001b[38;5;241;43m.\u001b[39;49m\u001b[43mrhs_termlist\u001b[49m\u001b[43m]\u001b[49m\u001b[43m,\u001b[49m\n\u001b[0;32m     68\u001b[0m \u001b[43m                                  \u001b[49m\u001b[43mdata_iter_maker\u001b[49m\u001b[43m,\u001b[49m\n\u001b[0;32m     69\u001b[0m \u001b[43m                                  \u001b[49m\u001b[43meval_env\u001b[49m\u001b[43m,\u001b[49m\n\u001b[0;32m     70\u001b[0m \u001b[43m                                  \u001b[49m\u001b[43mNA_action\u001b[49m\u001b[43m)\u001b[49m\n\u001b[0;32m     71\u001b[0m \u001b[38;5;28;01melse\u001b[39;00m:\n\u001b[0;32m     72\u001b[0m     \u001b[38;5;28;01mreturn\u001b[39;00m \u001b[38;5;28;01mNone\u001b[39;00m\n",
      "File \u001b[1;32mc:\\Users\\Rui Caseiro\\AppData\\Local\\Programs\\Python\\Python311\\Lib\\site-packages\\patsy\\build.py:693\u001b[0m, in \u001b[0;36mdesign_matrix_builders\u001b[1;34m(termlists, data_iter_maker, eval_env, NA_action)\u001b[0m\n\u001b[0;32m    689\u001b[0m factor_states \u001b[38;5;241m=\u001b[39m _factors_memorize(all_factors, data_iter_maker, eval_env)\n\u001b[0;32m    690\u001b[0m \u001b[38;5;66;03m# Now all the factors have working eval methods, so we can evaluate them\u001b[39;00m\n\u001b[0;32m    691\u001b[0m \u001b[38;5;66;03m# on some data to find out what type of data they return.\u001b[39;00m\n\u001b[0;32m    692\u001b[0m (num_column_counts,\n\u001b[1;32m--> 693\u001b[0m  cat_levels_contrasts) \u001b[38;5;241m=\u001b[39m \u001b[43m_examine_factor_types\u001b[49m\u001b[43m(\u001b[49m\u001b[43mall_factors\u001b[49m\u001b[43m,\u001b[49m\n\u001b[0;32m    694\u001b[0m \u001b[43m                                               \u001b[49m\u001b[43mfactor_states\u001b[49m\u001b[43m,\u001b[49m\n\u001b[0;32m    695\u001b[0m \u001b[43m                                               \u001b[49m\u001b[43mdata_iter_maker\u001b[49m\u001b[43m,\u001b[49m\n\u001b[0;32m    696\u001b[0m \u001b[43m                                               \u001b[49m\u001b[43mNA_action\u001b[49m\u001b[43m)\u001b[49m\n\u001b[0;32m    697\u001b[0m \u001b[38;5;66;03m# Now we need the factor infos, which encapsulate the knowledge of\u001b[39;00m\n\u001b[0;32m    698\u001b[0m \u001b[38;5;66;03m# how to turn any given factor into a chunk of data:\u001b[39;00m\n\u001b[0;32m    699\u001b[0m factor_infos \u001b[38;5;241m=\u001b[39m {}\n",
      "File \u001b[1;32mc:\\Users\\Rui Caseiro\\AppData\\Local\\Programs\\Python\\Python311\\Lib\\site-packages\\patsy\\build.py:443\u001b[0m, in \u001b[0;36m_examine_factor_types\u001b[1;34m(factors, factor_states, data_iter_maker, NA_action)\u001b[0m\n\u001b[0;32m    441\u001b[0m \u001b[38;5;28;01mfor\u001b[39;00m data \u001b[38;5;129;01min\u001b[39;00m data_iter_maker():\n\u001b[0;32m    442\u001b[0m     \u001b[38;5;28;01mfor\u001b[39;00m factor \u001b[38;5;129;01min\u001b[39;00m \u001b[38;5;28mlist\u001b[39m(examine_needed):\n\u001b[1;32m--> 443\u001b[0m         value \u001b[38;5;241m=\u001b[39m \u001b[43mfactor\u001b[49m\u001b[38;5;241;43m.\u001b[39;49m\u001b[43meval\u001b[49m\u001b[43m(\u001b[49m\u001b[43mfactor_states\u001b[49m\u001b[43m[\u001b[49m\u001b[43mfactor\u001b[49m\u001b[43m]\u001b[49m\u001b[43m,\u001b[49m\u001b[43m \u001b[49m\u001b[43mdata\u001b[49m\u001b[43m)\u001b[49m\n\u001b[0;32m    444\u001b[0m         \u001b[38;5;28;01mif\u001b[39;00m factor \u001b[38;5;129;01min\u001b[39;00m cat_sniffers \u001b[38;5;129;01mor\u001b[39;00m guess_categorical(value):\n\u001b[0;32m    445\u001b[0m             \u001b[38;5;28;01mif\u001b[39;00m factor \u001b[38;5;129;01mnot\u001b[39;00m \u001b[38;5;129;01min\u001b[39;00m cat_sniffers:\n",
      "File \u001b[1;32mc:\\Users\\Rui Caseiro\\AppData\\Local\\Programs\\Python\\Python311\\Lib\\site-packages\\patsy\\eval.py:568\u001b[0m, in \u001b[0;36mEvalFactor.eval\u001b[1;34m(self, memorize_state, data)\u001b[0m\n\u001b[0;32m    567\u001b[0m \u001b[38;5;28;01mdef\u001b[39;00m \u001b[38;5;21meval\u001b[39m(\u001b[38;5;28mself\u001b[39m, memorize_state, data):\n\u001b[1;32m--> 568\u001b[0m     \u001b[38;5;28;01mreturn\u001b[39;00m \u001b[38;5;28;43mself\u001b[39;49m\u001b[38;5;241;43m.\u001b[39;49m\u001b[43m_eval\u001b[49m\u001b[43m(\u001b[49m\u001b[43mmemorize_state\u001b[49m\u001b[43m[\u001b[49m\u001b[38;5;124;43m\"\u001b[39;49m\u001b[38;5;124;43meval_code\u001b[39;49m\u001b[38;5;124;43m\"\u001b[39;49m\u001b[43m]\u001b[49m\u001b[43m,\u001b[49m\n\u001b[0;32m    569\u001b[0m \u001b[43m                      \u001b[49m\u001b[43mmemorize_state\u001b[49m\u001b[43m,\u001b[49m\n\u001b[0;32m    570\u001b[0m \u001b[43m                      \u001b[49m\u001b[43mdata\u001b[49m\u001b[43m)\u001b[49m\n",
      "File \u001b[1;32mc:\\Users\\Rui Caseiro\\AppData\\Local\\Programs\\Python\\Python311\\Lib\\site-packages\\patsy\\eval.py:551\u001b[0m, in \u001b[0;36mEvalFactor._eval\u001b[1;34m(self, code, memorize_state, data)\u001b[0m\n\u001b[0;32m    549\u001b[0m \u001b[38;5;28;01mdef\u001b[39;00m \u001b[38;5;21m_eval\u001b[39m(\u001b[38;5;28mself\u001b[39m, code, memorize_state, data):\n\u001b[0;32m    550\u001b[0m     inner_namespace \u001b[38;5;241m=\u001b[39m VarLookupDict([data, memorize_state[\u001b[38;5;124m\"\u001b[39m\u001b[38;5;124mtransforms\u001b[39m\u001b[38;5;124m\"\u001b[39m]])\n\u001b[1;32m--> 551\u001b[0m     \u001b[38;5;28;01mreturn\u001b[39;00m \u001b[43mcall_and_wrap_exc\u001b[49m\u001b[43m(\u001b[49m\u001b[38;5;124;43m\"\u001b[39;49m\u001b[38;5;124;43mError evaluating factor\u001b[39;49m\u001b[38;5;124;43m\"\u001b[39;49m\u001b[43m,\u001b[49m\n\u001b[0;32m    552\u001b[0m \u001b[43m                             \u001b[49m\u001b[38;5;28;43mself\u001b[39;49m\u001b[43m,\u001b[49m\n\u001b[0;32m    553\u001b[0m \u001b[43m                             \u001b[49m\u001b[43mmemorize_state\u001b[49m\u001b[43m[\u001b[49m\u001b[38;5;124;43m\"\u001b[39;49m\u001b[38;5;124;43meval_env\u001b[39;49m\u001b[38;5;124;43m\"\u001b[39;49m\u001b[43m]\u001b[49m\u001b[38;5;241;43m.\u001b[39;49m\u001b[43meval\u001b[49m\u001b[43m,\u001b[49m\n\u001b[0;32m    554\u001b[0m \u001b[43m                             \u001b[49m\u001b[43mcode\u001b[49m\u001b[43m,\u001b[49m\n\u001b[0;32m    555\u001b[0m \u001b[43m                             \u001b[49m\u001b[43minner_namespace\u001b[49m\u001b[38;5;241;43m=\u001b[39;49m\u001b[43minner_namespace\u001b[49m\u001b[43m)\u001b[49m\n",
      "File \u001b[1;32mc:\\Users\\Rui Caseiro\\AppData\\Local\\Programs\\Python\\Python311\\Lib\\site-packages\\patsy\\compat.py:43\u001b[0m, in \u001b[0;36mcall_and_wrap_exc\u001b[1;34m(msg, origin, f, *args, **kwargs)\u001b[0m\n\u001b[0;32m     39\u001b[0m     new_exc \u001b[38;5;241m=\u001b[39m PatsyError(\u001b[38;5;124m\"\u001b[39m\u001b[38;5;132;01m%s\u001b[39;00m\u001b[38;5;124m: \u001b[39m\u001b[38;5;132;01m%s\u001b[39;00m\u001b[38;5;124m: \u001b[39m\u001b[38;5;132;01m%s\u001b[39;00m\u001b[38;5;124m\"\u001b[39m\n\u001b[0;32m     40\u001b[0m                          \u001b[38;5;241m%\u001b[39m (msg, e\u001b[38;5;241m.\u001b[39m\u001b[38;5;18m__class__\u001b[39m\u001b[38;5;241m.\u001b[39m\u001b[38;5;18m__name__\u001b[39m, e),\n\u001b[0;32m     41\u001b[0m                          origin)\n\u001b[0;32m     42\u001b[0m     \u001b[38;5;66;03m# Use 'exec' to hide this syntax from the Python 2 parser:\u001b[39;00m\n\u001b[1;32m---> 43\u001b[0m     \u001b[43mexec\u001b[49m\u001b[43m(\u001b[49m\u001b[38;5;124;43m\"\u001b[39;49m\u001b[38;5;124;43mraise new_exc from e\u001b[39;49m\u001b[38;5;124;43m\"\u001b[39;49m\u001b[43m)\u001b[49m\n\u001b[0;32m     44\u001b[0m \u001b[38;5;28;01melse\u001b[39;00m:\n\u001b[0;32m     45\u001b[0m     \u001b[38;5;66;03m# In python 2, we just let the original exception escape -- better\u001b[39;00m\n\u001b[0;32m     46\u001b[0m     \u001b[38;5;66;03m# than destroying the traceback. But if it's a PatsyError, we can\u001b[39;00m\n\u001b[0;32m     47\u001b[0m     \u001b[38;5;66;03m# at least set the origin properly.\u001b[39;00m\n\u001b[0;32m     48\u001b[0m     \u001b[38;5;28;01mif\u001b[39;00m \u001b[38;5;28misinstance\u001b[39m(e, PatsyError):\n",
      "File \u001b[1;32m<string>:1\u001b[0m\n",
      "\u001b[1;31mPatsyError\u001b[0m: Error evaluating factor: NameError: name 'L1' is not defined\n    BTC_USD ~ Nr_Transactions + L1.USD_OnChain_Volume + L1.BTC_Supply + L1.Mining_Difficulty\n                                                        ^^^^^^^^^^^^^"
     ]
    }
   ],
   "source": [
    "from statsmodels.stats.outliers_influence import variance_inflation_factor\n",
    "from patsy import dmatrices\n",
    "\n",
    "#find design matrix for linear regression model using 'rating' as response variable \n",
    "y, X = dmatrices('BTC_USD ~ Nr_Transactions + L1.USD_OnChain_Volume + L1.BTC_Supply + L1.Mining_Difficulty', data=df_model, return_type='dataframe')\n",
    "\n",
    "#calculate VIF for each explanatory variable\n",
    "vif = pd.DataFrame()\n",
    "vif['VIF'] = [variance_inflation_factor(X.values, i) for i in range(X.shape[1])]\n",
    "vif['variable'] = X.columns\n",
    "\n",
    "#view VIF for each explanatory variable \n",
    "vif\n",
    "\n",
    "\n",
    "#       Interpreting the VIF Values:\n",
    "#       VIF < 5: Generally considered acceptable, indicating low to moderate multicollinearity.\n",
    "#       VIF between 5 and 10: Indicates moderate to high multicollinearity, which may be problematic, but not necessarily requiring immediate removal.\n",
    "#       VIF > 10: Strong multicollinearity, typically suggesting that the variable should be considered for removal or that further investigation is needed."
   ]
  }
 ],
 "metadata": {
  "kernelspec": {
   "display_name": "Python 3",
   "language": "python",
   "name": "python3"
  },
  "language_info": {
   "codemirror_mode": {
    "name": "ipython",
    "version": 3
   },
   "file_extension": ".py",
   "mimetype": "text/x-python",
   "name": "python",
   "nbconvert_exporter": "python",
   "pygments_lexer": "ipython3",
   "version": "3.11.6"
  }
 },
 "nbformat": 4,
 "nbformat_minor": 2
}
