{
 "cells": [
  {
   "cell_type": "code",
   "execution_count": 31,
   "metadata": {},
   "outputs": [],
   "source": [
    "import pandas as pd\n",
    "import matplotlib.pyplot as plt\n",
    "import numpy as np\n",
    "\n",
    "\n",
    "import functions as main\n",
    "\n",
    "import warnings\n",
    "warnings.filterwarnings('ignore')"
   ]
  },
  {
   "cell_type": "markdown",
   "metadata": {},
   "source": [
    "# Load Full Clean Df"
   ]
  },
  {
   "cell_type": "code",
   "execution_count": 2,
   "metadata": {},
   "outputs": [],
   "source": [
    "opencsv = pd.read_csv(r\"D:\\OneDrive - Instituto Politecnico de Castelo Branco\\002_Learning\\001_Pos_Graduacao\\Ciclo 5 - Projeto Final\\ProjetoFinal-PosGraduacaoEngenhariaFinanceira\\full_clean_df.csv\", sep=\",\")\n",
    "opencsv.set_index('Date', inplace=True)\n",
    "opencsv.index = pd.to_datetime(opencsv.index)\n",
    "opencsv = opencsv.astype(float)"
   ]
  },
  {
   "cell_type": "code",
   "execution_count": 3,
   "metadata": {},
   "outputs": [
    {
     "data": {
      "text/html": [
       "<div>\n",
       "<style scoped>\n",
       "    .dataframe tbody tr th:only-of-type {\n",
       "        vertical-align: middle;\n",
       "    }\n",
       "\n",
       "    .dataframe tbody tr th {\n",
       "        vertical-align: top;\n",
       "    }\n",
       "\n",
       "    .dataframe thead th {\n",
       "        text-align: right;\n",
       "    }\n",
       "</style>\n",
       "<table border=\"1\" class=\"dataframe\">\n",
       "  <thead>\n",
       "    <tr style=\"text-align: right;\">\n",
       "      <th></th>\n",
       "      <th>JPY_EUR</th>\n",
       "      <th>BTC_PageViews</th>\n",
       "      <th>Crypto_PageViews</th>\n",
       "      <th>BTC_Supply</th>\n",
       "      <th>BTC_USD</th>\n",
       "      <th>Mining_Difficulty</th>\n",
       "      <th>USD_OnChain_Volume</th>\n",
       "      <th>M2_Liquidity</th>\n",
       "      <th>EUR_USD</th>\n",
       "      <th>JPY_USD</th>\n",
       "      <th>...</th>\n",
       "      <th>QQQ</th>\n",
       "      <th>EXSA</th>\n",
       "      <th>JPXN</th>\n",
       "      <th>IWDA</th>\n",
       "      <th>GLD</th>\n",
       "      <th>SLV</th>\n",
       "      <th>TLT</th>\n",
       "      <th>BND</th>\n",
       "      <th>Nr_Transactions</th>\n",
       "      <th>Nr_Addresses</th>\n",
       "    </tr>\n",
       "    <tr>\n",
       "      <th>Date</th>\n",
       "      <th></th>\n",
       "      <th></th>\n",
       "      <th></th>\n",
       "      <th></th>\n",
       "      <th></th>\n",
       "      <th></th>\n",
       "      <th></th>\n",
       "      <th></th>\n",
       "      <th></th>\n",
       "      <th></th>\n",
       "      <th></th>\n",
       "      <th></th>\n",
       "      <th></th>\n",
       "      <th></th>\n",
       "      <th></th>\n",
       "      <th></th>\n",
       "      <th></th>\n",
       "      <th></th>\n",
       "      <th></th>\n",
       "      <th></th>\n",
       "      <th></th>\n",
       "    </tr>\n",
       "  </thead>\n",
       "  <tbody>\n",
       "    <tr>\n",
       "      <th>2024-07-12</th>\n",
       "      <td>0.005814</td>\n",
       "      <td>4441.0</td>\n",
       "      <td>29.0</td>\n",
       "      <td>1.972469e+07</td>\n",
       "      <td>0.070356</td>\n",
       "      <td>-2.778050e-02</td>\n",
       "      <td>-3.639985</td>\n",
       "      <td>0.0</td>\n",
       "      <td>0.070527</td>\n",
       "      <td>0.079788</td>\n",
       "      <td>...</td>\n",
       "      <td>-0.011280</td>\n",
       "      <td>0.084151</td>\n",
       "      <td>0.132287</td>\n",
       "      <td>0.049644</td>\n",
       "      <td>0.079029</td>\n",
       "      <td>-0.057909</td>\n",
       "      <td>0.068868</td>\n",
       "      <td>0.088750</td>\n",
       "      <td>1.145594</td>\n",
       "      <td>-0.089711</td>\n",
       "    </tr>\n",
       "    <tr>\n",
       "      <th>2024-07-19</th>\n",
       "      <td>0.005837</td>\n",
       "      <td>4161.0</td>\n",
       "      <td>27.0</td>\n",
       "      <td>1.972799e+07</td>\n",
       "      <td>0.488202</td>\n",
       "      <td>1.207437e-01</td>\n",
       "      <td>0.437076</td>\n",
       "      <td>0.0</td>\n",
       "      <td>0.025569</td>\n",
       "      <td>0.025217</td>\n",
       "      <td>...</td>\n",
       "      <td>-0.164819</td>\n",
       "      <td>-0.160448</td>\n",
       "      <td>-0.092174</td>\n",
       "      <td>-0.097313</td>\n",
       "      <td>-0.050027</td>\n",
       "      <td>-0.230030</td>\n",
       "      <td>-0.050902</td>\n",
       "      <td>-0.039784</td>\n",
       "      <td>-1.026794</td>\n",
       "      <td>0.088710</td>\n",
       "    </tr>\n",
       "    <tr>\n",
       "      <th>2024-07-26</th>\n",
       "      <td>0.005995</td>\n",
       "      <td>4953.0</td>\n",
       "      <td>48.0</td>\n",
       "      <td>1.973157e+07</td>\n",
       "      <td>0.067538</td>\n",
       "      <td>-3.108624e-15</td>\n",
       "      <td>-0.448385</td>\n",
       "      <td>0.0</td>\n",
       "      <td>-0.044631</td>\n",
       "      <td>0.085278</td>\n",
       "      <td>...</td>\n",
       "      <td>-0.103285</td>\n",
       "      <td>0.035904</td>\n",
       "      <td>-0.110098</td>\n",
       "      <td>-0.030873</td>\n",
       "      <td>-0.039876</td>\n",
       "      <td>-0.194641</td>\n",
       "      <td>0.003493</td>\n",
       "      <td>0.033664</td>\n",
       "      <td>-0.333627</td>\n",
       "      <td>0.068678</td>\n",
       "    </tr>\n",
       "    <tr>\n",
       "      <th>2024-08-02</th>\n",
       "      <td>0.006054</td>\n",
       "      <td>4674.0</td>\n",
       "      <td>27.0</td>\n",
       "      <td>1.973481e+07</td>\n",
       "      <td>-0.360976</td>\n",
       "      <td>4.076981e-01</td>\n",
       "      <td>0.928560</td>\n",
       "      <td>0.0</td>\n",
       "      <td>-0.031257</td>\n",
       "      <td>0.026108</td>\n",
       "      <td>...</td>\n",
       "      <td>0.068183</td>\n",
       "      <td>0.056101</td>\n",
       "      <td>0.221902</td>\n",
       "      <td>0.081259</td>\n",
       "      <td>0.214609</td>\n",
       "      <td>0.146383</td>\n",
       "      <td>0.090826</td>\n",
       "      <td>0.088750</td>\n",
       "      <td>-0.334180</td>\n",
       "      <td>0.007264</td>\n",
       "    </tr>\n",
       "    <tr>\n",
       "      <th>2024-08-09</th>\n",
       "      <td>0.006054</td>\n",
       "      <td>5059.0</td>\n",
       "      <td>28.0</td>\n",
       "      <td>1.973761e+07</td>\n",
       "      <td>-0.108526</td>\n",
       "      <td>0.000000e+00</td>\n",
       "      <td>-1.228138</td>\n",
       "      <td>0.0</td>\n",
       "      <td>0.000000</td>\n",
       "      <td>0.000000</td>\n",
       "      <td>...</td>\n",
       "      <td>0.000000</td>\n",
       "      <td>0.000000</td>\n",
       "      <td>0.000000</td>\n",
       "      <td>0.000000</td>\n",
       "      <td>0.000000</td>\n",
       "      <td>0.000000</td>\n",
       "      <td>0.000000</td>\n",
       "      <td>0.000000</td>\n",
       "      <td>0.527586</td>\n",
       "      <td>0.037224</td>\n",
       "    </tr>\n",
       "  </tbody>\n",
       "</table>\n",
       "<p>5 rows × 21 columns</p>\n",
       "</div>"
      ],
      "text/plain": [
       "             JPY_EUR  BTC_PageViews  Crypto_PageViews    BTC_Supply   BTC_USD  \\\n",
       "Date                                                                            \n",
       "2024-07-12  0.005814         4441.0              29.0  1.972469e+07  0.070356   \n",
       "2024-07-19  0.005837         4161.0              27.0  1.972799e+07  0.488202   \n",
       "2024-07-26  0.005995         4953.0              48.0  1.973157e+07  0.067538   \n",
       "2024-08-02  0.006054         4674.0              27.0  1.973481e+07 -0.360976   \n",
       "2024-08-09  0.006054         5059.0              28.0  1.973761e+07 -0.108526   \n",
       "\n",
       "            Mining_Difficulty  USD_OnChain_Volume  M2_Liquidity   EUR_USD  \\\n",
       "Date                                                                        \n",
       "2024-07-12      -2.778050e-02           -3.639985           0.0  0.070527   \n",
       "2024-07-19       1.207437e-01            0.437076           0.0  0.025569   \n",
       "2024-07-26      -3.108624e-15           -0.448385           0.0 -0.044631   \n",
       "2024-08-02       4.076981e-01            0.928560           0.0 -0.031257   \n",
       "2024-08-09       0.000000e+00           -1.228138           0.0  0.000000   \n",
       "\n",
       "             JPY_USD  ...       QQQ      EXSA      JPXN      IWDA       GLD  \\\n",
       "Date                  ...                                                     \n",
       "2024-07-12  0.079788  ... -0.011280  0.084151  0.132287  0.049644  0.079029   \n",
       "2024-07-19  0.025217  ... -0.164819 -0.160448 -0.092174 -0.097313 -0.050027   \n",
       "2024-07-26  0.085278  ... -0.103285  0.035904 -0.110098 -0.030873 -0.039876   \n",
       "2024-08-02  0.026108  ...  0.068183  0.056101  0.221902  0.081259  0.214609   \n",
       "2024-08-09  0.000000  ...  0.000000  0.000000  0.000000  0.000000  0.000000   \n",
       "\n",
       "                 SLV       TLT       BND  Nr_Transactions  Nr_Addresses  \n",
       "Date                                                                     \n",
       "2024-07-12 -0.057909  0.068868  0.088750         1.145594     -0.089711  \n",
       "2024-07-19 -0.230030 -0.050902 -0.039784        -1.026794      0.088710  \n",
       "2024-07-26 -0.194641  0.003493  0.033664        -0.333627      0.068678  \n",
       "2024-08-02  0.146383  0.090826  0.088750        -0.334180      0.007264  \n",
       "2024-08-09  0.000000  0.000000  0.000000         0.527586      0.037224  \n",
       "\n",
       "[5 rows x 21 columns]"
      ]
     },
     "execution_count": 3,
     "metadata": {},
     "output_type": "execute_result"
    }
   ],
   "source": [
    "opencsv.tail()"
   ]
  },
  {
   "cell_type": "code",
   "execution_count": 38,
   "metadata": {},
   "outputs": [],
   "source": [
    "full_sample_var = opencsv.loc[\"2010-9-10\":\"2024-07-26\"]\n",
    "full_sample_var= full_sample_var[['BTC_USD', 'Mining_Difficulty', 'M2_Liquidity', 'EUR_USD', 'JPY_USD', 'GLD', 'SLV', 'TLT', 'BND', 'BTC_Supply']]\n",
    "full_sample = full_sample_var.copy()"
   ]
  },
  {
   "cell_type": "code",
   "execution_count": 39,
   "metadata": {},
   "outputs": [
    {
     "name": "stdout",
     "output_type": "stream",
     "text": [
      "<class 'pandas.core.frame.DataFrame'>\n",
      "DatetimeIndex: 723 entries, 2010-09-24 to 2024-07-26\n",
      "Data columns (total 10 columns):\n",
      " #   Column             Non-Null Count  Dtype  \n",
      "---  ------             --------------  -----  \n",
      " 0   BTC_USD            723 non-null    float64\n",
      " 1   Mining_Difficulty  723 non-null    float64\n",
      " 2   M2_Liquidity       723 non-null    float64\n",
      " 3   EUR_USD            723 non-null    float64\n",
      " 4   JPY_USD            723 non-null    float64\n",
      " 5   GLD                723 non-null    float64\n",
      " 6   SLV                723 non-null    float64\n",
      " 7   TLT                723 non-null    float64\n",
      " 8   BND                723 non-null    float64\n",
      " 9   BTC_Supply         723 non-null    float64\n",
      "dtypes: float64(10)\n",
      "memory usage: 62.1 KB\n"
     ]
    }
   ],
   "source": [
    "full_sample.info()"
   ]
  },
  {
   "cell_type": "code",
   "execution_count": 40,
   "metadata": {},
   "outputs": [
    {
     "data": {
      "text/html": [
       "<div>\n",
       "<style scoped>\n",
       "    .dataframe tbody tr th:only-of-type {\n",
       "        vertical-align: middle;\n",
       "    }\n",
       "\n",
       "    .dataframe tbody tr th {\n",
       "        vertical-align: top;\n",
       "    }\n",
       "\n",
       "    .dataframe thead th {\n",
       "        text-align: right;\n",
       "    }\n",
       "</style>\n",
       "<table border=\"1\" class=\"dataframe\">\n",
       "  <thead>\n",
       "    <tr style=\"text-align: right;\">\n",
       "      <th></th>\n",
       "      <th>BTC_USD</th>\n",
       "      <th>Mining_Difficulty</th>\n",
       "      <th>M2_Liquidity</th>\n",
       "      <th>EUR_USD</th>\n",
       "      <th>JPY_USD</th>\n",
       "      <th>GLD</th>\n",
       "      <th>SLV</th>\n",
       "      <th>TLT</th>\n",
       "      <th>BND</th>\n",
       "      <th>BTC_Supply</th>\n",
       "    </tr>\n",
       "    <tr>\n",
       "      <th>Date</th>\n",
       "      <th></th>\n",
       "      <th></th>\n",
       "      <th></th>\n",
       "      <th></th>\n",
       "      <th></th>\n",
       "      <th></th>\n",
       "      <th></th>\n",
       "      <th></th>\n",
       "      <th></th>\n",
       "      <th></th>\n",
       "    </tr>\n",
       "  </thead>\n",
       "  <tbody>\n",
       "    <tr>\n",
       "      <th>2010-09-24</th>\n",
       "      <td>1.165714e-07</td>\n",
       "      <td>9.694689e-12</td>\n",
       "      <td>-0.008558</td>\n",
       "      <td>0.215828</td>\n",
       "      <td>0.110011</td>\n",
       "      <td>0.077941</td>\n",
       "      <td>0.115819</td>\n",
       "      <td>0.063193</td>\n",
       "      <td>0.027031</td>\n",
       "      <td>4.091750e+06</td>\n",
       "    </tr>\n",
       "    <tr>\n",
       "      <th>2010-10-01</th>\n",
       "      <td>-1.276735e-08</td>\n",
       "      <td>1.896105e-11</td>\n",
       "      <td>-0.009960</td>\n",
       "      <td>0.268974</td>\n",
       "      <td>0.079394</td>\n",
       "      <td>0.080478</td>\n",
       "      <td>0.102950</td>\n",
       "      <td>0.051803</td>\n",
       "      <td>0.034592</td>\n",
       "      <td>4.157600e+06</td>\n",
       "    </tr>\n",
       "    <tr>\n",
       "      <th>2010-10-08</th>\n",
       "      <td>1.381094e-06</td>\n",
       "      <td>0.000000e+00</td>\n",
       "      <td>0.020903</td>\n",
       "      <td>0.271499</td>\n",
       "      <td>0.103109</td>\n",
       "      <td>0.099692</td>\n",
       "      <td>0.173729</td>\n",
       "      <td>-0.013517</td>\n",
       "      <td>0.047940</td>\n",
       "      <td>4.206900e+06</td>\n",
       "    </tr>\n",
       "    <tr>\n",
       "      <th>2010-10-15</th>\n",
       "      <td>1.007510e-06</td>\n",
       "      <td>2.807865e-12</td>\n",
       "      <td>0.005284</td>\n",
       "      <td>0.127880</td>\n",
       "      <td>0.080880</td>\n",
       "      <td>0.073228</td>\n",
       "      <td>0.164077</td>\n",
       "      <td>-0.136911</td>\n",
       "      <td>-0.051067</td>\n",
       "      <td>4.267300e+06</td>\n",
       "    </tr>\n",
       "    <tr>\n",
       "      <th>2010-10-22</th>\n",
       "      <td>2.220408e-07</td>\n",
       "      <td>3.647072e-11</td>\n",
       "      <td>0.005401</td>\n",
       "      <td>-0.137688</td>\n",
       "      <td>0.015310</td>\n",
       "      <td>-0.143193</td>\n",
       "      <td>-0.159251</td>\n",
       "      <td>0.038473</td>\n",
       "      <td>0.029185</td>\n",
       "      <td>4.349150e+06</td>\n",
       "    </tr>\n",
       "    <tr>\n",
       "      <th>...</th>\n",
       "      <td>...</td>\n",
       "      <td>...</td>\n",
       "      <td>...</td>\n",
       "      <td>...</td>\n",
       "      <td>...</td>\n",
       "      <td>...</td>\n",
       "      <td>...</td>\n",
       "      <td>...</td>\n",
       "      <td>...</td>\n",
       "      <td>...</td>\n",
       "    </tr>\n",
       "    <tr>\n",
       "      <th>2024-06-28</th>\n",
       "      <td>-2.106635e-01</td>\n",
       "      <td>0.000000e+00</td>\n",
       "      <td>-0.021441</td>\n",
       "      <td>0.001832</td>\n",
       "      <td>-0.041016</td>\n",
       "      <td>0.008338</td>\n",
       "      <td>-0.065953</td>\n",
       "      <td>-0.108446</td>\n",
       "      <td>-0.071696</td>\n",
       "      <td>1.971838e+07</td>\n",
       "    </tr>\n",
       "    <tr>\n",
       "      <th>2024-07-05</th>\n",
       "      <td>-2.041699e-01</td>\n",
       "      <td>-1.699513e-01</td>\n",
       "      <td>0.009820</td>\n",
       "      <td>0.075309</td>\n",
       "      <td>-0.021453</td>\n",
       "      <td>0.214609</td>\n",
       "      <td>0.307242</td>\n",
       "      <td>0.053447</td>\n",
       "      <td>0.087372</td>\n",
       "      <td>1.972142e+07</td>\n",
       "    </tr>\n",
       "    <tr>\n",
       "      <th>2024-07-12</th>\n",
       "      <td>7.035586e-02</td>\n",
       "      <td>-2.778050e-02</td>\n",
       "      <td>0.000000</td>\n",
       "      <td>0.070527</td>\n",
       "      <td>0.079788</td>\n",
       "      <td>0.079029</td>\n",
       "      <td>-0.057909</td>\n",
       "      <td>0.068868</td>\n",
       "      <td>0.088750</td>\n",
       "      <td>1.972469e+07</td>\n",
       "    </tr>\n",
       "    <tr>\n",
       "      <th>2024-07-19</th>\n",
       "      <td>4.882017e-01</td>\n",
       "      <td>1.207437e-01</td>\n",
       "      <td>0.000000</td>\n",
       "      <td>0.025569</td>\n",
       "      <td>0.025217</td>\n",
       "      <td>-0.050027</td>\n",
       "      <td>-0.230030</td>\n",
       "      <td>-0.050902</td>\n",
       "      <td>-0.039784</td>\n",
       "      <td>1.972799e+07</td>\n",
       "    </tr>\n",
       "    <tr>\n",
       "      <th>2024-07-26</th>\n",
       "      <td>6.753816e-02</td>\n",
       "      <td>-3.108624e-15</td>\n",
       "      <td>0.000000</td>\n",
       "      <td>-0.044631</td>\n",
       "      <td>0.085278</td>\n",
       "      <td>-0.039876</td>\n",
       "      <td>-0.194641</td>\n",
       "      <td>0.003493</td>\n",
       "      <td>0.033664</td>\n",
       "      <td>1.973157e+07</td>\n",
       "    </tr>\n",
       "  </tbody>\n",
       "</table>\n",
       "<p>723 rows × 10 columns</p>\n",
       "</div>"
      ],
      "text/plain": [
       "                 BTC_USD  Mining_Difficulty  M2_Liquidity   EUR_USD   JPY_USD  \\\n",
       "Date                                                                            \n",
       "2010-09-24  1.165714e-07       9.694689e-12     -0.008558  0.215828  0.110011   \n",
       "2010-10-01 -1.276735e-08       1.896105e-11     -0.009960  0.268974  0.079394   \n",
       "2010-10-08  1.381094e-06       0.000000e+00      0.020903  0.271499  0.103109   \n",
       "2010-10-15  1.007510e-06       2.807865e-12      0.005284  0.127880  0.080880   \n",
       "2010-10-22  2.220408e-07       3.647072e-11      0.005401 -0.137688  0.015310   \n",
       "...                  ...                ...           ...       ...       ...   \n",
       "2024-06-28 -2.106635e-01       0.000000e+00     -0.021441  0.001832 -0.041016   \n",
       "2024-07-05 -2.041699e-01      -1.699513e-01      0.009820  0.075309 -0.021453   \n",
       "2024-07-12  7.035586e-02      -2.778050e-02      0.000000  0.070527  0.079788   \n",
       "2024-07-19  4.882017e-01       1.207437e-01      0.000000  0.025569  0.025217   \n",
       "2024-07-26  6.753816e-02      -3.108624e-15      0.000000 -0.044631  0.085278   \n",
       "\n",
       "                 GLD       SLV       TLT       BND    BTC_Supply  \n",
       "Date                                                              \n",
       "2010-09-24  0.077941  0.115819  0.063193  0.027031  4.091750e+06  \n",
       "2010-10-01  0.080478  0.102950  0.051803  0.034592  4.157600e+06  \n",
       "2010-10-08  0.099692  0.173729 -0.013517  0.047940  4.206900e+06  \n",
       "2010-10-15  0.073228  0.164077 -0.136911 -0.051067  4.267300e+06  \n",
       "2010-10-22 -0.143193 -0.159251  0.038473  0.029185  4.349150e+06  \n",
       "...              ...       ...       ...       ...           ...  \n",
       "2024-06-28  0.008338 -0.065953 -0.108446 -0.071696  1.971838e+07  \n",
       "2024-07-05  0.214609  0.307242  0.053447  0.087372  1.972142e+07  \n",
       "2024-07-12  0.079029 -0.057909  0.068868  0.088750  1.972469e+07  \n",
       "2024-07-19 -0.050027 -0.230030 -0.050902 -0.039784  1.972799e+07  \n",
       "2024-07-26 -0.039876 -0.194641  0.003493  0.033664  1.973157e+07  \n",
       "\n",
       "[723 rows x 10 columns]"
      ]
     },
     "execution_count": 40,
     "metadata": {},
     "output_type": "execute_result"
    }
   ],
   "source": [
    "#full_sample = full_sample.drop(columns=[\"BTC_PageViews\", \"Crypto_PageViews\"]) # removi porque nao tem a informacao completa para estes anos todos\n",
    "full_sample"
   ]
  },
  {
   "cell_type": "code",
   "execution_count": 41,
   "metadata": {},
   "outputs": [
    {
     "data": {
      "text/plain": [
       "BTC_USD              0\n",
       "Mining_Difficulty    0\n",
       "M2_Liquidity         0\n",
       "EUR_USD              0\n",
       "JPY_USD              0\n",
       "GLD                  0\n",
       "SLV                  0\n",
       "TLT                  0\n",
       "BND                  0\n",
       "BTC_Supply           0\n",
       "dtype: int64"
      ]
     },
     "execution_count": 41,
     "metadata": {},
     "output_type": "execute_result"
    }
   ],
   "source": [
    "full_sample.isna().sum()"
   ]
  },
  {
   "cell_type": "markdown",
   "metadata": {},
   "source": [
    "# Granger causality test "
   ]
  },
  {
   "cell_type": "code",
   "execution_count": 42,
   "metadata": {},
   "outputs": [
    {
     "name": "stdout",
     "output_type": "stream",
     "text": [
      "Variables that Granger-cause BTC_USD: ['BND']\n",
      "Variables that do NOT Granger-cause BTC_USD: ['Mining_Difficulty', 'M2_Liquidity', 'EUR_USD', 'JPY_USD', 'GLD', 'SLV', 'TLT', 'BTC_Supply']\n"
     ]
    }
   ],
   "source": [
    "from statsmodels.tsa.stattools import grangercausalitytests\n",
    "\n",
    "# It is a statistical hypothesis test for determining whether one time series is useful in forecasting another\n",
    "\n",
    "# lists to store variables\n",
    "causality_true = []\n",
    "causality_false = []\n",
    "\n",
    "maxlag = 10\n",
    "dependent_variable = \"BTC_USD\"\n",
    "\n",
    "for column in full_sample.columns:\n",
    "    if column != dependent_variable:  # Skip the target variable\n",
    "        # Perform Granger Causality Test\n",
    "        # The data for testing whether the time series in the second column Granger causes the time series in the first column. \n",
    "        result = grangercausalitytests(full_sample[[dependent_variable, column]], maxlag=maxlag, verbose=False)\n",
    "        \n",
    "        # Check if any lag has a p-value < 0.05\n",
    "        min_p_value = min([result[lag][0]['ssr_chi2test'][1] for lag in range(1, maxlag+1)])\n",
    "\n",
    "        if min_p_value < 0.05:\n",
    "            causality_true.append(column)\n",
    "        else:\n",
    "            causality_false.append(column)\n",
    "\n",
    "# Output the results\n",
    "print(f\"Variables that Granger-cause {dependent_variable}:\", causality_true)\n",
    "print(f\"Variables that do NOT Granger-cause {dependent_variable}:\", causality_false)"
   ]
  },
  {
   "cell_type": "markdown",
   "metadata": {},
   "source": [
    "# PACF - BTC USD Price"
   ]
  },
  {
   "cell_type": "code",
   "execution_count": 9,
   "metadata": {},
   "outputs": [
    {
     "data": {
      "image/png": "[encoded data removed]",
      "text/plain": [
       "<Figure size 640x480 with 1 Axes>"
      ]
     },
     "metadata": {},
     "output_type": "display_data"
    }
   ],
   "source": [
    "from statsmodels.graphics.tsaplots import plot_pacf\n",
    "\n",
    "plot_pacf(full_sample.BTC_USD)\n",
    "plt.show()"
   ]
  },
  {
   "cell_type": "markdown",
   "metadata": {},
   "source": [
    "**So consider an AR(4)**"
   ]
  },
  {
   "cell_type": "markdown",
   "metadata": {},
   "source": [
    "# Model Dfs"
   ]
  },
  {
   "cell_type": "code",
   "execution_count": 43,
   "metadata": {},
   "outputs": [
    {
     "data": {
      "text/plain": [
       "Index(['BTC_USD', 'Mining_Difficulty', 'M2_Liquidity', 'EUR_USD', 'JPY_USD',\n",
       "       'GLD', 'SLV', 'TLT', 'BND', 'BTC_Supply'],\n",
       "      dtype='object')"
      ]
     },
     "execution_count": 43,
     "metadata": {},
     "output_type": "execute_result"
    }
   ],
   "source": [
    "full_sample.columns"
   ]
  },
  {
   "cell_type": "code",
   "execution_count": 45,
   "metadata": {},
   "outputs": [],
   "source": [
    "'''\n",
    "Distinguish between endogenous and exogenous variables based on their roles in the Bitcoin market:\n",
    "\n",
    "Endogenous Variables: These are the primary variables of interest that the model aims to predict. \n",
    "They include the equilibrium closing price of Bitcoin (MKPRU), the number of unique MyWallet users (MWNUS), \n",
    "and the total Bitcoin available in the market (TOTBC)1.\n",
    "\n",
    "Exogenous Variables: These are external factors that influence the endogenous variables. \n",
    "They include Miner’s Revenue (MIREV), Bitcoin Difficulty (DIFF), Number of Transactions per Block (NTRBL), \n",
    "Average Block Size (AVBLS), Change in the Number of Unique Addresses (NADDU), Total Output Volume (TRVOU), \n",
    "and Hash Rate (HRATE).\n",
    "\n",
    "These distinctions help in understanding and forecasting Bitcoin’s market behavior.\n",
    "'''\n",
    "\n",
    "df_model = full_sample.copy()\n",
    "\n",
    "# Example: Based on your output, you might start by removing BND, SPY, QQQ, JPXN, EXSA, and TLT, which all have high p-values.\n",
    "\n",
    "endog = ['BTC_USD', 'Mining_Difficulty', 'BTC_Supply']\n",
    "exog = ['M2_Liquidity', 'EUR_USD', 'JPY_USD', 'GLD', 'SLV', 'TLT', 'BND']\n",
    "\n",
    "split = int(0.9*(len(full_sample)))\n",
    "\n",
    "df_train = df_model[:split]\n",
    "df_test = df_model[split:]\n",
    "\n",
    "# Split the data into endogenous and exogenous variables for the training set\n",
    "df_endog_train = df_train[endog]\n",
    "df_exog_train = df_train[exog]\n",
    "\n",
    "# Split the data into endogenous and exogenous variables for the testing set\n",
    "df_endog_test = df_test[endog]\n",
    "df_exog_test = df_test[exog]"
   ]
  },
  {
   "cell_type": "code",
   "execution_count": 12,
   "metadata": {},
   "outputs": [
    {
     "name": "stdout",
     "output_type": "stream",
     "text": [
      "Variables that Granger-cause BTC_USD: ['SPY', 'EXSA', 'IWDA', 'BND', 'Nr_Transactions', 'Nr_Addresses']\n",
      "Variables that do NOT Granger-cause BTC_USD: ['JPY_EUR', 'BTC_Supply', 'Mining_Difficulty', 'USD_OnChain_Volume', 'M2_Liquidity', 'EUR_USD', 'JPY_USD', 'QQQ', 'JPXN', 'GLD', 'SLV', 'TLT']\n"
     ]
    }
   ],
   "source": [
    "# Output the results\n",
    "print(f\"Variables that Granger-cause {dependent_variable}:\", causality_true)\n",
    "print(f\"Variables that do NOT Granger-cause {dependent_variable}:\", causality_false)"
   ]
  },
  {
   "cell_type": "code",
   "execution_count": 46,
   "metadata": {},
   "outputs": [
    {
     "data": {
      "text/plain": [
       "(650, 10)"
      ]
     },
     "execution_count": 46,
     "metadata": {},
     "output_type": "execute_result"
    }
   ],
   "source": [
    "df_train.shape"
   ]
  },
  {
   "cell_type": "code",
   "execution_count": 47,
   "metadata": {},
   "outputs": [
    {
     "data": {
      "text/plain": [
       "(73, 10)"
      ]
     },
     "execution_count": 47,
     "metadata": {},
     "output_type": "execute_result"
    }
   ],
   "source": [
    "df_test.shape"
   ]
  },
  {
   "cell_type": "markdown",
   "metadata": {},
   "source": [
    "# Determine max number lags"
   ]
  },
  {
   "cell_type": "markdown",
   "metadata": {},
   "source": [
    "We can test the performance of our model by using the following methods:\n",
    "\n",
    "**Akaike information criterion (AIC)**: It quantifies the quality of a model by balancing the fit of the model to the data with the complexity of the model. AIC provides a way to compare different models and choose the one that best fits the data with the least complexity.\n",
    "\n",
    "**Bayesian information criterion (BIC)**: This stats measure is used for model selection among a set of candidate models. Like the Akaike information criterion (AIC), BIC provides a trade-off between the goodness of fit and model complexity. However, BIC places a stronger penalty on the number of parameters than AIC does, which can help prevent overfitting."
   ]
  },
  {
   "cell_type": "code",
   "execution_count": 48,
   "metadata": {},
   "outputs": [
    {
     "data": {
      "text/html": [
       "<table class=\"simpletable\">\n",
       "<caption>VAR Order Selection (* highlights the minimums)</caption>\n",
       "<tr>\n",
       "   <td></td>      <th>AIC</th>         <th>BIC</th>         <th>FPE</th>        <th>HQIC</th>    \n",
       "</tr>\n",
       "<tr>\n",
       "  <th>0</th>  <td>     18.58</td>  <td>     18.75</td>  <td> 1.174e+08</td>  <td>     18.65</td> \n",
       "</tr>\n",
       "<tr>\n",
       "  <th>1</th>  <td>     5.284</td>  <td>     5.514</td>  <td>     197.1</td>  <td>     5.373</td> \n",
       "</tr>\n",
       "<tr>\n",
       "  <th>2</th>  <td>     4.069</td>  <td>     4.362*</td> <td>     58.49</td>  <td>     4.183*</td>\n",
       "</tr>\n",
       "<tr>\n",
       "  <th>3</th>  <td>     4.089</td>  <td>     4.444</td>  <td>     59.67</td>  <td>     4.227</td> \n",
       "</tr>\n",
       "<tr>\n",
       "  <th>4</th>  <td>     4.020</td>  <td>     4.439</td>  <td>     55.73</td>  <td>     4.183</td> \n",
       "</tr>\n",
       "<tr>\n",
       "  <th>5</th>  <td>     4.041</td>  <td>     4.522</td>  <td>     56.90</td>  <td>     4.228</td> \n",
       "</tr>\n",
       "<tr>\n",
       "  <th>6</th>  <td>     4.025</td>  <td>     4.569</td>  <td>     56.00</td>  <td>     4.236</td> \n",
       "</tr>\n",
       "<tr>\n",
       "  <th>7</th>  <td>     4.041</td>  <td>     4.647</td>  <td>     56.88</td>  <td>     4.276</td> \n",
       "</tr>\n",
       "<tr>\n",
       "  <th>8</th>  <td>     3.998*</td> <td>     4.667</td>  <td>     54.50*</td> <td>     4.258</td> \n",
       "</tr>\n",
       "<tr>\n",
       "  <th>9</th>  <td>     4.009</td>  <td>     4.741</td>  <td>     55.13</td>  <td>     4.293</td> \n",
       "</tr>\n",
       "<tr>\n",
       "  <th>10</th> <td>     4.008</td>  <td>     4.803</td>  <td>     55.06</td>  <td>     4.316</td> \n",
       "</tr>\n",
       "</table>"
      ],
      "text/latex": [
       "\\begin{center}\n",
       "\\begin{tabular}{lcccc}\n",
       "\\toprule\n",
       "            & \\textbf{AIC} & \\textbf{BIC} & \\textbf{FPE} & \\textbf{HQIC}  \\\\\n",
       "\\midrule\n",
       "\\textbf{0}  &       18.58  &       18.75  &   1.174e+08  &        18.65   \\\\\n",
       "\\textbf{1}  &       5.284  &       5.514  &       197.1  &        5.373   \\\\\n",
       "\\textbf{2}  &       4.069  &      4.362*  &       58.49  &       4.183*   \\\\\n",
       "\\textbf{3}  &       4.089  &       4.444  &       59.67  &        4.227   \\\\\n",
       "\\textbf{4}  &       4.020  &       4.439  &       55.73  &        4.183   \\\\\n",
       "\\textbf{5}  &       4.041  &       4.522  &       56.90  &        4.228   \\\\\n",
       "\\textbf{6}  &       4.025  &       4.569  &       56.00  &        4.236   \\\\\n",
       "\\textbf{7}  &       4.041  &       4.647  &       56.88  &        4.276   \\\\\n",
       "\\textbf{8}  &      3.998*  &       4.667  &      54.50*  &        4.258   \\\\\n",
       "\\textbf{9}  &       4.009  &       4.741  &       55.13  &        4.293   \\\\\n",
       "\\textbf{10} &       4.008  &       4.803  &       55.06  &        4.316   \\\\\n",
       "\\bottomrule\n",
       "\\end{tabular}\n",
       "%\\caption{VAR Order Selection (* highlights the minimums)}\n",
       "\\end{center}"
      ],
      "text/plain": [
       "<class 'statsmodels.iolib.table.SimpleTable'>"
      ]
     },
     "execution_count": 48,
     "metadata": {},
     "output_type": "execute_result"
    }
   ],
   "source": [
    "from statsmodels.tsa.api import VAR\n",
    "\n",
    "# Lower is better\n",
    "\n",
    "model = VAR(endog = df_endog_train, exog = df_exog_train)\n",
    "model.select_order(10).summary()"
   ]
  },
  {
   "cell_type": "markdown",
   "metadata": {},
   "source": [
    "# Fit a VAR Model"
   ]
  },
  {
   "cell_type": "code",
   "execution_count": 64,
   "metadata": {},
   "outputs": [
    {
     "data": {
      "text/plain": [
       "  Summary of Regression Results   \n",
       "==================================\n",
       "Model:                         VAR\n",
       "Method:                        OLS\n",
       "Date:           Fri, 23, Aug, 2024\n",
       "Time:                     12:34:37\n",
       "--------------------------------------------------------------------\n",
       "No. of Equations:         3.00000    BIC:                    4.72659\n",
       "Nobs:                     642.000    HQIC:                   4.31808\n",
       "Log likelihood:          -3939.81    FPE:                    57.9303\n",
       "AIC:                      4.05899    Det(Omega_mle):         50.0646\n",
       "--------------------------------------------------------------------\n",
       "Results for equation BTC_USD\n",
       "=======================================================================================\n",
       "                          coefficient       std. error           t-stat            prob\n",
       "---------------------------------------------------------------------------------------\n",
       "const                        0.001866         0.075285            0.025           0.980\n",
       "M2_Liquidity                 0.032803         0.231751            0.142           0.887\n",
       "EUR_USD                      0.047065         0.037573            1.253           0.210\n",
       "JPY_USD                     -0.103443         0.060857           -1.700           0.089\n",
       "GLD                          0.038645         0.056840            0.680           0.497\n",
       "SLV                          0.007374         0.035238            0.209           0.834\n",
       "TLT                         -0.035252         0.066533           -0.530           0.596\n",
       "BND                          0.079484         0.111404            0.713           0.476\n",
       "L1.BTC_USD                   0.060756         0.040966            1.483           0.138\n",
       "L1.Mining_Difficulty        -0.120320         0.150012           -0.802           0.423\n",
       "L1.BTC_Supply                0.000000         0.000001            0.016           0.987\n",
       "L2.BTC_USD                  -0.070931         0.040462           -1.753           0.080\n",
       "L2.Mining_Difficulty        -0.213149         0.149633           -1.424           0.154\n",
       "L2.BTC_Supply               -0.000000         0.000003           -0.020           0.984\n",
       "L3.BTC_USD                   0.016590         0.041564            0.399           0.690\n",
       "L3.Mining_Difficulty        -0.197672         0.148910           -1.327           0.184\n",
       "L3.BTC_Supply                0.000000         0.000003            0.103           0.918\n",
       "L4.BTC_USD                   0.119317         0.041662            2.864           0.004\n",
       "L4.Mining_Difficulty         0.010220         0.148860            0.069           0.945\n",
       "L4.BTC_Supply               -0.000000         0.000003           -0.149           0.881\n",
       "L5.BTC_USD                   0.021926         0.042147            0.520           0.603\n",
       "L5.Mining_Difficulty        -0.132573         0.148492           -0.893           0.372\n",
       "L5.BTC_Supply                0.000000         0.000003            0.170           0.865\n",
       "L6.BTC_USD                   0.070232         0.042136            1.667           0.096\n",
       "L6.Mining_Difficulty        -0.491664         0.147263           -3.339           0.001\n",
       "L6.BTC_Supply               -0.000001         0.000003           -0.259           0.796\n",
       "L7.BTC_USD                  -0.041103         0.042603           -0.965           0.335\n",
       "L7.Mining_Difficulty         0.044086         0.148130            0.298           0.766\n",
       "L7.BTC_Supply                0.000000         0.000003            0.109           0.913\n",
       "L8.BTC_USD                   0.103529         0.042360            2.444           0.015\n",
       "L8.Mining_Difficulty        -0.272834         0.148295           -1.840           0.066\n",
       "L8.BTC_Supply                0.000000         0.000001            0.110           0.912\n",
       "=======================================================================================\n",
       "\n",
       "Results for equation Mining_Difficulty\n",
       "=======================================================================================\n",
       "                          coefficient       std. error           t-stat            prob\n",
       "---------------------------------------------------------------------------------------\n",
       "const                       -0.040910         0.020255           -2.020           0.043\n",
       "M2_Liquidity                -0.240034         0.062352           -3.850           0.000\n",
       "EUR_USD                     -0.011037         0.010109           -1.092           0.275\n",
       "JPY_USD                      0.013250         0.016373            0.809           0.418\n",
       "GLD                          0.008415         0.015293            0.550           0.582\n",
       "SLV                         -0.007225         0.009481           -0.762           0.446\n",
       "TLT                          0.018527         0.017901            1.035           0.301\n",
       "BND                         -0.097385         0.029973           -3.249           0.001\n",
       "L1.BTC_USD                   0.008271         0.011022            0.750           0.453\n",
       "L1.Mining_Difficulty        -0.123075         0.040360           -3.049           0.002\n",
       "L1.BTC_Supply                0.000000         0.000000            1.295           0.195\n",
       "L2.BTC_USD                   0.066403         0.010886            6.100           0.000\n",
       "L2.Mining_Difficulty        -0.014026         0.040258           -0.348           0.728\n",
       "L2.BTC_Supply               -0.000000         0.000001           -0.337           0.736\n",
       "L3.BTC_USD                  -0.001351         0.011183           -0.121           0.904\n",
       "L3.Mining_Difficulty        -0.046714         0.040064           -1.166           0.244\n",
       "L3.BTC_Supply               -0.000001         0.000001           -0.764           0.445\n",
       "L4.BTC_USD                   0.030458         0.011209            2.717           0.007\n",
       "L4.Mining_Difficulty         0.117252         0.040050            2.928           0.003\n",
       "L4.BTC_Supply                0.000000         0.000001            0.621           0.535\n",
       "L5.BTC_USD                   0.003901         0.011340            0.344           0.731\n",
       "L5.Mining_Difficulty         0.023303         0.039951            0.583           0.560\n",
       "L5.BTC_Supply               -0.000001         0.000001           -0.659           0.510\n",
       "L6.BTC_USD                   0.028115         0.011337            2.480           0.013\n",
       "L6.Mining_Difficulty         0.110003         0.039621            2.776           0.005\n",
       "L6.BTC_Supply                0.000001         0.000001            1.034           0.301\n",
       "L7.BTC_USD                   0.025272         0.011462            2.205           0.027\n",
       "L7.Mining_Difficulty        -0.012047         0.039854           -0.302           0.762\n",
       "L7.BTC_Supply               -0.000000         0.000001           -0.523           0.601\n",
       "L8.BTC_USD                   0.003451         0.011397            0.303           0.762\n",
       "L8.Mining_Difficulty        -0.171898         0.039898           -4.308           0.000\n",
       "L8.BTC_Supply               -0.000000         0.000000           -0.079           0.937\n",
       "=======================================================================================\n",
       "\n",
       "Results for equation BTC_Supply\n",
       "=======================================================================================\n",
       "                          coefficient       std. error           t-stat            prob\n",
       "---------------------------------------------------------------------------------------\n",
       "const                    12044.544435      2292.783201            5.253           0.000\n",
       "M2_Liquidity             -2189.088386      7057.865695           -0.310           0.756\n",
       "EUR_USD                  -2092.409730      1144.271898           -1.829           0.067\n",
       "JPY_USD                   -781.092343      1853.376415           -0.421           0.673\n",
       "GLD                       2062.429796      1731.044609            1.191           0.233\n",
       "SLV                        259.397208      1073.154271            0.242           0.809\n",
       "TLT                       -729.932857      2026.243470           -0.360           0.719\n",
       "BND                       1816.747225      3392.768394            0.535           0.592\n",
       "L1.BTC_USD                 488.749126      1247.608847            0.392           0.695\n",
       "L1.Mining_Difficulty     -2407.629495      4568.552285           -0.527           0.598\n",
       "L1.BTC_Supply                1.771853         0.040431           43.824           0.000\n",
       "L2.BTC_USD                -347.317529      1232.239046           -0.282           0.778\n",
       "L2.Mining_Difficulty      -633.127164      4557.010163           -0.139           0.890\n",
       "L2.BTC_Supply               -0.907713         0.081831          -11.092           0.000\n",
       "L3.BTC_USD                  37.905957      1265.816929            0.030           0.976\n",
       "L3.Mining_Difficulty     -1337.095357      4534.977089           -0.295           0.768\n",
       "L3.BTC_Supply                0.332192         0.088964            3.734           0.000\n",
       "L4.BTC_USD                -240.858545      1268.807473           -0.190           0.849\n",
       "L4.Mining_Difficulty       852.751603      4533.460736            0.188           0.851\n",
       "L4.BTC_Supply               -0.109075         0.089693           -1.216           0.224\n",
       "L5.BTC_USD                 100.229156      1283.582374            0.078           0.938\n",
       "L5.Mining_Difficulty      -320.816101      4522.245497           -0.071           0.943\n",
       "L5.BTC_Supply               -0.187648         0.087949           -2.134           0.033\n",
       "L6.BTC_USD                 196.420735      1283.234269            0.153           0.878\n",
       "L6.Mining_Difficulty     -1290.228251      4484.827260           -0.288           0.774\n",
       "L6.BTC_Supply                0.202010         0.086421            2.338           0.019\n",
       "L7.BTC_USD                 237.521315      1297.460645            0.183           0.855\n",
       "L7.Mining_Difficulty      1935.851107      4511.230534            0.429           0.668\n",
       "L7.BTC_Supply               -0.178064         0.077702           -2.292           0.022\n",
       "L8.BTC_USD                 158.164239      1290.065302            0.123           0.902\n",
       "L8.Mining_Difficulty      2688.849337      4516.267114            0.595           0.552\n",
       "L8.BTC_Supply                0.075858         0.038204            1.986           0.047\n",
       "=======================================================================================\n",
       "\n",
       "Correlation matrix of residuals\n",
       "                      BTC_USD  Mining_Difficulty  BTC_Supply\n",
       "BTC_USD              1.000000          -0.135446    0.018755\n",
       "Mining_Difficulty   -0.135446           1.000000   -0.005093\n",
       "BTC_Supply           0.018755          -0.005093    1.000000\n",
       "\n"
      ]
     },
     "execution_count": 64,
     "metadata": {},
     "output_type": "execute_result"
    }
   ],
   "source": [
    "from statsmodels.tsa.api import VAR\n",
    "\n",
    "# Escolhi 4 lags porque é o que tem o AIC mais baixo e o BIC mais baixo é o lag 1, então também inclui esse\n",
    "\n",
    "model = VAR(endog = df_endog_train, exog = df_exog_train)\n",
    "model_fit = model.fit(maxlags=8)\n",
    "model_fit.summary()"
   ]
  },
  {
   "cell_type": "markdown",
   "metadata": {},
   "source": [
    "prob = p-value"
   ]
  },
  {
   "cell_type": "code",
   "execution_count": 65,
   "metadata": {},
   "outputs": [
    {
     "data": {
      "text/html": [
       "<div>\n",
       "<style scoped>\n",
       "    .dataframe tbody tr th:only-of-type {\n",
       "        vertical-align: middle;\n",
       "    }\n",
       "\n",
       "    .dataframe tbody tr th {\n",
       "        vertical-align: top;\n",
       "    }\n",
       "\n",
       "    .dataframe thead th {\n",
       "        text-align: right;\n",
       "    }\n",
       "</style>\n",
       "<table border=\"1\" class=\"dataframe\">\n",
       "  <thead>\n",
       "    <tr style=\"text-align: right;\">\n",
       "      <th></th>\n",
       "      <th>coeff</th>\n",
       "      <th>pval</th>\n",
       "    </tr>\n",
       "  </thead>\n",
       "  <tbody>\n",
       "    <tr>\n",
       "      <th>L4.BTC_USD</th>\n",
       "      <td>0.119317</td>\n",
       "      <td>0.004184</td>\n",
       "    </tr>\n",
       "    <tr>\n",
       "      <th>L6.Mining_Difficulty</th>\n",
       "      <td>-0.491664</td>\n",
       "      <td>0.000842</td>\n",
       "    </tr>\n",
       "    <tr>\n",
       "      <th>L8.BTC_USD</th>\n",
       "      <td>0.103529</td>\n",
       "      <td>0.014525</td>\n",
       "    </tr>\n",
       "  </tbody>\n",
       "</table>\n",
       "</div>"
      ],
      "text/plain": [
       "                         coeff      pval\n",
       "L4.BTC_USD            0.119317  0.004184\n",
       "L6.Mining_Difficulty -0.491664  0.000842\n",
       "L8.BTC_USD            0.103529  0.014525"
      ]
     },
     "execution_count": 65,
     "metadata": {},
     "output_type": "execute_result"
    }
   ],
   "source": [
    "df_coeff=pd.DataFrame([model_fit.params[\"BTC_USD\"], model_fit.pvalues[\"BTC_USD\"]]).T\n",
    "df_coeff.columns = [\"coeff\", \"pval\"]\n",
    "df_coeff = df_coeff.query(\"pval < 0.05\")\n",
    "df_coeff"
   ]
  },
  {
   "cell_type": "markdown",
   "metadata": {},
   "source": [
    "# So our final model is:\n",
    "\n",
    "Só considera prob / p-value < 0.05"
   ]
  },
  {
   "cell_type": "markdown",
   "metadata": {},
   "source": [
    "\n",
    "BTC_USD = 0.35L1.SPY - 0.12L2.USD_OnChain_Volume + 0.14L2.SLV\n"
   ]
  },
  {
   "cell_type": "markdown",
   "metadata": {},
   "source": [
    "### test different lags"
   ]
  },
  {
   "cell_type": "code",
   "execution_count": 28,
   "metadata": {},
   "outputs": [
    {
     "name": "stdout",
     "output_type": "stream",
     "text": [
      "          MAE      RMSE      MAPE\n",
      "Lag                              \n",
      "1    0.118818  0.171921  4.101868\n",
      "2    0.119214  0.171563  4.120623\n",
      "3    0.119384  0.171863  4.436823\n",
      "4    0.119026  0.171154  4.798432\n",
      "5    0.118736  0.170996  4.393230\n",
      "6    0.120905  0.173844  5.320725\n",
      "7    0.120876  0.173573  5.130146\n",
      "8    0.122786  0.174957  7.534381\n",
      "9    0.122377  0.174904  8.007371\n",
      "10   0.123619  0.175387  7.925740\n",
      "11   0.125143  0.176128  7.411777\n"
     ]
    },
    {
     "name": "stderr",
     "output_type": "stream",
     "text": [
      "c:\\Users\\Rui Caseiro\\AppData\\Local\\Programs\\Python\\Python311\\Lib\\site-packages\\statsmodels\\tsa\\base\\tsa_model.py:473: ValueWarning:\n",
      "\n",
      "No frequency information was provided, so inferred frequency W-FRI will be used.\n",
      "\n",
      "c:\\Users\\Rui Caseiro\\AppData\\Local\\Programs\\Python\\Python311\\Lib\\site-packages\\statsmodels\\tsa\\base\\tsa_model.py:473: ValueWarning:\n",
      "\n",
      "No frequency information was provided, so inferred frequency W-FRI will be used.\n",
      "\n",
      "c:\\Users\\Rui Caseiro\\AppData\\Local\\Programs\\Python\\Python311\\Lib\\site-packages\\statsmodels\\tsa\\base\\tsa_model.py:473: ValueWarning:\n",
      "\n",
      "No frequency information was provided, so inferred frequency W-FRI will be used.\n",
      "\n",
      "c:\\Users\\Rui Caseiro\\AppData\\Local\\Programs\\Python\\Python311\\Lib\\site-packages\\statsmodels\\tsa\\base\\tsa_model.py:473: ValueWarning:\n",
      "\n",
      "No frequency information was provided, so inferred frequency W-FRI will be used.\n",
      "\n",
      "c:\\Users\\Rui Caseiro\\AppData\\Local\\Programs\\Python\\Python311\\Lib\\site-packages\\statsmodels\\tsa\\base\\tsa_model.py:473: ValueWarning:\n",
      "\n",
      "No frequency information was provided, so inferred frequency W-FRI will be used.\n",
      "\n",
      "c:\\Users\\Rui Caseiro\\AppData\\Local\\Programs\\Python\\Python311\\Lib\\site-packages\\statsmodels\\tsa\\base\\tsa_model.py:473: ValueWarning:\n",
      "\n",
      "No frequency information was provided, so inferred frequency W-FRI will be used.\n",
      "\n",
      "c:\\Users\\Rui Caseiro\\AppData\\Local\\Programs\\Python\\Python311\\Lib\\site-packages\\statsmodels\\tsa\\base\\tsa_model.py:473: ValueWarning:\n",
      "\n",
      "No frequency information was provided, so inferred frequency W-FRI will be used.\n",
      "\n",
      "c:\\Users\\Rui Caseiro\\AppData\\Local\\Programs\\Python\\Python311\\Lib\\site-packages\\statsmodels\\tsa\\base\\tsa_model.py:473: ValueWarning:\n",
      "\n",
      "No frequency information was provided, so inferred frequency W-FRI will be used.\n",
      "\n",
      "c:\\Users\\Rui Caseiro\\AppData\\Local\\Programs\\Python\\Python311\\Lib\\site-packages\\statsmodels\\tsa\\base\\tsa_model.py:473: ValueWarning:\n",
      "\n",
      "No frequency information was provided, so inferred frequency W-FRI will be used.\n",
      "\n",
      "c:\\Users\\Rui Caseiro\\AppData\\Local\\Programs\\Python\\Python311\\Lib\\site-packages\\statsmodels\\tsa\\base\\tsa_model.py:473: ValueWarning:\n",
      "\n",
      "No frequency information was provided, so inferred frequency W-FRI will be used.\n",
      "\n",
      "c:\\Users\\Rui Caseiro\\AppData\\Local\\Programs\\Python\\Python311\\Lib\\site-packages\\statsmodels\\tsa\\base\\tsa_model.py:473: ValueWarning:\n",
      "\n",
      "No frequency information was provided, so inferred frequency W-FRI will be used.\n",
      "\n"
     ]
    }
   ],
   "source": [
    "from sklearn.metrics import mean_absolute_error, mean_squared_error, mean_absolute_percentage_error\n",
    "\n",
    "# Step 1: Make predictions on the test set\n",
    "# We start predicting after the last lag in the training set\n",
    "\n",
    "# Initialize an empty DataFrame to store results for each lag\n",
    "results_df = pd.DataFrame(columns=[\"Lag\", \"MAE\", \"RMSE\", \"MAPE\"])\n",
    "\n",
    "# Iterate over different lag values\n",
    "for lag in range(1, 12):  # Start at 1 to avoid using a zero-lag, which doesn't make sense\n",
    "    # Re-fit the model for the current lag\n",
    "    model = VAR(endog = df_endog_train, exog = df_exog_train)\n",
    "    model_fit = model.fit(maxlags=lag)\n",
    "    \n",
    "    # Make predictions on the test set\n",
    "    n_forecast = len(df_test)\n",
    "    forecast = model_fit.forecast(y=df_endog_train.values[-lag:], steps=n_forecast, exog_future=df_exog_test.values)\n",
    "\n",
    "    # Convert the forecast to a DataFrame with the same column names as df_train\n",
    "    forecast_df = pd.DataFrame(forecast, index=df_endog_test.index, columns=df_endog_test.columns)\n",
    "\n",
    "    # Calculate MAE, RMSE, and MAPE for the specific column ('BTC_USD')\n",
    "    mae = mean_absolute_error(df_test.BTC_USD, forecast_df.BTC_USD)\n",
    "    rmse = np.sqrt(mean_squared_error(df_test.BTC_USD, forecast_df.BTC_USD))\n",
    "    mape = mean_absolute_percentage_error(df_test.BTC_USD, forecast_df.BTC_USD)\n",
    "\n",
    "    # Save the results into the DataFrame using pd.concat\n",
    "    result_row = pd.DataFrame({\"Lag\": [lag], \"MAE\": [mae], \"RMSE\": [rmse], \"MAPE\": [mape]})\n",
    "    results_df = pd.concat([results_df, result_row], ignore_index=True)\n",
    "    \n",
    "# Set the 'Lag' column as the index\n",
    "results_df.set_index(\"Lag\", inplace=True)\n",
    "\n",
    "# Display the results DataFrame\n",
    "print(results_df)"
   ]
  },
  {
   "cell_type": "markdown",
   "metadata": {},
   "source": [
    "# Check for Serial Correlation of Residuals (Errors) using Durbin Watson Statistic"
   ]
  },
  {
   "cell_type": "code",
   "execution_count": 66,
   "metadata": {},
   "outputs": [
    {
     "name": "stdout",
     "output_type": "stream",
     "text": [
      "BTC_USD : 2.01\n",
      "Mining_Difficulty : 1.96\n",
      "BTC_Supply : 2.03\n"
     ]
    }
   ],
   "source": [
    "# https://www.machinelearningplus.com/time-series/vector-autoregression-examples-python/\n",
    "\n",
    "from statsmodels.stats.stattools import durbin_watson\n",
    "\n",
    "out = durbin_watson(model_fit.resid)\n",
    "\n",
    "for col, val in zip(df_endog_train.columns, out):\n",
    "    print(col, ':', round(val, 2))\n",
    "\n",
    "#   The value of this statistic can vary between 0 and 4. The closer it is to the value 2, \n",
    "#   then there is no significant serial correlation. The closer to 0, there is a positive serial correlation, \n",
    "#   and the closer it is to 4 implies negative serial correlation."
   ]
  },
  {
   "cell_type": "markdown",
   "metadata": {},
   "source": [
    "# Validate model - MAE, RMSE and MAPE"
   ]
  },
  {
   "cell_type": "code",
   "execution_count": 67,
   "metadata": {},
   "outputs": [
    {
     "data": {
      "text/plain": [
       "'\\n# Calculate MAE, RMSE, and MAPE for the specific column (\\'BTC_USD\\')\\nmae = mean_absolute_error(df_endog_test.BTC_USD, forecast_df.BTC_USD)\\nrmse = np.sqrt(mean_squared_error(df_endog_test.BTC_USD, forecast_df.BTC_USD))\\nmape = mean_absolute_percentage_error(df_endog_test.BTC_USD, forecast_df.BTC_USD)\\n\\n# Print the results\\nprint(\"Mean Absolute Error (MAE):\", mae)\\nprint(\"Root Mean Squared Error (RMSE):\", rmse)\\nprint(\"Mean Absolute Percentage Error (MAPE):\", mape)\\n'"
      ]
     },
     "execution_count": 67,
     "metadata": {},
     "output_type": "execute_result"
    }
   ],
   "source": [
    "from sklearn.metrics import mean_absolute_error, mean_squared_error, mean_absolute_percentage_error\n",
    "\n",
    "# Make predictions on the test set\n",
    "n_forecast = len(df_endog_test)\n",
    "forecast = model_fit.forecast(y=df_endog_train.values[-lag:], steps=n_forecast, exog_future=df_exog_test.values)\n",
    "\n",
    "# Convert the forecast to a DataFrame with the same column names as df_train\n",
    "forecast_df = pd.DataFrame(forecast, index=df_endog_test.index, columns=df_endog_test.columns)\n",
    "yhat = forecast_df.BTC_USD\n",
    "\n",
    "'''\n",
    "# Calculate MAE, RMSE, and MAPE for the specific column ('BTC_USD')\n",
    "mae = mean_absolute_error(df_endog_test.BTC_USD, forecast_df.BTC_USD)\n",
    "rmse = np.sqrt(mean_squared_error(df_endog_test.BTC_USD, forecast_df.BTC_USD))\n",
    "mape = mean_absolute_percentage_error(df_endog_test.BTC_USD, forecast_df.BTC_USD)\n",
    "\n",
    "# Print the results\n",
    "print(\"Mean Absolute Error (MAE):\", mae)\n",
    "print(\"Root Mean Squared Error (RMSE):\", rmse)\n",
    "print(\"Mean Absolute Percentage Error (MAPE):\", mape)\n",
    "'''"
   ]
  },
  {
   "cell_type": "code",
   "execution_count": 68,
   "metadata": {},
   "outputs": [],
   "source": [
    "def forecast_accuracy(forecast, actual):\n",
    "    forecast = forecast.values\n",
    "    actual = actual.values\n",
    "    mape = np.mean(np.abs(forecast - actual)/np.abs(actual))    # MAPE Mean Absolute Percentage Error\n",
    "    me = np.mean(forecast - actual)                             # ME Mean Error\n",
    "    mae = np.mean(np.abs(forecast - actual))    # MAE Mean Absolute Error \n",
    "    mpe = np.mean((forecast - actual)/actual)   # MPE Mean Percentage Error\n",
    "    rmse = np.mean((forecast - actual)**2)**.5  # RMSE Root Mean Squared Error\n",
    "    corr = np.corrcoef(forecast, actual)[0,1]   # corr Correlation\n",
    "    mins = np.amin(np.hstack([forecast[:,None], actual[:,None]]), axis=1)\n",
    "    maxs = np.amax(np.hstack([forecast[:,None], actual[:,None]]), axis=1)\n",
    "    minmax = 1 - np.mean(mins/maxs)             # minmax\n",
    "    return({'mape':mape, 'me':me, 'mae': mae, 'mpe': mpe, 'rmse':rmse, 'corr':corr, 'minmax':minmax})"
   ]
  },
  {
   "cell_type": "markdown",
   "metadata": {},
   "source": [
    "**MAPE (Mean absolute percentage error)** It considers actual values fed into model and fitted values from the model and calculates absolute difference between the two as a percentage of actual value and finally calculates mean of that."
   ]
  },
  {
   "cell_type": "code",
   "execution_count": 69,
   "metadata": {},
   "outputs": [
    {
     "data": {
      "text/plain": [
       "{'mape': 2.821470164479974,\n",
       " 'me': -0.034819438075157125,\n",
       " 'mae': 0.12138421005192576,\n",
       " 'mpe': 0.22217475278418589,\n",
       " 'rmse': 0.17568069380467588,\n",
       " 'corr': -0.29034632722735704,\n",
       " 'minmax': 2.4133882462403684}"
      ]
     },
     "execution_count": 69,
     "metadata": {},
     "output_type": "execute_result"
    }
   ],
   "source": [
    "forecast_accuracy(yhat, df_endog_test.BTC_USD)"
   ]
  },
  {
   "cell_type": "code",
   "execution_count": 70,
   "metadata": {},
   "outputs": [
    {
     "data": {
      "text/plain": [
       "<matplotlib.legend.Legend at 0x1b753d64a10>"
      ]
     },
     "execution_count": 70,
     "metadata": {},
     "output_type": "execute_result"
    },
    {
     "data": {
      "image/png": "[encoded data removed]",
      "text/plain": [
       "<Figure size 1200x600 with 1 Axes>"
      ]
     },
     "metadata": {},
     "output_type": "display_data"
    }
   ],
   "source": [
    "plt.figure(figsize=(12, 6))\n",
    "plt.plot(df_endog_test.BTC_USD, color='blue', label='Real Data')\n",
    "plt.plot(yhat, color='red', linestyle='dashed', label='Forecasted Data')\n",
    "plt.legend()"
   ]
  },
  {
   "cell_type": "markdown",
   "metadata": {},
   "source": [
    "## Undo Data Transformations"
   ]
  },
  {
   "cell_type": "code",
   "execution_count": 71,
   "metadata": {},
   "outputs": [],
   "source": [
    "opencsv_btc = pd.read_csv(r\"D:\\OneDrive - Instituto Politecnico de Castelo Branco\\002_Learning\\001_Pos_Graduacao\\Ciclo 5 - Projeto Final\\ProjetoFinal-PosGraduacaoEngenhariaFinanceira\\df_weekly.csv\", sep=\",\")\n",
    "opencsv_btc = opencsv_btc[[\"Date\", \"BTC_USD\"]]\n",
    "opencsv_btc.set_index('Date', inplace=True)\n",
    "opencsv_btc.index = pd.to_datetime(opencsv_btc.index)\n",
    "opencsv_btc = opencsv_btc.astype(float)"
   ]
  },
  {
   "cell_type": "code",
   "execution_count": 72,
   "metadata": {},
   "outputs": [],
   "source": [
    "# Assuming these are available from your original data processing steps\n",
    "\n",
    "ts = opencsv_btc.BTC_USD\n",
    "ts = ts.loc[\"2023-3-10\":\"2024-07-26\"]\n",
    "\n",
    "mu = ts.mean()\n",
    "sigma = ts.std()\n",
    "\n",
    "normalized_ts = (ts - mu) / sigma\n",
    "\n",
    "differenced_ts = normalized_ts.diff()\n",
    "\n",
    "def revert_transformations(transformed_ts, original_ts):\n",
    "    # Get the mean and standard deviation of the original series\n",
    "    mu = original_ts.mean()\n",
    "    sigma = original_ts.std()\n",
    "    \n",
    "    # Step 1: Undo the differencing\n",
    "    undifferenced = transformed_ts.cumsum()\n",
    "    \n",
    "    # Add back the first value of the normalized series\n",
    "    normalized_start = (original_ts.iloc[0] - mu) / sigma\n",
    "    undifferenced = normalized_start + undifferenced\n",
    "    \n",
    "    # Step 2: Undo the normalization\n",
    "    reverted = (undifferenced * sigma) + mu\n",
    "    \n",
    "    # Ensure the index matches the original series\n",
    "    return reverted.reindex(original_ts.index)"
   ]
  },
  {
   "cell_type": "markdown",
   "metadata": {},
   "source": [
    "#### Exemplo"
   ]
  },
  {
   "cell_type": "code",
   "execution_count": 25,
   "metadata": {},
   "outputs": [
    {
     "data": {
      "application/vnd.plotly.v1+json": {
       "config": {
        "plotlyServerURL": "https://plot.ly"
       },
       "data": [
        {
         "hovertemplate": "x=%{x}<br>y=%{y}<extra></extra>",
         "legendgroup": "",
         "marker": {
          "color": "#636efa",
          "symbol": "circle"
         },
         "mode": "markers",
         "name": "",
         "orientation": "v",
         "showlegend": false,
         "type": "scatter",
         "x": [
          27441.41,
          27493.01,
          28474.62,
          27927.8,
          30491.71,
          27261.17,
          29339.99,
          29548.51,
          26807.09,
          26888.42,
          26719.7,
          27251.14,
          26483.81,
          26330.59,
          30705.39,
          30471.06,
          30349.69,
          30331.09,
          29911.46,
          29316.82,
          29078.51,
          29403.56,
          26049.69,
          26051.29,
          25798.79,
          25907.13,
          26605.49,
          26583.16,
          26909.4,
          27946.61,
          26862.9,
          29684.37,
          33907.7,
          34732.28,
          37321.51,
          36626.32,
          37737.05,
          38699.84,
          44186.18,
          41939.16,
          44008.04,
          42073.59,
          44178.89,
          42776.42,
          41625.47,
          41816.55,
          43181.71,
          47154.23,
          52163.28,
          50744.07,
          62431.25,
          68269.39,
          69497.39,
          63816.99,
          69903.72,
          67860.53,
          67158.3,
          63848.26,
          63750.63,
          62917.45,
          60790.82,
          67051.35,
          68548.33,
          67482.25,
          69330.51,
          66006.13,
          64119.34,
          60324.3,
          56646.24,
          57913.68,
          66708.49,
          67925.17
         ],
         "xaxis": "x",
         "y": [
          27441.41,
          27493.01,
          28474.62,
          27927.8,
          30491.71,
          27261.17,
          29339.99,
          29548.51,
          26807.09,
          26888.42,
          26719.7,
          27251.14,
          26483.81,
          26330.59,
          30705.39,
          30471.06,
          30349.69,
          30331.09,
          29911.46,
          29316.82,
          29078.51,
          29403.56,
          26049.69,
          26051.29,
          25798.79,
          25907.13,
          26605.49,
          26583.16,
          26909.4,
          27946.61,
          26862.9,
          29684.37,
          33907.7,
          34732.28,
          37321.51,
          36626.31999999999,
          37737.05,
          38699.83999999999,
          44186.17999999999,
          41939.16,
          44008.04,
          42073.59,
          44178.88999999999,
          42776.41999999999,
          41625.469999999994,
          41816.549999999996,
          43181.70999999999,
          47154.229999999996,
          52163.27999999999,
          50744.06999999999,
          62431.249999999985,
          68269.38999999998,
          69497.38999999998,
          63816.98999999999,
          69903.72,
          67860.53,
          67158.3,
          63848.26,
          63750.63,
          62917.45,
          60790.82,
          67051.35,
          68548.33,
          67482.25,
          69330.51,
          66006.13,
          64119.34,
          60324.3,
          56646.24,
          57913.68000000001,
          66708.49,
          67925.17
         ],
         "yaxis": "y"
        },
        {
         "hovertemplate": "<b>OLS trendline</b><br>y = 1 * x + 6.82121e-12<br>R<sup>2</sup>=1.000000<br><br>x=%{x}<br>y=%{y} <b>(trend)</b><extra></extra>",
         "legendgroup": "",
         "line": {
          "color": "black"
         },
         "marker": {
          "color": "#636efa",
          "symbol": "circle"
         },
         "mode": "lines",
         "name": "",
         "showlegend": false,
         "type": "scatter",
         "x": [
          25798.79,
          25907.13,
          26049.69,
          26051.29,
          26330.59,
          26483.81,
          26583.16,
          26605.49,
          26719.7,
          26807.09,
          26862.9,
          26888.42,
          26909.4,
          27251.14,
          27261.17,
          27441.41,
          27493.01,
          27927.8,
          27946.61,
          28474.62,
          29078.51,
          29316.82,
          29339.99,
          29403.56,
          29548.51,
          29684.37,
          29911.46,
          30331.09,
          30349.69,
          30471.06,
          30491.71,
          30705.39,
          33907.7,
          34732.28,
          36626.32,
          37321.51,
          37737.05,
          38699.84,
          41625.47,
          41816.55,
          41939.16,
          42073.59,
          42776.42,
          43181.71,
          44008.04,
          44178.89,
          44186.18,
          47154.23,
          50744.07,
          52163.28,
          56646.24,
          57913.68,
          60324.3,
          60790.82,
          62431.25,
          62917.45,
          63750.63,
          63816.99,
          63848.26,
          64119.34,
          66006.13,
          66708.49,
          67051.35,
          67158.3,
          67482.25,
          67860.53,
          67925.17,
          68269.39,
          68548.33,
          69330.51,
          69497.39,
          69903.72
         ],
         "xaxis": "x",
         "y": [
          25798.79,
          25907.13,
          26049.69,
          26051.29,
          26330.59,
          26483.81,
          26583.16,
          26605.49,
          26719.7,
          26807.09,
          26862.9,
          26888.42,
          26909.4,
          27251.14,
          27261.17,
          27441.41,
          27493.01,
          27927.8,
          27946.61,
          28474.62,
          29078.51,
          29316.82,
          29339.99,
          29403.56,
          29548.51,
          29684.37,
          29911.46,
          30331.09,
          30349.69,
          30471.06,
          30491.71,
          30705.39,
          33907.7,
          34732.28,
          36626.32,
          37321.51,
          37737.05,
          38699.84,
          41625.47,
          41816.55,
          41939.16,
          42073.59,
          42776.42,
          43181.71,
          44008.04,
          44178.89,
          44186.18,
          47154.23,
          50744.06999999999,
          52163.27999999999,
          56646.23999999999,
          57913.67999999999,
          60324.299999999996,
          60790.81999999999,
          62431.24999999999,
          62917.44999999999,
          63750.62999999999,
          63816.98999999999,
          63848.259999999995,
          64119.33999999999,
          66006.12999999999,
          66708.48999999999,
          67051.34999999999,
          67158.29999999999,
          67482.24999999999,
          67860.52999999998,
          67925.16999999998,
          68269.38999999998,
          68548.32999999999,
          69330.50999999998,
          69497.38999999998,
          69903.71999999999
         ],
         "yaxis": "y"
        }
       ],
       "layout": {
        "height": 500,
        "legend": {
         "tracegroupgap": 0
        },
        "template": {
         "data": {
          "bar": [
           {
            "error_x": {
             "color": "rgb(36,36,36)"
            },
            "error_y": {
             "color": "rgb(36,36,36)"
            },
            "marker": {
             "line": {
              "color": "rgb(234,234,242)",
              "width": 0.5
             },
             "pattern": {
              "fillmode": "overlay",
              "size": 10,
              "solidity": 0.2
             }
            },
            "type": "bar"
           }
          ],
          "barpolar": [
           {
            "marker": {
             "line": {
              "color": "rgb(234,234,242)",
              "width": 0.5
             },
             "pattern": {
              "fillmode": "overlay",
              "size": 10,
              "solidity": 0.2
             }
            },
            "type": "barpolar"
           }
          ],
          "carpet": [
           {
            "aaxis": {
             "endlinecolor": "rgb(36,36,36)",
             "gridcolor": "white",
             "linecolor": "white",
             "minorgridcolor": "white",
             "startlinecolor": "rgb(36,36,36)"
            },
            "baxis": {
             "endlinecolor": "rgb(36,36,36)",
             "gridcolor": "white",
             "linecolor": "white",
             "minorgridcolor": "white",
             "startlinecolor": "rgb(36,36,36)"
            },
            "type": "carpet"
           }
          ],
          "choropleth": [
           {
            "colorbar": {
             "outlinewidth": 0,
             "tickcolor": "rgb(36,36,36)",
             "ticklen": 8,
             "ticks": "outside",
             "tickwidth": 2
            },
            "type": "choropleth"
           }
          ],
          "contour": [
           {
            "colorbar": {
             "outlinewidth": 0,
             "tickcolor": "rgb(36,36,36)",
             "ticklen": 8,
             "ticks": "outside",
             "tickwidth": 2
            },
            "colorscale": [
             [
              0,
              "rgb(2,4,25)"
             ],
             [
              0.06274509803921569,
              "rgb(24,15,41)"
             ],
             [
              0.12549019607843137,
              "rgb(47,23,57)"
             ],
             [
              0.18823529411764706,
              "rgb(71,28,72)"
             ],
             [
              0.25098039215686274,
              "rgb(97,30,82)"
             ],
             [
              0.3137254901960784,
              "rgb(123,30,89)"
             ],
             [
              0.3764705882352941,
              "rgb(150,27,91)"
             ],
             [
              0.4392156862745098,
              "rgb(177,22,88)"
             ],
             [
              0.5019607843137255,
              "rgb(203,26,79)"
             ],
             [
              0.5647058823529412,
              "rgb(223,47,67)"
             ],
             [
              0.6274509803921569,
              "rgb(236,76,61)"
             ],
             [
              0.6901960784313725,
              "rgb(242,107,73)"
             ],
             [
              0.7529411764705882,
              "rgb(244,135,95)"
             ],
             [
              0.8156862745098039,
              "rgb(245,162,122)"
             ],
             [
              0.8784313725490196,
              "rgb(246,188,153)"
             ],
             [
              0.9411764705882353,
              "rgb(247,212,187)"
             ],
             [
              1,
              "rgb(250,234,220)"
             ]
            ],
            "type": "contour"
           }
          ],
          "contourcarpet": [
           {
            "colorbar": {
             "outlinewidth": 0,
             "tickcolor": "rgb(36,36,36)",
             "ticklen": 8,
             "ticks": "outside",
             "tickwidth": 2
            },
            "type": "contourcarpet"
           }
          ],
          "heatmap": [
           {
            "colorbar": {
             "outlinewidth": 0,
             "tickcolor": "rgb(36,36,36)",
             "ticklen": 8,
             "ticks": "outside",
             "tickwidth": 2
            },
            "colorscale": [
             [
              0,
              "rgb(2,4,25)"
             ],
             [
              0.06274509803921569,
              "rgb(24,15,41)"
             ],
             [
              0.12549019607843137,
              "rgb(47,23,57)"
             ],
             [
              0.18823529411764706,
              "rgb(71,28,72)"
             ],
             [
              0.25098039215686274,
              "rgb(97,30,82)"
             ],
             [
              0.3137254901960784,
              "rgb(123,30,89)"
             ],
             [
              0.3764705882352941,
              "rgb(150,27,91)"
             ],
             [
              0.4392156862745098,
              "rgb(177,22,88)"
             ],
             [
              0.5019607843137255,
              "rgb(203,26,79)"
             ],
             [
              0.5647058823529412,
              "rgb(223,47,67)"
             ],
             [
              0.6274509803921569,
              "rgb(236,76,61)"
             ],
             [
              0.6901960784313725,
              "rgb(242,107,73)"
             ],
             [
              0.7529411764705882,
              "rgb(244,135,95)"
             ],
             [
              0.8156862745098039,
              "rgb(245,162,122)"
             ],
             [
              0.8784313725490196,
              "rgb(246,188,153)"
             ],
             [
              0.9411764705882353,
              "rgb(247,212,187)"
             ],
             [
              1,
              "rgb(250,234,220)"
             ]
            ],
            "type": "heatmap"
           }
          ],
          "heatmapgl": [
           {
            "colorbar": {
             "outlinewidth": 0,
             "tickcolor": "rgb(36,36,36)",
             "ticklen": 8,
             "ticks": "outside",
             "tickwidth": 2
            },
            "colorscale": [
             [
              0,
              "rgb(2,4,25)"
             ],
             [
              0.06274509803921569,
              "rgb(24,15,41)"
             ],
             [
              0.12549019607843137,
              "rgb(47,23,57)"
             ],
             [
              0.18823529411764706,
              "rgb(71,28,72)"
             ],
             [
              0.25098039215686274,
              "rgb(97,30,82)"
             ],
             [
              0.3137254901960784,
              "rgb(123,30,89)"
             ],
             [
              0.3764705882352941,
              "rgb(150,27,91)"
             ],
             [
              0.4392156862745098,
              "rgb(177,22,88)"
             ],
             [
              0.5019607843137255,
              "rgb(203,26,79)"
             ],
             [
              0.5647058823529412,
              "rgb(223,47,67)"
             ],
             [
              0.6274509803921569,
              "rgb(236,76,61)"
             ],
             [
              0.6901960784313725,
              "rgb(242,107,73)"
             ],
             [
              0.7529411764705882,
              "rgb(244,135,95)"
             ],
             [
              0.8156862745098039,
              "rgb(245,162,122)"
             ],
             [
              0.8784313725490196,
              "rgb(246,188,153)"
             ],
             [
              0.9411764705882353,
              "rgb(247,212,187)"
             ],
             [
              1,
              "rgb(250,234,220)"
             ]
            ],
            "type": "heatmapgl"
           }
          ],
          "histogram": [
           {
            "marker": {
             "pattern": {
              "fillmode": "overlay",
              "size": 10,
              "solidity": 0.2
             }
            },
            "type": "histogram"
           }
          ],
          "histogram2d": [
           {
            "colorbar": {
             "outlinewidth": 0,
             "tickcolor": "rgb(36,36,36)",
             "ticklen": 8,
             "ticks": "outside",
             "tickwidth": 2
            },
            "colorscale": [
             [
              0,
              "rgb(2,4,25)"
             ],
             [
              0.06274509803921569,
              "rgb(24,15,41)"
             ],
             [
              0.12549019607843137,
              "rgb(47,23,57)"
             ],
             [
              0.18823529411764706,
              "rgb(71,28,72)"
             ],
             [
              0.25098039215686274,
              "rgb(97,30,82)"
             ],
             [
              0.3137254901960784,
              "rgb(123,30,89)"
             ],
             [
              0.3764705882352941,
              "rgb(150,27,91)"
             ],
             [
              0.4392156862745098,
              "rgb(177,22,88)"
             ],
             [
              0.5019607843137255,
              "rgb(203,26,79)"
             ],
             [
              0.5647058823529412,
              "rgb(223,47,67)"
             ],
             [
              0.6274509803921569,
              "rgb(236,76,61)"
             ],
             [
              0.6901960784313725,
              "rgb(242,107,73)"
             ],
             [
              0.7529411764705882,
              "rgb(244,135,95)"
             ],
             [
              0.8156862745098039,
              "rgb(245,162,122)"
             ],
             [
              0.8784313725490196,
              "rgb(246,188,153)"
             ],
             [
              0.9411764705882353,
              "rgb(247,212,187)"
             ],
             [
              1,
              "rgb(250,234,220)"
             ]
            ],
            "type": "histogram2d"
           }
          ],
          "histogram2dcontour": [
           {
            "colorbar": {
             "outlinewidth": 0,
             "tickcolor": "rgb(36,36,36)",
             "ticklen": 8,
             "ticks": "outside",
             "tickwidth": 2
            },
            "colorscale": [
             [
              0,
              "rgb(2,4,25)"
             ],
             [
              0.06274509803921569,
              "rgb(24,15,41)"
             ],
             [
              0.12549019607843137,
              "rgb(47,23,57)"
             ],
             [
              0.18823529411764706,
              "rgb(71,28,72)"
             ],
             [
              0.25098039215686274,
              "rgb(97,30,82)"
             ],
             [
              0.3137254901960784,
              "rgb(123,30,89)"
             ],
             [
              0.3764705882352941,
              "rgb(150,27,91)"
             ],
             [
              0.4392156862745098,
              "rgb(177,22,88)"
             ],
             [
              0.5019607843137255,
              "rgb(203,26,79)"
             ],
             [
              0.5647058823529412,
              "rgb(223,47,67)"
             ],
             [
              0.6274509803921569,
              "rgb(236,76,61)"
             ],
             [
              0.6901960784313725,
              "rgb(242,107,73)"
             ],
             [
              0.7529411764705882,
              "rgb(244,135,95)"
             ],
             [
              0.8156862745098039,
              "rgb(245,162,122)"
             ],
             [
              0.8784313725490196,
              "rgb(246,188,153)"
             ],
             [
              0.9411764705882353,
              "rgb(247,212,187)"
             ],
             [
              1,
              "rgb(250,234,220)"
             ]
            ],
            "type": "histogram2dcontour"
           }
          ],
          "mesh3d": [
           {
            "colorbar": {
             "outlinewidth": 0,
             "tickcolor": "rgb(36,36,36)",
             "ticklen": 8,
             "ticks": "outside",
             "tickwidth": 2
            },
            "type": "mesh3d"
           }
          ],
          "parcoords": [
           {
            "line": {
             "colorbar": {
              "outlinewidth": 0,
              "tickcolor": "rgb(36,36,36)",
              "ticklen": 8,
              "ticks": "outside",
              "tickwidth": 2
             }
            },
            "type": "parcoords"
           }
          ],
          "pie": [
           {
            "automargin": true,
            "type": "pie"
           }
          ],
          "scatter": [
           {
            "fillpattern": {
             "fillmode": "overlay",
             "size": 10,
             "solidity": 0.2
            },
            "type": "scatter"
           }
          ],
          "scatter3d": [
           {
            "line": {
             "colorbar": {
              "outlinewidth": 0,
              "tickcolor": "rgb(36,36,36)",
              "ticklen": 8,
              "ticks": "outside",
              "tickwidth": 2
             }
            },
            "marker": {
             "colorbar": {
              "outlinewidth": 0,
              "tickcolor": "rgb(36,36,36)",
              "ticklen": 8,
              "ticks": "outside",
              "tickwidth": 2
             }
            },
            "type": "scatter3d"
           }
          ],
          "scattercarpet": [
           {
            "marker": {
             "colorbar": {
              "outlinewidth": 0,
              "tickcolor": "rgb(36,36,36)",
              "ticklen": 8,
              "ticks": "outside",
              "tickwidth": 2
             }
            },
            "type": "scattercarpet"
           }
          ],
          "scattergeo": [
           {
            "marker": {
             "colorbar": {
              "outlinewidth": 0,
              "tickcolor": "rgb(36,36,36)",
              "ticklen": 8,
              "ticks": "outside",
              "tickwidth": 2
             }
            },
            "type": "scattergeo"
           }
          ],
          "scattergl": [
           {
            "marker": {
             "colorbar": {
              "outlinewidth": 0,
              "tickcolor": "rgb(36,36,36)",
              "ticklen": 8,
              "ticks": "outside",
              "tickwidth": 2
             }
            },
            "type": "scattergl"
           }
          ],
          "scattermapbox": [
           {
            "marker": {
             "colorbar": {
              "outlinewidth": 0,
              "tickcolor": "rgb(36,36,36)",
              "ticklen": 8,
              "ticks": "outside",
              "tickwidth": 2
             }
            },
            "type": "scattermapbox"
           }
          ],
          "scatterpolar": [
           {
            "marker": {
             "colorbar": {
              "outlinewidth": 0,
              "tickcolor": "rgb(36,36,36)",
              "ticklen": 8,
              "ticks": "outside",
              "tickwidth": 2
             }
            },
            "type": "scatterpolar"
           }
          ],
          "scatterpolargl": [
           {
            "marker": {
             "colorbar": {
              "outlinewidth": 0,
              "tickcolor": "rgb(36,36,36)",
              "ticklen": 8,
              "ticks": "outside",
              "tickwidth": 2
             }
            },
            "type": "scatterpolargl"
           }
          ],
          "scatterternary": [
           {
            "marker": {
             "colorbar": {
              "outlinewidth": 0,
              "tickcolor": "rgb(36,36,36)",
              "ticklen": 8,
              "ticks": "outside",
              "tickwidth": 2
             }
            },
            "type": "scatterternary"
           }
          ],
          "surface": [
           {
            "colorbar": {
             "outlinewidth": 0,
             "tickcolor": "rgb(36,36,36)",
             "ticklen": 8,
             "ticks": "outside",
             "tickwidth": 2
            },
            "colorscale": [
             [
              0,
              "rgb(2,4,25)"
             ],
             [
              0.06274509803921569,
              "rgb(24,15,41)"
             ],
             [
              0.12549019607843137,
              "rgb(47,23,57)"
             ],
             [
              0.18823529411764706,
              "rgb(71,28,72)"
             ],
             [
              0.25098039215686274,
              "rgb(97,30,82)"
             ],
             [
              0.3137254901960784,
              "rgb(123,30,89)"
             ],
             [
              0.3764705882352941,
              "rgb(150,27,91)"
             ],
             [
              0.4392156862745098,
              "rgb(177,22,88)"
             ],
             [
              0.5019607843137255,
              "rgb(203,26,79)"
             ],
             [
              0.5647058823529412,
              "rgb(223,47,67)"
             ],
             [
              0.6274509803921569,
              "rgb(236,76,61)"
             ],
             [
              0.6901960784313725,
              "rgb(242,107,73)"
             ],
             [
              0.7529411764705882,
              "rgb(244,135,95)"
             ],
             [
              0.8156862745098039,
              "rgb(245,162,122)"
             ],
             [
              0.8784313725490196,
              "rgb(246,188,153)"
             ],
             [
              0.9411764705882353,
              "rgb(247,212,187)"
             ],
             [
              1,
              "rgb(250,234,220)"
             ]
            ],
            "type": "surface"
           }
          ],
          "table": [
           {
            "cells": {
             "fill": {
              "color": "rgb(231,231,240)"
             },
             "line": {
              "color": "white"
             }
            },
            "header": {
             "fill": {
              "color": "rgb(183,183,191)"
             },
             "line": {
              "color": "white"
             }
            },
            "type": "table"
           }
          ]
         },
         "layout": {
          "annotationdefaults": {
           "arrowcolor": "rgb(67,103,167)"
          },
          "autotypenumbers": "strict",
          "coloraxis": {
           "colorbar": {
            "outlinewidth": 0,
            "tickcolor": "rgb(36,36,36)",
            "ticklen": 8,
            "ticks": "outside",
            "tickwidth": 2
           }
          },
          "colorscale": {
           "sequential": [
            [
             0,
             "rgb(2,4,25)"
            ],
            [
             0.06274509803921569,
             "rgb(24,15,41)"
            ],
            [
             0.12549019607843137,
             "rgb(47,23,57)"
            ],
            [
             0.18823529411764706,
             "rgb(71,28,72)"
            ],
            [
             0.25098039215686274,
             "rgb(97,30,82)"
            ],
            [
             0.3137254901960784,
             "rgb(123,30,89)"
            ],
            [
             0.3764705882352941,
             "rgb(150,27,91)"
            ],
            [
             0.4392156862745098,
             "rgb(177,22,88)"
            ],
            [
             0.5019607843137255,
             "rgb(203,26,79)"
            ],
            [
             0.5647058823529412,
             "rgb(223,47,67)"
            ],
            [
             0.6274509803921569,
             "rgb(236,76,61)"
            ],
            [
             0.6901960784313725,
             "rgb(242,107,73)"
            ],
            [
             0.7529411764705882,
             "rgb(244,135,95)"
            ],
            [
             0.8156862745098039,
             "rgb(245,162,122)"
            ],
            [
             0.8784313725490196,
             "rgb(246,188,153)"
            ],
            [
             0.9411764705882353,
             "rgb(247,212,187)"
            ],
            [
             1,
             "rgb(250,234,220)"
            ]
           ],
           "sequentialminus": [
            [
             0,
             "rgb(2,4,25)"
            ],
            [
             0.06274509803921569,
             "rgb(24,15,41)"
            ],
            [
             0.12549019607843137,
             "rgb(47,23,57)"
            ],
            [
             0.18823529411764706,
             "rgb(71,28,72)"
            ],
            [
             0.25098039215686274,
             "rgb(97,30,82)"
            ],
            [
             0.3137254901960784,
             "rgb(123,30,89)"
            ],
            [
             0.3764705882352941,
             "rgb(150,27,91)"
            ],
            [
             0.4392156862745098,
             "rgb(177,22,88)"
            ],
            [
             0.5019607843137255,
             "rgb(203,26,79)"
            ],
            [
             0.5647058823529412,
             "rgb(223,47,67)"
            ],
            [
             0.6274509803921569,
             "rgb(236,76,61)"
            ],
            [
             0.6901960784313725,
             "rgb(242,107,73)"
            ],
            [
             0.7529411764705882,
             "rgb(244,135,95)"
            ],
            [
             0.8156862745098039,
             "rgb(245,162,122)"
            ],
            [
             0.8784313725490196,
             "rgb(246,188,153)"
            ],
            [
             0.9411764705882353,
             "rgb(247,212,187)"
            ],
            [
             1,
             "rgb(250,234,220)"
            ]
           ]
          },
          "colorway": [
           "rgb(76,114,176)",
           "rgb(221,132,82)",
           "rgb(85,168,104)",
           "rgb(196,78,82)",
           "rgb(129,114,179)",
           "rgb(147,120,96)",
           "rgb(218,139,195)",
           "rgb(140,140,140)",
           "rgb(204,185,116)",
           "rgb(100,181,205)"
          ],
          "font": {
           "color": "rgb(36,36,36)"
          },
          "geo": {
           "bgcolor": "white",
           "lakecolor": "white",
           "landcolor": "rgb(234,234,242)",
           "showlakes": true,
           "showland": true,
           "subunitcolor": "white"
          },
          "hoverlabel": {
           "align": "left"
          },
          "hovermode": "closest",
          "paper_bgcolor": "white",
          "plot_bgcolor": "rgb(234,234,242)",
          "polar": {
           "angularaxis": {
            "gridcolor": "white",
            "linecolor": "white",
            "showgrid": true,
            "ticks": ""
           },
           "bgcolor": "rgb(234,234,242)",
           "radialaxis": {
            "gridcolor": "white",
            "linecolor": "white",
            "showgrid": true,
            "ticks": ""
           }
          },
          "scene": {
           "xaxis": {
            "backgroundcolor": "rgb(234,234,242)",
            "gridcolor": "white",
            "gridwidth": 2,
            "linecolor": "white",
            "showbackground": true,
            "showgrid": true,
            "ticks": "",
            "zerolinecolor": "white"
           },
           "yaxis": {
            "backgroundcolor": "rgb(234,234,242)",
            "gridcolor": "white",
            "gridwidth": 2,
            "linecolor": "white",
            "showbackground": true,
            "showgrid": true,
            "ticks": "",
            "zerolinecolor": "white"
           },
           "zaxis": {
            "backgroundcolor": "rgb(234,234,242)",
            "gridcolor": "white",
            "gridwidth": 2,
            "linecolor": "white",
            "showbackground": true,
            "showgrid": true,
            "ticks": "",
            "zerolinecolor": "white"
           }
          },
          "shapedefaults": {
           "fillcolor": "rgb(67,103,167)",
           "line": {
            "width": 0
           },
           "opacity": 0.5
          },
          "ternary": {
           "aaxis": {
            "gridcolor": "white",
            "linecolor": "white",
            "showgrid": true,
            "ticks": ""
           },
           "baxis": {
            "gridcolor": "white",
            "linecolor": "white",
            "showgrid": true,
            "ticks": ""
           },
           "bgcolor": "rgb(234,234,242)",
           "caxis": {
            "gridcolor": "white",
            "linecolor": "white",
            "showgrid": true,
            "ticks": ""
           }
          },
          "xaxis": {
           "automargin": true,
           "gridcolor": "white",
           "linecolor": "white",
           "showgrid": true,
           "ticks": "",
           "title": {
            "standoff": 15
           },
           "zerolinecolor": "white"
          },
          "yaxis": {
           "automargin": true,
           "gridcolor": "white",
           "linecolor": "white",
           "showgrid": true,
           "ticks": "",
           "title": {
            "standoff": 15
           },
           "zerolinecolor": "white"
          }
         }
        },
        "title": {
         "text": "regressão linear OLS"
        },
        "width": 900,
        "xaxis": {
         "anchor": "y",
         "domain": [
          0,
          1
         ],
         "title": {
          "text": "x"
         }
        },
        "yaxis": {
         "anchor": "x",
         "domain": [
          0,
          1
         ],
         "title": {
          "text": "y"
         }
        }
       }
      }
     },
     "metadata": {},
     "output_type": "display_data"
    }
   ],
   "source": [
    "# Usage example:\n",
    "reverted_ts = revert_transformations(differenced_ts, ts)\n",
    "\n",
    "compare_df = pd.DataFrame()\n",
    "\n",
    "compare_df[\"x_axis\"] = ts\n",
    "compare_df[\"y_axis\"] = reverted_ts\n",
    "compare_df = compare_df.dropna()\n",
    "\n",
    "main.dispersion_map(compare_df,compare_df[\"x_axis\"], compare_df[\"y_axis\"])\n",
    "\n",
    "# a destransformaçao funciona impecavel"
   ]
  },
  {
   "cell_type": "markdown",
   "metadata": {},
   "source": [
    "#### real"
   ]
  },
  {
   "cell_type": "code",
   "execution_count": 73,
   "metadata": {},
   "outputs": [
    {
     "data": {
      "text/plain": [
       "Date\n",
       "2023-03-10    20112.924693\n",
       "2023-03-17    19118.126662\n",
       "2023-03-24    18721.409183\n",
       "2023-03-31    19101.861107\n",
       "2023-04-07    18617.013197\n",
       "                  ...     \n",
       "2024-06-28    19659.495991\n",
       "2024-07-05    19972.918432\n",
       "2024-07-12    20063.729683\n",
       "2024-07-19    20038.763130\n",
       "2024-07-26    20001.656198\n",
       "Name: BTC_USD, Length: 73, dtype: float64"
      ]
     },
     "execution_count": 73,
     "metadata": {},
     "output_type": "execute_result"
    }
   ],
   "source": [
    "# Un Transform forecast data\n",
    "\n",
    "reverted_yhat = revert_transformations(yhat, ts)\n",
    "reverted_yhat"
   ]
  },
  {
   "cell_type": "code",
   "execution_count": 74,
   "metadata": {},
   "outputs": [
    {
     "data": {
      "image/png": "[encoded data removed]",
      "text/plain": [
       "<Figure size 1200x600 with 1 Axes>"
      ]
     },
     "metadata": {},
     "output_type": "display_data"
    }
   ],
   "source": [
    "# Plot the real data\n",
    "plt.figure(figsize=(12, 6))\n",
    "\n",
    "# Slice the DataFrame from the start of 2023\n",
    "opencsv_btc_2023 = opencsv_btc.loc[\"2022-01-01\":\"2023-3-10\"]\n",
    "plt.plot(opencsv_btc_2023.index, opencsv_btc_2023, color='black', label='Trained Data')\n",
    "\n",
    "plt.plot(ts.index, ts, color='blue', label='Real Data')\n",
    "\n",
    "# Plot the forecasted data\n",
    "plt.plot(reverted_yhat.index, reverted_yhat, color='red', linestyle='dashed', label='Forecasted Data')\n",
    "\n",
    "# Add title and labels\n",
    "plt.title('Real vs Forecasted Data')\n",
    "plt.xlabel('Date')\n",
    "plt.ylabel('Value')\n",
    "\n",
    "# Add a legend\n",
    "plt.legend()\n",
    "\n",
    "# Show the plot\n",
    "plt.show()"
   ]
  }
 ],
 "metadata": {
  "kernelspec": {
   "display_name": "Python 3",
   "language": "python",
   "name": "python3"
  },
  "language_info": {
   "codemirror_mode": {
    "name": "ipython",
    "version": 3
   },
   "file_extension": ".py",
   "mimetype": "text/x-python",
   "name": "python",
   "nbconvert_exporter": "python",
   "pygments_lexer": "ipython3",
   "version": "3.11.6"
  }
 },
 "nbformat": 4,
 "nbformat_minor": 2
}
