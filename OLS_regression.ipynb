{
 "cells": [
  {
   "cell_type": "code",
   "execution_count": 1,
   "metadata": {},
   "outputs": [],
   "source": [
    "# Importacao das libraries\n",
    "import pandas as pd\n",
    "import functions as main\n",
    "import numpy as np\n",
    "from scipy import stats\n",
    "import statsmodels.api as sm\n",
    "\n",
    "import warnings\n",
    "warnings.filterwarnings('ignore')"
   ]
  },
  {
   "cell_type": "markdown",
   "metadata": {},
   "source": [
    "# Load Data"
   ]
  },
  {
   "cell_type": "code",
   "execution_count": 3,
   "metadata": {},
   "outputs": [],
   "source": [
    "opencsv = pd.read_csv(r\"D:\\OneDrive - Instituto Politecnico de Castelo Branco\\002_Learning\\001_Pos_Graduacao\\Ciclo 5 - Projeto Final\\ProjetoFinal-PosGraduacaoEngenhariaFinanceira\\ciclo3_df.csv\", sep=\",\")\n",
    "opencsv.set_index('Date', inplace=True)\n",
    "opencsv.index = pd.to_datetime(opencsv.index)\n",
    "opencsv = opencsv.asfreq(pd.infer_freq(opencsv.index))\n",
    "opencsv = opencsv.astype(float)"
   ]
  },
  {
   "cell_type": "code",
   "execution_count": 4,
   "metadata": {},
   "outputs": [
    {
     "data": {
      "text/html": [
       "<div>\n",
       "<style scoped>\n",
       "    .dataframe tbody tr th:only-of-type {\n",
       "        vertical-align: middle;\n",
       "    }\n",
       "\n",
       "    .dataframe tbody tr th {\n",
       "        vertical-align: top;\n",
       "    }\n",
       "\n",
       "    .dataframe thead th {\n",
       "        text-align: right;\n",
       "    }\n",
       "</style>\n",
       "<table border=\"1\" class=\"dataframe\">\n",
       "  <thead>\n",
       "    <tr style=\"text-align: right;\">\n",
       "      <th></th>\n",
       "      <th>BalanceSheet_global</th>\n",
       "      <th>BalanceSheet_usa</th>\n",
       "      <th>Mining_Difficulty</th>\n",
       "      <th>USD_OnChain_Volume</th>\n",
       "      <th>GDP_usa</th>\n",
       "      <th>HashRate</th>\n",
       "      <th>M2_Liquidity</th>\n",
       "      <th>EURUSD=X</th>\n",
       "      <th>DX-Y.NYB</th>\n",
       "      <th>SPY</th>\n",
       "      <th>...</th>\n",
       "      <th>L1.Nr_Transactions</th>\n",
       "      <th>L2.Nr_Transactions</th>\n",
       "      <th>L1.Nr_Addresses</th>\n",
       "      <th>L2.Nr_Addresses</th>\n",
       "      <th>L1.BTC_PageViews</th>\n",
       "      <th>L2.BTC_PageViews</th>\n",
       "      <th>L1.Crypto_PageViews</th>\n",
       "      <th>L2.Crypto_PageViews</th>\n",
       "      <th>L1.BTC_Supply</th>\n",
       "      <th>L2.BTC_Supply</th>\n",
       "    </tr>\n",
       "    <tr>\n",
       "      <th>Date</th>\n",
       "      <th></th>\n",
       "      <th></th>\n",
       "      <th></th>\n",
       "      <th></th>\n",
       "      <th></th>\n",
       "      <th></th>\n",
       "      <th></th>\n",
       "      <th></th>\n",
       "      <th></th>\n",
       "      <th></th>\n",
       "      <th></th>\n",
       "      <th></th>\n",
       "      <th></th>\n",
       "      <th></th>\n",
       "      <th></th>\n",
       "      <th></th>\n",
       "      <th></th>\n",
       "      <th></th>\n",
       "      <th></th>\n",
       "      <th></th>\n",
       "      <th></th>\n",
       "    </tr>\n",
       "  </thead>\n",
       "  <tbody>\n",
       "    <tr>\n",
       "      <th>2016-07-29</th>\n",
       "      <td>4.204989</td>\n",
       "      <td>6.649773</td>\n",
       "      <td>11.329383</td>\n",
       "      <td>8.190954</td>\n",
       "      <td>4.278227</td>\n",
       "      <td>6.193146</td>\n",
       "      <td>4.111145</td>\n",
       "      <td>0.044712</td>\n",
       "      <td>1.980140</td>\n",
       "      <td>2.277206</td>\n",
       "      <td>...</td>\n",
       "      <td>5.345185</td>\n",
       "      <td>5.334617</td>\n",
       "      <td>5.580736</td>\n",
       "      <td>5.580736</td>\n",
       "      <td>3.991226</td>\n",
       "      <td>3.934296</td>\n",
       "      <td>1.963788</td>\n",
       "      <td>1.863323</td>\n",
       "      <td>7.198973</td>\n",
       "      <td>7.198973</td>\n",
       "    </tr>\n",
       "    <tr>\n",
       "      <th>2016-08-05</th>\n",
       "      <td>4.206170</td>\n",
       "      <td>6.649996</td>\n",
       "      <td>11.329383</td>\n",
       "      <td>8.191412</td>\n",
       "      <td>4.278227</td>\n",
       "      <td>6.229455</td>\n",
       "      <td>4.111145</td>\n",
       "      <td>0.046680</td>\n",
       "      <td>1.983130</td>\n",
       "      <td>2.279321</td>\n",
       "      <td>...</td>\n",
       "      <td>5.364390</td>\n",
       "      <td>5.345185</td>\n",
       "      <td>5.580736</td>\n",
       "      <td>5.580736</td>\n",
       "      <td>3.908592</td>\n",
       "      <td>3.991226</td>\n",
       "      <td>1.919078</td>\n",
       "      <td>1.963788</td>\n",
       "      <td>7.198973</td>\n",
       "      <td>7.198973</td>\n",
       "    </tr>\n",
       "    <tr>\n",
       "      <th>2016-08-12</th>\n",
       "      <td>4.205636</td>\n",
       "      <td>6.650203</td>\n",
       "      <td>11.329383</td>\n",
       "      <td>8.180841</td>\n",
       "      <td>4.278227</td>\n",
       "      <td>6.174754</td>\n",
       "      <td>4.112571</td>\n",
       "      <td>0.046849</td>\n",
       "      <td>1.981003</td>\n",
       "      <td>2.279878</td>\n",
       "      <td>...</td>\n",
       "      <td>5.358399</td>\n",
       "      <td>5.364390</td>\n",
       "      <td>5.582260</td>\n",
       "      <td>5.580736</td>\n",
       "      <td>3.976488</td>\n",
       "      <td>3.908592</td>\n",
       "      <td>2.309630</td>\n",
       "      <td>1.919078</td>\n",
       "      <td>7.198973</td>\n",
       "      <td>7.198973</td>\n",
       "    </tr>\n",
       "    <tr>\n",
       "      <th>2016-08-19</th>\n",
       "      <td>4.206019</td>\n",
       "      <td>6.649965</td>\n",
       "      <td>11.337211</td>\n",
       "      <td>8.214463</td>\n",
       "      <td>4.278548</td>\n",
       "      <td>6.221177</td>\n",
       "      <td>4.112732</td>\n",
       "      <td>0.054975</td>\n",
       "      <td>1.975478</td>\n",
       "      <td>2.280037</td>\n",
       "      <td>...</td>\n",
       "      <td>5.367306</td>\n",
       "      <td>5.358399</td>\n",
       "      <td>5.590400</td>\n",
       "      <td>5.582260</td>\n",
       "      <td>3.889638</td>\n",
       "      <td>3.976488</td>\n",
       "      <td>2.082785</td>\n",
       "      <td>2.309630</td>\n",
       "      <td>7.198973</td>\n",
       "      <td>7.198973</td>\n",
       "    </tr>\n",
       "    <tr>\n",
       "      <th>2016-08-26</th>\n",
       "      <td>4.205174</td>\n",
       "      <td>6.650680</td>\n",
       "      <td>11.337211</td>\n",
       "      <td>8.164031</td>\n",
       "      <td>4.278869</td>\n",
       "      <td>6.174754</td>\n",
       "      <td>4.111766</td>\n",
       "      <td>0.052713</td>\n",
       "      <td>1.980322</td>\n",
       "      <td>2.277546</td>\n",
       "      <td>...</td>\n",
       "      <td>5.391103</td>\n",
       "      <td>5.367306</td>\n",
       "      <td>5.604294</td>\n",
       "      <td>5.590400</td>\n",
       "      <td>3.923865</td>\n",
       "      <td>3.889638</td>\n",
       "      <td>2.262451</td>\n",
       "      <td>2.082785</td>\n",
       "      <td>7.199329</td>\n",
       "      <td>7.198973</td>\n",
       "    </tr>\n",
       "    <tr>\n",
       "      <th>...</th>\n",
       "      <td>...</td>\n",
       "      <td>...</td>\n",
       "      <td>...</td>\n",
       "      <td>...</td>\n",
       "      <td>...</td>\n",
       "      <td>...</td>\n",
       "      <td>...</td>\n",
       "      <td>...</td>\n",
       "      <td>...</td>\n",
       "      <td>...</td>\n",
       "      <td>...</td>\n",
       "      <td>...</td>\n",
       "      <td>...</td>\n",
       "      <td>...</td>\n",
       "      <td>...</td>\n",
       "      <td>...</td>\n",
       "      <td>...</td>\n",
       "      <td>...</td>\n",
       "      <td>...</td>\n",
       "      <td>...</td>\n",
       "      <td>...</td>\n",
       "    </tr>\n",
       "    <tr>\n",
       "      <th>2020-04-10</th>\n",
       "      <td>4.291181</td>\n",
       "      <td>6.784128</td>\n",
       "      <td>13.167767</td>\n",
       "      <td>9.042159</td>\n",
       "      <td>4.302040</td>\n",
       "      <td>8.076400</td>\n",
       "      <td>4.224613</td>\n",
       "      <td>0.038517</td>\n",
       "      <td>1.997910</td>\n",
       "      <td>2.416831</td>\n",
       "      <td>...</td>\n",
       "      <td>5.445235</td>\n",
       "      <td>5.441767</td>\n",
       "      <td>5.739018</td>\n",
       "      <td>5.723617</td>\n",
       "      <td>3.830717</td>\n",
       "      <td>3.755799</td>\n",
       "      <td>1.462398</td>\n",
       "      <td>1.230449</td>\n",
       "      <td>7.262533</td>\n",
       "      <td>7.262227</td>\n",
       "    </tr>\n",
       "    <tr>\n",
       "      <th>2020-04-17</th>\n",
       "      <td>4.299624</td>\n",
       "      <td>6.803995</td>\n",
       "      <td>13.167767</td>\n",
       "      <td>9.030780</td>\n",
       "      <td>4.304921</td>\n",
       "      <td>7.968016</td>\n",
       "      <td>4.228390</td>\n",
       "      <td>0.035769</td>\n",
       "      <td>1.999043</td>\n",
       "      <td>2.429810</td>\n",
       "      <td>...</td>\n",
       "      <td>5.460274</td>\n",
       "      <td>5.445235</td>\n",
       "      <td>5.740824</td>\n",
       "      <td>5.739018</td>\n",
       "      <td>3.810300</td>\n",
       "      <td>3.830717</td>\n",
       "      <td>1.544068</td>\n",
       "      <td>1.462398</td>\n",
       "      <td>7.262856</td>\n",
       "      <td>7.262533</td>\n",
       "    </tr>\n",
       "    <tr>\n",
       "      <th>2020-04-24</th>\n",
       "      <td>4.304433</td>\n",
       "      <td>6.817773</td>\n",
       "      <td>13.202996</td>\n",
       "      <td>9.279036</td>\n",
       "      <td>4.307783</td>\n",
       "      <td>8.057805</td>\n",
       "      <td>4.235031</td>\n",
       "      <td>0.032499</td>\n",
       "      <td>2.001647</td>\n",
       "      <td>2.424214</td>\n",
       "      <td>...</td>\n",
       "      <td>5.453658</td>\n",
       "      <td>5.460274</td>\n",
       "      <td>5.763006</td>\n",
       "      <td>5.740824</td>\n",
       "      <td>3.844291</td>\n",
       "      <td>3.810300</td>\n",
       "      <td>1.113943</td>\n",
       "      <td>1.544068</td>\n",
       "      <td>7.263182</td>\n",
       "      <td>7.262856</td>\n",
       "    </tr>\n",
       "    <tr>\n",
       "      <th>2020-05-01</th>\n",
       "      <td>4.307625</td>\n",
       "      <td>6.823209</td>\n",
       "      <td>13.202996</td>\n",
       "      <td>9.296102</td>\n",
       "      <td>4.310626</td>\n",
       "      <td>8.048661</td>\n",
       "      <td>4.238515</td>\n",
       "      <td>0.039234</td>\n",
       "      <td>1.994757</td>\n",
       "      <td>2.423938</td>\n",
       "      <td>...</td>\n",
       "      <td>5.505225</td>\n",
       "      <td>5.453658</td>\n",
       "      <td>5.806898</td>\n",
       "      <td>5.763006</td>\n",
       "      <td>3.852419</td>\n",
       "      <td>3.844291</td>\n",
       "      <td>1.322219</td>\n",
       "      <td>1.113943</td>\n",
       "      <td>7.263489</td>\n",
       "      <td>7.263182</td>\n",
       "    </tr>\n",
       "    <tr>\n",
       "      <th>2020-05-08</th>\n",
       "      <td>4.307278</td>\n",
       "      <td>6.827461</td>\n",
       "      <td>13.206956</td>\n",
       "      <td>9.411844</td>\n",
       "      <td>4.313451</td>\n",
       "      <td>8.040122</td>\n",
       "      <td>4.243938</td>\n",
       "      <td>0.034916</td>\n",
       "      <td>1.998826</td>\n",
       "      <td>2.438510</td>\n",
       "      <td>...</td>\n",
       "      <td>5.532211</td>\n",
       "      <td>5.505225</td>\n",
       "      <td>5.832926</td>\n",
       "      <td>5.806898</td>\n",
       "      <td>3.910411</td>\n",
       "      <td>3.852419</td>\n",
       "      <td>1.414973</td>\n",
       "      <td>1.322219</td>\n",
       "      <td>7.263781</td>\n",
       "      <td>7.263489</td>\n",
       "    </tr>\n",
       "  </tbody>\n",
       "</table>\n",
       "<p>198 rows × 71 columns</p>\n",
       "</div>"
      ],
      "text/plain": [
       "            BalanceSheet_global  BalanceSheet_usa  Mining_Difficulty  \\\n",
       "Date                                                                   \n",
       "2016-07-29             4.204989          6.649773          11.329383   \n",
       "2016-08-05             4.206170          6.649996          11.329383   \n",
       "2016-08-12             4.205636          6.650203          11.329383   \n",
       "2016-08-19             4.206019          6.649965          11.337211   \n",
       "2016-08-26             4.205174          6.650680          11.337211   \n",
       "...                         ...               ...                ...   \n",
       "2020-04-10             4.291181          6.784128          13.167767   \n",
       "2020-04-17             4.299624          6.803995          13.167767   \n",
       "2020-04-24             4.304433          6.817773          13.202996   \n",
       "2020-05-01             4.307625          6.823209          13.202996   \n",
       "2020-05-08             4.307278          6.827461          13.206956   \n",
       "\n",
       "            USD_OnChain_Volume   GDP_usa  HashRate  M2_Liquidity  EURUSD=X  \\\n",
       "Date                                                                         \n",
       "2016-07-29            8.190954  4.278227  6.193146      4.111145  0.044712   \n",
       "2016-08-05            8.191412  4.278227  6.229455      4.111145  0.046680   \n",
       "2016-08-12            8.180841  4.278227  6.174754      4.112571  0.046849   \n",
       "2016-08-19            8.214463  4.278548  6.221177      4.112732  0.054975   \n",
       "2016-08-26            8.164031  4.278869  6.174754      4.111766  0.052713   \n",
       "...                        ...       ...       ...           ...       ...   \n",
       "2020-04-10            9.042159  4.302040  8.076400      4.224613  0.038517   \n",
       "2020-04-17            9.030780  4.304921  7.968016      4.228390  0.035769   \n",
       "2020-04-24            9.279036  4.307783  8.057805      4.235031  0.032499   \n",
       "2020-05-01            9.296102  4.310626  8.048661      4.238515  0.039234   \n",
       "2020-05-08            9.411844  4.313451  8.040122      4.243938  0.034916   \n",
       "\n",
       "            DX-Y.NYB       SPY  ...  L1.Nr_Transactions  L2.Nr_Transactions  \\\n",
       "Date                            ...                                           \n",
       "2016-07-29  1.980140  2.277206  ...            5.345185            5.334617   \n",
       "2016-08-05  1.983130  2.279321  ...            5.364390            5.345185   \n",
       "2016-08-12  1.981003  2.279878  ...            5.358399            5.364390   \n",
       "2016-08-19  1.975478  2.280037  ...            5.367306            5.358399   \n",
       "2016-08-26  1.980322  2.277546  ...            5.391103            5.367306   \n",
       "...              ...       ...  ...                 ...                 ...   \n",
       "2020-04-10  1.997910  2.416831  ...            5.445235            5.441767   \n",
       "2020-04-17  1.999043  2.429810  ...            5.460274            5.445235   \n",
       "2020-04-24  2.001647  2.424214  ...            5.453658            5.460274   \n",
       "2020-05-01  1.994757  2.423938  ...            5.505225            5.453658   \n",
       "2020-05-08  1.998826  2.438510  ...            5.532211            5.505225   \n",
       "\n",
       "            L1.Nr_Addresses  L2.Nr_Addresses  L1.BTC_PageViews  \\\n",
       "Date                                                             \n",
       "2016-07-29         5.580736         5.580736          3.991226   \n",
       "2016-08-05         5.580736         5.580736          3.908592   \n",
       "2016-08-12         5.582260         5.580736          3.976488   \n",
       "2016-08-19         5.590400         5.582260          3.889638   \n",
       "2016-08-26         5.604294         5.590400          3.923865   \n",
       "...                     ...              ...               ...   \n",
       "2020-04-10         5.739018         5.723617          3.830717   \n",
       "2020-04-17         5.740824         5.739018          3.810300   \n",
       "2020-04-24         5.763006         5.740824          3.844291   \n",
       "2020-05-01         5.806898         5.763006          3.852419   \n",
       "2020-05-08         5.832926         5.806898          3.910411   \n",
       "\n",
       "            L2.BTC_PageViews  L1.Crypto_PageViews  L2.Crypto_PageViews  \\\n",
       "Date                                                                     \n",
       "2016-07-29          3.934296             1.963788             1.863323   \n",
       "2016-08-05          3.991226             1.919078             1.963788   \n",
       "2016-08-12          3.908592             2.309630             1.919078   \n",
       "2016-08-19          3.976488             2.082785             2.309630   \n",
       "2016-08-26          3.889638             2.262451             2.082785   \n",
       "...                      ...                  ...                  ...   \n",
       "2020-04-10          3.755799             1.462398             1.230449   \n",
       "2020-04-17          3.830717             1.544068             1.462398   \n",
       "2020-04-24          3.810300             1.113943             1.544068   \n",
       "2020-05-01          3.844291             1.322219             1.113943   \n",
       "2020-05-08          3.852419             1.414973             1.322219   \n",
       "\n",
       "            L1.BTC_Supply  L2.BTC_Supply  \n",
       "Date                                      \n",
       "2016-07-29       7.198973       7.198973  \n",
       "2016-08-05       7.198973       7.198973  \n",
       "2016-08-12       7.198973       7.198973  \n",
       "2016-08-19       7.198973       7.198973  \n",
       "2016-08-26       7.199329       7.198973  \n",
       "...                   ...            ...  \n",
       "2020-04-10       7.262533       7.262227  \n",
       "2020-04-17       7.262856       7.262533  \n",
       "2020-04-24       7.263182       7.262856  \n",
       "2020-05-01       7.263489       7.263182  \n",
       "2020-05-08       7.263781       7.263489  \n",
       "\n",
       "[198 rows x 71 columns]"
      ]
     },
     "execution_count": 4,
     "metadata": {},
     "output_type": "execute_result"
    }
   ],
   "source": [
    "df_model = opencsv.copy()\n",
    "df_model.drop(columns=[\"BTC_USD\"])"
   ]
  },
  {
   "cell_type": "code",
   "execution_count": 5,
   "metadata": {},
   "outputs": [
    {
     "data": {
      "text/plain": [
       "BalanceSheet_global    0\n",
       "BalanceSheet_usa       0\n",
       "BTC_USD                0\n",
       "Mining_Difficulty      0\n",
       "USD_OnChain_Volume     0\n",
       "                      ..\n",
       "L2.BTC_PageViews       0\n",
       "L1.Crypto_PageViews    0\n",
       "L2.Crypto_PageViews    0\n",
       "L1.BTC_Supply          0\n",
       "L2.BTC_Supply          0\n",
       "Length: 72, dtype: int64"
      ]
     },
     "execution_count": 5,
     "metadata": {},
     "output_type": "execute_result"
    }
   ],
   "source": [
    "df_model.isnull().sum()"
   ]
  },
  {
   "cell_type": "markdown",
   "metadata": {},
   "source": [
    "## Matriz de Correlacoes\n"
   ]
  },
  {
   "cell_type": "code",
   "execution_count": 6,
   "metadata": {},
   "outputs": [
    {
     "data": {
      "text/plain": [
       "(198, 18)"
      ]
     },
     "execution_count": 6,
     "metadata": {},
     "output_type": "execute_result"
    }
   ],
   "source": [
    "test_corr = df_model.copy()\n",
    "test_corr = test_corr.iloc[:, :18] # apenas as variaveis originais\n",
    "test_corr.shape"
   ]
  },
  {
   "cell_type": "code",
   "execution_count": 7,
   "metadata": {},
   "outputs": [
    {
     "data": {
      "image/png": "[encoded data removed]",
      "text/plain": [
       "<Figure size 1000x800 with 2 Axes>"
      ]
     },
     "metadata": {},
     "output_type": "display_data"
    }
   ],
   "source": [
    "main.correlation_map(df=test_corr, threshold=0.3)"
   ]
  },
  {
   "cell_type": "markdown",
   "metadata": {},
   "source": [
    "## Seleção de Variáveis\n",
    "\n",
    "Considerar técnicas como regressão lasso, ridge ou elastic net, que fazem seleção de variáveis automaticamente, pode ser útil se você suspeitar que nem todas as 20 variáveis são relevantes."
   ]
  },
  {
   "cell_type": "code",
   "execution_count": 8,
   "metadata": {},
   "outputs": [
    {
     "data": {
      "text/plain": [
       "Index(['BalanceSheet_global', 'BalanceSheet_usa', 'BTC_USD',\n",
       "       'Mining_Difficulty', 'USD_OnChain_Volume', 'GDP_usa', 'HashRate',\n",
       "       'M2_Liquidity', 'EURUSD=X', 'DX-Y.NYB', 'SPY', 'QQQ', 'IWDA.AS', 'GLD',\n",
       "       'TLT', '^TNX', '^VIX', 'Miners_Revenue_USD', 'Nr_Tx_Block',\n",
       "       'Nr_Transactions', 'Nr_Addresses', 'BTC_PageViews', 'Crypto_PageViews',\n",
       "       'BTC_Supply', 'L1.BalanceSheet_global', 'L2.BalanceSheet_global',\n",
       "       'L1.BalanceSheet_usa', 'L2.BalanceSheet_usa', 'L1.BTC_USD',\n",
       "       'L2.BTC_USD', 'L1.Mining_Difficulty', 'L2.Mining_Difficulty',\n",
       "       'L1.USD_OnChain_Volume', 'L2.USD_OnChain_Volume', 'L1.GDP_usa',\n",
       "       'L2.GDP_usa', 'L1.HashRate', 'L2.HashRate', 'L1.M2_Liquidity',\n",
       "       'L2.M2_Liquidity', 'L1.EURUSD=X', 'L2.EURUSD=X', 'L1.DX-Y.NYB',\n",
       "       'L2.DX-Y.NYB', 'L1.SPY', 'L2.SPY', 'L1.QQQ', 'L2.QQQ', 'L1.IWDA.AS',\n",
       "       'L2.IWDA.AS', 'L1.GLD', 'L2.GLD', 'L1.TLT', 'L2.TLT', 'L1.^TNX',\n",
       "       'L2.^TNX', 'L1.^VIX', 'L2.^VIX', 'L1.Miners_Revenue_USD',\n",
       "       'L2.Miners_Revenue_USD', 'L1.Nr_Tx_Block', 'L2.Nr_Tx_Block',\n",
       "       'L1.Nr_Transactions', 'L2.Nr_Transactions', 'L1.Nr_Addresses',\n",
       "       'L2.Nr_Addresses', 'L1.BTC_PageViews', 'L2.BTC_PageViews',\n",
       "       'L1.Crypto_PageViews', 'L2.Crypto_PageViews', 'L1.BTC_Supply',\n",
       "       'L2.BTC_Supply'],\n",
       "      dtype='object')"
      ]
     },
     "execution_count": 8,
     "metadata": {},
     "output_type": "execute_result"
    }
   ],
   "source": [
    "df_model.columns"
   ]
  },
  {
   "cell_type": "markdown",
   "metadata": {},
   "source": [
    "<div class=\"alert alert-block alert-info\"><b>Hipoteses a testar</b>\n",
    "\n",
    "H1: Ceteris paribus, Bitcoin é um ativo de especulação.\n",
    "\n",
    "H2: Ceteris paribus, a performance de Bitcoin é influenciada por fatores macroeconómicos.\n",
    "\n",
    "H3: Ceteris paribus, quanto mais liquidez há no mercado, maior é a apreciação de preço de Bitcoin.\n",
    "\n",
    "H4: Ceteris paribus, os fatores endógenos de Bitcoin são os maiores explicadores da performance de Bitcoin.\n",
    "</div>"
   ]
  },
  {
   "cell_type": "markdown",
   "metadata": {},
   "source": [
    "## Regressao Linear Multipla"
   ]
  },
  {
   "cell_type": "code",
   "execution_count": 22,
   "metadata": {},
   "outputs": [
    {
     "name": "stdout",
     "output_type": "stream",
     "text": [
      "                            OLS Regression Results                            \n",
      "==============================================================================\n",
      "Dep. Variable:                BTC_USD   R-squared:                       0.909\n",
      "Model:                            OLS   Adj. R-squared:                  0.908\n",
      "Method:                 Least Squares   F-statistic:                     646.8\n",
      "Date:                Sat, 24 Aug 2024   Prob (F-statistic):          1.00e-100\n",
      "Time:                        17:05:46   Log-Likelihood:                 134.54\n",
      "No. Observations:                 198   AIC:                            -261.1\n",
      "Df Residuals:                     194   BIC:                            -247.9\n",
      "Df Model:                           3                                         \n",
      "Covariance Type:            nonrobust                                         \n",
      "======================================================================================\n",
      "                         coef    std err          t      P>|t|      [0.025      0.975]\n",
      "--------------------------------------------------------------------------------------\n",
      "const                -60.5152      4.136    -14.632      0.000     -68.672     -52.358\n",
      "Nr_Transactions       -0.8785      0.113     -7.780      0.000      -1.101      -0.656\n",
      "USD_OnChain_Volume     0.8171      0.032     25.154      0.000       0.753       0.881\n",
      "BTC_Supply             8.5237      0.614     13.889      0.000       7.313       9.734\n",
      "==============================================================================\n",
      "Omnibus:                       35.226   Durbin-Watson:                   0.934\n",
      "Prob(Omnibus):                  0.000   Jarque-Bera (JB):               61.125\n",
      "Skew:                          -0.917   Prob(JB):                     5.33e-14\n",
      "Kurtosis:                       5.011   Cond. No.                     6.05e+03\n",
      "==============================================================================\n",
      "\n",
      "Notes:\n",
      "[1] Standard Errors assume that the covariance matrix of the errors is correctly specified.\n",
      "[2] The condition number is large, 6.05e+03. This might indicate that there are\n",
      "strong multicollinearity or other numerical problems.\n"
     ]
    }
   ],
   "source": [
    "# Yt = b0 + b1X1t + b2X2t + εt\n",
    "\n",
    "#   L1.\n",
    "#   L2.\n",
    "\n",
    "\n",
    "# Modelos endogenos Bitcoin\n",
    "#   'Mining_Difficulty', 'USD_OnChain_Volume', 'HashRate', 'Miners_Revenue_USD', \n",
    "#   'Nr_Tx_Block', 'Nr_Transactions', 'Nr_Addresses', 'BTC_Supply'\n",
    "model1a = ['Mining_Difficulty', 'USD_OnChain_Volume', 'BTC_Supply']\n",
    "model1b = ['Nr_Transactions', 'USD_OnChain_Volume', 'BTC_Supply']\n",
    "model1c = ['Nr_Addresses', 'Mining_Difficulty', 'Nr_Tx_Block']\n",
    "model1d = ['Nr_Tx_Block', 'Nr_Addresses', 'Mining_Difficulty']\n",
    "model1e = [ ]\n",
    "\n",
    "\n",
    "# Modelos Macro Economicos\n",
    "#   'GDP_usa', 'EURUSD=X', 'DX-Y.NYB', 'SPY', 'QQQ', 'IWDA.AS', 'GLD', 'TLT', '^TNX', '^VIX'\n",
    "#   'BalanceSheet_global', 'BalanceSheet_usa', 'M2_Liquidity'\n",
    "model2a = ['EUR_USD', 'SPY', 'TLT']\n",
    "model2b = ['QQQ', 'GLD', 'BalanceSheet_global']\n",
    "model2c = ['GDP_usa', 'DX-Y.NYB', '^VIX']\n",
    "model2d = [ ]\n",
    "\n",
    "\n",
    "# Modelos Attractiveness\n",
    "#   'BTC_PageViews', 'Crypto_PageViews', 'L1.BTC_USD'\n",
    "model3a = ['BTC_PageViews', 'Crypto_PageViews', '^VIX', 'SPY', '^TNX']\n",
    "model3b = ['TLT', 'GLD', 'QQQ', 'DX-Y.NYB', 'HashRate'] \n",
    "\n",
    "# Modelos gerais\n",
    "#\n",
    "model4a = []\n",
    "model4b = []\n",
    "model4c = []\n",
    "\n",
    "\n",
    "\n",
    "X = df_model[model1b]\n",
    "y = opencsv[\"BTC_USD\"]\n",
    "\n",
    "X = sm.add_constant(X) # Add a constant term to the predictors\n",
    "\n",
    "model = sm.OLS(y, X)\n",
    "results = model.fit() # Fit the OLS model\n",
    "\n",
    "print(results.summary()) # Print the summary of the regression results"
   ]
  },
  {
   "cell_type": "code",
   "execution_count": 12,
   "metadata": {},
   "outputs": [],
   "source": [
    "# list of all params \n",
    "# dir(results)"
   ]
  },
  {
   "cell_type": "markdown",
   "metadata": {},
   "source": [
    "https://www.statsmodels.org/dev/examples/notebooks/generated/ols.html"
   ]
  },
  {
   "cell_type": "code",
   "execution_count": 49,
   "metadata": {},
   "outputs": [
    {
     "data": {
      "text/plain": [
       "2.973889438267571"
      ]
     },
     "execution_count": 49,
     "metadata": {},
     "output_type": "execute_result"
    }
   ],
   "source": [
    "results.mse_model"
   ]
  },
  {
   "cell_type": "code",
   "execution_count": 13,
   "metadata": {},
   "outputs": [
    {
     "data": {
      "text/plain": [
       "const               8.530433e-39\n",
       "BTC_PageViews       8.680864e-41\n",
       "Crypto_PageViews    1.489004e-03\n",
       "^VIX                4.688224e-21\n",
       "SPY                 1.918197e-28\n",
       "GLD                 4.414171e-01\n",
       "^TNX                5.873374e-12\n",
       "TLT                 4.102132e-11\n",
       "dtype: float64"
      ]
     },
     "execution_count": 13,
     "metadata": {},
     "output_type": "execute_result"
    }
   ],
   "source": [
    "results.pvalues"
   ]
  },
  {
   "cell_type": "code",
   "execution_count": 14,
   "metadata": {},
   "outputs": [
    {
     "data": {
      "text/plain": [
       "const              -27.540965\n",
       "BTC_PageViews        0.632752\n",
       "Crypto_PageViews     0.130801\n",
       "^VIX                 0.764902\n",
       "SPY                  4.925262\n",
       "GLD                 -0.491470\n",
       "^TNX                 2.134581\n",
       "TLT                  7.852223\n",
       "dtype: float64"
      ]
     },
     "execution_count": 14,
     "metadata": {},
     "output_type": "execute_result"
    }
   ],
   "source": [
    "results.params"
   ]
  },
  {
   "cell_type": "code",
   "execution_count": 15,
   "metadata": {},
   "outputs": [
    {
     "data": {
      "text/plain": [
       "0.9207905112303759"
      ]
     },
     "execution_count": 15,
     "metadata": {},
     "output_type": "execute_result"
    }
   ],
   "source": [
    "results.rsquared_adj"
   ]
  },
  {
   "cell_type": "markdown",
   "metadata": {},
   "source": [
    "### Homocesdasticity"
   ]
  },
  {
   "cell_type": "code",
   "execution_count": null,
   "metadata": {},
   "outputs": [],
   "source": [
    "import statsmodels.formula.api as smf\n",
    "\n",
    "# https://www.geeksforgeeks.org/how-to-perform-a-breusch-pagan-test-in-python/"
   ]
  },
  {
   "cell_type": "markdown",
   "metadata": {},
   "source": [
    "### Normality of Residuals"
   ]
  },
  {
   "cell_type": "markdown",
   "metadata": {},
   "source": [
    "Assumption: The residuals should be approximately normally distributed.\n",
    "\n",
    "Test:\n",
    "Q-Q Plot: Compare the quantiles of residuals to a normal distribution. If residuals are normal, the points will lie approximately on the 45-degree line.\n",
    "\n",
    "Shapiro-Wilk Test or Kolmogorov-Smirnov Test: Statistical tests for normality of residuals.\n",
    "\n",
    "Transformation: If residuals are not normally distributed, consider transforming the dependent variable or using robust regression methods."
   ]
  },
  {
   "cell_type": "markdown",
   "metadata": {},
   "source": [
    "### Independence of Errors"
   ]
  },
  {
   "cell_type": "markdown",
   "metadata": {},
   "source": [
    "\n",
    "Assumption: The residuals (errors) should be independent of each other.\n",
    "\n",
    "Test:\n",
    "\n",
    "Durbin-Watson Test: Detects the presence of autocorrelation in residuals, especially in time series data.\n",
    "\n",
    "Plot Residuals vs. Time: For time series data, plot residuals against time to detect patterns or autocorrelation.\n",
    "\n",
    "Transformation:\n",
    "Add Lagged Variables: For time series, include lagged values of the dependent variable as predictors."
   ]
  },
  {
   "cell_type": "markdown",
   "metadata": {},
   "source": [
    "### No Omitted Variable Bias"
   ]
  },
  {
   "cell_type": "markdown",
   "metadata": {},
   "source": [
    "Assumption: All relevant independent variables are included in the model.\n",
    "\n",
    "Test:\n",
    "\n",
    "Ramsey RESET Test: Checks for omitted variables by testing for non-linearity in the model.\n",
    "\n",
    "Remedies:\n",
    "\n",
    "Include Relevant Variables: Ensure all theoretically important variables are included in the model.\n",
    "Use Model Selection Criteria: Such as AIC or BIC to guide variable selection."
   ]
  },
  {
   "cell_type": "markdown",
   "metadata": {},
   "source": [
    "## Teste de Multicolinearidade\n",
    "\n",
    "\n",
    "Como você tem muitas variáveis, é importante verificar a multicolinearidade, especialmente porque as variáveis acumuladas podem estar altamente correlacionadas entre si. Testes como o VIF (Variance Inflation Factor) podem ajudar a identificar problemas.\n",
    "\n",
    "Multicollinearity describes the state where the independent variables used in a study exhibit a strong relationship with each other. This can pose a problem in many cases as you would normally want your independent variables to be… independent."
   ]
  },
  {
   "cell_type": "code",
   "execution_count": null,
   "metadata": {},
   "outputs": [
    {
     "data": {
      "text/html": [
       "<div>\n",
       "<style scoped>\n",
       "    .dataframe tbody tr th:only-of-type {\n",
       "        vertical-align: middle;\n",
       "    }\n",
       "\n",
       "    .dataframe tbody tr th {\n",
       "        vertical-align: top;\n",
       "    }\n",
       "\n",
       "    .dataframe thead th {\n",
       "        text-align: right;\n",
       "    }\n",
       "</style>\n",
       "<table border=\"1\" class=\"dataframe\">\n",
       "  <thead>\n",
       "    <tr style=\"text-align: right;\">\n",
       "      <th></th>\n",
       "      <th>feature</th>\n",
       "      <th>VIF</th>\n",
       "    </tr>\n",
       "  </thead>\n",
       "  <tbody>\n",
       "    <tr>\n",
       "      <th>0</th>\n",
       "      <td>L1.USD_OnChain_Volume</td>\n",
       "      <td>2017.739941</td>\n",
       "    </tr>\n",
       "    <tr>\n",
       "      <th>1</th>\n",
       "      <td>L1.QQQ</td>\n",
       "      <td>2017.739941</td>\n",
       "    </tr>\n",
       "  </tbody>\n",
       "</table>\n",
       "</div>"
      ],
      "text/plain": [
       "                 feature          VIF\n",
       "0  L1.USD_OnChain_Volume  2017.739941\n",
       "1                 L1.QQQ  2017.739941"
      ]
     },
     "metadata": {},
     "output_type": "display_data"
    }
   ],
   "source": [
    "from statsmodels.stats.outliers_influence import variance_inflation_factor\n",
    "\n",
    "X = \n",
    "\n",
    "# VIF dataframe\n",
    "vif_data = pd.DataFrame()\n",
    "vif_data[\"feature\"] = X.columns\n",
    "\n",
    "# calculating VIF for each feature\n",
    "vif_data[\"VIF\"] = [variance_inflation_factor(X.values, i)\n",
    "                          for i in range(len(X.columns))]\n",
    "\n",
    "vif_data\n",
    "\n",
    "#       Interpreting the VIF Values:\n",
    "#       VIF < 5: Generally considered acceptable, indicating low to moderate multicollinearity.\n",
    "#       VIF between 5 and 10: Indicates moderate to high multicollinearity, which may be problematic, but not necessarily requiring immediate removal.\n",
    "#       VIF > 10: Strong multicollinearity, typically suggesting that the variable should be considered for removal or that further investigation is needed."
   ]
  }
 ],
 "metadata": {
  "kernelspec": {
   "display_name": "Python 3",
   "language": "python",
   "name": "python3"
  },
  "language_info": {
   "codemirror_mode": {
    "name": "ipython",
    "version": 3
   },
   "file_extension": ".py",
   "mimetype": "text/x-python",
   "name": "python",
   "nbconvert_exporter": "python",
   "pygments_lexer": "ipython3",
   "version": "3.11.6"
  }
 },
 "nbformat": 4,
 "nbformat_minor": 2
}
