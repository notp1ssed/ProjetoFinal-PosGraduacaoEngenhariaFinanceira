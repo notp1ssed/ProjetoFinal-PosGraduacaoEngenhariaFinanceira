{
 "cells": [
  {
   "cell_type": "code",
   "execution_count": 2,
   "metadata": {},
   "outputs": [],
   "source": [
    "# Importacao das libraries\n",
    "import pandas as pd\n",
    "import yfinance as yf\n",
    "\n",
    "import warnings\n",
    "warnings.filterwarnings('ignore')"
   ]
  },
  {
   "cell_type": "code",
   "execution_count": 1,
   "metadata": {},
   "outputs": [],
   "source": [
    "#tickers = [\"SPY\", \"QQQ\", \"EXSA.DE\", \"JPXN\"]\n",
    "tickers = [\"EURUSD=X\", \"JPYUSD=X\", \"JPYEUR=X\"]\n",
    "\n",
    "# Análise personalizada\n",
    "start_date = '2009-12-31'\n",
    "end_date = '2025-01-01'"
   ]
  },
  {
   "cell_type": "code",
   "execution_count": 3,
   "metadata": {},
   "outputs": [],
   "source": [
    "# Definicao funcoes\n",
    "def merge_time_series(df_1, df_2, how='outer'):\n",
    "    df = df_1.merge(df_2, how=how, left_index=True, right_index=True)\n",
    "    return df\n",
    "\n",
    "def normalize(df):\n",
    "    df = df.dropna()\n",
    "    return (df / df.iloc[0]) * 1\n",
    "\n",
    "def download_yahoo_data(tickers, start=start_date, end=end_date):\n",
    "    quotes = pd.DataFrame()\n",
    "    for ticker in tickers:\n",
    "        df = yf.download(ticker, start=start_date, end=end_date, progress=False, interval=\"1mo\")# 1h, 1d, 5d, 1wk, 1mo, 3mo\n",
    "        df = df[['Adj Close']]\n",
    "        df.columns=[ticker]\n",
    "        quotes = merge_time_series(quotes, df)\n",
    "\n",
    "    quotes = quotes.ffill() # fill missing values in a DataFrame or Series by forward filling them.\n",
    "\n",
    "    return quotes"
   ]
  },
  {
   "cell_type": "code",
   "execution_count": 4,
   "metadata": {},
   "outputs": [],
   "source": [
    "# Download das cotacoes Yahoo Finance\n",
    "quotes_mensal = download_yahoo_data(tickers, start=start_date, end=end_date)"
   ]
  },
  {
   "cell_type": "code",
   "execution_count": 5,
   "metadata": {},
   "outputs": [],
   "source": [
    "# Guardar Dados Yahoo Finance\n",
    "quotes_mensal.to_csv(f'{tickers}_quotes_mensal.csv', date_format='%Y-%m-%d')"
   ]
  }
 ],
 "metadata": {
  "kernelspec": {
   "display_name": "Python 3",
   "language": "python",
   "name": "python3"
  },
  "language_info": {
   "codemirror_mode": {
    "name": "ipython",
    "version": 3
   },
   "file_extension": ".py",
   "mimetype": "text/x-python",
   "name": "python",
   "nbconvert_exporter": "python",
   "pygments_lexer": "ipython3",
   "version": "3.11.6"
  }
 },
 "nbformat": 4,
 "nbformat_minor": 2
}
